{
 "cells": [
  {
   "cell_type": "markdown",
   "id": "entitled-senator",
   "metadata": {},
   "source": [
    "# Modelagem preditiva"
   ]
  },
  {
   "cell_type": "markdown",
   "id": "collect-gibson",
   "metadata": {},
   "source": [
    "Esse é o nosso ponto de partida! Aqui vamos aprender passo a passo como construir, avaliar e refinar um modelo preditivo."
   ]
  },
  {
   "cell_type": "markdown",
   "id": "c5e3d94e",
   "metadata": {},
   "source": [
    "<b> Lembre-se: </b> qual a pergunta, problema de negócio ou hipótese que você quer responder com um modelo preditivo?"
   ]
  },
  {
   "cell_type": "markdown",
   "id": "4eaa3189",
   "metadata": {},
   "source": [
    "## Importando bibliotecas"
   ]
  },
  {
   "cell_type": "markdown",
   "id": "b8210d4a",
   "metadata": {},
   "source": [
    "Normalmente reservamos a parte superior do notebook para importar alguns pacotes comumente utilizados. Essa é uma boa hora para tentar executar os comandos abaixo e verificar se esses pacotes estão disponíveis:"
   ]
  },
  {
   "cell_type": "code",
   "execution_count": 3,
   "id": "automatic-following",
   "metadata": {},
   "outputs": [],
   "source": [
    "import pandas as pd\n",
    "import numpy as np\n",
    "import matplotlib.pyplot as plt\n",
    "import seaborn as sns\n",
    "from IPython.display import Image\n",
    "from IPython.core.display import HTML "
   ]
  },
  {
   "cell_type": "markdown",
   "id": "f457c936",
   "metadata": {},
   "source": [
    "Para mostrar e gravar adequadamente os gráficos do pacote matplotlib, vamos utilizar o seguinte comando: (no jupyter notebook, há funções especiais que começam com \"%\", são chamadas <b> funções mágicas </b>. Vamos nos deparar com mais algumas ao longo desse treinamento:"
   ]
  },
  {
   "cell_type": "code",
   "execution_count": 4,
   "id": "04a8b4fd",
   "metadata": {},
   "outputs": [],
   "source": [
    "%matplotlib inline"
   ]
  },
  {
   "cell_type": "code",
   "execution_count": null,
   "id": "44e64f83",
   "metadata": {},
   "outputs": [],
   "source": []
  },
  {
   "cell_type": "markdown",
   "id": "brilliant-constitution",
   "metadata": {},
   "source": [
    "<b> <font color=\"red\"> Oops..algum problema? </font> </b>"
   ]
  },
  {
   "cell_type": "markdown",
   "id": "geographic-advance",
   "metadata": {},
   "source": [
    "Provavelmente você não instalou alguma das bibliotecas que está tentando importar. Se você viu na mensagem de erro <b> <font color='red'> ModuleNotFoundError </font> </b>, isso é fácil de resolver! Vamos mostrar duas opções. A primeira é instalar por aqui mesmo:"
   ]
  },
  {
   "cell_type": "markdown",
   "id": "4ed7b40e",
   "metadata": {},
   "source": [
    "Todo comando do terminal pode ser feito aqui também, é só colocar o <font color='red'> ! </font> antes:"
   ]
  },
  {
   "cell_type": "code",
   "execution_count": 5,
   "id": "greatest-knitting",
   "metadata": {},
   "outputs": [
    {
     "name": "stdout",
     "output_type": "stream",
     "text": [
      "Requirement already satisfied: pandas in /home/joaopaulo/dadosjupyter/lib/python3.9/site-packages (1.2.4)\r\n",
      "Requirement already satisfied: python-dateutil>=2.7.3 in /home/joaopaulo/dadosjupyter/lib/python3.9/site-packages (from pandas) (2.8.1)\r\n",
      "Requirement already satisfied: pytz>=2017.3 in /home/joaopaulo/dadosjupyter/lib/python3.9/site-packages (from pandas) (2021.1)\r\n",
      "Requirement already satisfied: numpy>=1.16.5 in /home/joaopaulo/dadosjupyter/lib/python3.9/site-packages (from pandas) (1.20.2)\r\n",
      "Requirement already satisfied: six>=1.5 in /home/joaopaulo/dadosjupyter/lib/python3.9/site-packages (from python-dateutil>=2.7.3->pandas) (1.16.0)\r\n"
     ]
    }
   ],
   "source": []
  },
  {
   "cell_type": "markdown",
   "id": "69dc09f3",
   "metadata": {},
   "source": [
    "Como segunda opção, você pode abrir um prompt de comando (digite \"prompt\" ou \"terminal\" na barra de pesquisa do Windows. <b> Não se esqueça de ativar seu ambiente virtual antes de tentar instalar a biblioteca </b>"
   ]
  },
  {
   "cell_type": "markdown",
   "id": "2807d9b3",
   "metadata": {},
   "source": [
    "<b> Ainda com problemas? <b/>"
   ]
  },
  {
   "cell_type": "markdown",
   "id": "d81003bf",
   "metadata": {},
   "source": [
    "É possível que a rede corporativa não tenha reconhecido o certificado SSL para fazer a conexão e baixar o pacote. Você pode tentar o seguinte:"
   ]
  },
  {
   "cell_type": "code",
   "execution_count": 6,
   "id": "47ec94e1",
   "metadata": {},
   "outputs": [
    {
     "name": "stdout",
     "output_type": "stream",
     "text": [
      "\r\n",
      "Usage:   \r\n",
      "  pip install [options] <requirement specifier> [package-index-options] ...\r\n",
      "  pip install [options] -r <requirements file> [package-index-options] ...\r\n",
      "  pip install [options] [-e] <vcs project url> ...\r\n",
      "  pip install [options] [-e] <local project path> ...\r\n",
      "  pip install [options] <archive url/path> ...\r\n",
      "\r\n",
      "no such option: --trusted-host pypi.org --trusted-host files.pythonhosted.org\r\n"
     ]
    }
   ],
   "source": [
    "!pip install --trusted-host pypi.org --trusted-host files.pythonhosted.org pandas"
   ]
  },
  {
   "cell_type": "markdown",
   "id": "16e35a07",
   "metadata": {},
   "source": [
    "No lugar do pandas, pode substituir por qualquer biblioteca que esteja tentando instalar"
   ]
  },
  {
   "cell_type": "markdown",
   "id": "6b616f3c",
   "metadata": {},
   "source": [
    "# Regressão Linear"
   ]
  },
  {
   "cell_type": "markdown",
   "id": "543c6bba",
   "metadata": {},
   "source": [
    "Em uma regressão, estamos interessados em predizer uma resposta numérica. Vamos começar com um caso especial de regressão, a <b> <font color='blue'> regressão linear  </font> </b>:"
   ]
  },
  {
   "cell_type": "code",
   "execution_count": 7,
   "id": "a8e995e1",
   "metadata": {},
   "outputs": [],
   "source": [
    "# criando um dataset sintético:\n",
    "X = np.random.normal(5, 3, 1000)\n",
    "y = 2*X + np.random.normal(0, 2, 1000) + 5\n",
    "dados = pd.DataFrame(zip(X,y), columns=['X', 'y'])"
   ]
  },
  {
   "cell_type": "code",
   "execution_count": 8,
   "id": "47c7caa6",
   "metadata": {},
   "outputs": [
    {
     "data": {
      "text/html": [
       "<div>\n",
       "<style scoped>\n",
       "    .dataframe tbody tr th:only-of-type {\n",
       "        vertical-align: middle;\n",
       "    }\n",
       "\n",
       "    .dataframe tbody tr th {\n",
       "        vertical-align: top;\n",
       "    }\n",
       "\n",
       "    .dataframe thead th {\n",
       "        text-align: right;\n",
       "    }\n",
       "</style>\n",
       "<table border=\"1\" class=\"dataframe\">\n",
       "  <thead>\n",
       "    <tr style=\"text-align: right;\">\n",
       "      <th></th>\n",
       "      <th>X</th>\n",
       "      <th>y</th>\n",
       "    </tr>\n",
       "  </thead>\n",
       "  <tbody>\n",
       "    <tr>\n",
       "      <th>0</th>\n",
       "      <td>6.815552</td>\n",
       "      <td>19.392412</td>\n",
       "    </tr>\n",
       "    <tr>\n",
       "      <th>1</th>\n",
       "      <td>-1.286363</td>\n",
       "      <td>2.005385</td>\n",
       "    </tr>\n",
       "    <tr>\n",
       "      <th>2</th>\n",
       "      <td>7.324063</td>\n",
       "      <td>17.101064</td>\n",
       "    </tr>\n",
       "    <tr>\n",
       "      <th>3</th>\n",
       "      <td>3.574770</td>\n",
       "      <td>10.899503</td>\n",
       "    </tr>\n",
       "    <tr>\n",
       "      <th>4</th>\n",
       "      <td>2.170191</td>\n",
       "      <td>10.388706</td>\n",
       "    </tr>\n",
       "  </tbody>\n",
       "</table>\n",
       "</div>"
      ],
      "text/plain": [
       "          X          y\n",
       "0  6.815552  19.392412\n",
       "1 -1.286363   2.005385\n",
       "2  7.324063  17.101064\n",
       "3  3.574770  10.899503\n",
       "4  2.170191  10.388706"
      ]
     },
     "execution_count": 8,
     "metadata": {},
     "output_type": "execute_result"
    }
   ],
   "source": [
    "dados.head()"
   ]
  },
  {
   "cell_type": "code",
   "execution_count": 9,
   "id": "1333b2e4",
   "metadata": {},
   "outputs": [
    {
     "data": {
      "text/plain": [
       "Text(0.5, 0, 'X - variável independente')"
      ]
     },
     "execution_count": 9,
     "metadata": {},
     "output_type": "execute_result"
    },
    {
     "data": {
      "image/png": "[encoded data removed]",
      "text/plain": [
       "<Figure size 432x288 with 1 Axes>"
      ]
     },
     "metadata": {
      "needs_background": "light"
     },
     "output_type": "display_data"
    }
   ],
   "source": [
    "fig = plt.scatter(dados['X'], dados['y'])\n",
    "plt.ylabel('Y - variável dependente')\n",
    "plt.xlabel('X - variável independente')"
   ]
  },
  {
   "cell_type": "code",
   "execution_count": 10,
   "id": "21fe2cf6",
   "metadata": {},
   "outputs": [],
   "source": [
    "from IPython.display import Math #para escrever equações "
   ]
  },
  {
   "cell_type": "markdown",
   "id": "f4b933f5",
   "metadata": {},
   "source": [
    " <b> Primeiramente </b>: por que queremos encontrar a equação de uma reta que melhor se ajuste aos nossos dados? "
   ]
  },
  {
   "cell_type": "code",
   "execution_count": 11,
   "id": "15c9be89",
   "metadata": {},
   "outputs": [
    {
     "data": {
      "text/latex": [
       "$\\displaystyle y_{predito} = a*x + b$"
      ],
      "text/plain": [
       "<IPython.core.display.Math object>"
      ]
     },
     "execution_count": 11,
     "metadata": {},
     "output_type": "execute_result"
    }
   ],
   "source": [
    "Math(r'y_{predito} = a*x + b')"
   ]
  },
  {
   "cell_type": "markdown",
   "id": "d93e0be1",
   "metadata": {},
   "source": [
    "Na regressão linear, o objetivo é encontrar os coeficientes da equação da reta que minimizam a soma dos erros quadráticos:"
   ]
  },
  {
   "cell_type": "code",
   "execution_count": 12,
   "id": "113ed7dc",
   "metadata": {},
   "outputs": [
    {
     "data": {
      "text/latex": [
       "$\\displaystyle Erro = \\sum_{i} (y_{real} - y_{predito} )^2 $"
      ],
      "text/plain": [
       "<IPython.core.display.Math object>"
      ]
     },
     "execution_count": 12,
     "metadata": {},
     "output_type": "execute_result"
    }
   ],
   "source": [
    "Math(r'Erro = \\sum_{i} (y_{real} - y_{predito} )^2 ')"
   ]
  },
  {
   "cell_type": "markdown",
   "id": "1cd8592a",
   "metadata": {},
   "source": [
    "<b> <font color='red'> Mas como? </font> Método dos mínimos quadrados </b>"
   ]
  },
  {
   "cell_type": "code",
   "execution_count": 13,
   "id": "4da9023f",
   "metadata": {},
   "outputs": [
    {
     "data": {
      "application/javascript": [
       "/* Put everything inside the global mpl namespace */\n",
       "/* global mpl */\n",
       "window.mpl = {};\n",
       "\n",
       "mpl.get_websocket_type = function () {\n",
       "    if (typeof WebSocket !== 'undefined') {\n",
       "        return WebSocket;\n",
       "    } else if (typeof MozWebSocket !== 'undefined') {\n",
       "        return MozWebSocket;\n",
       "    } else {\n",
       "        alert(\n",
       "            'Your browser does not have WebSocket support. ' +\n",
       "                'Please try Chrome, Safari or Firefox ≥ 6. ' +\n",
       "                'Firefox 4 and 5 are also supported but you ' +\n",
       "                'have to enable WebSockets in about:config.'\n",
       "        );\n",
       "    }\n",
       "};\n",
       "\n",
       "mpl.figure = function (figure_id, websocket, ondownload, parent_element) {\n",
       "    this.id = figure_id;\n",
       "\n",
       "    this.ws = websocket;\n",
       "\n",
       "    this.supports_binary = this.ws.binaryType !== undefined;\n",
       "\n",
       "    if (!this.supports_binary) {\n",
       "        var warnings = document.getElementById('mpl-warnings');\n",
       "        if (warnings) {\n",
       "            warnings.style.display = 'block';\n",
       "            warnings.textContent =\n",
       "                'This browser does not support binary websocket messages. ' +\n",
       "                'Performance may be slow.';\n",
       "        }\n",
       "    }\n",
       "\n",
       "    this.imageObj = new Image();\n",
       "\n",
       "    this.context = undefined;\n",
       "    this.message = undefined;\n",
       "    this.canvas = undefined;\n",
       "    this.rubberband_canvas = undefined;\n",
       "    this.rubberband_context = undefined;\n",
       "    this.format_dropdown = undefined;\n",
       "\n",
       "    this.image_mode = 'full';\n",
       "\n",
       "    this.root = document.createElement('div');\n",
       "    this.root.setAttribute('style', 'display: inline-block');\n",
       "    this._root_extra_style(this.root);\n",
       "\n",
       "    parent_element.appendChild(this.root);\n",
       "\n",
       "    this._init_header(this);\n",
       "    this._init_canvas(this);\n",
       "    this._init_toolbar(this);\n",
       "\n",
       "    var fig = this;\n",
       "\n",
       "    this.waiting = false;\n",
       "\n",
       "    this.ws.onopen = function () {\n",
       "        fig.send_message('supports_binary', { value: fig.supports_binary });\n",
       "        fig.send_message('send_image_mode', {});\n",
       "        if (fig.ratio !== 1) {\n",
       "            fig.send_message('set_dpi_ratio', { dpi_ratio: fig.ratio });\n",
       "        }\n",
       "        fig.send_message('refresh', {});\n",
       "    };\n",
       "\n",
       "    this.imageObj.onload = function () {\n",
       "        if (fig.image_mode === 'full') {\n",
       "            // Full images could contain transparency (where diff images\n",
       "            // almost always do), so we need to clear the canvas so that\n",
       "            // there is no ghosting.\n",
       "            fig.context.clearRect(0, 0, fig.canvas.width, fig.canvas.height);\n",
       "        }\n",
       "        fig.context.drawImage(fig.imageObj, 0, 0);\n",
       "    };\n",
       "\n",
       "    this.imageObj.onunload = function () {\n",
       "        fig.ws.close();\n",
       "    };\n",
       "\n",
       "    this.ws.onmessage = this._make_on_message_function(this);\n",
       "\n",
       "    this.ondownload = ondownload;\n",
       "};\n",
       "\n",
       "mpl.figure.prototype._init_header = function () {\n",
       "    var titlebar = document.createElement('div');\n",
       "    titlebar.classList =\n",
       "        'ui-dialog-titlebar ui-widget-header ui-corner-all ui-helper-clearfix';\n",
       "    var titletext = document.createElement('div');\n",
       "    titletext.classList = 'ui-dialog-title';\n",
       "    titletext.setAttribute(\n",
       "        'style',\n",
       "        'width: 100%; text-align: center; padding: 3px;'\n",
       "    );\n",
       "    titlebar.appendChild(titletext);\n",
       "    this.root.appendChild(titlebar);\n",
       "    this.header = titletext;\n",
       "};\n",
       "\n",
       "mpl.figure.prototype._canvas_extra_style = function (_canvas_div) {};\n",
       "\n",
       "mpl.figure.prototype._root_extra_style = function (_canvas_div) {};\n",
       "\n",
       "mpl.figure.prototype._init_canvas = function () {\n",
       "    var fig = this;\n",
       "\n",
       "    var canvas_div = (this.canvas_div = document.createElement('div'));\n",
       "    canvas_div.setAttribute(\n",
       "        'style',\n",
       "        'border: 1px solid #ddd;' +\n",
       "            'box-sizing: content-box;' +\n",
       "            'clear: both;' +\n",
       "            'min-height: 1px;' +\n",
       "            'min-width: 1px;' +\n",
       "            'outline: 0;' +\n",
       "            'overflow: hidden;' +\n",
       "            'position: relative;' +\n",
       "            'resize: both;'\n",
       "    );\n",
       "\n",
       "    function on_keyboard_event_closure(name) {\n",
       "        return function (event) {\n",
       "            return fig.key_event(event, name);\n",
       "        };\n",
       "    }\n",
       "\n",
       "    canvas_div.addEventListener(\n",
       "        'keydown',\n",
       "        on_keyboard_event_closure('key_press')\n",
       "    );\n",
       "    canvas_div.addEventListener(\n",
       "        'keyup',\n",
       "        on_keyboard_event_closure('key_release')\n",
       "    );\n",
       "\n",
       "    this._canvas_extra_style(canvas_div);\n",
       "    this.root.appendChild(canvas_div);\n",
       "\n",
       "    var canvas = (this.canvas = document.createElement('canvas'));\n",
       "    canvas.classList.add('mpl-canvas');\n",
       "    canvas.setAttribute('style', 'box-sizing: content-box;');\n",
       "\n",
       "    this.context = canvas.getContext('2d');\n",
       "\n",
       "    var backingStore =\n",
       "        this.context.backingStorePixelRatio ||\n",
       "        this.context.webkitBackingStorePixelRatio ||\n",
       "        this.context.mozBackingStorePixelRatio ||\n",
       "        this.context.msBackingStorePixelRatio ||\n",
       "        this.context.oBackingStorePixelRatio ||\n",
       "        this.context.backingStorePixelRatio ||\n",
       "        1;\n",
       "\n",
       "    this.ratio = (window.devicePixelRatio || 1) / backingStore;\n",
       "\n",
       "    var rubberband_canvas = (this.rubberband_canvas = document.createElement(\n",
       "        'canvas'\n",
       "    ));\n",
       "    rubberband_canvas.setAttribute(\n",
       "        'style',\n",
       "        'box-sizing: content-box; position: absolute; left: 0; top: 0; z-index: 1;'\n",
       "    );\n",
       "\n",
       "    // Apply a ponyfill if ResizeObserver is not implemented by browser.\n",
       "    if (this.ResizeObserver === undefined) {\n",
       "        if (window.ResizeObserver !== undefined) {\n",
       "            this.ResizeObserver = window.ResizeObserver;\n",
       "        } else {\n",
       "            var obs = _JSXTOOLS_RESIZE_OBSERVER({});\n",
       "            this.ResizeObserver = obs.ResizeObserver;\n",
       "        }\n",
       "    }\n",
       "\n",
       "    this.resizeObserverInstance = new this.ResizeObserver(function (entries) {\n",
       "        var nentries = entries.length;\n",
       "        for (var i = 0; i < nentries; i++) {\n",
       "            var entry = entries[i];\n",
       "            var width, height;\n",
       "            if (entry.contentBoxSize) {\n",
       "                if (entry.contentBoxSize instanceof Array) {\n",
       "                    // Chrome 84 implements new version of spec.\n",
       "                    width = entry.contentBoxSize[0].inlineSize;\n",
       "                    height = entry.contentBoxSize[0].blockSize;\n",
       "                } else {\n",
       "                    // Firefox implements old version of spec.\n",
       "                    width = entry.contentBoxSize.inlineSize;\n",
       "                    height = entry.contentBoxSize.blockSize;\n",
       "                }\n",
       "            } else {\n",
       "                // Chrome <84 implements even older version of spec.\n",
       "                width = entry.contentRect.width;\n",
       "                height = entry.contentRect.height;\n",
       "            }\n",
       "\n",
       "            // Keep the size of the canvas and rubber band canvas in sync with\n",
       "            // the canvas container.\n",
       "            if (entry.devicePixelContentBoxSize) {\n",
       "                // Chrome 84 implements new version of spec.\n",
       "                canvas.setAttribute(\n",
       "                    'width',\n",
       "                    entry.devicePixelContentBoxSize[0].inlineSize\n",
       "                );\n",
       "                canvas.setAttribute(\n",
       "                    'height',\n",
       "                    entry.devicePixelContentBoxSize[0].blockSize\n",
       "                );\n",
       "            } else {\n",
       "                canvas.setAttribute('width', width * fig.ratio);\n",
       "                canvas.setAttribute('height', height * fig.ratio);\n",
       "            }\n",
       "            canvas.setAttribute(\n",
       "                'style',\n",
       "                'width: ' + width + 'px; height: ' + height + 'px;'\n",
       "            );\n",
       "\n",
       "            rubberband_canvas.setAttribute('width', width);\n",
       "            rubberband_canvas.setAttribute('height', height);\n",
       "\n",
       "            // And update the size in Python. We ignore the initial 0/0 size\n",
       "            // that occurs as the element is placed into the DOM, which should\n",
       "            // otherwise not happen due to the minimum size styling.\n",
       "            if (fig.ws.readyState == 1 && width != 0 && height != 0) {\n",
       "                fig.request_resize(width, height);\n",
       "            }\n",
       "        }\n",
       "    });\n",
       "    this.resizeObserverInstance.observe(canvas_div);\n",
       "\n",
       "    function on_mouse_event_closure(name) {\n",
       "        return function (event) {\n",
       "            return fig.mouse_event(event, name);\n",
       "        };\n",
       "    }\n",
       "\n",
       "    rubberband_canvas.addEventListener(\n",
       "        'mousedown',\n",
       "        on_mouse_event_closure('button_press')\n",
       "    );\n",
       "    rubberband_canvas.addEventListener(\n",
       "        'mouseup',\n",
       "        on_mouse_event_closure('button_release')\n",
       "    );\n",
       "    rubberband_canvas.addEventListener(\n",
       "        'dblclick',\n",
       "        on_mouse_event_closure('dblclick')\n",
       "    );\n",
       "    // Throttle sequential mouse events to 1 every 20ms.\n",
       "    rubberband_canvas.addEventListener(\n",
       "        'mousemove',\n",
       "        on_mouse_event_closure('motion_notify')\n",
       "    );\n",
       "\n",
       "    rubberband_canvas.addEventListener(\n",
       "        'mouseenter',\n",
       "        on_mouse_event_closure('figure_enter')\n",
       "    );\n",
       "    rubberband_canvas.addEventListener(\n",
       "        'mouseleave',\n",
       "        on_mouse_event_closure('figure_leave')\n",
       "    );\n",
       "\n",
       "    canvas_div.addEventListener('wheel', function (event) {\n",
       "        if (event.deltaY < 0) {\n",
       "            event.step = 1;\n",
       "        } else {\n",
       "            event.step = -1;\n",
       "        }\n",
       "        on_mouse_event_closure('scroll')(event);\n",
       "    });\n",
       "\n",
       "    canvas_div.appendChild(canvas);\n",
       "    canvas_div.appendChild(rubberband_canvas);\n",
       "\n",
       "    this.rubberband_context = rubberband_canvas.getContext('2d');\n",
       "    this.rubberband_context.strokeStyle = '#000000';\n",
       "\n",
       "    this._resize_canvas = function (width, height, forward) {\n",
       "        if (forward) {\n",
       "            canvas_div.style.width = width + 'px';\n",
       "            canvas_div.style.height = height + 'px';\n",
       "        }\n",
       "    };\n",
       "\n",
       "    // Disable right mouse context menu.\n",
       "    this.rubberband_canvas.addEventListener('contextmenu', function (_e) {\n",
       "        event.preventDefault();\n",
       "        return false;\n",
       "    });\n",
       "\n",
       "    function set_focus() {\n",
       "        canvas.focus();\n",
       "        canvas_div.focus();\n",
       "    }\n",
       "\n",
       "    window.setTimeout(set_focus, 100);\n",
       "};\n",
       "\n",
       "mpl.figure.prototype._init_toolbar = function () {\n",
       "    var fig = this;\n",
       "\n",
       "    var toolbar = document.createElement('div');\n",
       "    toolbar.classList = 'mpl-toolbar';\n",
       "    this.root.appendChild(toolbar);\n",
       "\n",
       "    function on_click_closure(name) {\n",
       "        return function (_event) {\n",
       "            return fig.toolbar_button_onclick(name);\n",
       "        };\n",
       "    }\n",
       "\n",
       "    function on_mouseover_closure(tooltip) {\n",
       "        return function (event) {\n",
       "            if (!event.currentTarget.disabled) {\n",
       "                return fig.toolbar_button_onmouseover(tooltip);\n",
       "            }\n",
       "        };\n",
       "    }\n",
       "\n",
       "    fig.buttons = {};\n",
       "    var buttonGroup = document.createElement('div');\n",
       "    buttonGroup.classList = 'mpl-button-group';\n",
       "    for (var toolbar_ind in mpl.toolbar_items) {\n",
       "        var name = mpl.toolbar_items[toolbar_ind][0];\n",
       "        var tooltip = mpl.toolbar_items[toolbar_ind][1];\n",
       "        var image = mpl.toolbar_items[toolbar_ind][2];\n",
       "        var method_name = mpl.toolbar_items[toolbar_ind][3];\n",
       "\n",
       "        if (!name) {\n",
       "            /* Instead of a spacer, we start a new button group. */\n",
       "            if (buttonGroup.hasChildNodes()) {\n",
       "                toolbar.appendChild(buttonGroup);\n",
       "            }\n",
       "            buttonGroup = document.createElement('div');\n",
       "            buttonGroup.classList = 'mpl-button-group';\n",
       "            continue;\n",
       "        }\n",
       "\n",
       "        var button = (fig.buttons[name] = document.createElement('button'));\n",
       "        button.classList = 'mpl-widget';\n",
       "        button.setAttribute('role', 'button');\n",
       "        button.setAttribute('aria-disabled', 'false');\n",
       "        button.addEventListener('click', on_click_closure(method_name));\n",
       "        button.addEventListener('mouseover', on_mouseover_closure(tooltip));\n",
       "\n",
       "        var icon_img = document.createElement('img');\n",
       "        icon_img.src = '_images/' + image + '.png';\n",
       "        icon_img.srcset = '_images/' + image + '_large.png 2x';\n",
       "        icon_img.alt = tooltip;\n",
       "        button.appendChild(icon_img);\n",
       "\n",
       "        buttonGroup.appendChild(button);\n",
       "    }\n",
       "\n",
       "    if (buttonGroup.hasChildNodes()) {\n",
       "        toolbar.appendChild(buttonGroup);\n",
       "    }\n",
       "\n",
       "    var fmt_picker = document.createElement('select');\n",
       "    fmt_picker.classList = 'mpl-widget';\n",
       "    toolbar.appendChild(fmt_picker);\n",
       "    this.format_dropdown = fmt_picker;\n",
       "\n",
       "    for (var ind in mpl.extensions) {\n",
       "        var fmt = mpl.extensions[ind];\n",
       "        var option = document.createElement('option');\n",
       "        option.selected = fmt === mpl.default_extension;\n",
       "        option.innerHTML = fmt;\n",
       "        fmt_picker.appendChild(option);\n",
       "    }\n",
       "\n",
       "    var status_bar = document.createElement('span');\n",
       "    status_bar.classList = 'mpl-message';\n",
       "    toolbar.appendChild(status_bar);\n",
       "    this.message = status_bar;\n",
       "};\n",
       "\n",
       "mpl.figure.prototype.request_resize = function (x_pixels, y_pixels) {\n",
       "    // Request matplotlib to resize the figure. Matplotlib will then trigger a resize in the client,\n",
       "    // which will in turn request a refresh of the image.\n",
       "    this.send_message('resize', { width: x_pixels, height: y_pixels });\n",
       "};\n",
       "\n",
       "mpl.figure.prototype.send_message = function (type, properties) {\n",
       "    properties['type'] = type;\n",
       "    properties['figure_id'] = this.id;\n",
       "    this.ws.send(JSON.stringify(properties));\n",
       "};\n",
       "\n",
       "mpl.figure.prototype.send_draw_message = function () {\n",
       "    if (!this.waiting) {\n",
       "        this.waiting = true;\n",
       "        this.ws.send(JSON.stringify({ type: 'draw', figure_id: this.id }));\n",
       "    }\n",
       "};\n",
       "\n",
       "mpl.figure.prototype.handle_save = function (fig, _msg) {\n",
       "    var format_dropdown = fig.format_dropdown;\n",
       "    var format = format_dropdown.options[format_dropdown.selectedIndex].value;\n",
       "    fig.ondownload(fig, format);\n",
       "};\n",
       "\n",
       "mpl.figure.prototype.handle_resize = function (fig, msg) {\n",
       "    var size = msg['size'];\n",
       "    if (size[0] !== fig.canvas.width || size[1] !== fig.canvas.height) {\n",
       "        fig._resize_canvas(size[0], size[1], msg['forward']);\n",
       "        fig.send_message('refresh', {});\n",
       "    }\n",
       "};\n",
       "\n",
       "mpl.figure.prototype.handle_rubberband = function (fig, msg) {\n",
       "    var x0 = msg['x0'] / fig.ratio;\n",
       "    var y0 = (fig.canvas.height - msg['y0']) / fig.ratio;\n",
       "    var x1 = msg['x1'] / fig.ratio;\n",
       "    var y1 = (fig.canvas.height - msg['y1']) / fig.ratio;\n",
       "    x0 = Math.floor(x0) + 0.5;\n",
       "    y0 = Math.floor(y0) + 0.5;\n",
       "    x1 = Math.floor(x1) + 0.5;\n",
       "    y1 = Math.floor(y1) + 0.5;\n",
       "    var min_x = Math.min(x0, x1);\n",
       "    var min_y = Math.min(y0, y1);\n",
       "    var width = Math.abs(x1 - x0);\n",
       "    var height = Math.abs(y1 - y0);\n",
       "\n",
       "    fig.rubberband_context.clearRect(\n",
       "        0,\n",
       "        0,\n",
       "        fig.canvas.width / fig.ratio,\n",
       "        fig.canvas.height / fig.ratio\n",
       "    );\n",
       "\n",
       "    fig.rubberband_context.strokeRect(min_x, min_y, width, height);\n",
       "};\n",
       "\n",
       "mpl.figure.prototype.handle_figure_label = function (fig, msg) {\n",
       "    // Updates the figure title.\n",
       "    fig.header.textContent = msg['label'];\n",
       "};\n",
       "\n",
       "mpl.figure.prototype.handle_cursor = function (fig, msg) {\n",
       "    var cursor = msg['cursor'];\n",
       "    switch (cursor) {\n",
       "        case 0:\n",
       "            cursor = 'pointer';\n",
       "            break;\n",
       "        case 1:\n",
       "            cursor = 'default';\n",
       "            break;\n",
       "        case 2:\n",
       "            cursor = 'crosshair';\n",
       "            break;\n",
       "        case 3:\n",
       "            cursor = 'move';\n",
       "            break;\n",
       "    }\n",
       "    fig.rubberband_canvas.style.cursor = cursor;\n",
       "};\n",
       "\n",
       "mpl.figure.prototype.handle_message = function (fig, msg) {\n",
       "    fig.message.textContent = msg['message'];\n",
       "};\n",
       "\n",
       "mpl.figure.prototype.handle_draw = function (fig, _msg) {\n",
       "    // Request the server to send over a new figure.\n",
       "    fig.send_draw_message();\n",
       "};\n",
       "\n",
       "mpl.figure.prototype.handle_image_mode = function (fig, msg) {\n",
       "    fig.image_mode = msg['mode'];\n",
       "};\n",
       "\n",
       "mpl.figure.prototype.handle_history_buttons = function (fig, msg) {\n",
       "    for (var key in msg) {\n",
       "        if (!(key in fig.buttons)) {\n",
       "            continue;\n",
       "        }\n",
       "        fig.buttons[key].disabled = !msg[key];\n",
       "        fig.buttons[key].setAttribute('aria-disabled', !msg[key]);\n",
       "    }\n",
       "};\n",
       "\n",
       "mpl.figure.prototype.handle_navigate_mode = function (fig, msg) {\n",
       "    if (msg['mode'] === 'PAN') {\n",
       "        fig.buttons['Pan'].classList.add('active');\n",
       "        fig.buttons['Zoom'].classList.remove('active');\n",
       "    } else if (msg['mode'] === 'ZOOM') {\n",
       "        fig.buttons['Pan'].classList.remove('active');\n",
       "        fig.buttons['Zoom'].classList.add('active');\n",
       "    } else {\n",
       "        fig.buttons['Pan'].classList.remove('active');\n",
       "        fig.buttons['Zoom'].classList.remove('active');\n",
       "    }\n",
       "};\n",
       "\n",
       "mpl.figure.prototype.updated_canvas_event = function () {\n",
       "    // Called whenever the canvas gets updated.\n",
       "    this.send_message('ack', {});\n",
       "};\n",
       "\n",
       "// A function to construct a web socket function for onmessage handling.\n",
       "// Called in the figure constructor.\n",
       "mpl.figure.prototype._make_on_message_function = function (fig) {\n",
       "    return function socket_on_message(evt) {\n",
       "        if (evt.data instanceof Blob) {\n",
       "            var img = evt.data;\n",
       "            if (img.type !== 'image/png') {\n",
       "                /* FIXME: We get \"Resource interpreted as Image but\n",
       "                 * transferred with MIME type text/plain:\" errors on\n",
       "                 * Chrome.  But how to set the MIME type?  It doesn't seem\n",
       "                 * to be part of the websocket stream */\n",
       "                img.type = 'image/png';\n",
       "            }\n",
       "\n",
       "            /* Free the memory for the previous frames */\n",
       "            if (fig.imageObj.src) {\n",
       "                (window.URL || window.webkitURL).revokeObjectURL(\n",
       "                    fig.imageObj.src\n",
       "                );\n",
       "            }\n",
       "\n",
       "            fig.imageObj.src = (window.URL || window.webkitURL).createObjectURL(\n",
       "                img\n",
       "            );\n",
       "            fig.updated_canvas_event();\n",
       "            fig.waiting = false;\n",
       "            return;\n",
       "        } else if (\n",
       "            typeof evt.data === 'string' &&\n",
       "            evt.data.slice(0, 21) === 'data:image/png;base64'\n",
       "        ) {\n",
       "            fig.imageObj.src = evt.data;\n",
       "            fig.updated_canvas_event();\n",
       "            fig.waiting = false;\n",
       "            return;\n",
       "        }\n",
       "\n",
       "        var msg = JSON.parse(evt.data);\n",
       "        var msg_type = msg['type'];\n",
       "\n",
       "        // Call the  \"handle_{type}\" callback, which takes\n",
       "        // the figure and JSON message as its only arguments.\n",
       "        try {\n",
       "            var callback = fig['handle_' + msg_type];\n",
       "        } catch (e) {\n",
       "            console.log(\n",
       "                \"No handler for the '\" + msg_type + \"' message type: \",\n",
       "                msg\n",
       "            );\n",
       "            return;\n",
       "        }\n",
       "\n",
       "        if (callback) {\n",
       "            try {\n",
       "                // console.log(\"Handling '\" + msg_type + \"' message: \", msg);\n",
       "                callback(fig, msg);\n",
       "            } catch (e) {\n",
       "                console.log(\n",
       "                    \"Exception inside the 'handler_\" + msg_type + \"' callback:\",\n",
       "                    e,\n",
       "                    e.stack,\n",
       "                    msg\n",
       "                );\n",
       "            }\n",
       "        }\n",
       "    };\n",
       "};\n",
       "\n",
       "// from http://stackoverflow.com/questions/1114465/getting-mouse-location-in-canvas\n",
       "mpl.findpos = function (e) {\n",
       "    //this section is from http://www.quirksmode.org/js/events_properties.html\n",
       "    var targ;\n",
       "    if (!e) {\n",
       "        e = window.event;\n",
       "    }\n",
       "    if (e.target) {\n",
       "        targ = e.target;\n",
       "    } else if (e.srcElement) {\n",
       "        targ = e.srcElement;\n",
       "    }\n",
       "    if (targ.nodeType === 3) {\n",
       "        // defeat Safari bug\n",
       "        targ = targ.parentNode;\n",
       "    }\n",
       "\n",
       "    // pageX,Y are the mouse positions relative to the document\n",
       "    var boundingRect = targ.getBoundingClientRect();\n",
       "    var x = e.pageX - (boundingRect.left + document.body.scrollLeft);\n",
       "    var y = e.pageY - (boundingRect.top + document.body.scrollTop);\n",
       "\n",
       "    return { x: x, y: y };\n",
       "};\n",
       "\n",
       "/*\n",
       " * return a copy of an object with only non-object keys\n",
       " * we need this to avoid circular references\n",
       " * http://stackoverflow.com/a/24161582/3208463\n",
       " */\n",
       "function simpleKeys(original) {\n",
       "    return Object.keys(original).reduce(function (obj, key) {\n",
       "        if (typeof original[key] !== 'object') {\n",
       "            obj[key] = original[key];\n",
       "        }\n",
       "        return obj;\n",
       "    }, {});\n",
       "}\n",
       "\n",
       "mpl.figure.prototype.mouse_event = function (event, name) {\n",
       "    var canvas_pos = mpl.findpos(event);\n",
       "\n",
       "    if (name === 'button_press') {\n",
       "        this.canvas.focus();\n",
       "        this.canvas_div.focus();\n",
       "    }\n",
       "\n",
       "    var x = canvas_pos.x * this.ratio;\n",
       "    var y = canvas_pos.y * this.ratio;\n",
       "\n",
       "    this.send_message(name, {\n",
       "        x: x,\n",
       "        y: y,\n",
       "        button: event.button,\n",
       "        step: event.step,\n",
       "        guiEvent: simpleKeys(event),\n",
       "    });\n",
       "\n",
       "    /* This prevents the web browser from automatically changing to\n",
       "     * the text insertion cursor when the button is pressed.  We want\n",
       "     * to control all of the cursor setting manually through the\n",
       "     * 'cursor' event from matplotlib */\n",
       "    event.preventDefault();\n",
       "    return false;\n",
       "};\n",
       "\n",
       "mpl.figure.prototype._key_event_extra = function (_event, _name) {\n",
       "    // Handle any extra behaviour associated with a key event\n",
       "};\n",
       "\n",
       "mpl.figure.prototype.key_event = function (event, name) {\n",
       "    // Prevent repeat events\n",
       "    if (name === 'key_press') {\n",
       "        if (event.key === this._key) {\n",
       "            return;\n",
       "        } else {\n",
       "            this._key = event.key;\n",
       "        }\n",
       "    }\n",
       "    if (name === 'key_release') {\n",
       "        this._key = null;\n",
       "    }\n",
       "\n",
       "    var value = '';\n",
       "    if (event.ctrlKey && event.key !== 'Control') {\n",
       "        value += 'ctrl+';\n",
       "    }\n",
       "    else if (event.altKey && event.key !== 'Alt') {\n",
       "        value += 'alt+';\n",
       "    }\n",
       "    else if (event.shiftKey && event.key !== 'Shift') {\n",
       "        value += 'shift+';\n",
       "    }\n",
       "\n",
       "    value += 'k' + event.key;\n",
       "\n",
       "    this._key_event_extra(event, name);\n",
       "\n",
       "    this.send_message(name, { key: value, guiEvent: simpleKeys(event) });\n",
       "    return false;\n",
       "};\n",
       "\n",
       "mpl.figure.prototype.toolbar_button_onclick = function (name) {\n",
       "    if (name === 'download') {\n",
       "        this.handle_save(this, null);\n",
       "    } else {\n",
       "        this.send_message('toolbar_button', { name: name });\n",
       "    }\n",
       "};\n",
       "\n",
       "mpl.figure.prototype.toolbar_button_onmouseover = function (tooltip) {\n",
       "    this.message.textContent = tooltip;\n",
       "};\n",
       "\n",
       "///////////////// REMAINING CONTENT GENERATED BY embed_js.py /////////////////\n",
       "// prettier-ignore\n",
       "var _JSXTOOLS_RESIZE_OBSERVER=function(A){var t,i=new WeakMap,n=new WeakMap,a=new WeakMap,r=new WeakMap,o=new Set;function s(e){if(!(this instanceof s))throw new TypeError(\"Constructor requires 'new' operator\");i.set(this,e)}function h(){throw new TypeError(\"Function is not a constructor\")}function c(e,t,i,n){e=0 in arguments?Number(arguments[0]):0,t=1 in arguments?Number(arguments[1]):0,i=2 in arguments?Number(arguments[2]):0,n=3 in arguments?Number(arguments[3]):0,this.right=(this.x=this.left=e)+(this.width=i),this.bottom=(this.y=this.top=t)+(this.height=n),Object.freeze(this)}function d(){t=requestAnimationFrame(d);var s=new WeakMap,p=new Set;o.forEach((function(t){r.get(t).forEach((function(i){var r=t instanceof window.SVGElement,o=a.get(t),d=r?0:parseFloat(o.paddingTop),f=r?0:parseFloat(o.paddingRight),l=r?0:parseFloat(o.paddingBottom),u=r?0:parseFloat(o.paddingLeft),g=r?0:parseFloat(o.borderTopWidth),m=r?0:parseFloat(o.borderRightWidth),w=r?0:parseFloat(o.borderBottomWidth),b=u+f,F=d+l,v=(r?0:parseFloat(o.borderLeftWidth))+m,W=g+w,y=r?0:t.offsetHeight-W-t.clientHeight,E=r?0:t.offsetWidth-v-t.clientWidth,R=b+v,z=F+W,M=r?t.width:parseFloat(o.width)-R-E,O=r?t.height:parseFloat(o.height)-z-y;if(n.has(t)){var k=n.get(t);if(k[0]===M&&k[1]===O)return}n.set(t,[M,O]);var S=Object.create(h.prototype);S.target=t,S.contentRect=new c(u,d,M,O),s.has(i)||(s.set(i,[]),p.add(i)),s.get(i).push(S)}))})),p.forEach((function(e){i.get(e).call(e,s.get(e),e)}))}return s.prototype.observe=function(i){if(i instanceof window.Element){r.has(i)||(r.set(i,new Set),o.add(i),a.set(i,window.getComputedStyle(i)));var n=r.get(i);n.has(this)||n.add(this),cancelAnimationFrame(t),t=requestAnimationFrame(d)}},s.prototype.unobserve=function(i){if(i instanceof window.Element&&r.has(i)){var n=r.get(i);n.has(this)&&(n.delete(this),n.size||(r.delete(i),o.delete(i))),n.size||r.delete(i),o.size||cancelAnimationFrame(t)}},A.DOMRectReadOnly=c,A.ResizeObserver=s,A.ResizeObserverEntry=h,A}; // eslint-disable-line\n",
       "mpl.toolbar_items = [[\"Home\", \"Reset original view\", \"fa fa-home icon-home\", \"home\"], [\"Back\", \"Back to previous view\", \"fa fa-arrow-left icon-arrow-left\", \"back\"], [\"Forward\", \"Forward to next view\", \"fa fa-arrow-right icon-arrow-right\", \"forward\"], [\"\", \"\", \"\", \"\"], [\"Pan\", \"Left button pans, Right button zooms\\nx/y fixes axis, CTRL fixes aspect\", \"fa fa-arrows icon-move\", \"pan\"], [\"Zoom\", \"Zoom to rectangle\\nx/y fixes axis, CTRL fixes aspect\", \"fa fa-square-o icon-check-empty\", \"zoom\"], [\"\", \"\", \"\", \"\"], [\"Download\", \"Download plot\", \"fa fa-floppy-o icon-save\", \"download\"]];\n",
       "\n",
       "mpl.extensions = [\"eps\", \"jpeg\", \"pgf\", \"pdf\", \"png\", \"ps\", \"raw\", \"svg\", \"tif\"];\n",
       "\n",
       "mpl.default_extension = \"png\";/* global mpl */\n",
       "\n",
       "var comm_websocket_adapter = function (comm) {\n",
       "    // Create a \"websocket\"-like object which calls the given IPython comm\n",
       "    // object with the appropriate methods. Currently this is a non binary\n",
       "    // socket, so there is still some room for performance tuning.\n",
       "    var ws = {};\n",
       "\n",
       "    ws.binaryType = comm.kernel.ws.binaryType;\n",
       "    ws.readyState = comm.kernel.ws.readyState;\n",
       "    function updateReadyState(_event) {\n",
       "        if (comm.kernel.ws) {\n",
       "            ws.readyState = comm.kernel.ws.readyState;\n",
       "        } else {\n",
       "            ws.readyState = 3; // Closed state.\n",
       "        }\n",
       "    }\n",
       "    comm.kernel.ws.addEventListener('open', updateReadyState);\n",
       "    comm.kernel.ws.addEventListener('close', updateReadyState);\n",
       "    comm.kernel.ws.addEventListener('error', updateReadyState);\n",
       "\n",
       "    ws.close = function () {\n",
       "        comm.close();\n",
       "    };\n",
       "    ws.send = function (m) {\n",
       "        //console.log('sending', m);\n",
       "        comm.send(m);\n",
       "    };\n",
       "    // Register the callback with on_msg.\n",
       "    comm.on_msg(function (msg) {\n",
       "        //console.log('receiving', msg['content']['data'], msg);\n",
       "        var data = msg['content']['data'];\n",
       "        if (data['blob'] !== undefined) {\n",
       "            data = {\n",
       "                data: new Blob(msg['buffers'], { type: data['blob'] }),\n",
       "            };\n",
       "        }\n",
       "        // Pass the mpl event to the overridden (by mpl) onmessage function.\n",
       "        ws.onmessage(data);\n",
       "    });\n",
       "    return ws;\n",
       "};\n",
       "\n",
       "mpl.mpl_figure_comm = function (comm, msg) {\n",
       "    // This is the function which gets called when the mpl process\n",
       "    // starts-up an IPython Comm through the \"matplotlib\" channel.\n",
       "\n",
       "    var id = msg.content.data.id;\n",
       "    // Get hold of the div created by the display call when the Comm\n",
       "    // socket was opened in Python.\n",
       "    var element = document.getElementById(id);\n",
       "    var ws_proxy = comm_websocket_adapter(comm);\n",
       "\n",
       "    function ondownload(figure, _format) {\n",
       "        window.open(figure.canvas.toDataURL());\n",
       "    }\n",
       "\n",
       "    var fig = new mpl.figure(id, ws_proxy, ondownload, element);\n",
       "\n",
       "    // Call onopen now - mpl needs it, as it is assuming we've passed it a real\n",
       "    // web socket which is closed, not our websocket->open comm proxy.\n",
       "    ws_proxy.onopen();\n",
       "\n",
       "    fig.parent_element = element;\n",
       "    fig.cell_info = mpl.find_output_cell(\"<div id='\" + id + \"'></div>\");\n",
       "    if (!fig.cell_info) {\n",
       "        console.error('Failed to find cell for figure', id, fig);\n",
       "        return;\n",
       "    }\n",
       "    fig.cell_info[0].output_area.element.on(\n",
       "        'cleared',\n",
       "        { fig: fig },\n",
       "        fig._remove_fig_handler\n",
       "    );\n",
       "};\n",
       "\n",
       "mpl.figure.prototype.handle_close = function (fig, msg) {\n",
       "    var width = fig.canvas.width / fig.ratio;\n",
       "    fig.cell_info[0].output_area.element.off(\n",
       "        'cleared',\n",
       "        fig._remove_fig_handler\n",
       "    );\n",
       "    fig.resizeObserverInstance.unobserve(fig.canvas_div);\n",
       "\n",
       "    // Update the output cell to use the data from the current canvas.\n",
       "    fig.push_to_output();\n",
       "    var dataURL = fig.canvas.toDataURL();\n",
       "    // Re-enable the keyboard manager in IPython - without this line, in FF,\n",
       "    // the notebook keyboard shortcuts fail.\n",
       "    IPython.keyboard_manager.enable();\n",
       "    fig.parent_element.innerHTML =\n",
       "        '<img src=\"' + dataURL + '\" width=\"' + width + '\">';\n",
       "    fig.close_ws(fig, msg);\n",
       "};\n",
       "\n",
       "mpl.figure.prototype.close_ws = function (fig, msg) {\n",
       "    fig.send_message('closing', msg);\n",
       "    // fig.ws.close()\n",
       "};\n",
       "\n",
       "mpl.figure.prototype.push_to_output = function (_remove_interactive) {\n",
       "    // Turn the data on the canvas into data in the output cell.\n",
       "    var width = this.canvas.width / this.ratio;\n",
       "    var dataURL = this.canvas.toDataURL();\n",
       "    this.cell_info[1]['text/html'] =\n",
       "        '<img src=\"' + dataURL + '\" width=\"' + width + '\">';\n",
       "};\n",
       "\n",
       "mpl.figure.prototype.updated_canvas_event = function () {\n",
       "    // Tell IPython that the notebook contents must change.\n",
       "    IPython.notebook.set_dirty(true);\n",
       "    this.send_message('ack', {});\n",
       "    var fig = this;\n",
       "    // Wait a second, then push the new image to the DOM so\n",
       "    // that it is saved nicely (might be nice to debounce this).\n",
       "    setTimeout(function () {\n",
       "        fig.push_to_output();\n",
       "    }, 1000);\n",
       "};\n",
       "\n",
       "mpl.figure.prototype._init_toolbar = function () {\n",
       "    var fig = this;\n",
       "\n",
       "    var toolbar = document.createElement('div');\n",
       "    toolbar.classList = 'btn-toolbar';\n",
       "    this.root.appendChild(toolbar);\n",
       "\n",
       "    function on_click_closure(name) {\n",
       "        return function (_event) {\n",
       "            return fig.toolbar_button_onclick(name);\n",
       "        };\n",
       "    }\n",
       "\n",
       "    function on_mouseover_closure(tooltip) {\n",
       "        return function (event) {\n",
       "            if (!event.currentTarget.disabled) {\n",
       "                return fig.toolbar_button_onmouseover(tooltip);\n",
       "            }\n",
       "        };\n",
       "    }\n",
       "\n",
       "    fig.buttons = {};\n",
       "    var buttonGroup = document.createElement('div');\n",
       "    buttonGroup.classList = 'btn-group';\n",
       "    var button;\n",
       "    for (var toolbar_ind in mpl.toolbar_items) {\n",
       "        var name = mpl.toolbar_items[toolbar_ind][0];\n",
       "        var tooltip = mpl.toolbar_items[toolbar_ind][1];\n",
       "        var image = mpl.toolbar_items[toolbar_ind][2];\n",
       "        var method_name = mpl.toolbar_items[toolbar_ind][3];\n",
       "\n",
       "        if (!name) {\n",
       "            /* Instead of a spacer, we start a new button group. */\n",
       "            if (buttonGroup.hasChildNodes()) {\n",
       "                toolbar.appendChild(buttonGroup);\n",
       "            }\n",
       "            buttonGroup = document.createElement('div');\n",
       "            buttonGroup.classList = 'btn-group';\n",
       "            continue;\n",
       "        }\n",
       "\n",
       "        button = fig.buttons[name] = document.createElement('button');\n",
       "        button.classList = 'btn btn-default';\n",
       "        button.href = '#';\n",
       "        button.title = name;\n",
       "        button.innerHTML = '<i class=\"fa ' + image + ' fa-lg\"></i>';\n",
       "        button.addEventListener('click', on_click_closure(method_name));\n",
       "        button.addEventListener('mouseover', on_mouseover_closure(tooltip));\n",
       "        buttonGroup.appendChild(button);\n",
       "    }\n",
       "\n",
       "    if (buttonGroup.hasChildNodes()) {\n",
       "        toolbar.appendChild(buttonGroup);\n",
       "    }\n",
       "\n",
       "    // Add the status bar.\n",
       "    var status_bar = document.createElement('span');\n",
       "    status_bar.classList = 'mpl-message pull-right';\n",
       "    toolbar.appendChild(status_bar);\n",
       "    this.message = status_bar;\n",
       "\n",
       "    // Add the close button to the window.\n",
       "    var buttongrp = document.createElement('div');\n",
       "    buttongrp.classList = 'btn-group inline pull-right';\n",
       "    button = document.createElement('button');\n",
       "    button.classList = 'btn btn-mini btn-primary';\n",
       "    button.href = '#';\n",
       "    button.title = 'Stop Interaction';\n",
       "    button.innerHTML = '<i class=\"fa fa-power-off icon-remove icon-large\"></i>';\n",
       "    button.addEventListener('click', function (_evt) {\n",
       "        fig.handle_close(fig, {});\n",
       "    });\n",
       "    button.addEventListener(\n",
       "        'mouseover',\n",
       "        on_mouseover_closure('Stop Interaction')\n",
       "    );\n",
       "    buttongrp.appendChild(button);\n",
       "    var titlebar = this.root.querySelector('.ui-dialog-titlebar');\n",
       "    titlebar.insertBefore(buttongrp, titlebar.firstChild);\n",
       "};\n",
       "\n",
       "mpl.figure.prototype._remove_fig_handler = function (event) {\n",
       "    var fig = event.data.fig;\n",
       "    if (event.target !== this) {\n",
       "        // Ignore bubbled events from children.\n",
       "        return;\n",
       "    }\n",
       "    fig.close_ws(fig, {});\n",
       "};\n",
       "\n",
       "mpl.figure.prototype._root_extra_style = function (el) {\n",
       "    el.style.boxSizing = 'content-box'; // override notebook setting of border-box.\n",
       "};\n",
       "\n",
       "mpl.figure.prototype._canvas_extra_style = function (el) {\n",
       "    // this is important to make the div 'focusable\n",
       "    el.setAttribute('tabindex', 0);\n",
       "    // reach out to IPython and tell the keyboard manager to turn it's self\n",
       "    // off when our div gets focus\n",
       "\n",
       "    // location in version 3\n",
       "    if (IPython.notebook.keyboard_manager) {\n",
       "        IPython.notebook.keyboard_manager.register_events(el);\n",
       "    } else {\n",
       "        // location in version 2\n",
       "        IPython.keyboard_manager.register_events(el);\n",
       "    }\n",
       "};\n",
       "\n",
       "mpl.figure.prototype._key_event_extra = function (event, _name) {\n",
       "    var manager = IPython.notebook.keyboard_manager;\n",
       "    if (!manager) {\n",
       "        manager = IPython.keyboard_manager;\n",
       "    }\n",
       "\n",
       "    // Check for shift+enter\n",
       "    if (event.shiftKey && event.which === 13) {\n",
       "        this.canvas_div.blur();\n",
       "        // select the cell after this one\n",
       "        var index = IPython.notebook.find_cell_index(this.cell_info[0]);\n",
       "        IPython.notebook.select(index + 1);\n",
       "    }\n",
       "};\n",
       "\n",
       "mpl.figure.prototype.handle_save = function (fig, _msg) {\n",
       "    fig.ondownload(fig, null);\n",
       "};\n",
       "\n",
       "mpl.find_output_cell = function (html_output) {\n",
       "    // Return the cell and output element which can be found *uniquely* in the notebook.\n",
       "    // Note - this is a bit hacky, but it is done because the \"notebook_saving.Notebook\"\n",
       "    // IPython event is triggered only after the cells have been serialised, which for\n",
       "    // our purposes (turning an active figure into a static one), is too late.\n",
       "    var cells = IPython.notebook.get_cells();\n",
       "    var ncells = cells.length;\n",
       "    for (var i = 0; i < ncells; i++) {\n",
       "        var cell = cells[i];\n",
       "        if (cell.cell_type === 'code') {\n",
       "            for (var j = 0; j < cell.output_area.outputs.length; j++) {\n",
       "                var data = cell.output_area.outputs[j];\n",
       "                if (data.data) {\n",
       "                    // IPython >= 3 moved mimebundle to data attribute of output\n",
       "                    data = data.data;\n",
       "                }\n",
       "                if (data['text/html'] === html_output) {\n",
       "                    return [cell, data, j];\n",
       "                }\n",
       "            }\n",
       "        }\n",
       "    }\n",
       "};\n",
       "\n",
       "// Register the function which deals with the matplotlib target/channel.\n",
       "// The kernel may be null if the page has been refreshed.\n",
       "if (IPython.notebook.kernel !== null) {\n",
       "    IPython.notebook.kernel.comm_manager.register_target(\n",
       "        'matplotlib',\n",
       "        mpl.mpl_figure_comm\n",
       "    );\n",
       "}\n"
      ],
      "text/plain": [
       "<IPython.core.display.Javascript object>"
      ]
     },
     "metadata": {},
     "output_type": "display_data"
    },
    {
     "data": {
      "text/html": [
       "<img src=\"data:image/png;base64,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\" width=\"432\">"
      ],
      "text/plain": [
       "<IPython.core.display.HTML object>"
      ]
     },
     "metadata": {},
     "output_type": "display_data"
    },
    {
     "data": {
      "application/vnd.jupyter.widget-view+json": {
       "model_id": "658e305a13a84733b030bce66af2b452",
       "version_major": 2,
       "version_minor": 0
      },
      "text/plain": [
       "interactive(children=(FloatSlider(value=3.0, description='a', max=9.0, min=-3.0), FloatSlider(value=3.0, descr…"
      ]
     },
     "metadata": {},
     "output_type": "display_data"
    }
   ],
   "source": [
    "%matplotlib notebook\n",
    "from ipywidgets import *\n",
    "\n",
    "fig = plt.figure()\n",
    "ax = fig.add_subplot(1, 1, 1)\n",
    "plt.ylabel('Y - variável dependente')\n",
    "plt.xlabel('X - variável independente')\n",
    "scatter = ax.scatter(dados['X'], dados['y'])\n",
    "line, = ax.plot(dados['X'], dados['X'], color='red')\n",
    "\n",
    "def update(a = 3.0, b=3.0):\n",
    "    line.set_ydata(a*dados['X'] + b)\n",
    "    fig.canvas.draw_idle()\n",
    "\n",
    "interact(update);"
   ]
  },
  {
   "cell_type": "markdown",
   "id": "2bf1d9e9",
   "metadata": {},
   "source": [
    "O erro é minimo quando sua derivada em função dos parâmetros (a) e (b) é igual a zero. Isso torna o processo de descobrir os coeficientes ótimos numa simples resolução de um sistema de equações lineares."
   ]
  },
  {
   "cell_type": "code",
   "execution_count": 14,
   "id": "f06148cc",
   "metadata": {},
   "outputs": [
    {
     "ename": "TypeError",
     "evalue": "__init__() takes 1 positional argument but 2 were given",
     "output_type": "error",
     "traceback": [
      "\u001b[0;31m---------------------------------------------------------------------------\u001b[0m",
      "\u001b[0;31mTypeError\u001b[0m                                 Traceback (most recent call last)",
      "\u001b[0;32m<ipython-input-14-08af4cfe231c>\u001b[0m in \u001b[0;36m<module>\u001b[0;34m\u001b[0m\n\u001b[0;32m----> 1\u001b[0;31m \u001b[0mImage\u001b[0m\u001b[0;34m(\u001b[0m\u001b[0;34m'../figures/derivative.png'\u001b[0m\u001b[0;34m)\u001b[0m\u001b[0;34m\u001b[0m\u001b[0;34m\u001b[0m\u001b[0m\n\u001b[0m",
      "\u001b[0;32m~/dadosjupyter/lib/python3.9/site-packages/ipywidgets/widgets/widget_media.py\u001b[0m in \u001b[0;36m__init__\u001b[0;34m(self, *args, **kwargs)\u001b[0m\n\u001b[1;32m    157\u001b[0m \u001b[0;34m\u001b[0m\u001b[0m\n\u001b[1;32m    158\u001b[0m     \u001b[0;32mdef\u001b[0m \u001b[0m__init__\u001b[0m\u001b[0;34m(\u001b[0m\u001b[0mself\u001b[0m\u001b[0;34m,\u001b[0m \u001b[0;34m*\u001b[0m\u001b[0margs\u001b[0m\u001b[0;34m,\u001b[0m \u001b[0;34m**\u001b[0m\u001b[0mkwargs\u001b[0m\u001b[0;34m)\u001b[0m\u001b[0;34m:\u001b[0m\u001b[0;34m\u001b[0m\u001b[0;34m\u001b[0m\u001b[0m\n\u001b[0;32m--> 159\u001b[0;31m         \u001b[0msuper\u001b[0m\u001b[0;34m(\u001b[0m\u001b[0mImage\u001b[0m\u001b[0;34m,\u001b[0m \u001b[0mself\u001b[0m\u001b[0;34m)\u001b[0m\u001b[0;34m.\u001b[0m\u001b[0m__init__\u001b[0m\u001b[0;34m(\u001b[0m\u001b[0;34m*\u001b[0m\u001b[0margs\u001b[0m\u001b[0;34m,\u001b[0m \u001b[0;34m**\u001b[0m\u001b[0mkwargs\u001b[0m\u001b[0;34m)\u001b[0m\u001b[0;34m\u001b[0m\u001b[0;34m\u001b[0m\u001b[0m\n\u001b[0m\u001b[1;32m    160\u001b[0m \u001b[0;34m\u001b[0m\u001b[0m\n\u001b[1;32m    161\u001b[0m     \u001b[0;34m@\u001b[0m\u001b[0mclassmethod\u001b[0m\u001b[0;34m\u001b[0m\u001b[0;34m\u001b[0m\u001b[0m\n",
      "\u001b[0;31mTypeError\u001b[0m: __init__() takes 1 positional argument but 2 were given"
     ]
    }
   ],
   "source": [
    "Image('../figures/derivative.png')"
   ]
  },
  {
   "cell_type": "markdown",
   "id": "39ecad54",
   "metadata": {},
   "source": [
    "Para mais detalhes: https://medium.com/analytics-vidhya/ordinary-least-square-ols-method-for-linear-regression-ef8ca10aadfc"
   ]
  },
  {
   "cell_type": "markdown",
   "id": "fa4b2c61",
   "metadata": {},
   "source": [
    "Nesse caso simplificado, ja podemos identificar alguns componentes de uma tarefa de aprendizado supervisionado:"
   ]
  },
  {
   "cell_type": "markdown",
   "id": "f11efa5a",
   "metadata": {},
   "source": [
    "- Variável dependente: y (depende de X). A resposta do modelo\n",
    "- Variável/Variáveis independentes (X). As entradas do modelo\n",
    "- Parâmetros: a, b: são aprendidos no <b> <font color='blue'> treinamento </font> </b> do modelo \n",
    "- Função de erro: objetivo do treinamento é minimizar essa função"
   ]
  },
  {
   "cell_type": "markdown",
   "id": "b83f8b95",
   "metadata": {},
   "source": [
    "No aprendizado supervisionado, fornecemos a resposta correta (seja o y real, ou um rótulo) ao modelo para determinar quão próximo ele está se ajustando. "
   ]
  },
  {
   "cell_type": "markdown",
   "id": "e63579a2",
   "metadata": {},
   "source": [
    "## Criando e ajusando um modelo com o sklearn"
   ]
  },
  {
   "cell_type": "markdown",
   "id": "6ffc7474",
   "metadata": {},
   "source": [
    "O sklearn possui uma implementação para ajustar modelo linear:"
   ]
  },
  {
   "cell_type": "code",
   "execution_count": null,
   "id": "0397c575",
   "metadata": {},
   "outputs": [],
   "source": [
    "from sklearn.linear_model import LinearRegression"
   ]
  },
  {
   "cell_type": "markdown",
   "id": "79ad7f7f",
   "metadata": {},
   "source": [
    "<b> <font color=\"blue\"> IMPORTANTE </font> </b> "
   ]
  },
  {
   "cell_type": "markdown",
   "id": "86715618",
   "metadata": {},
   "source": [
    "- O sklearn é possui uma padronização em todos seus modelos, não importa se forem regressões lineares ou outros métodos de machine learning. Primeiramente instanciamos um modelo. No comando abaixo, aproveite para entender que tipo de variável \"modelo\" irá ser atribuido "
   ]
  },
  {
   "cell_type": "code",
   "execution_count": null,
   "id": "73f43580",
   "metadata": {},
   "outputs": [],
   "source": [
    "modelo = LinearRegression()"
   ]
  },
  {
   "cell_type": "code",
   "execution_count": null,
   "id": "f1052f97",
   "metadata": {},
   "outputs": [],
   "source": [
    "modelo"
   ]
  },
  {
   "cell_type": "markdown",
   "id": "94ae3813",
   "metadata": {},
   "source": [
    "- O modelo é um objeto. Objetos possuem metodos, como o .fit () e o .predict()"
   ]
  },
  {
   "cell_type": "markdown",
   "id": "3fbedb6b",
   "metadata": {},
   "source": [
    "Se você digitar o nome do método sem ( )'s , sua origem será indicada: "
   ]
  },
  {
   "cell_type": "code",
   "execution_count": null,
   "id": "c2751d5e",
   "metadata": {},
   "outputs": [],
   "source": [
    "modelo.fit"
   ]
  },
  {
   "cell_type": "markdown",
   "id": "6ac336d8",
   "metadata": {},
   "source": [
    "Você também pode inspecionar um docstring, e até o código fonte que essa função executa:"
   ]
  },
  {
   "cell_type": "code",
   "execution_count": null,
   "id": "ff5675c5",
   "metadata": {},
   "outputs": [],
   "source": [
    "??modelo.fit"
   ]
  },
  {
   "cell_type": "code",
   "execution_count": null,
   "id": "9d74d7ca",
   "metadata": {},
   "outputs": [],
   "source": [
    "modelo.fit(X=dados['X'].values.reshape(-1,1), y=dados['y'])"
   ]
  },
  {
   "cell_type": "markdown",
   "id": "7aaf75e4",
   "metadata": {},
   "source": [
    "O método fit recebe dois argumentos: um array X (entradas) e um array y (respostas). Nesse caso X tem somente uma dimensão, precisamos ajustar seu formato para uma matriz. Quando X possui mais de uma dimensão (2+ variáveis preditoras), podemos especificar diretamente um subset de um dataframe do pandas. Outra alternativa é simplesmente adicionar um  [ ]'s a mais envolvendo o X"
   ]
  },
  {
   "cell_type": "code",
   "execution_count": null,
   "id": "c23bcd38",
   "metadata": {},
   "outputs": [],
   "source": [
    "modelo.fit(dados[['X']], dados['y'])"
   ]
  },
  {
   "cell_type": "markdown",
   "id": "9f4c9ac6",
   "metadata": {},
   "source": [
    "Modelo ajustado! Agora podemos utilizar esse mesmo objeto para realizar predições, ou inferências:"
   ]
  },
  {
   "cell_type": "code",
   "execution_count": null,
   "id": "248a3fed",
   "metadata": {},
   "outputs": [],
   "source": [
    "modelo.predict(dados[['X']])"
   ]
  },
  {
   "cell_type": "markdown",
   "id": "0daffcd8",
   "metadata": {},
   "source": [
    "As predições podem ser armazenadas como uma coluna do dataframe:"
   ]
  },
  {
   "cell_type": "markdown",
   "id": "09477af5",
   "metadata": {},
   "source": [
    "## Realizando predições"
   ]
  },
  {
   "cell_type": "code",
   "execution_count": null,
   "id": "96504b76",
   "metadata": {},
   "outputs": [],
   "source": [
    "%matplotlib inline"
   ]
  },
  {
   "cell_type": "code",
   "execution_count": null,
   "id": "ad67d6b9",
   "metadata": {},
   "outputs": [],
   "source": [
    "dados['y_predito'] = modelo.predict(dados[['X']])"
   ]
  },
  {
   "cell_type": "code",
   "execution_count": null,
   "id": "127ead0c",
   "metadata": {},
   "outputs": [],
   "source": [
    "plt.scatter(dados['X'], dados['y'])\n",
    "plt.plot(dados['X'], dados['y_predito'], color='red')\n",
    "plt.ylabel('Y - variável dependente')\n",
    "plt.xlabel('X - variável independente')\n",
    "plt.title('Y vs X')\n",
    "plt.show()"
   ]
  },
  {
   "cell_type": "markdown",
   "id": "7fed6a78",
   "metadata": {},
   "source": [
    "No objeto <b> modelo </b>, também podemos verificar o valor dos coeficientes ajustados:"
   ]
  },
  {
   "cell_type": "code",
   "execution_count": null,
   "id": "d1b91d21",
   "metadata": {},
   "outputs": [],
   "source": [
    "a, b = modelo.coef_[0], modelo.intercept_"
   ]
  },
  {
   "cell_type": "code",
   "execution_count": null,
   "id": "745c6c06",
   "metadata": {},
   "outputs": [],
   "source": [
    "print(f\"Coeficiente angular (a) = {a}, Intercepto (b) = {b}\")"
   ]
  },
  {
   "cell_type": "markdown",
   "id": "a4dcdd23",
   "metadata": {},
   "source": [
    "Ou seja, a equação da reta nesse caso é:"
   ]
  },
  {
   "cell_type": "markdown",
   "id": "250d2b61",
   "metadata": {},
   "source": [
    "\\begin{align}\n",
    "Y = a*X + b\n",
    "\\end{align}"
   ]
  },
  {
   "cell_type": "markdown",
   "id": "40e20f8c",
   "metadata": {},
   "source": [
    "<font color=\"blue\"> <b> Qual o significado de a e b? </b> </font>"
   ]
  },
  {
   "cell_type": "markdown",
   "id": "ddbd3ef4",
   "metadata": {},
   "source": [
    "## Quão bom foi o ajuste? "
   ]
  },
  {
   "cell_type": "markdown",
   "id": "d80ef7ad",
   "metadata": {},
   "source": [
    "O sklearn possui um módulo dedicado com funções para calcular métricas do modelo"
   ]
  },
  {
   "cell_type": "code",
   "execution_count": null,
   "id": "13718c47",
   "metadata": {},
   "outputs": [],
   "source": [
    "from sklearn.metrics import r2_score, mean_absolute_error, mean_squared_error"
   ]
  },
  {
   "cell_type": "markdown",
   "id": "b70bbac7",
   "metadata": {},
   "source": [
    "Erro médio absoluto:"
   ]
  },
  {
   "cell_type": "code",
   "execution_count": null,
   "id": "dd19d6c5",
   "metadata": {},
   "outputs": [],
   "source": [
    "Image('../figures/MAE.png')"
   ]
  },
  {
   "cell_type": "markdown",
   "id": "403d1dd9",
   "metadata": {},
   "source": [
    "Coeficiente de determinação (% variabilidade explicada)"
   ]
  },
  {
   "cell_type": "code",
   "execution_count": null,
   "id": "9b5d1ba6",
   "metadata": {},
   "outputs": [],
   "source": [
    "Image('../figures/r2_scores.png')"
   ]
  },
  {
   "cell_type": "code",
   "execution_count": null,
   "id": "cb9a22df",
   "metadata": {},
   "outputs": [],
   "source": [
    "Image('../figures/ssres.png')"
   ]
  },
  {
   "cell_type": "code",
   "execution_count": null,
   "id": "5794e40e",
   "metadata": {},
   "outputs": [],
   "source": [
    "Image('../figures/sstot.png')"
   ]
  },
  {
   "cell_type": "code",
   "execution_count": null,
   "id": "5bcb2f7a",
   "metadata": {},
   "outputs": [],
   "source": [
    "Image('../figures/mse.png')"
   ]
  },
  {
   "cell_type": "code",
   "execution_count": null,
   "id": "d7470027",
   "metadata": {},
   "outputs": [],
   "source": [
    "metricas_do_modelo = {\n",
    "    'R2': r2_score(y_true = dados['y'], y_pred=dados['y_predito']),\n",
    "    'MAE': mean_absolute_error(y_true = dados['y'], y_pred=dados['y_predito']),\n",
    "}"
   ]
  },
  {
   "cell_type": "markdown",
   "id": "d2855b9b",
   "metadata": {},
   "source": [
    "Podemos fazer de forma dinâmica:"
   ]
  },
  {
   "cell_type": "code",
   "execution_count": null,
   "id": "887feaaa",
   "metadata": {},
   "outputs": [],
   "source": [
    "score_funcs = [r2_score, mean_absolute_error, mean_squared_error]\n",
    "\n",
    "metricas_do_modelo = {}\n",
    "for funcao in score_funcs:\n",
    "    metricas_do_modelo[funcao.__name__] = funcao(y_true=dados['y'], y_pred=dados['y_predito'])\n"
   ]
  },
  {
   "cell_type": "code",
   "execution_count": null,
   "id": "28e01af6",
   "metadata": {},
   "outputs": [],
   "source": [
    "metricas_do_modelo"
   ]
  },
  {
   "cell_type": "code",
   "execution_count": null,
   "id": "192f76d3",
   "metadata": {},
   "outputs": [],
   "source": [
    "pd.DataFrame([metricas_do_modelo])"
   ]
  },
  {
   "cell_type": "markdown",
   "id": "d143b98e",
   "metadata": {},
   "source": [
    "## Efeito de um outlier"
   ]
  },
  {
   "cell_type": "markdown",
   "id": "f064150b",
   "metadata": {},
   "source": [
    "O que acontece quando os dados possuem outliers? Vamos simular:"
   ]
  },
  {
   "cell_type": "code",
   "execution_count": null,
   "id": "72530201",
   "metadata": {},
   "outputs": [],
   "source": [
    "dados.loc[500, 'y'] = 500"
   ]
  },
  {
   "cell_type": "code",
   "execution_count": null,
   "id": "9a150906",
   "metadata": {},
   "outputs": [],
   "source": [
    "modelo.fit(X=dados['X'].values.reshape(-1,1), y=dados['y'])"
   ]
  },
  {
   "cell_type": "code",
   "execution_count": null,
   "id": "1a92cfa7",
   "metadata": {},
   "outputs": [],
   "source": [
    "dados['y_predito'] = modelo.predict(dados[['X']])"
   ]
  },
  {
   "cell_type": "code",
   "execution_count": null,
   "id": "ddd8b77b",
   "metadata": {},
   "outputs": [],
   "source": [
    "score_funcs = [r2_score, mean_absolute_error, mean_squared_error]\n",
    "\n",
    "metricas_do_modelo = {}\n",
    "for funcao in score_funcs:\n",
    "    metricas_do_modelo[funcao.__name__] = funcao(y_true=dados['y'], y_pred=dados['y_predito'])\n"
   ]
  },
  {
   "cell_type": "code",
   "execution_count": null,
   "id": "6e292141",
   "metadata": {},
   "outputs": [],
   "source": [
    "pd.DataFrame([metricas_do_modelo])"
   ]
  },
  {
   "cell_type": "code",
   "execution_count": null,
   "id": "111ab8aa",
   "metadata": {},
   "outputs": [],
   "source": [
    "fig = plt.scatter(dados['X'], dados['y'])\n",
    "plt.ylabel('Y - variável dependente')\n",
    "plt.xlabel('X - variável independente')"
   ]
  },
  {
   "cell_type": "code",
   "execution_count": null,
   "id": "8a1b42fd",
   "metadata": {},
   "outputs": [],
   "source": [
    "a, b = modelo.coef_[0], modelo.intercept_"
   ]
  },
  {
   "cell_type": "code",
   "execution_count": null,
   "id": "d5cdfad0",
   "metadata": {},
   "outputs": [],
   "source": [
    "print(f\"Coeficiente angular (a) = {a}, Intercepto (b) = {b}\")"
   ]
  },
  {
   "cell_type": "code",
   "execution_count": null,
   "id": "7b5616b1",
   "metadata": {},
   "outputs": [],
   "source": [
    "#removendo o outlier e substituindo pela mediana\n",
    "dados.loc[500, 'y'] = dados['y'].median()"
   ]
  },
  {
   "cell_type": "markdown",
   "id": "3452ecef",
   "metadata": {},
   "source": [
    "<b> <font color=\"blue\"> IMPORTANTE </font> </b> "
   ]
  },
  {
   "cell_type": "markdown",
   "id": "16d81ffe",
   "metadata": {},
   "source": [
    "Atente-se ao fato que acabamos de medir o erro do modelo com os dados de treinamento. Quando falamos em modelagem preditiva, queremos ter uma ideia de qual será seu erro em novas obervações, então será que essa forma de estimar o erro é a mais adequada? Falaremos sobre isso em breve! "
   ]
  },
  {
   "cell_type": "markdown",
   "id": "3bfd350a",
   "metadata": {},
   "source": [
    "## As métricas de desempenho são suficientes?"
   ]
  },
  {
   "cell_type": "markdown",
   "id": "2ff77a48",
   "metadata": {},
   "source": [
    "<b> Um modelo de regressão linear se baseia em premissas. Mesmo com um baixo erro ou alto R², se elas não tiverem sendo respeitadas, há grande risco de que as conclusões tiradas sejam inválidas."
   ]
  },
  {
   "cell_type": "markdown",
   "id": "6ae6ed32",
   "metadata": {},
   "source": [
    "- A variável resposta (y) deve ter uma relação linear com as variáveis independentes (explanatórias ou preditoras) (X);\n",
    "- O erro residual (yreal - ypred) deve aleatório (independente e identicamente distribuído)\n",
    "- O resíduo deve ter distribuição normal\n",
    "- O resíduo deve ter homoscedasticidade (variância constante)\n",
    "\n",
    "https://towardsdatascience.com/assumptions-of-linear-regression-5d87c347140"
   ]
  },
  {
   "cell_type": "markdown",
   "id": "bcca34eb",
   "metadata": {},
   "source": [
    "## Inspecionando o resíduo do modelo"
   ]
  },
  {
   "cell_type": "code",
   "execution_count": null,
   "id": "8a287916",
   "metadata": {},
   "outputs": [],
   "source": [
    "dados['residuo'] = dados['y_predito'] - dados['y']"
   ]
  },
  {
   "cell_type": "code",
   "execution_count": null,
   "id": "61684545",
   "metadata": {},
   "outputs": [],
   "source": [
    "hist = sns.histplot(dados['residuo'])\n",
    "plt.title(\"Histograma dos resíduos\")"
   ]
  },
  {
   "cell_type": "code",
   "execution_count": null,
   "id": "984cee48",
   "metadata": {},
   "outputs": [],
   "source": [
    "sns.scatterplot(y = dados['residuo'], x = dados['y'])\n",
    "plt.title('Resíduo versus y')"
   ]
  },
  {
   "cell_type": "code",
   "execution_count": null,
   "id": "442e4059",
   "metadata": {},
   "outputs": [],
   "source": [
    "sns.scatterplot(y = dados['residuo'], x = dados['X'])\n",
    "plt.title('Resíduo versus X')"
   ]
  },
  {
   "cell_type": "markdown",
   "id": "c6772d1a",
   "metadata": {},
   "source": [
    "## E se a relação entre y e X não for linear?"
   ]
  },
  {
   "cell_type": "code",
   "execution_count": null,
   "id": "7182cdc8",
   "metadata": {},
   "outputs": [],
   "source": [
    "# criando um novo dataset\n",
    "X = np.random.normal(5, 3, 1000)\n",
    "y = 2*X**2 + np.random.normal(0, 2, 1000) + 5\n",
    "dados = pd.DataFrame(zip(X,y), columns=['X', 'y'])"
   ]
  },
  {
   "cell_type": "code",
   "execution_count": null,
   "id": "56f35146",
   "metadata": {},
   "outputs": [],
   "source": [
    "dados"
   ]
  },
  {
   "cell_type": "code",
   "execution_count": null,
   "id": "08415ecb",
   "metadata": {},
   "outputs": [],
   "source": [
    "#agora temos \n",
    "modelo = LinearRegression()\n",
    "modelo.fit(X=dados[['X']], y=dados['y'])"
   ]
  },
  {
   "cell_type": "code",
   "execution_count": null,
   "id": "066fd62b",
   "metadata": {},
   "outputs": [],
   "source": [
    "dados['y_predito'] = modelo.predict(dados[['X']])"
   ]
  },
  {
   "cell_type": "code",
   "execution_count": null,
   "id": "c529b9c2",
   "metadata": {},
   "outputs": [],
   "source": [
    "plt.scatter(dados['X'], dados['y'])\n",
    "plt.plot(dados['X'], dados['y_predito'], color='red')\n",
    "plt.ylabel('Y - variável dependente')\n",
    "plt.xlabel('X - variável independente')"
   ]
  },
  {
   "cell_type": "markdown",
   "id": "dbd0d930",
   "metadata": {},
   "source": [
    "Pela figura acima, claramente uma reta não é capaz de capturar o comportamento da variável y. Isso também se reflete nos residuos:"
   ]
  },
  {
   "cell_type": "code",
   "execution_count": null,
   "id": "98f07436",
   "metadata": {},
   "outputs": [],
   "source": [
    "dados['residuo'] = dados['y_predito'] - dados['y']"
   ]
  },
  {
   "cell_type": "code",
   "execution_count": null,
   "id": "e45e721f",
   "metadata": {},
   "outputs": [],
   "source": [
    "hist = sns.histplot(dados['residuo'])\n",
    "plt.title(\"Histograma dos resíduos\")"
   ]
  },
  {
   "cell_type": "code",
   "execution_count": null,
   "id": "63c1e52c",
   "metadata": {},
   "outputs": [],
   "source": [
    "sns.scatterplot(y = dados['residuo'], x = dados['y'])\n",
    "plt.title('Resíduo versus y')"
   ]
  },
  {
   "cell_type": "markdown",
   "id": "33b0e0eb",
   "metadata": {},
   "source": [
    "<b> <font color=\"green\"> CALMA! AINDA EXISTEM ALTERNATIVAS! </font> </b> "
   ]
  },
  {
   "cell_type": "markdown",
   "id": "92c7cb89",
   "metadata": {},
   "source": [
    "Relação não linear entre x e y? Resíduos totalmente não aleatórios? Você ainda pode continuar usando regressão linear! Aqui sabemos que a variável resposta Y tem uma dependência com X², podemos ajustar então uma regressão linear em relação a X², ao invés de X:"
   ]
  },
  {
   "cell_type": "code",
   "execution_count": null,
   "id": "4e9cc01f",
   "metadata": {},
   "outputs": [],
   "source": [
    "dados['X_quadrado'] = dados['X']**2"
   ]
  },
  {
   "cell_type": "code",
   "execution_count": null,
   "id": "6b6ae202",
   "metadata": {},
   "outputs": [],
   "source": [
    "#agora temos um novo modelo em função de X² \n",
    "modelo = LinearRegression()\n",
    "modelo.fit(X=dados[['X_quadrado']], y=dados['y'])"
   ]
  },
  {
   "cell_type": "code",
   "execution_count": null,
   "id": "ff166d0e",
   "metadata": {},
   "outputs": [],
   "source": [
    "dados['y_predito'] = modelo.predict(dados[['X_quadrado']])"
   ]
  },
  {
   "cell_type": "code",
   "execution_count": null,
   "id": "2f1bf45e",
   "metadata": {},
   "outputs": [],
   "source": [
    "plt.scatter(dados['X_quadrado'], dados['y'])\n",
    "plt.plot(dados['X_quadrado'], dados['y_predito'], color='red')\n",
    "plt.ylabel('Y - variável dependente')\n",
    "plt.xlabel('X² - variável independente')"
   ]
  },
  {
   "cell_type": "code",
   "execution_count": null,
   "id": "e944f5a9",
   "metadata": {},
   "outputs": [],
   "source": [
    "dados['residuo'] = dados['y_predito'] - dados['y']"
   ]
  },
  {
   "cell_type": "code",
   "execution_count": null,
   "id": "f938664d",
   "metadata": {},
   "outputs": [],
   "source": [
    "hist = sns.histplot(dados['residuo'])\n",
    "plt.title(\"Histograma dos resíduos\")"
   ]
  },
  {
   "cell_type": "markdown",
   "id": "428b1eea",
   "metadata": {},
   "source": [
    "Algumas transformações que você pode fazer na variável independente (X) do modelo:"
   ]
  },
  {
   "cell_type": "markdown",
   "id": "82b09c9f",
   "metadata": {},
   "source": [
    "- X², X³\n",
    "- log(X)\n",
    "- exp(X)\n",
    "- Boxcox(X) para transformar a distribuição em normal"
   ]
  },
  {
   "cell_type": "markdown",
   "id": "18f88a98",
   "metadata": {},
   "source": [
    "Também existe a possibilidade de transformar a própria resposta do modelo. Nesse caso, a relação entre y e x² é linear.  E se fizessemos uma regressão de raiz(y) por x?"
   ]
  },
  {
   "cell_type": "markdown",
   "id": "b84f2eaa",
   "metadata": {},
   "source": [
    "Poderiamos fazer isso da mesma forma como foi feito acima, criando uma nova coluna calculando a raiz quadrada de y. Mas ao recuperar qualquer resultado da predição, precisariamos lembrar de fazer a resposta² para retornar ao valor original de y. O sklearn possui uma funcionalidade para transformar automaticamente a resposta do modelo:"
   ]
  },
  {
   "cell_type": "code",
   "execution_count": null,
   "id": "fef9629c",
   "metadata": {},
   "outputs": [],
   "source": [
    "from sklearn.compose import TransformedTargetRegressor"
   ]
  },
  {
   "cell_type": "code",
   "execution_count": null,
   "id": "d51961ed",
   "metadata": {},
   "outputs": [],
   "source": [
    "modelo_transformado = TransformedTargetRegressor(\n",
    "    regressor=LinearRegression(),\n",
    "    func=np.sqrt,\n",
    "    inverse_func=np.square\n",
    ")"
   ]
  },
  {
   "cell_type": "markdown",
   "id": "6205271f",
   "metadata": {},
   "source": [
    "Assim, essa função automaticamente ira aplicar raiz quadrada ao fazer a regressão, e elevar ao quadrado após a predição"
   ]
  },
  {
   "cell_type": "code",
   "execution_count": null,
   "id": "cf23721c",
   "metadata": {},
   "outputs": [],
   "source": [
    "modelo_transformado.fit(X=dados[['X']], y=dados['y'])"
   ]
  },
  {
   "cell_type": "code",
   "execution_count": null,
   "id": "e1a9b8f1",
   "metadata": {},
   "outputs": [],
   "source": [
    "dados['y_pred_transformado'] = modelo_transformado.predict(dados[['X']])"
   ]
  },
  {
   "cell_type": "code",
   "execution_count": null,
   "id": "83cbdac9",
   "metadata": {},
   "outputs": [],
   "source": [
    "sns.scatterplot(x=dados['X'], y=dados['y'])\n",
    "plt.scatter(x=dados['X'], y=dados['y_pred_transformado'])"
   ]
  },
  {
   "cell_type": "markdown",
   "id": "6f49b638",
   "metadata": {},
   "source": [
    "<b> <font color='blue'> DICA </font> </b>: Quando trabalhando com regressão linear ou modelos que precisem de distribuição normal, se a variável resposta (y) não apresentar esse comportamento, aplicar transformações nela pode tornar possivel a modelagem (e ajudar no desempenho). Você pode utilizar os gráficos de residuos para determinar se uma transformação pode ser útil. Exemplos de transformação:"
   ]
  },
  {
   "cell_type": "markdown",
   "id": "f067b1c0",
   "metadata": {},
   "source": [
    "- log(y)\n",
    "- box-cox(y)"
   ]
  },
  {
   "cell_type": "markdown",
   "id": "dca51524",
   "metadata": {},
   "source": [
    "Na verdade, essas transformações na variável resposta são o primeiro passo para uma generalização do modelo de regressão linear <b> (Generalized Linear Models ou GLM) </b>. Nele, a premissa é que exista uma relação linear entre a <b> variável y transformada </b> e as entradas (X), mas não necessáriamente que y seja linear em relação a X. Além disso, podemos generalizar a premissa da distribuição dos residuos para outra que não seja a normal. Vamos falar sobre um exemplo especial de GLM logo mais, a <b> regressão logística </b>."
   ]
  },
  {
   "cell_type": "markdown",
   "id": "253af8fc",
   "metadata": {},
   "source": [
    "Para se aprofundar: https://towardsdatascience.com/generalized-linear-models-9ec4dfe3dc3f"
   ]
  },
  {
   "cell_type": "markdown",
   "id": "d18e977e",
   "metadata": {},
   "source": [
    "# Regressão linear multipla"
   ]
  },
  {
   "cell_type": "markdown",
   "id": "13a13676",
   "metadata": {},
   "source": [
    "Trabalhando com dados reais, são grandes as chances de estarmos interessados em obter um modelo que leve em conta diversas variáveis ao invés de uma. A regressão linear pode ser extendida para esses casos também:"
   ]
  },
  {
   "cell_type": "code",
   "execution_count": null,
   "id": "e0d44351",
   "metadata": {},
   "outputs": [],
   "source": [
    "from sklearn.datasets import load_diabetes"
   ]
  },
  {
   "cell_type": "code",
   "execution_count": null,
   "id": "def3ff24",
   "metadata": {},
   "outputs": [],
   "source": [
    "raw_data = load_diabetes()"
   ]
  },
  {
   "cell_type": "code",
   "execution_count": null,
   "id": "072dbac3",
   "metadata": {},
   "outputs": [],
   "source": [
    "print(raw_data['DESCR'])"
   ]
  },
  {
   "cell_type": "code",
   "execution_count": null,
   "id": "4dfaf7f8",
   "metadata": {},
   "outputs": [],
   "source": [
    "features = raw_data['feature_names']"
   ]
  },
  {
   "cell_type": "code",
   "execution_count": null,
   "id": "159930b0",
   "metadata": {},
   "outputs": [],
   "source": [
    "dados = pd.DataFrame(raw_data['data'], columns = features)\n",
    "dados['y'] = raw_data['target']"
   ]
  },
  {
   "cell_type": "code",
   "execution_count": null,
   "id": "be14d7bf",
   "metadata": {},
   "outputs": [],
   "source": [
    "dados.head()"
   ]
  },
  {
   "cell_type": "code",
   "execution_count": null,
   "id": "d40ff2fd",
   "metadata": {},
   "outputs": [],
   "source": [
    "modelo_diabetes = LinearRegression()"
   ]
  },
  {
   "cell_type": "code",
   "execution_count": null,
   "id": "925c0a13",
   "metadata": {},
   "outputs": [],
   "source": [
    "modelo_diabetes.fit(X=dados[features], y=dados['y'])"
   ]
  },
  {
   "cell_type": "code",
   "execution_count": null,
   "id": "9cda6af4",
   "metadata": {},
   "outputs": [],
   "source": [
    "dados['y_pred'] = modelo_diabetes.predict(dados[features])"
   ]
  },
  {
   "cell_type": "code",
   "execution_count": null,
   "id": "5e53c3a0",
   "metadata": {},
   "outputs": [],
   "source": [
    "plt.scatter(y = dados['y_pred'], x= dados['y'])\n",
    "plt.ylabel('Predito')\n",
    "plt.xlabel('Medido')"
   ]
  },
  {
   "cell_type": "markdown",
   "id": "c7dc9ac5",
   "metadata": {},
   "source": [
    "Quando ajustamos um modelo de regressão linear multipla, as mesmas premissas do modelo com uma variável devem ser respeitadas. Existem bibliotecas especializadas que auxiliam a entender se as premissas estão sendo respeitadas, realizando os devidos testes estatísticos:"
   ]
  },
  {
   "cell_type": "code",
   "execution_count": null,
   "id": "9b60f8da",
   "metadata": {},
   "outputs": [],
   "source": [
    "import statsmodels.api as sm"
   ]
  },
  {
   "cell_type": "markdown",
   "id": "a54f3a5d",
   "metadata": {},
   "source": [
    "Lembrando, caso não tenha, é necessário instalar:"
   ]
  },
  {
   "cell_type": "code",
   "execution_count": null,
   "id": "cc486ddf",
   "metadata": {},
   "outputs": [],
   "source": [
    "!pip install statsmodels"
   ]
  },
  {
   "cell_type": "code",
   "execution_count": null,
   "id": "caa35b09",
   "metadata": {},
   "outputs": [],
   "source": [
    "features = [x for x in dados.columns if x not in ['y', 'y_pred']]"
   ]
  },
  {
   "cell_type": "code",
   "execution_count": null,
   "id": "5add17fb",
   "metadata": {},
   "outputs": [],
   "source": [
    "modelo_ols = sm.OLS(dados['y'],dados[features]).fit()"
   ]
  },
  {
   "cell_type": "code",
   "execution_count": null,
   "id": "6361d85c",
   "metadata": {},
   "outputs": [],
   "source": [
    "print(modelo_ols.summary())"
   ]
  },
  {
   "cell_type": "markdown",
   "id": "eecc862b",
   "metadata": {},
   "source": [
    "Para maiores referências sobre interpretação da tabela acima: https://medium.com/swlh/interpreting-linear-regression-through-statsmodels-summary-4796d359035a"
   ]
  },
  {
   "cell_type": "markdown",
   "id": "633f1ffd",
   "metadata": {},
   "source": [
    "# Validação cruzada"
   ]
  },
  {
   "cell_type": "markdown",
   "id": "4aa7d335",
   "metadata": {},
   "source": [
    "Podemos usar uma das funções de score para estimar o desempenho desse ajuste:"
   ]
  },
  {
   "cell_type": "code",
   "execution_count": null,
   "id": "2676b058",
   "metadata": {},
   "outputs": [],
   "source": [
    "mean_absolute_error(dados['y'], dados['y_pred'])"
   ]
  },
  {
   "cell_type": "markdown",
   "id": "87cf347a",
   "metadata": {},
   "source": [
    "Como falamos antes, estimar o erro do modelo com a mesma informação na qual ele foi treinado pode ser problemático, pois não temos acesso a uma população dos dados, apenas amostras."
   ]
  },
  {
   "cell_type": "markdown",
   "id": "9a5d7028",
   "metadata": {},
   "source": [
    "E se o modelo está se ajustando especialmente bem a esses dados, e não ao comportamento geral do fenômeno? Podemos utilizar o próprio conjunto de dados para estimar qual seria o erro do modelo em dados ainda não vistos. Isso pode ser feito de algumas formas:"
   ]
  },
  {
   "cell_type": "markdown",
   "id": "03fb00c9",
   "metadata": {},
   "source": [
    "1) Deixar de fora um pedaço dos conjunto de dados (aleatório ou não). Treinar o modelo usando uma parte e testar usando outra:"
   ]
  },
  {
   "cell_type": "code",
   "execution_count": null,
   "id": "c0176e37",
   "metadata": {},
   "outputs": [],
   "source": [
    "Image('../figures/train_test_split.png')"
   ]
  },
  {
   "cell_type": "markdown",
   "id": "01f47160",
   "metadata": {},
   "source": [
    "Aqui, as barras representam o tamanho do dataset (em linhas). O dataset em azul é a porção do treino, e em laranja é a porção do teste"
   ]
  },
  {
   "cell_type": "code",
   "execution_count": null,
   "id": "4b0bd4fa",
   "metadata": {},
   "outputs": [],
   "source": [
    "from sklearn.model_selection import train_test_split"
   ]
  },
  {
   "cell_type": "code",
   "execution_count": null,
   "id": "ceefd7c8",
   "metadata": {},
   "outputs": [],
   "source": [
    "train,test = train_test_split(dados, test_size=0.2, shuffle=False)"
   ]
  },
  {
   "cell_type": "code",
   "execution_count": null,
   "id": "a0b03ce3",
   "metadata": {},
   "outputs": [],
   "source": [
    "dados.shape"
   ]
  },
  {
   "cell_type": "code",
   "execution_count": null,
   "id": "03e996ac",
   "metadata": {},
   "outputs": [],
   "source": [
    "train.shape"
   ]
  },
  {
   "cell_type": "code",
   "execution_count": null,
   "id": "182571f9",
   "metadata": {},
   "outputs": [],
   "source": [
    "test.shape"
   ]
  },
  {
   "cell_type": "code",
   "execution_count": null,
   "id": "79d000a7",
   "metadata": {},
   "outputs": [],
   "source": [
    "modelo_diabetes.fit(X=train[features], y=train['y'])"
   ]
  },
  {
   "cell_type": "code",
   "execution_count": null,
   "id": "f7ef080b",
   "metadata": {},
   "outputs": [],
   "source": [
    "test['y_pred'] = modelo_diabetes.predict(test[features])"
   ]
  },
  {
   "cell_type": "code",
   "execution_count": null,
   "id": "8718eda7",
   "metadata": {},
   "outputs": [],
   "source": [
    "mean_absolute_error(test['y'], test['y_pred'])"
   ]
  },
  {
   "cell_type": "markdown",
   "id": "5f3ef10f",
   "metadata": {},
   "source": [
    "Existem outras formas que podem ou não ser mais adequadas. A mais comumente utilizada é conhecida como K-fold cross validation. Dividimos o nosso dataset em \"K\" pedaços. Treinamos com  (K-1) pedaços e medimos o erro com o pedaço (K) que restou:"
   ]
  },
  {
   "cell_type": "code",
   "execution_count": null,
   "id": "06c450f8",
   "metadata": {},
   "outputs": [],
   "source": [
    "Image('../figures/kfold.png')"
   ]
  },
  {
   "cell_type": "markdown",
   "id": "ca3b7234",
   "metadata": {},
   "source": [
    "FONTE: https://hub.packtpub.com/cross-validation-strategies-for-time-series-forecasting-tutorial/"
   ]
  },
  {
   "cell_type": "code",
   "execution_count": null,
   "id": "a03e66ae",
   "metadata": {},
   "outputs": [],
   "source": [
    "from sklearn.model_selection import KFold"
   ]
  },
  {
   "cell_type": "code",
   "execution_count": null,
   "id": "b5b04683",
   "metadata": {},
   "outputs": [],
   "source": [
    "kfold_splitter = KFold(n_splits=5)"
   ]
  },
  {
   "cell_type": "code",
   "execution_count": null,
   "id": "d6fd9161",
   "metadata": {},
   "outputs": [],
   "source": [
    "folds = list(kfold_splitter.split(X=dados))"
   ]
  },
  {
   "cell_type": "code",
   "execution_count": null,
   "id": "6d430790",
   "metadata": {},
   "outputs": [],
   "source": [
    "folds[0]"
   ]
  },
  {
   "cell_type": "markdown",
   "id": "578bed61",
   "metadata": {},
   "source": [
    "Não precismos ajustar manualmente um modelo para cada train fold. O sklearn traz uma funcionalidade para isso:"
   ]
  },
  {
   "cell_type": "code",
   "execution_count": null,
   "id": "b86d8373",
   "metadata": {},
   "outputs": [],
   "source": [
    "from sklearn.model_selection import cross_validate"
   ]
  },
  {
   "cell_type": "code",
   "execution_count": null,
   "id": "170429d6",
   "metadata": {},
   "outputs": [],
   "source": [
    "cv_scores = cross_validate(\n",
    "    estimator = modelo_diabetes, \n",
    "    X=dados[features], \n",
    "    y=dados['y'], \n",
    "    cv=KFold(shuffle=True), \n",
    "    scoring='neg_mean_absolute_error'\n",
    ")"
   ]
  },
  {
   "cell_type": "markdown",
   "id": "f0c043e9",
   "metadata": {},
   "source": [
    "Obs: a função 'neg_mean_absolute_error' é a mesma que computamos anteriormente, porém por padrão todas as scoring functions são ajustadas para que quanto maior seu valor, melhor seja o desempenho do modelo."
   ]
  },
  {
   "cell_type": "markdown",
   "id": "d03a06cf",
   "metadata": {},
   "source": [
    "- Scoring function: quanto maior, melhor\n",
    "- Loss function: quanto menor, melhor"
   ]
  },
  {
   "cell_type": "code",
   "execution_count": null,
   "id": "4cf5c331",
   "metadata": {},
   "outputs": [],
   "source": [
    "pd.DataFrame(cv_scores).mean()"
   ]
  },
  {
   "cell_type": "code",
   "execution_count": null,
   "id": "c6aa1b85",
   "metadata": {},
   "outputs": [],
   "source": [
    "from sklearn.metrics import SCORERS "
   ]
  },
  {
   "cell_type": "code",
   "execution_count": null,
   "id": "c48bfb58",
   "metadata": {},
   "outputs": [],
   "source": [
    "SCORERS"
   ]
  },
  {
   "cell_type": "markdown",
   "id": "89c3cfe6",
   "metadata": {},
   "source": [
    "# Revisando"
   ]
  },
  {
   "cell_type": "markdown",
   "id": "4ac05a1e",
   "metadata": {},
   "source": [
    "Nessa seção aprendemos alguns conceitos fundamentais da tarefa de aprendizado supervisionado: <b> variáveis dependentes, independentes, loss function, parâmetros, estratégias de validação </b>."
   ]
  },
  {
   "cell_type": "markdown",
   "id": "8b42cac0",
   "metadata": {},
   "source": [
    "- Regressão linear é um modelo simples e rápido de ser ajustado. Os coeficientes também são diretamente interpretáveis\n",
    "- Necessário verificar se as premissas do modelo estão sendo respeitadas\n",
    "- É possível modelar relações não lineares, transformando as variáveis de entrada ou resposta(idealmente com conhecimento do domínio do problema)\n",
    "- Relações y vs X podem ser apenas parcialmente lineares. É possivel ajustar varios sub-modelos restritos a um dominio\n",
    "- Atenção aos outliers!\n",
    "- O erro nos dados de treino não será necessariamente igual ao erro do modelo quando em produção "
   ]
  }
 ],
 "metadata": {
  "kernelspec": {
   "display_name": "Python 3 (ipykernel)",
   "language": "python",
   "name": "python3"
  },
  "language_info": {
   "codemirror_mode": {
    "name": "ipython",
    "version": 3
   },
   "file_extension": ".py",
   "mimetype": "text/x-python",
   "name": "python",
   "nbconvert_exporter": "python",
   "pygments_lexer": "ipython3",
   "version": "3.9.5"
  },
  "toc": {
   "base_numbering": 1,
   "nav_menu": {},
   "number_sections": true,
   "sideBar": true,
   "skip_h1_title": false,
   "title_cell": "Table of Contents",
   "title_sidebar": "Contents",
   "toc_cell": false,
   "toc_position": {
    "height": "calc(100% - 180px)",
    "left": "10px",
    "top": "150px",
    "width": "352px"
   },
   "toc_section_display": true,
   "toc_window_display": true
  }
 },
 "nbformat": 4,
 "nbformat_minor": 5
}

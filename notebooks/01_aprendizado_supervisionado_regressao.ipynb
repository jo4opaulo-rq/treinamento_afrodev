{
 "cells": [
  {
   "cell_type": "code",
   "execution_count": null,
   "id": "a590dcb0",
   "metadata": {},
   "outputs": [],
   "source": [
    "# Modelagem preditiva"
   ]
  },
  {
   "cell_type": "markdown",
   "id": "collect-gibson",
   "metadata": {},
   "source": [
    "Esse é o nosso ponto de partida! Aqui vamos aprender passo a passo como construir, avaliar e refinar um modelo preditivo."
   ]
  },
  {
   "cell_type": "markdown",
   "id": "c5e3d94e",
   "metadata": {},
   "source": [
    "<b> Lembre-se: </b> qual a pergunta, problema de negócio ou hipótese que você quer responder com um modelo preditivo?"
   ]
  },
  {
   "cell_type": "markdown",
   "id": "4eaa3189",
   "metadata": {},
   "source": [
    "## Importando bibliotecas"
   ]
  },
  {
   "cell_type": "markdown",
   "id": "b8210d4a",
   "metadata": {},
   "source": [
    "Normalmente reservamos a parte superior do notebook para importar alguns pacotes comumente utilizados. Essa é uma boa hora para tentar executar os comandos abaixo e verificar se esses pacotes estão disponíveis:"
   ]
  },
  {
   "cell_type": "code",
   "execution_count": 13,
   "id": "automatic-following",
   "metadata": {},
   "outputs": [],
   "source": [
    "import pandas as pd\n",
    "import numpy as np\n",
    "import matplotlib.pyplot as plt\n",
    "import seaborn as sns\n",
    "from IPython.display import Image\n",
    "from IPython.core.display import HTML "
   ]
  },
  {
   "cell_type": "markdown",
   "id": "f457c936",
   "metadata": {},
   "source": [
    "Para mostrar e gravar adequadamente os gráficos do pacote matplotlib, vamos utilizar o seguinte comando: (no jupyter notebook, há funções especiais que começam com \"%\", são chamadas <b> funções mágicas </b>. Vamos nos deparar com mais algumas ao longo desse treinamento:"
   ]
  },
  {
   "cell_type": "code",
   "execution_count": 1,
   "id": "04a8b4fd",
   "metadata": {},
   "outputs": [],
   "source": [
    "%matplotlib inline"
   ]
  },
  {
   "cell_type": "code",
   "execution_count": null,
   "id": "5eaafbdf",
   "metadata": {},
   "outputs": [],
   "source": []
  },
  {
   "cell_type": "markdown",
   "id": "brilliant-constitution",
   "metadata": {},
   "source": [
    "<b> <font color=\"red\"> Oops..algum problema? </font> </b>"
   ]
  },
  {
   "cell_type": "markdown",
   "id": "geographic-advance",
   "metadata": {},
   "source": [
    "Provavelmente você não instalou alguma das bibliotecas que está tentando importar. Se você viu na mensagem de erro <b> <font color='red'> ModuleNotFoundError </font> </b>, isso é fácil de resolver! Vamos mostrar duas opções. A primeira é instalar por aqui mesmo:"
   ]
  },
  {
   "cell_type": "markdown",
   "id": "4ed7b40e",
   "metadata": {},
   "source": [
    "Todo comando do terminal pode ser feito aqui também, é só colocar o <font color='red'> ! </font> antes:"
   ]
  },
  {
   "cell_type": "code",
   "execution_count": 43,
   "id": "greatest-knitting",
   "metadata": {},
   "outputs": [],
   "source": [
    "# !pip install pandas"
   ]
  },
  {
   "cell_type": "markdown",
   "id": "69dc09f3",
   "metadata": {},
   "source": [
    "Como segunda opção, você pode abrir um prompt de comando (digite \"prompt\" ou \"terminal\" na barra de pesquisa do Windows. <b> Não se esqueça de ativar seu ambiente virtual antes de tentar instalar a biblioteca </b>"
   ]
  },
  {
   "cell_type": "markdown",
   "id": "2807d9b3",
   "metadata": {},
   "source": [
    "<b> Ainda com problemas? <b/>"
   ]
  },
  {
   "cell_type": "markdown",
   "id": "d81003bf",
   "metadata": {},
   "source": [
    "É possível que a rede corporativa não tenha reconhecido o certificado SSL para fazer a conexão e baixar o pacote. Você pode tentar o seguinte:"
   ]
  },
  {
   "cell_type": "code",
   "execution_count": 44,
   "id": "47ec94e1",
   "metadata": {},
   "outputs": [],
   "source": [
    "# !pip install --trusted-host pypi.org --trusted-host files.pythonhosted.org pandas"
   ]
  },
  {
   "cell_type": "markdown",
   "id": "16e35a07",
   "metadata": {},
   "source": [
    "No lugar do pandas, pode substituir por qualquer biblioteca que esteja tentando instalar"
   ]
  },
  {
   "cell_type": "markdown",
   "id": "6b616f3c",
   "metadata": {},
   "source": [
    "# Regressão Linear"
   ]
  },
  {
   "cell_type": "markdown",
   "id": "543c6bba",
   "metadata": {},
   "source": [
    "Em uma regressão, estamos interessados em predizer uma resposta numérica. Vamos começar com um caso especial de regressão, a <b> <font color='blue'> regressão linear  </font> </b>:"
   ]
  },
  {
   "cell_type": "code",
   "execution_count": 4,
   "id": "a8e995e1",
   "metadata": {},
   "outputs": [],
   "source": [
    "# criando um dataset sintético:\n",
    "X = np.random.normal(5, 3, 1000)\n",
    "y = 2*X + np.random.normal(0, 2, 1000) + 5\n",
    "dados = pd.DataFrame(zip(X,y), columns=['X', 'y'])"
   ]
  },
  {
   "cell_type": "code",
   "execution_count": 5,
   "id": "47c7caa6",
   "metadata": {},
   "outputs": [
    {
     "data": {
      "text/html": [
       "<div>\n",
       "<style scoped>\n",
       "    .dataframe tbody tr th:only-of-type {\n",
       "        vertical-align: middle;\n",
       "    }\n",
       "\n",
       "    .dataframe tbody tr th {\n",
       "        vertical-align: top;\n",
       "    }\n",
       "\n",
       "    .dataframe thead th {\n",
       "        text-align: right;\n",
       "    }\n",
       "</style>\n",
       "<table border=\"1\" class=\"dataframe\">\n",
       "  <thead>\n",
       "    <tr style=\"text-align: right;\">\n",
       "      <th></th>\n",
       "      <th>X</th>\n",
       "      <th>y</th>\n",
       "    </tr>\n",
       "  </thead>\n",
       "  <tbody>\n",
       "    <tr>\n",
       "      <th>0</th>\n",
       "      <td>6.102135</td>\n",
       "      <td>16.386777</td>\n",
       "    </tr>\n",
       "    <tr>\n",
       "      <th>1</th>\n",
       "      <td>6.749927</td>\n",
       "      <td>20.063334</td>\n",
       "    </tr>\n",
       "    <tr>\n",
       "      <th>2</th>\n",
       "      <td>3.251861</td>\n",
       "      <td>12.987196</td>\n",
       "    </tr>\n",
       "    <tr>\n",
       "      <th>3</th>\n",
       "      <td>6.354770</td>\n",
       "      <td>15.068302</td>\n",
       "    </tr>\n",
       "    <tr>\n",
       "      <th>4</th>\n",
       "      <td>-0.519032</td>\n",
       "      <td>2.222356</td>\n",
       "    </tr>\n",
       "  </tbody>\n",
       "</table>\n",
       "</div>"
      ],
      "text/plain": [
       "          X          y\n",
       "0  6.102135  16.386777\n",
       "1  6.749927  20.063334\n",
       "2  3.251861  12.987196\n",
       "3  6.354770  15.068302\n",
       "4 -0.519032   2.222356"
      ]
     },
     "execution_count": 5,
     "metadata": {},
     "output_type": "execute_result"
    }
   ],
   "source": [
    "dados.head()"
   ]
  },
  {
   "cell_type": "code",
   "execution_count": 6,
   "id": "1333b2e4",
   "metadata": {},
   "outputs": [
    {
     "data": {
      "text/plain": [
       "Text(0.5, 0, 'X - variável independente')"
      ]
     },
     "execution_count": 6,
     "metadata": {},
     "output_type": "execute_result"
    },
    {
     "data": {
      "image/png": "[encoded data removed]",
      "text/plain": [
       "<Figure size 432x288 with 1 Axes>"
      ]
     },
     "metadata": {
      "needs_background": "light"
     },
     "output_type": "display_data"
    }
   ],
   "source": [
    "fig = plt.scatter(dados['X'], dados['y'])\n",
    "plt.ylabel('Y - variável dependente')\n",
    "plt.xlabel('X - variável independente')"
   ]
  },
  {
   "cell_type": "code",
   "execution_count": 7,
   "id": "21fe2cf6",
   "metadata": {},
   "outputs": [],
   "source": [
    "from IPython.display import Math #para escrever equações "
   ]
  },
  {
   "cell_type": "markdown",
   "id": "f4b933f5",
   "metadata": {},
   "source": [
    " <b> Primeiramente </b>: por que queremos encontrar a equação de uma reta que melhor se ajuste aos nossos dados? "
   ]
  },
  {
   "cell_type": "code",
   "execution_count": 8,
   "id": "15c9be89",
   "metadata": {},
   "outputs": [
    {
     "data": {
      "text/latex": [
       "$\\displaystyle y_{predito} = a*x + b$"
      ],
      "text/plain": [
       "<IPython.core.display.Math object>"
      ]
     },
     "execution_count": 8,
     "metadata": {},
     "output_type": "execute_result"
    }
   ],
   "source": [
    "Math(r'y_{predito} = a*x + b')"
   ]
  },
  {
   "cell_type": "markdown",
   "id": "d93e0be1",
   "metadata": {},
   "source": [
    "Na regressão linear, o objetivo é encontrar os coeficientes da equação da reta que minimizam a soma dos erros quadráticos:"
   ]
  },
  {
   "cell_type": "code",
   "execution_count": 9,
   "id": "113ed7dc",
   "metadata": {},
   "outputs": [
    {
     "data": {
      "text/latex": [
       "$\\displaystyle Erro = \\sum_{i} (y_{real} - y_{predito} )^2 $"
      ],
      "text/plain": [
       "<IPython.core.display.Math object>"
      ]
     },
     "execution_count": 9,
     "metadata": {},
     "output_type": "execute_result"
    }
   ],
   "source": [
    "Math(r'Erro = \\sum_{i} (y_{real} - y_{predito} )^2 ')"
   ]
  },
  {
   "cell_type": "markdown",
   "id": "1cd8592a",
   "metadata": {},
   "source": [
    "<b> <font color='red'> Mas como? </font> Método dos mínimos quadrados </b>"
   ]
  },
  {
   "cell_type": "code",
   "execution_count": 10,
   "id": "4da9023f",
   "metadata": {},
   "outputs": [
    {
     "data": {
      "application/javascript": [
       "/* Put everything inside the global mpl namespace */\n",
       "/* global mpl */\n",
       "window.mpl = {};\n",
       "\n",
       "mpl.get_websocket_type = function () {\n",
       "    if (typeof WebSocket !== 'undefined') {\n",
       "        return WebSocket;\n",
       "    } else if (typeof MozWebSocket !== 'undefined') {\n",
       "        return MozWebSocket;\n",
       "    } else {\n",
       "        alert(\n",
       "            'Your browser does not have WebSocket support. ' +\n",
       "                'Please try Chrome, Safari or Firefox ≥ 6. ' +\n",
       "                'Firefox 4 and 5 are also supported but you ' +\n",
       "                'have to enable WebSockets in about:config.'\n",
       "        );\n",
       "    }\n",
       "};\n",
       "\n",
       "mpl.figure = function (figure_id, websocket, ondownload, parent_element) {\n",
       "    this.id = figure_id;\n",
       "\n",
       "    this.ws = websocket;\n",
       "\n",
       "    this.supports_binary = this.ws.binaryType !== undefined;\n",
       "\n",
       "    if (!this.supports_binary) {\n",
       "        var warnings = document.getElementById('mpl-warnings');\n",
       "        if (warnings) {\n",
       "            warnings.style.display = 'block';\n",
       "            warnings.textContent =\n",
       "                'This browser does not support binary websocket messages. ' +\n",
       "                'Performance may be slow.';\n",
       "        }\n",
       "    }\n",
       "\n",
       "    this.imageObj = new Image();\n",
       "\n",
       "    this.context = undefined;\n",
       "    this.message = undefined;\n",
       "    this.canvas = undefined;\n",
       "    this.rubberband_canvas = undefined;\n",
       "    this.rubberband_context = undefined;\n",
       "    this.format_dropdown = undefined;\n",
       "\n",
       "    this.image_mode = 'full';\n",
       "\n",
       "    this.root = document.createElement('div');\n",
       "    this.root.setAttribute('style', 'display: inline-block');\n",
       "    this._root_extra_style(this.root);\n",
       "\n",
       "    parent_element.appendChild(this.root);\n",
       "\n",
       "    this._init_header(this);\n",
       "    this._init_canvas(this);\n",
       "    this._init_toolbar(this);\n",
       "\n",
       "    var fig = this;\n",
       "\n",
       "    this.waiting = false;\n",
       "\n",
       "    this.ws.onopen = function () {\n",
       "        fig.send_message('supports_binary', { value: fig.supports_binary });\n",
       "        fig.send_message('send_image_mode', {});\n",
       "        if (fig.ratio !== 1) {\n",
       "            fig.send_message('set_dpi_ratio', { dpi_ratio: fig.ratio });\n",
       "        }\n",
       "        fig.send_message('refresh', {});\n",
       "    };\n",
       "\n",
       "    this.imageObj.onload = function () {\n",
       "        if (fig.image_mode === 'full') {\n",
       "            // Full images could contain transparency (where diff images\n",
       "            // almost always do), so we need to clear the canvas so that\n",
       "            // there is no ghosting.\n",
       "            fig.context.clearRect(0, 0, fig.canvas.width, fig.canvas.height);\n",
       "        }\n",
       "        fig.context.drawImage(fig.imageObj, 0, 0);\n",
       "    };\n",
       "\n",
       "    this.imageObj.onunload = function () {\n",
       "        fig.ws.close();\n",
       "    };\n",
       "\n",
       "    this.ws.onmessage = this._make_on_message_function(this);\n",
       "\n",
       "    this.ondownload = ondownload;\n",
       "};\n",
       "\n",
       "mpl.figure.prototype._init_header = function () {\n",
       "    var titlebar = document.createElement('div');\n",
       "    titlebar.classList =\n",
       "        'ui-dialog-titlebar ui-widget-header ui-corner-all ui-helper-clearfix';\n",
       "    var titletext = document.createElement('div');\n",
       "    titletext.classList = 'ui-dialog-title';\n",
       "    titletext.setAttribute(\n",
       "        'style',\n",
       "        'width: 100%; text-align: center; padding: 3px;'\n",
       "    );\n",
       "    titlebar.appendChild(titletext);\n",
       "    this.root.appendChild(titlebar);\n",
       "    this.header = titletext;\n",
       "};\n",
       "\n",
       "mpl.figure.prototype._canvas_extra_style = function (_canvas_div) {};\n",
       "\n",
       "mpl.figure.prototype._root_extra_style = function (_canvas_div) {};\n",
       "\n",
       "mpl.figure.prototype._init_canvas = function () {\n",
       "    var fig = this;\n",
       "\n",
       "    var canvas_div = (this.canvas_div = document.createElement('div'));\n",
       "    canvas_div.setAttribute(\n",
       "        'style',\n",
       "        'border: 1px solid #ddd;' +\n",
       "            'box-sizing: content-box;' +\n",
       "            'clear: both;' +\n",
       "            'min-height: 1px;' +\n",
       "            'min-width: 1px;' +\n",
       "            'outline: 0;' +\n",
       "            'overflow: hidden;' +\n",
       "            'position: relative;' +\n",
       "            'resize: both;'\n",
       "    );\n",
       "\n",
       "    function on_keyboard_event_closure(name) {\n",
       "        return function (event) {\n",
       "            return fig.key_event(event, name);\n",
       "        };\n",
       "    }\n",
       "\n",
       "    canvas_div.addEventListener(\n",
       "        'keydown',\n",
       "        on_keyboard_event_closure('key_press')\n",
       "    );\n",
       "    canvas_div.addEventListener(\n",
       "        'keyup',\n",
       "        on_keyboard_event_closure('key_release')\n",
       "    );\n",
       "\n",
       "    this._canvas_extra_style(canvas_div);\n",
       "    this.root.appendChild(canvas_div);\n",
       "\n",
       "    var canvas = (this.canvas = document.createElement('canvas'));\n",
       "    canvas.classList.add('mpl-canvas');\n",
       "    canvas.setAttribute('style', 'box-sizing: content-box;');\n",
       "\n",
       "    this.context = canvas.getContext('2d');\n",
       "\n",
       "    var backingStore =\n",
       "        this.context.backingStorePixelRatio ||\n",
       "        this.context.webkitBackingStorePixelRatio ||\n",
       "        this.context.mozBackingStorePixelRatio ||\n",
       "        this.context.msBackingStorePixelRatio ||\n",
       "        this.context.oBackingStorePixelRatio ||\n",
       "        this.context.backingStorePixelRatio ||\n",
       "        1;\n",
       "\n",
       "    this.ratio = (window.devicePixelRatio || 1) / backingStore;\n",
       "\n",
       "    var rubberband_canvas = (this.rubberband_canvas = document.createElement(\n",
       "        'canvas'\n",
       "    ));\n",
       "    rubberband_canvas.setAttribute(\n",
       "        'style',\n",
       "        'box-sizing: content-box; position: absolute; left: 0; top: 0; z-index: 1;'\n",
       "    );\n",
       "\n",
       "    // Apply a ponyfill if ResizeObserver is not implemented by browser.\n",
       "    if (this.ResizeObserver === undefined) {\n",
       "        if (window.ResizeObserver !== undefined) {\n",
       "            this.ResizeObserver = window.ResizeObserver;\n",
       "        } else {\n",
       "            var obs = _JSXTOOLS_RESIZE_OBSERVER({});\n",
       "            this.ResizeObserver = obs.ResizeObserver;\n",
       "        }\n",
       "    }\n",
       "\n",
       "    this.resizeObserverInstance = new this.ResizeObserver(function (entries) {\n",
       "        var nentries = entries.length;\n",
       "        for (var i = 0; i < nentries; i++) {\n",
       "            var entry = entries[i];\n",
       "            var width, height;\n",
       "            if (entry.contentBoxSize) {\n",
       "                if (entry.contentBoxSize instanceof Array) {\n",
       "                    // Chrome 84 implements new version of spec.\n",
       "                    width = entry.contentBoxSize[0].inlineSize;\n",
       "                    height = entry.contentBoxSize[0].blockSize;\n",
       "                } else {\n",
       "                    // Firefox implements old version of spec.\n",
       "                    width = entry.contentBoxSize.inlineSize;\n",
       "                    height = entry.contentBoxSize.blockSize;\n",
       "                }\n",
       "            } else {\n",
       "                // Chrome <84 implements even older version of spec.\n",
       "                width = entry.contentRect.width;\n",
       "                height = entry.contentRect.height;\n",
       "            }\n",
       "\n",
       "            // Keep the size of the canvas and rubber band canvas in sync with\n",
       "            // the canvas container.\n",
       "            if (entry.devicePixelContentBoxSize) {\n",
       "                // Chrome 84 implements new version of spec.\n",
       "                canvas.setAttribute(\n",
       "                    'width',\n",
       "                    entry.devicePixelContentBoxSize[0].inlineSize\n",
       "                );\n",
       "                canvas.setAttribute(\n",
       "                    'height',\n",
       "                    entry.devicePixelContentBoxSize[0].blockSize\n",
       "                );\n",
       "            } else {\n",
       "                canvas.setAttribute('width', width * fig.ratio);\n",
       "                canvas.setAttribute('height', height * fig.ratio);\n",
       "            }\n",
       "            canvas.setAttribute(\n",
       "                'style',\n",
       "                'width: ' + width + 'px; height: ' + height + 'px;'\n",
       "            );\n",
       "\n",
       "            rubberband_canvas.setAttribute('width', width);\n",
       "            rubberband_canvas.setAttribute('height', height);\n",
       "\n",
       "            // And update the size in Python. We ignore the initial 0/0 size\n",
       "            // that occurs as the element is placed into the DOM, which should\n",
       "            // otherwise not happen due to the minimum size styling.\n",
       "            if (fig.ws.readyState == 1 && width != 0 && height != 0) {\n",
       "                fig.request_resize(width, height);\n",
       "            }\n",
       "        }\n",
       "    });\n",
       "    this.resizeObserverInstance.observe(canvas_div);\n",
       "\n",
       "    function on_mouse_event_closure(name) {\n",
       "        return function (event) {\n",
       "            return fig.mouse_event(event, name);\n",
       "        };\n",
       "    }\n",
       "\n",
       "    rubberband_canvas.addEventListener(\n",
       "        'mousedown',\n",
       "        on_mouse_event_closure('button_press')\n",
       "    );\n",
       "    rubberband_canvas.addEventListener(\n",
       "        'mouseup',\n",
       "        on_mouse_event_closure('button_release')\n",
       "    );\n",
       "    rubberband_canvas.addEventListener(\n",
       "        'dblclick',\n",
       "        on_mouse_event_closure('dblclick')\n",
       "    );\n",
       "    // Throttle sequential mouse events to 1 every 20ms.\n",
       "    rubberband_canvas.addEventListener(\n",
       "        'mousemove',\n",
       "        on_mouse_event_closure('motion_notify')\n",
       "    );\n",
       "\n",
       "    rubberband_canvas.addEventListener(\n",
       "        'mouseenter',\n",
       "        on_mouse_event_closure('figure_enter')\n",
       "    );\n",
       "    rubberband_canvas.addEventListener(\n",
       "        'mouseleave',\n",
       "        on_mouse_event_closure('figure_leave')\n",
       "    );\n",
       "\n",
       "    canvas_div.addEventListener('wheel', function (event) {\n",
       "        if (event.deltaY < 0) {\n",
       "            event.step = 1;\n",
       "        } else {\n",
       "            event.step = -1;\n",
       "        }\n",
       "        on_mouse_event_closure('scroll')(event);\n",
       "    });\n",
       "\n",
       "    canvas_div.appendChild(canvas);\n",
       "    canvas_div.appendChild(rubberband_canvas);\n",
       "\n",
       "    this.rubberband_context = rubberband_canvas.getContext('2d');\n",
       "    this.rubberband_context.strokeStyle = '#000000';\n",
       "\n",
       "    this._resize_canvas = function (width, height, forward) {\n",
       "        if (forward) {\n",
       "            canvas_div.style.width = width + 'px';\n",
       "            canvas_div.style.height = height + 'px';\n",
       "        }\n",
       "    };\n",
       "\n",
       "    // Disable right mouse context menu.\n",
       "    this.rubberband_canvas.addEventListener('contextmenu', function (_e) {\n",
       "        event.preventDefault();\n",
       "        return false;\n",
       "    });\n",
       "\n",
       "    function set_focus() {\n",
       "        canvas.focus();\n",
       "        canvas_div.focus();\n",
       "    }\n",
       "\n",
       "    window.setTimeout(set_focus, 100);\n",
       "};\n",
       "\n",
       "mpl.figure.prototype._init_toolbar = function () {\n",
       "    var fig = this;\n",
       "\n",
       "    var toolbar = document.createElement('div');\n",
       "    toolbar.classList = 'mpl-toolbar';\n",
       "    this.root.appendChild(toolbar);\n",
       "\n",
       "    function on_click_closure(name) {\n",
       "        return function (_event) {\n",
       "            return fig.toolbar_button_onclick(name);\n",
       "        };\n",
       "    }\n",
       "\n",
       "    function on_mouseover_closure(tooltip) {\n",
       "        return function (event) {\n",
       "            if (!event.currentTarget.disabled) {\n",
       "                return fig.toolbar_button_onmouseover(tooltip);\n",
       "            }\n",
       "        };\n",
       "    }\n",
       "\n",
       "    fig.buttons = {};\n",
       "    var buttonGroup = document.createElement('div');\n",
       "    buttonGroup.classList = 'mpl-button-group';\n",
       "    for (var toolbar_ind in mpl.toolbar_items) {\n",
       "        var name = mpl.toolbar_items[toolbar_ind][0];\n",
       "        var tooltip = mpl.toolbar_items[toolbar_ind][1];\n",
       "        var image = mpl.toolbar_items[toolbar_ind][2];\n",
       "        var method_name = mpl.toolbar_items[toolbar_ind][3];\n",
       "\n",
       "        if (!name) {\n",
       "            /* Instead of a spacer, we start a new button group. */\n",
       "            if (buttonGroup.hasChildNodes()) {\n",
       "                toolbar.appendChild(buttonGroup);\n",
       "            }\n",
       "            buttonGroup = document.createElement('div');\n",
       "            buttonGroup.classList = 'mpl-button-group';\n",
       "            continue;\n",
       "        }\n",
       "\n",
       "        var button = (fig.buttons[name] = document.createElement('button'));\n",
       "        button.classList = 'mpl-widget';\n",
       "        button.setAttribute('role', 'button');\n",
       "        button.setAttribute('aria-disabled', 'false');\n",
       "        button.addEventListener('click', on_click_closure(method_name));\n",
       "        button.addEventListener('mouseover', on_mouseover_closure(tooltip));\n",
       "\n",
       "        var icon_img = document.createElement('img');\n",
       "        icon_img.src = '_images/' + image + '.png';\n",
       "        icon_img.srcset = '_images/' + image + '_large.png 2x';\n",
       "        icon_img.alt = tooltip;\n",
       "        button.appendChild(icon_img);\n",
       "\n",
       "        buttonGroup.appendChild(button);\n",
       "    }\n",
       "\n",
       "    if (buttonGroup.hasChildNodes()) {\n",
       "        toolbar.appendChild(buttonGroup);\n",
       "    }\n",
       "\n",
       "    var fmt_picker = document.createElement('select');\n",
       "    fmt_picker.classList = 'mpl-widget';\n",
       "    toolbar.appendChild(fmt_picker);\n",
       "    this.format_dropdown = fmt_picker;\n",
       "\n",
       "    for (var ind in mpl.extensions) {\n",
       "        var fmt = mpl.extensions[ind];\n",
       "        var option = document.createElement('option');\n",
       "        option.selected = fmt === mpl.default_extension;\n",
       "        option.innerHTML = fmt;\n",
       "        fmt_picker.appendChild(option);\n",
       "    }\n",
       "\n",
       "    var status_bar = document.createElement('span');\n",
       "    status_bar.classList = 'mpl-message';\n",
       "    toolbar.appendChild(status_bar);\n",
       "    this.message = status_bar;\n",
       "};\n",
       "\n",
       "mpl.figure.prototype.request_resize = function (x_pixels, y_pixels) {\n",
       "    // Request matplotlib to resize the figure. Matplotlib will then trigger a resize in the client,\n",
       "    // which will in turn request a refresh of the image.\n",
       "    this.send_message('resize', { width: x_pixels, height: y_pixels });\n",
       "};\n",
       "\n",
       "mpl.figure.prototype.send_message = function (type, properties) {\n",
       "    properties['type'] = type;\n",
       "    properties['figure_id'] = this.id;\n",
       "    this.ws.send(JSON.stringify(properties));\n",
       "};\n",
       "\n",
       "mpl.figure.prototype.send_draw_message = function () {\n",
       "    if (!this.waiting) {\n",
       "        this.waiting = true;\n",
       "        this.ws.send(JSON.stringify({ type: 'draw', figure_id: this.id }));\n",
       "    }\n",
       "};\n",
       "\n",
       "mpl.figure.prototype.handle_save = function (fig, _msg) {\n",
       "    var format_dropdown = fig.format_dropdown;\n",
       "    var format = format_dropdown.options[format_dropdown.selectedIndex].value;\n",
       "    fig.ondownload(fig, format);\n",
       "};\n",
       "\n",
       "mpl.figure.prototype.handle_resize = function (fig, msg) {\n",
       "    var size = msg['size'];\n",
       "    if (size[0] !== fig.canvas.width || size[1] !== fig.canvas.height) {\n",
       "        fig._resize_canvas(size[0], size[1], msg['forward']);\n",
       "        fig.send_message('refresh', {});\n",
       "    }\n",
       "};\n",
       "\n",
       "mpl.figure.prototype.handle_rubberband = function (fig, msg) {\n",
       "    var x0 = msg['x0'] / fig.ratio;\n",
       "    var y0 = (fig.canvas.height - msg['y0']) / fig.ratio;\n",
       "    var x1 = msg['x1'] / fig.ratio;\n",
       "    var y1 = (fig.canvas.height - msg['y1']) / fig.ratio;\n",
       "    x0 = Math.floor(x0) + 0.5;\n",
       "    y0 = Math.floor(y0) + 0.5;\n",
       "    x1 = Math.floor(x1) + 0.5;\n",
       "    y1 = Math.floor(y1) + 0.5;\n",
       "    var min_x = Math.min(x0, x1);\n",
       "    var min_y = Math.min(y0, y1);\n",
       "    var width = Math.abs(x1 - x0);\n",
       "    var height = Math.abs(y1 - y0);\n",
       "\n",
       "    fig.rubberband_context.clearRect(\n",
       "        0,\n",
       "        0,\n",
       "        fig.canvas.width / fig.ratio,\n",
       "        fig.canvas.height / fig.ratio\n",
       "    );\n",
       "\n",
       "    fig.rubberband_context.strokeRect(min_x, min_y, width, height);\n",
       "};\n",
       "\n",
       "mpl.figure.prototype.handle_figure_label = function (fig, msg) {\n",
       "    // Updates the figure title.\n",
       "    fig.header.textContent = msg['label'];\n",
       "};\n",
       "\n",
       "mpl.figure.prototype.handle_cursor = function (fig, msg) {\n",
       "    var cursor = msg['cursor'];\n",
       "    switch (cursor) {\n",
       "        case 0:\n",
       "            cursor = 'pointer';\n",
       "            break;\n",
       "        case 1:\n",
       "            cursor = 'default';\n",
       "            break;\n",
       "        case 2:\n",
       "            cursor = 'crosshair';\n",
       "            break;\n",
       "        case 3:\n",
       "            cursor = 'move';\n",
       "            break;\n",
       "    }\n",
       "    fig.rubberband_canvas.style.cursor = cursor;\n",
       "};\n",
       "\n",
       "mpl.figure.prototype.handle_message = function (fig, msg) {\n",
       "    fig.message.textContent = msg['message'];\n",
       "};\n",
       "\n",
       "mpl.figure.prototype.handle_draw = function (fig, _msg) {\n",
       "    // Request the server to send over a new figure.\n",
       "    fig.send_draw_message();\n",
       "};\n",
       "\n",
       "mpl.figure.prototype.handle_image_mode = function (fig, msg) {\n",
       "    fig.image_mode = msg['mode'];\n",
       "};\n",
       "\n",
       "mpl.figure.prototype.handle_history_buttons = function (fig, msg) {\n",
       "    for (var key in msg) {\n",
       "        if (!(key in fig.buttons)) {\n",
       "            continue;\n",
       "        }\n",
       "        fig.buttons[key].disabled = !msg[key];\n",
       "        fig.buttons[key].setAttribute('aria-disabled', !msg[key]);\n",
       "    }\n",
       "};\n",
       "\n",
       "mpl.figure.prototype.handle_navigate_mode = function (fig, msg) {\n",
       "    if (msg['mode'] === 'PAN') {\n",
       "        fig.buttons['Pan'].classList.add('active');\n",
       "        fig.buttons['Zoom'].classList.remove('active');\n",
       "    } else if (msg['mode'] === 'ZOOM') {\n",
       "        fig.buttons['Pan'].classList.remove('active');\n",
       "        fig.buttons['Zoom'].classList.add('active');\n",
       "    } else {\n",
       "        fig.buttons['Pan'].classList.remove('active');\n",
       "        fig.buttons['Zoom'].classList.remove('active');\n",
       "    }\n",
       "};\n",
       "\n",
       "mpl.figure.prototype.updated_canvas_event = function () {\n",
       "    // Called whenever the canvas gets updated.\n",
       "    this.send_message('ack', {});\n",
       "};\n",
       "\n",
       "// A function to construct a web socket function for onmessage handling.\n",
       "// Called in the figure constructor.\n",
       "mpl.figure.prototype._make_on_message_function = function (fig) {\n",
       "    return function socket_on_message(evt) {\n",
       "        if (evt.data instanceof Blob) {\n",
       "            var img = evt.data;\n",
       "            if (img.type !== 'image/png') {\n",
       "                /* FIXME: We get \"Resource interpreted as Image but\n",
       "                 * transferred with MIME type text/plain:\" errors on\n",
       "                 * Chrome.  But how to set the MIME type?  It doesn't seem\n",
       "                 * to be part of the websocket stream */\n",
       "                img.type = 'image/png';\n",
       "            }\n",
       "\n",
       "            /* Free the memory for the previous frames */\n",
       "            if (fig.imageObj.src) {\n",
       "                (window.URL || window.webkitURL).revokeObjectURL(\n",
       "                    fig.imageObj.src\n",
       "                );\n",
       "            }\n",
       "\n",
       "            fig.imageObj.src = (window.URL || window.webkitURL).createObjectURL(\n",
       "                img\n",
       "            );\n",
       "            fig.updated_canvas_event();\n",
       "            fig.waiting = false;\n",
       "            return;\n",
       "        } else if (\n",
       "            typeof evt.data === 'string' &&\n",
       "            evt.data.slice(0, 21) === 'data:image/png;base64'\n",
       "        ) {\n",
       "            fig.imageObj.src = evt.data;\n",
       "            fig.updated_canvas_event();\n",
       "            fig.waiting = false;\n",
       "            return;\n",
       "        }\n",
       "\n",
       "        var msg = JSON.parse(evt.data);\n",
       "        var msg_type = msg['type'];\n",
       "\n",
       "        // Call the  \"handle_{type}\" callback, which takes\n",
       "        // the figure and JSON message as its only arguments.\n",
       "        try {\n",
       "            var callback = fig['handle_' + msg_type];\n",
       "        } catch (e) {\n",
       "            console.log(\n",
       "                \"No handler for the '\" + msg_type + \"' message type: \",\n",
       "                msg\n",
       "            );\n",
       "            return;\n",
       "        }\n",
       "\n",
       "        if (callback) {\n",
       "            try {\n",
       "                // console.log(\"Handling '\" + msg_type + \"' message: \", msg);\n",
       "                callback(fig, msg);\n",
       "            } catch (e) {\n",
       "                console.log(\n",
       "                    \"Exception inside the 'handler_\" + msg_type + \"' callback:\",\n",
       "                    e,\n",
       "                    e.stack,\n",
       "                    msg\n",
       "                );\n",
       "            }\n",
       "        }\n",
       "    };\n",
       "};\n",
       "\n",
       "// from http://stackoverflow.com/questions/1114465/getting-mouse-location-in-canvas\n",
       "mpl.findpos = function (e) {\n",
       "    //this section is from http://www.quirksmode.org/js/events_properties.html\n",
       "    var targ;\n",
       "    if (!e) {\n",
       "        e = window.event;\n",
       "    }\n",
       "    if (e.target) {\n",
       "        targ = e.target;\n",
       "    } else if (e.srcElement) {\n",
       "        targ = e.srcElement;\n",
       "    }\n",
       "    if (targ.nodeType === 3) {\n",
       "        // defeat Safari bug\n",
       "        targ = targ.parentNode;\n",
       "    }\n",
       "\n",
       "    // pageX,Y are the mouse positions relative to the document\n",
       "    var boundingRect = targ.getBoundingClientRect();\n",
       "    var x = e.pageX - (boundingRect.left + document.body.scrollLeft);\n",
       "    var y = e.pageY - (boundingRect.top + document.body.scrollTop);\n",
       "\n",
       "    return { x: x, y: y };\n",
       "};\n",
       "\n",
       "/*\n",
       " * return a copy of an object with only non-object keys\n",
       " * we need this to avoid circular references\n",
       " * http://stackoverflow.com/a/24161582/3208463\n",
       " */\n",
       "function simpleKeys(original) {\n",
       "    return Object.keys(original).reduce(function (obj, key) {\n",
       "        if (typeof original[key] !== 'object') {\n",
       "            obj[key] = original[key];\n",
       "        }\n",
       "        return obj;\n",
       "    }, {});\n",
       "}\n",
       "\n",
       "mpl.figure.prototype.mouse_event = function (event, name) {\n",
       "    var canvas_pos = mpl.findpos(event);\n",
       "\n",
       "    if (name === 'button_press') {\n",
       "        this.canvas.focus();\n",
       "        this.canvas_div.focus();\n",
       "    }\n",
       "\n",
       "    var x = canvas_pos.x * this.ratio;\n",
       "    var y = canvas_pos.y * this.ratio;\n",
       "\n",
       "    this.send_message(name, {\n",
       "        x: x,\n",
       "        y: y,\n",
       "        button: event.button,\n",
       "        step: event.step,\n",
       "        guiEvent: simpleKeys(event),\n",
       "    });\n",
       "\n",
       "    /* This prevents the web browser from automatically changing to\n",
       "     * the text insertion cursor when the button is pressed.  We want\n",
       "     * to control all of the cursor setting manually through the\n",
       "     * 'cursor' event from matplotlib */\n",
       "    event.preventDefault();\n",
       "    return false;\n",
       "};\n",
       "\n",
       "mpl.figure.prototype._key_event_extra = function (_event, _name) {\n",
       "    // Handle any extra behaviour associated with a key event\n",
       "};\n",
       "\n",
       "mpl.figure.prototype.key_event = function (event, name) {\n",
       "    // Prevent repeat events\n",
       "    if (name === 'key_press') {\n",
       "        if (event.key === this._key) {\n",
       "            return;\n",
       "        } else {\n",
       "            this._key = event.key;\n",
       "        }\n",
       "    }\n",
       "    if (name === 'key_release') {\n",
       "        this._key = null;\n",
       "    }\n",
       "\n",
       "    var value = '';\n",
       "    if (event.ctrlKey && event.key !== 'Control') {\n",
       "        value += 'ctrl+';\n",
       "    }\n",
       "    else if (event.altKey && event.key !== 'Alt') {\n",
       "        value += 'alt+';\n",
       "    }\n",
       "    else if (event.shiftKey && event.key !== 'Shift') {\n",
       "        value += 'shift+';\n",
       "    }\n",
       "\n",
       "    value += 'k' + event.key;\n",
       "\n",
       "    this._key_event_extra(event, name);\n",
       "\n",
       "    this.send_message(name, { key: value, guiEvent: simpleKeys(event) });\n",
       "    return false;\n",
       "};\n",
       "\n",
       "mpl.figure.prototype.toolbar_button_onclick = function (name) {\n",
       "    if (name === 'download') {\n",
       "        this.handle_save(this, null);\n",
       "    } else {\n",
       "        this.send_message('toolbar_button', { name: name });\n",
       "    }\n",
       "};\n",
       "\n",
       "mpl.figure.prototype.toolbar_button_onmouseover = function (tooltip) {\n",
       "    this.message.textContent = tooltip;\n",
       "};\n",
       "\n",
       "///////////////// REMAINING CONTENT GENERATED BY embed_js.py /////////////////\n",
       "// prettier-ignore\n",
       "var _JSXTOOLS_RESIZE_OBSERVER=function(A){var t,i=new WeakMap,n=new WeakMap,a=new WeakMap,r=new WeakMap,o=new Set;function s(e){if(!(this instanceof s))throw new TypeError(\"Constructor requires 'new' operator\");i.set(this,e)}function h(){throw new TypeError(\"Function is not a constructor\")}function c(e,t,i,n){e=0 in arguments?Number(arguments[0]):0,t=1 in arguments?Number(arguments[1]):0,i=2 in arguments?Number(arguments[2]):0,n=3 in arguments?Number(arguments[3]):0,this.right=(this.x=this.left=e)+(this.width=i),this.bottom=(this.y=this.top=t)+(this.height=n),Object.freeze(this)}function d(){t=requestAnimationFrame(d);var s=new WeakMap,p=new Set;o.forEach((function(t){r.get(t).forEach((function(i){var r=t instanceof window.SVGElement,o=a.get(t),d=r?0:parseFloat(o.paddingTop),f=r?0:parseFloat(o.paddingRight),l=r?0:parseFloat(o.paddingBottom),u=r?0:parseFloat(o.paddingLeft),g=r?0:parseFloat(o.borderTopWidth),m=r?0:parseFloat(o.borderRightWidth),w=r?0:parseFloat(o.borderBottomWidth),b=u+f,F=d+l,v=(r?0:parseFloat(o.borderLeftWidth))+m,W=g+w,y=r?0:t.offsetHeight-W-t.clientHeight,E=r?0:t.offsetWidth-v-t.clientWidth,R=b+v,z=F+W,M=r?t.width:parseFloat(o.width)-R-E,O=r?t.height:parseFloat(o.height)-z-y;if(n.has(t)){var k=n.get(t);if(k[0]===M&&k[1]===O)return}n.set(t,[M,O]);var S=Object.create(h.prototype);S.target=t,S.contentRect=new c(u,d,M,O),s.has(i)||(s.set(i,[]),p.add(i)),s.get(i).push(S)}))})),p.forEach((function(e){i.get(e).call(e,s.get(e),e)}))}return s.prototype.observe=function(i){if(i instanceof window.Element){r.has(i)||(r.set(i,new Set),o.add(i),a.set(i,window.getComputedStyle(i)));var n=r.get(i);n.has(this)||n.add(this),cancelAnimationFrame(t),t=requestAnimationFrame(d)}},s.prototype.unobserve=function(i){if(i instanceof window.Element&&r.has(i)){var n=r.get(i);n.has(this)&&(n.delete(this),n.size||(r.delete(i),o.delete(i))),n.size||r.delete(i),o.size||cancelAnimationFrame(t)}},A.DOMRectReadOnly=c,A.ResizeObserver=s,A.ResizeObserverEntry=h,A}; // eslint-disable-line\n",
       "mpl.toolbar_items = [[\"Home\", \"Reset original view\", \"fa fa-home icon-home\", \"home\"], [\"Back\", \"Back to previous view\", \"fa fa-arrow-left icon-arrow-left\", \"back\"], [\"Forward\", \"Forward to next view\", \"fa fa-arrow-right icon-arrow-right\", \"forward\"], [\"\", \"\", \"\", \"\"], [\"Pan\", \"Left button pans, Right button zooms\\nx/y fixes axis, CTRL fixes aspect\", \"fa fa-arrows icon-move\", \"pan\"], [\"Zoom\", \"Zoom to rectangle\\nx/y fixes axis, CTRL fixes aspect\", \"fa fa-square-o icon-check-empty\", \"zoom\"], [\"\", \"\", \"\", \"\"], [\"Download\", \"Download plot\", \"fa fa-floppy-o icon-save\", \"download\"]];\n",
       "\n",
       "mpl.extensions = [\"eps\", \"jpeg\", \"pgf\", \"pdf\", \"png\", \"ps\", \"raw\", \"svg\", \"tif\"];\n",
       "\n",
       "mpl.default_extension = \"png\";/* global mpl */\n",
       "\n",
       "var comm_websocket_adapter = function (comm) {\n",
       "    // Create a \"websocket\"-like object which calls the given IPython comm\n",
       "    // object with the appropriate methods. Currently this is a non binary\n",
       "    // socket, so there is still some room for performance tuning.\n",
       "    var ws = {};\n",
       "\n",
       "    ws.binaryType = comm.kernel.ws.binaryType;\n",
       "    ws.readyState = comm.kernel.ws.readyState;\n",
       "    function updateReadyState(_event) {\n",
       "        if (comm.kernel.ws) {\n",
       "            ws.readyState = comm.kernel.ws.readyState;\n",
       "        } else {\n",
       "            ws.readyState = 3; // Closed state.\n",
       "        }\n",
       "    }\n",
       "    comm.kernel.ws.addEventListener('open', updateReadyState);\n",
       "    comm.kernel.ws.addEventListener('close', updateReadyState);\n",
       "    comm.kernel.ws.addEventListener('error', updateReadyState);\n",
       "\n",
       "    ws.close = function () {\n",
       "        comm.close();\n",
       "    };\n",
       "    ws.send = function (m) {\n",
       "        //console.log('sending', m);\n",
       "        comm.send(m);\n",
       "    };\n",
       "    // Register the callback with on_msg.\n",
       "    comm.on_msg(function (msg) {\n",
       "        //console.log('receiving', msg['content']['data'], msg);\n",
       "        var data = msg['content']['data'];\n",
       "        if (data['blob'] !== undefined) {\n",
       "            data = {\n",
       "                data: new Blob(msg['buffers'], { type: data['blob'] }),\n",
       "            };\n",
       "        }\n",
       "        // Pass the mpl event to the overridden (by mpl) onmessage function.\n",
       "        ws.onmessage(data);\n",
       "    });\n",
       "    return ws;\n",
       "};\n",
       "\n",
       "mpl.mpl_figure_comm = function (comm, msg) {\n",
       "    // This is the function which gets called when the mpl process\n",
       "    // starts-up an IPython Comm through the \"matplotlib\" channel.\n",
       "\n",
       "    var id = msg.content.data.id;\n",
       "    // Get hold of the div created by the display call when the Comm\n",
       "    // socket was opened in Python.\n",
       "    var element = document.getElementById(id);\n",
       "    var ws_proxy = comm_websocket_adapter(comm);\n",
       "\n",
       "    function ondownload(figure, _format) {\n",
       "        window.open(figure.canvas.toDataURL());\n",
       "    }\n",
       "\n",
       "    var fig = new mpl.figure(id, ws_proxy, ondownload, element);\n",
       "\n",
       "    // Call onopen now - mpl needs it, as it is assuming we've passed it a real\n",
       "    // web socket which is closed, not our websocket->open comm proxy.\n",
       "    ws_proxy.onopen();\n",
       "\n",
       "    fig.parent_element = element;\n",
       "    fig.cell_info = mpl.find_output_cell(\"<div id='\" + id + \"'></div>\");\n",
       "    if (!fig.cell_info) {\n",
       "        console.error('Failed to find cell for figure', id, fig);\n",
       "        return;\n",
       "    }\n",
       "    fig.cell_info[0].output_area.element.on(\n",
       "        'cleared',\n",
       "        { fig: fig },\n",
       "        fig._remove_fig_handler\n",
       "    );\n",
       "};\n",
       "\n",
       "mpl.figure.prototype.handle_close = function (fig, msg) {\n",
       "    var width = fig.canvas.width / fig.ratio;\n",
       "    fig.cell_info[0].output_area.element.off(\n",
       "        'cleared',\n",
       "        fig._remove_fig_handler\n",
       "    );\n",
       "    fig.resizeObserverInstance.unobserve(fig.canvas_div);\n",
       "\n",
       "    // Update the output cell to use the data from the current canvas.\n",
       "    fig.push_to_output();\n",
       "    var dataURL = fig.canvas.toDataURL();\n",
       "    // Re-enable the keyboard manager in IPython - without this line, in FF,\n",
       "    // the notebook keyboard shortcuts fail.\n",
       "    IPython.keyboard_manager.enable();\n",
       "    fig.parent_element.innerHTML =\n",
       "        '<img src=\"' + dataURL + '\" width=\"' + width + '\">';\n",
       "    fig.close_ws(fig, msg);\n",
       "};\n",
       "\n",
       "mpl.figure.prototype.close_ws = function (fig, msg) {\n",
       "    fig.send_message('closing', msg);\n",
       "    // fig.ws.close()\n",
       "};\n",
       "\n",
       "mpl.figure.prototype.push_to_output = function (_remove_interactive) {\n",
       "    // Turn the data on the canvas into data in the output cell.\n",
       "    var width = this.canvas.width / this.ratio;\n",
       "    var dataURL = this.canvas.toDataURL();\n",
       "    this.cell_info[1]['text/html'] =\n",
       "        '<img src=\"' + dataURL + '\" width=\"' + width + '\">';\n",
       "};\n",
       "\n",
       "mpl.figure.prototype.updated_canvas_event = function () {\n",
       "    // Tell IPython that the notebook contents must change.\n",
       "    IPython.notebook.set_dirty(true);\n",
       "    this.send_message('ack', {});\n",
       "    var fig = this;\n",
       "    // Wait a second, then push the new image to the DOM so\n",
       "    // that it is saved nicely (might be nice to debounce this).\n",
       "    setTimeout(function () {\n",
       "        fig.push_to_output();\n",
       "    }, 1000);\n",
       "};\n",
       "\n",
       "mpl.figure.prototype._init_toolbar = function () {\n",
       "    var fig = this;\n",
       "\n",
       "    var toolbar = document.createElement('div');\n",
       "    toolbar.classList = 'btn-toolbar';\n",
       "    this.root.appendChild(toolbar);\n",
       "\n",
       "    function on_click_closure(name) {\n",
       "        return function (_event) {\n",
       "            return fig.toolbar_button_onclick(name);\n",
       "        };\n",
       "    }\n",
       "\n",
       "    function on_mouseover_closure(tooltip) {\n",
       "        return function (event) {\n",
       "            if (!event.currentTarget.disabled) {\n",
       "                return fig.toolbar_button_onmouseover(tooltip);\n",
       "            }\n",
       "        };\n",
       "    }\n",
       "\n",
       "    fig.buttons = {};\n",
       "    var buttonGroup = document.createElement('div');\n",
       "    buttonGroup.classList = 'btn-group';\n",
       "    var button;\n",
       "    for (var toolbar_ind in mpl.toolbar_items) {\n",
       "        var name = mpl.toolbar_items[toolbar_ind][0];\n",
       "        var tooltip = mpl.toolbar_items[toolbar_ind][1];\n",
       "        var image = mpl.toolbar_items[toolbar_ind][2];\n",
       "        var method_name = mpl.toolbar_items[toolbar_ind][3];\n",
       "\n",
       "        if (!name) {\n",
       "            /* Instead of a spacer, we start a new button group. */\n",
       "            if (buttonGroup.hasChildNodes()) {\n",
       "                toolbar.appendChild(buttonGroup);\n",
       "            }\n",
       "            buttonGroup = document.createElement('div');\n",
       "            buttonGroup.classList = 'btn-group';\n",
       "            continue;\n",
       "        }\n",
       "\n",
       "        button = fig.buttons[name] = document.createElement('button');\n",
       "        button.classList = 'btn btn-default';\n",
       "        button.href = '#';\n",
       "        button.title = name;\n",
       "        button.innerHTML = '<i class=\"fa ' + image + ' fa-lg\"></i>';\n",
       "        button.addEventListener('click', on_click_closure(method_name));\n",
       "        button.addEventListener('mouseover', on_mouseover_closure(tooltip));\n",
       "        buttonGroup.appendChild(button);\n",
       "    }\n",
       "\n",
       "    if (buttonGroup.hasChildNodes()) {\n",
       "        toolbar.appendChild(buttonGroup);\n",
       "    }\n",
       "\n",
       "    // Add the status bar.\n",
       "    var status_bar = document.createElement('span');\n",
       "    status_bar.classList = 'mpl-message pull-right';\n",
       "    toolbar.appendChild(status_bar);\n",
       "    this.message = status_bar;\n",
       "\n",
       "    // Add the close button to the window.\n",
       "    var buttongrp = document.createElement('div');\n",
       "    buttongrp.classList = 'btn-group inline pull-right';\n",
       "    button = document.createElement('button');\n",
       "    button.classList = 'btn btn-mini btn-primary';\n",
       "    button.href = '#';\n",
       "    button.title = 'Stop Interaction';\n",
       "    button.innerHTML = '<i class=\"fa fa-power-off icon-remove icon-large\"></i>';\n",
       "    button.addEventListener('click', function (_evt) {\n",
       "        fig.handle_close(fig, {});\n",
       "    });\n",
       "    button.addEventListener(\n",
       "        'mouseover',\n",
       "        on_mouseover_closure('Stop Interaction')\n",
       "    );\n",
       "    buttongrp.appendChild(button);\n",
       "    var titlebar = this.root.querySelector('.ui-dialog-titlebar');\n",
       "    titlebar.insertBefore(buttongrp, titlebar.firstChild);\n",
       "};\n",
       "\n",
       "mpl.figure.prototype._remove_fig_handler = function (event) {\n",
       "    var fig = event.data.fig;\n",
       "    if (event.target !== this) {\n",
       "        // Ignore bubbled events from children.\n",
       "        return;\n",
       "    }\n",
       "    fig.close_ws(fig, {});\n",
       "};\n",
       "\n",
       "mpl.figure.prototype._root_extra_style = function (el) {\n",
       "    el.style.boxSizing = 'content-box'; // override notebook setting of border-box.\n",
       "};\n",
       "\n",
       "mpl.figure.prototype._canvas_extra_style = function (el) {\n",
       "    // this is important to make the div 'focusable\n",
       "    el.setAttribute('tabindex', 0);\n",
       "    // reach out to IPython and tell the keyboard manager to turn it's self\n",
       "    // off when our div gets focus\n",
       "\n",
       "    // location in version 3\n",
       "    if (IPython.notebook.keyboard_manager) {\n",
       "        IPython.notebook.keyboard_manager.register_events(el);\n",
       "    } else {\n",
       "        // location in version 2\n",
       "        IPython.keyboard_manager.register_events(el);\n",
       "    }\n",
       "};\n",
       "\n",
       "mpl.figure.prototype._key_event_extra = function (event, _name) {\n",
       "    var manager = IPython.notebook.keyboard_manager;\n",
       "    if (!manager) {\n",
       "        manager = IPython.keyboard_manager;\n",
       "    }\n",
       "\n",
       "    // Check for shift+enter\n",
       "    if (event.shiftKey && event.which === 13) {\n",
       "        this.canvas_div.blur();\n",
       "        // select the cell after this one\n",
       "        var index = IPython.notebook.find_cell_index(this.cell_info[0]);\n",
       "        IPython.notebook.select(index + 1);\n",
       "    }\n",
       "};\n",
       "\n",
       "mpl.figure.prototype.handle_save = function (fig, _msg) {\n",
       "    fig.ondownload(fig, null);\n",
       "};\n",
       "\n",
       "mpl.find_output_cell = function (html_output) {\n",
       "    // Return the cell and output element which can be found *uniquely* in the notebook.\n",
       "    // Note - this is a bit hacky, but it is done because the \"notebook_saving.Notebook\"\n",
       "    // IPython event is triggered only after the cells have been serialised, which for\n",
       "    // our purposes (turning an active figure into a static one), is too late.\n",
       "    var cells = IPython.notebook.get_cells();\n",
       "    var ncells = cells.length;\n",
       "    for (var i = 0; i < ncells; i++) {\n",
       "        var cell = cells[i];\n",
       "        if (cell.cell_type === 'code') {\n",
       "            for (var j = 0; j < cell.output_area.outputs.length; j++) {\n",
       "                var data = cell.output_area.outputs[j];\n",
       "                if (data.data) {\n",
       "                    // IPython >= 3 moved mimebundle to data attribute of output\n",
       "                    data = data.data;\n",
       "                }\n",
       "                if (data['text/html'] === html_output) {\n",
       "                    return [cell, data, j];\n",
       "                }\n",
       "            }\n",
       "        }\n",
       "    }\n",
       "};\n",
       "\n",
       "// Register the function which deals with the matplotlib target/channel.\n",
       "// The kernel may be null if the page has been refreshed.\n",
       "if (IPython.notebook.kernel !== null) {\n",
       "    IPython.notebook.kernel.comm_manager.register_target(\n",
       "        'matplotlib',\n",
       "        mpl.mpl_figure_comm\n",
       "    );\n",
       "}\n"
      ],
      "text/plain": [
       "<IPython.core.display.Javascript object>"
      ]
     },
     "metadata": {},
     "output_type": "display_data"
    },
    {
     "data": {
      "text/html": [
       "<img src=\"data:image/png;base64,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\" width=\"432\">"
      ],
      "text/plain": [
       "<IPython.core.display.HTML object>"
      ]
     },
     "metadata": {},
     "output_type": "display_data"
    },
    {
     "data": {
      "application/vnd.jupyter.widget-view+json": {
       "model_id": "ea2d547d3cd9457e88878e8870707837",
       "version_major": 2,
       "version_minor": 0
      },
      "text/plain": [
       "interactive(children=(FloatSlider(value=3.0, description='a', max=9.0, min=-3.0), FloatSlider(value=3.0, descr…"
      ]
     },
     "metadata": {},
     "output_type": "display_data"
    }
   ],
   "source": [
    "%matplotlib notebook\n",
    "from ipywidgets import *\n",
    "\n",
    "fig = plt.figure()\n",
    "ax = fig.add_subplot(1, 1, 1)\n",
    "plt.ylabel('Y - variável dependente')\n",
    "plt.xlabel('X - variável independente')\n",
    "scatter = ax.scatter(dados['X'], dados['y'])\n",
    "line, = ax.plot(dados['X'], dados['X'], color='red')\n",
    "\n",
    "def update(a = 3.0, b=3.0):\n",
    "    line.set_ydata(a*dados['X'] + b)\n",
    "    fig.canvas.draw_idle()\n",
    "\n",
    "interact(update);"
   ]
  },
  {
   "cell_type": "markdown",
   "id": "2bf1d9e9",
   "metadata": {},
   "source": [
    "O erro é minimo quando sua derivada em função dos parâmetros (a) e (b) é igual a zero. Isso torna o processo de descobrir os coeficientes ótimos numa simples resolução de um sistema de equações lineares."
   ]
  },
  {
   "cell_type": "code",
   "execution_count": 14,
   "id": "f06148cc",
   "metadata": {},
   "outputs": [
    {
     "data": {
      "image/png": "[encoded data removed]",
      "text/plain": [
       "<IPython.core.display.Image object>"
      ]
     },
     "execution_count": 14,
     "metadata": {},
     "output_type": "execute_result"
    }
   ],
   "source": [
    "Image('../figures/derivative.png')"
   ]
  },
  {
   "cell_type": "markdown",
   "id": "39ecad54",
   "metadata": {},
   "source": [
    "Para mais detalhes: https://medium.com/analytics-vidhya/ordinary-least-square-ols-method-for-linear-regression-ef8ca10aadfc"
   ]
  },
  {
   "cell_type": "markdown",
   "id": "fa4b2c61",
   "metadata": {},
   "source": [
    "Nesse caso simplificado, ja podemos identificar alguns componentes de uma tarefa de aprendizado supervisionado:"
   ]
  },
  {
   "cell_type": "markdown",
   "id": "f11efa5a",
   "metadata": {},
   "source": [
    "- Variável dependente: y (depende de X). A resposta do modelo\n",
    "- Variável/Variáveis independentes (X). As entradas do modelo\n",
    "- Parâmetros: a, b: são aprendidos no <b> <font color='blue'> treinamento </font> </b> do modelo \n",
    "- Função de erro: objetivo do treinamento é minimizar essa função"
   ]
  },
  {
   "cell_type": "markdown",
   "id": "b83f8b95",
   "metadata": {},
   "source": [
    "No aprendizado supervisionado, fornecemos a resposta correta (seja o y real, ou um rótulo) ao modelo para determinar quão próximo ele está se ajustando. "
   ]
  },
  {
   "cell_type": "markdown",
   "id": "e63579a2",
   "metadata": {},
   "source": [
    "## Criando e ajusando um modelo com o sklearn"
   ]
  },
  {
   "cell_type": "markdown",
   "id": "6ffc7474",
   "metadata": {},
   "source": [
    "O sklearn possui uma implementação para ajustar modelo linear:"
   ]
  },
  {
   "cell_type": "code",
   "execution_count": 15,
   "id": "0397c575",
   "metadata": {},
   "outputs": [],
   "source": [
    "from sklearn.linear_model import LinearRegression"
   ]
  },
  {
   "cell_type": "markdown",
   "id": "79ad7f7f",
   "metadata": {},
   "source": [
    "<b> <font color=\"blue\"> IMPORTANTE </font> </b> "
   ]
  },
  {
   "cell_type": "markdown",
   "id": "86715618",
   "metadata": {},
   "source": [
    "- O sklearn é possui uma padronização em todos seus modelos, não importa se forem regressões lineares ou outros métodos de machine learning. Primeiramente instanciamos um modelo. No comando abaixo, aproveite para entender que tipo de variável \"modelo\" irá ser atribuido "
   ]
  },
  {
   "cell_type": "code",
   "execution_count": 16,
   "id": "73f43580",
   "metadata": {},
   "outputs": [],
   "source": [
    "modelo = LinearRegression()"
   ]
  },
  {
   "cell_type": "code",
   "execution_count": 17,
   "id": "f1052f97",
   "metadata": {},
   "outputs": [
    {
     "data": {
      "text/plain": [
       "LinearRegression()"
      ]
     },
     "execution_count": 17,
     "metadata": {},
     "output_type": "execute_result"
    }
   ],
   "source": [
    "modelo"
   ]
  },
  {
   "cell_type": "markdown",
   "id": "94ae3813",
   "metadata": {},
   "source": [
    "- O modelo é um objeto. Objetos possuem metodos, como o .fit () e o .predict()"
   ]
  },
  {
   "cell_type": "markdown",
   "id": "3fbedb6b",
   "metadata": {},
   "source": [
    "Se você digitar o nome do método sem ( )'s , sua origem será indicada: "
   ]
  },
  {
   "cell_type": "code",
   "execution_count": 18,
   "id": "c2751d5e",
   "metadata": {},
   "outputs": [
    {
     "data": {
      "text/plain": [
       "<bound method LinearRegression.fit of LinearRegression()>"
      ]
     },
     "execution_count": 18,
     "metadata": {},
     "output_type": "execute_result"
    }
   ],
   "source": [
    "modelo.fit"
   ]
  },
  {
   "cell_type": "markdown",
   "id": "6ac336d8",
   "metadata": {},
   "source": [
    "Você também pode inspecionar um docstring, e até o código fonte que essa função executa:"
   ]
  },
  {
   "cell_type": "code",
   "execution_count": null,
   "id": "ff5675c5",
   "metadata": {},
   "outputs": [],
   "source": [
    "??modelo.fit"
   ]
  },
  {
   "cell_type": "code",
   "execution_count": 19,
   "id": "9d74d7ca",
   "metadata": {},
   "outputs": [
    {
     "data": {
      "text/plain": [
       "LinearRegression()"
      ]
     },
     "execution_count": 19,
     "metadata": {},
     "output_type": "execute_result"
    }
   ],
   "source": [
    "modelo.fit(X=dados['X'].values.reshape(-1,1), y=dados['y'])"
   ]
  },
  {
   "cell_type": "markdown",
   "id": "7aaf75e4",
   "metadata": {},
   "source": [
    "O método fit recebe dois argumentos: um array X (entradas) e um array y (respostas). Nesse caso X tem somente uma dimensão, precisamos ajustar seu formato para uma matriz. Quando X possui mais de uma dimensão (2+ variáveis preditoras), podemos especificar diretamente um subset de um dataframe do pandas. Outra alternativa é simplesmente adicionar um  [ ]'s a mais envolvendo o X"
   ]
  },
  {
   "cell_type": "code",
   "execution_count": 20,
   "id": "c23bcd38",
   "metadata": {},
   "outputs": [
    {
     "data": {
      "text/plain": [
       "LinearRegression()"
      ]
     },
     "execution_count": 20,
     "metadata": {},
     "output_type": "execute_result"
    }
   ],
   "source": [
    "modelo.fit(dados[['X']], dados['y'])"
   ]
  },
  {
   "cell_type": "markdown",
   "id": "9f4c9ac6",
   "metadata": {},
   "source": [
    "Modelo ajustado! Agora podemos utilizar esse mesmo objeto para realizar predições, ou inferências:"
   ]
  },
  {
   "cell_type": "code",
   "execution_count": 21,
   "id": "248a3fed",
   "metadata": {},
   "outputs": [
    {
     "data": {
      "text/plain": [
       "array([17.16544418, 18.44725856, 11.52548415, 17.66534336,  4.06385488,\n",
       "       19.79846599,  5.33271951, 13.1207372 , 13.91187843,  5.91416829,\n",
       "       21.73799743, 21.13958304, 13.64727726, 19.164311  , 21.17225552,\n",
       "       12.80246644,  9.47964464, 12.20180879,  9.80920509, 16.93010733,\n",
       "       13.06791807,  6.55847895, 14.85656216, 13.04384254, 20.44547417,\n",
       "       14.59675499,  1.7293046 ,  8.45210872, 21.0196225 , 13.74660892,\n",
       "       13.52358518, 12.96875897, 18.71076533, 20.37215636,  6.21001819,\n",
       "        9.12426353, 13.43725828, 10.50687411,  8.11353918, 15.54491848,\n",
       "        8.73163843, 14.76175146, 11.02587913,  4.36047602, 19.54413636,\n",
       "       13.16222435, 13.70845457, 19.17845559, 19.4364048 , 13.27616161,\n",
       "       20.5579074 , 17.66218528, 10.32961618,  6.21954622, 16.33257562,\n",
       "       11.20910212, 16.11974799,  8.34242409, 14.12147392,  9.86742952,\n",
       "        2.44265711, 14.94420136, 18.93640791, 21.47334256, 19.41952264,\n",
       "        9.55796481,  7.64489706, 15.43507927, 19.74918833, 14.84674457,\n",
       "       21.84791902,  3.75619133, 22.27435055, 12.5956964 , 14.07718409,\n",
       "        4.54742258, 17.46920554, 19.05797525, 12.70134922, 21.73741814,\n",
       "       19.71626563, 17.43750079, 18.7966353 , 20.22999598, 12.31057975,\n",
       "       12.2035169 , 13.02133588, 13.35588984, 18.43897071, 22.30086595,\n",
       "       19.62520453, 12.19705824, 13.7439475 , 18.35702476, 20.53922566,\n",
       "       10.73079752, 15.33776518,  9.82401112, 10.92370578, 11.08343556,\n",
       "       18.22895153, 21.28106607, 20.07377344, 15.12367815, 14.18750085,\n",
       "       18.53258027, 11.23520462, 12.18397437, 21.14840523, 13.54985948,\n",
       "       13.4046681 , 10.51976235,  5.66247721, 21.28881925, 18.99638937,\n",
       "        9.07591109,  6.88902974, 15.27765777, 23.9607523 , 13.84561937,\n",
       "       17.32637477, 15.10956137, 18.24918443, 14.22007762, 18.39052963,\n",
       "       15.65287854, 12.32356949, 29.8663882 ,  8.2913824 ,  9.98900779,\n",
       "       17.26759159,  7.56986229,  8.7511952 , 21.05821042, 10.7308867 ,\n",
       "       15.3224574 ,  4.91494397, 20.27518954, 18.66868123, 25.89594271,\n",
       "       12.618616  , 11.17147616, 18.42760579, 19.54919908, 16.33681273,\n",
       "       16.92731418, 23.28234635, 17.86163984, 19.88040814, 15.61665253,\n",
       "       11.3243051 , 17.60207995, 19.33135519, 15.40817188, 21.57296531,\n",
       "       12.94842939, 18.63059222,  5.30985114,  5.85612394, 30.55616995,\n",
       "        9.42223599, 11.27408182, 19.91828641, 10.62027607, 10.2313983 ,\n",
       "       22.36379292, 11.5624293 , 17.27165308,  9.06592562, 12.37796421,\n",
       "       20.08681587, 19.76945826, 14.01335423, 14.61831802,  5.81757818,\n",
       "       11.68053797,  4.5890499 ,  3.53945038,  8.22223518, 26.7251494 ,\n",
       "       15.3110067 , 16.31166906,  9.73014903, 10.17149676, 15.80322863,\n",
       "        9.91430954,  9.41623604,  7.50903877, 27.44944668, 18.09806998,\n",
       "       15.97539818,  8.71275793, 20.66794553,  9.95325788, 10.04356354,\n",
       "        6.4653302 , 22.01861595,  9.03860201, 12.20500666, 16.85743337,\n",
       "       12.39349018,  9.8584445 , 23.71482986, 16.51813586,  6.33735755,\n",
       "       15.48053408, 10.8089904 ,  3.01500184, 22.27044682, 13.67208608,\n",
       "       23.79186123, 24.58406071, 10.15247438,  9.33875827, 10.91211853,\n",
       "       20.73455362,  8.95801376, 17.23542625, 18.50374521, 16.9395233 ,\n",
       "        9.71978228, 17.84772947, 19.57470959,  7.48426979, 12.24991026,\n",
       "       18.98368147, 16.64628924, 12.97946012, 18.1171075 ,  8.0794605 ,\n",
       "        9.82567315, 12.59175718, 23.82535336, 22.89456353, 17.15149503,\n",
       "       20.65721088, 22.99722575, 10.62384056, 18.61002317,  5.40159618,\n",
       "       26.02289289, 13.48883856, 22.8655649 , 21.68411023,  1.43881166,\n",
       "       15.86168516, 14.77991017,  7.73789475, 17.25544634, 14.13130076,\n",
       "        5.28052793,  1.65395659, 19.8186473 , 16.43822187,  8.91735145,\n",
       "       26.89952865, 12.36593762, 17.98601884, 16.97287726, 12.0906835 ,\n",
       "       12.1642263 ,  8.02823087, 11.74612226, 21.06954573, 17.45462696,\n",
       "       16.88224218, 21.56138385, 13.88445717,  9.97712194, 16.94277058,\n",
       "       11.30402966,  7.92388184, 17.77219291, 22.50205   ,  4.2323175 ,\n",
       "       22.61433043,  9.08296024, 20.64917481, 16.71795845, 11.17641698,\n",
       "        9.64082648, 15.11798328, 13.38375806, 29.31769676, 10.58880777,\n",
       "        7.32503158, 12.45553865, 11.83428686, 18.34307388, 17.46908274,\n",
       "        8.54782148,  8.22045914, 22.17544643, 14.1921009 , 17.66895367,\n",
       "       18.10761721, 29.25154709, 17.82719493, 16.52846179, 13.1262875 ,\n",
       "        8.67315161, 16.6900963 , 17.5118807 , 11.72159011, 14.91492723,\n",
       "       14.50250307, 14.18176237, 19.1088232 ,  9.29317175,  9.2635308 ,\n",
       "       16.06612083, 17.91160396, 10.3156622 , 26.56449791, 13.79919928,\n",
       "       24.40958133, 19.98613996, 27.29100832, 14.68788685, 18.54207715,\n",
       "       11.38078555, 10.77121493, 23.78149971, 10.82922714, 16.41608398,\n",
       "        7.07850515, 21.29842821, 24.97952857, 11.95765796, 25.26710297,\n",
       "       10.80620297, 14.7270867 , 21.21119084, 13.34851548, 26.54579053,\n",
       "        8.00816461, 13.52881783,  2.4890772 , 24.03519767, 20.15026673,\n",
       "        6.18054777, 21.44267432, 21.3346549 , 17.8842675 ,  4.71667646,\n",
       "        7.9761564 , 21.43489808, 19.70428585, 14.79336284,  7.21031201,\n",
       "       13.30400217, 21.62328105, 22.30402473, 10.16368775,  4.61308299,\n",
       "       21.30170916,  9.4871076 , 11.36665803, 14.94087904, 17.16162449,\n",
       "        5.87308717, 14.55167395, 11.24812892, 10.88604959, 14.2355976 ,\n",
       "        1.25684176, 25.16220638, 19.32634281, 23.48871773,  9.06483738,\n",
       "       10.6019426 , 16.01400453, 24.53705752, 21.25559255, 18.77971286,\n",
       "       27.69860128, 12.19900631, 14.70231999, 11.66533734, 14.49069852,\n",
       "       22.74830536, 19.80507249, 22.93922552, 10.85979229, 16.46191895,\n",
       "       12.01405481, 19.78554184, 14.4992699 , 12.3187193 , 15.58679185,\n",
       "       23.07410781, 16.48282947, 15.92623537, 22.35178784,  8.75556647,\n",
       "       17.15102587,  5.78835626, 15.38694569, 10.56415094, 13.95791958,\n",
       "       14.42968983, 26.01675402, 17.27237274, 20.31728128, 17.60720801,\n",
       "       17.45019749, 20.73652644, 14.21414463,  7.28353633, 10.43710844,\n",
       "       -4.58937928, 15.10662201, 11.41551793, 15.26540385, 14.5647798 ,\n",
       "       12.38555849, 18.11569057, 15.0387527 , 18.42351528, 12.08719992,\n",
       "       19.50930537, 15.6429898 , 11.74950159,  4.25299683, 14.45722186,\n",
       "       12.61743496,  6.59355072,  8.93317874, 14.20316823, 11.49726105,\n",
       "       12.12978461, 17.07060641, 17.69638498, 18.07486774, 19.14539553,\n",
       "       16.02729749, 10.86941587, 26.37998717, 22.44210726, 18.99982102,\n",
       "       10.92055084, 12.7333982 , 14.25695534,  4.70113617, 11.54038409,\n",
       "       17.71226493, 10.22398038,  5.27402577, 17.76545432, 17.74129066,\n",
       "       10.36423815, 21.72329496,  7.27391856, 14.16181292, 14.44221672,\n",
       "       11.94382445, 13.73741673, 22.36378355, 18.69105032, 16.02306104,\n",
       "       13.96510393, 10.02170962, 14.19777115, 18.22082852, 11.94104294,\n",
       "       14.16997257, 10.57227492, 15.59959222, 13.2471225 , 17.24320811,\n",
       "       22.89118555, 15.94389372, 12.19579967, 17.09725593, 20.96150038,\n",
       "       10.41050992, 21.11925709, 19.99352229, 12.46038473, 17.26664796,\n",
       "       16.91933533, 20.40499334, 17.8713733 , 15.6269266 ,  8.78291034,\n",
       "       14.97156014, 16.90955508,  8.82260218, 24.7691052 , -0.69921769,\n",
       "       19.10351099, 22.04523922, 15.32770318, 17.74113804, 25.55699697,\n",
       "       21.03940958, 13.05691831, 28.47071196, 13.50333241, 25.55301655,\n",
       "        2.9484824 , 10.36312908, 17.0309209 , 23.7148847 , 16.62386068,\n",
       "       14.36742603,  8.63961762,  8.87012097, 15.45440281, 17.19057867,\n",
       "       16.05457143, 16.28519939, 11.63683748, 23.72024687, 21.79056145,\n",
       "        4.9724686 , 18.69050739, 20.94929815,  9.6944257 , 13.40810786,\n",
       "       17.33381733, 20.83939962, 14.79890254, 15.71850152, 19.02164047,\n",
       "        7.47977157, 17.60844919, 20.15358835, 15.76232793, 21.98580986,\n",
       "       11.13774586, 13.00351417, 15.46609433,  5.55961126, 14.58018164,\n",
       "       18.82030095, 24.78918154, 19.63994207, 15.96622902, 16.81694018,\n",
       "       11.39731896, 11.10341886, 25.58220265, 16.76036453, 23.04814218,\n",
       "       12.89113451,  9.63834669, 11.39687873, 11.04801789, 10.03384164,\n",
       "       11.28892633, 14.53583831, 12.77953145, 13.06969122,  8.60277725,\n",
       "       11.88711356, 18.88555707, 17.26909438,  8.20368447, 15.78603723,\n",
       "       24.0380246 , 15.49172338, 14.00292699, 11.56550252, 15.83701992,\n",
       "       21.72303517, 14.93946889, 10.53923106, 10.27500339, 22.31344428,\n",
       "        3.6947881 , 15.32933073, 19.37020472, 13.88322494, 17.35275681,\n",
       "        9.68238587,  9.80926325, 19.04187165, 19.81000364, 19.96988083,\n",
       "       13.76497679, 15.71339555, 22.58182645, 19.27128487, 12.26035604,\n",
       "        6.55205805,  4.07993049,  7.51373204,  2.00258948, 13.57513529,\n",
       "       17.8218516 , 18.37138915, 10.0944323 ,  9.05718981, 12.81739476,\n",
       "       24.43797325, 11.45239641, 16.95135853, 14.8765254 , 14.97814921,\n",
       "       19.33298742,  7.44390841, 11.90052428, 19.46833205, 15.48807145,\n",
       "       17.321522  , 14.45391944, 14.34993542, 14.40642212, 13.72525995,\n",
       "       18.17693818, 20.92472254, 16.19616629,  4.72207246, 12.47067092,\n",
       "       16.44186306, 17.07562231, 10.41128631, 15.29206816, 17.88739544,\n",
       "       19.53483925, 10.95286902, 12.92287233, 16.0947887 , 17.62396477,\n",
       "       15.50641792, 30.39373305, 16.88129518, 27.12866836, 19.16181698,\n",
       "       18.78639671, 18.91725779, 16.17772038, 15.03697894, 17.24196218,\n",
       "        6.57955146, 17.3557606 , 12.09575545, 11.94217542,  6.54796376,\n",
       "       10.4516791 , 15.81006511, 18.05481976, 11.27555048, 18.92412895,\n",
       "       14.20686204, 12.4031014 , 10.24522957, 12.99595957, 11.25643178,\n",
       "       19.10216875, 17.34117638, 19.03317017, 19.69868813, 12.29385569,\n",
       "       13.76353384, 21.43619896, 17.85820096, 10.19828509, 24.20549142,\n",
       "       15.47475838, 13.24161115, 22.74508172, 15.90524891, 15.37367039,\n",
       "       12.09060245, 19.38173806, 18.08606782, 27.47893492, 26.71679999,\n",
       "       18.868688  , 21.98445507, 11.4525719 , 11.98436933, 27.19564454,\n",
       "       13.36673743, 21.79161448, 17.45240616, 17.64686583, 15.1888603 ,\n",
       "       16.87308964,  3.0936195 , 21.44632986, 13.48396452, 17.15466432,\n",
       "        9.07925913,  9.26874499, 19.9841242 , 20.37557758,  8.89192611,\n",
       "       16.6306891 , 14.82522992, 17.16844227, 10.49542781, 22.33716869,\n",
       "       23.02107995,  3.66626983, 10.11359247, 10.31499521,  8.1805058 ,\n",
       "        6.6572991 , 14.68116878, 14.51847443, 22.77377835, 15.93629131,\n",
       "       19.06327063, 14.34088476, 20.24539769, 12.10080768, 10.95462536,\n",
       "       19.28166145, 15.31033004, 12.2139053 , 18.89799396, 23.78949485,\n",
       "       24.58388794, 19.58352077, 23.43262864, 27.70004671, 16.32776651,\n",
       "        9.0131523 , 14.23182814, 18.18302382, 19.82341808,  5.61689023,\n",
       "       11.11307734,  4.90570704, 16.51615608,  5.18805957, 14.60442017,\n",
       "       21.62523724,  9.42845982,  9.08043497, 12.72512453, 19.34146523,\n",
       "       17.36041361, 15.20949093, 15.24676049, 14.45635804, 19.04760527,\n",
       "       13.80471715,  9.76997253, 10.36507123,  6.26509313, 16.82930805,\n",
       "       30.70850961, 10.86204784, 19.49365889, 23.35058758, 26.0214161 ,\n",
       "       14.26329629, 16.76434112, 23.92690527,  9.34486017,  8.83058415,\n",
       "       10.79649377, 24.17685639, 15.49599231, 13.91211879,  4.13230819,\n",
       "       17.22491667, 14.86646742, 12.22235829, 17.06564436, 10.92514309,\n",
       "       17.75196305, 19.0375112 , 15.27234947, 20.34881766,  4.58604383,\n",
       "       15.76825009,  4.84649603,  4.30068281, 15.99002301, 23.86197856,\n",
       "        7.2562266 , 20.93684278, 14.87413401, 12.44605632, 18.2100778 ,\n",
       "       12.72218913, 20.1566012 , 16.77238834, 16.31295975, 10.92386277,\n",
       "        9.90855048,  8.2182057 , 23.19157379, 13.76939342,  3.57163991,\n",
       "       12.60971875, 14.69493317, 19.4693379 ,  4.43797861, 12.30141455,\n",
       "       16.09150197,  7.39809745, 12.89859126,  7.69750736, 22.30732184,\n",
       "       14.95791249,  9.49622554, 10.75343156, 19.39334032, 17.99071898,\n",
       "        9.99370916, 11.85333598, 16.26241772, 23.76592877, 28.65347801,\n",
       "       13.58264071, 13.52305452, 24.21666127,  8.59897442,  9.54152338,\n",
       "       19.68850678,  5.50165706, 23.84439698, 20.55916671, 26.82303102,\n",
       "       13.83215946, 22.26837312,  6.96685005,  9.75410098,  9.04558144,\n",
       "       19.35697938, 12.72346081, 16.29167282,  1.47522735, 12.64284993,\n",
       "       13.97551823, 18.19593864, 18.25445783, 16.69385837, 21.94374699,\n",
       "       18.44291486, 11.93984655, 13.91096974,  6.52463509, 10.76204436,\n",
       "       11.83956765, 17.39862103, 17.89266269, 16.51644798, -1.88577245,\n",
       "       18.07279156,  7.90973763,  7.78834307, 10.70616929, -1.44653414,\n",
       "       22.28307652, 12.83586503, 24.20248958, 16.81060362, 32.23488751,\n",
       "       27.01470628, 14.11313719, 27.16687377, 14.9186835 , 14.74313689,\n",
       "       14.224791  ,  9.1288137 , 18.26168353,  7.24502928, 22.67558921,\n",
       "       18.96767409,  6.8187144 , 11.12611041, 17.42039746, 27.26668716,\n",
       "        9.33220779, 10.90172116, 13.63781545, 21.72565495, 24.38556905,\n",
       "       17.47803273, 13.83128789, 10.08885491, 14.99070879, 15.11155187,\n",
       "       15.39351072, 20.76079174,  8.73132947, 16.06642441, 13.61145656,\n",
       "       12.55553091, 16.39522457, 20.35383573, 19.62862758, 19.06666653,\n",
       "       10.6348546 , 11.53138763, 16.4147899 , 20.24188429, 13.5021713 ,\n",
       "       18.92348334, 18.19258206, 20.74886929, 21.03235075, 18.50928093,\n",
       "       11.73620986,  6.82022118,  2.61459952, 15.18460961,  5.3752019 ,\n",
       "        2.93749049, 20.26915878, 10.6423706 , 12.97988384, 15.85207224,\n",
       "       15.72638104, 10.50435904, 11.09516044, 21.91710547, 20.17621432,\n",
       "        1.92134536, 26.78399852, 13.65948624, 14.6754757 , 13.98128025,\n",
       "        3.73142523,  9.4719928 , 12.87164782, 14.8342679 , 17.14519872,\n",
       "       13.90314068,  7.51113359, 17.17193772, 25.11471748, 12.60140035,\n",
       "       22.68974296, 31.01174922, 10.82637504, 10.49464422, 11.50947901,\n",
       "       17.20451295,  7.45344273,  9.8893641 ,  8.54013823, 10.78875656,\n",
       "       18.18409925,  8.93136759, 23.68093248, 12.93472412, 11.17025285,\n",
       "       15.90257304, 17.63856639, 11.81975924, 19.69403229,  6.4508781 ,\n",
       "        8.39591127, 20.51520302, 21.91910332, 12.70620248,  7.54481744,\n",
       "       10.7772889 , 21.83344913, 29.38471993,  7.50932738, 16.7745307 ,\n",
       "       17.12816273, 15.21818561,  9.32535006, 10.68228849,  9.69585451,\n",
       "       12.14573587, 15.09066008, 14.11828551, 24.35590873, 19.92930165,\n",
       "       30.27905726, 23.06764716,  5.88981596, 12.94545734, 11.37218297,\n",
       "       18.18620838,  3.60042993, 18.06705525, 13.55905144, 16.5943291 ,\n",
       "       23.30647544,  9.54969674,  9.7407461 , 13.73703753, 14.83156001,\n",
       "       10.05908892,  9.10957131, 22.38118326,  7.09264802,  9.51956981,\n",
       "       26.6336165 , 14.60680856, 17.56816376, 14.44404079, 12.40750831,\n",
       "       22.44483179, 12.25664368, 15.28316274, 22.80390998,  7.69775775])"
      ]
     },
     "execution_count": 21,
     "metadata": {},
     "output_type": "execute_result"
    }
   ],
   "source": [
    "modelo.predict(dados[['X']])"
   ]
  },
  {
   "cell_type": "markdown",
   "id": "0daffcd8",
   "metadata": {},
   "source": [
    "As predições podem ser armazenadas como uma coluna do dataframe:"
   ]
  },
  {
   "cell_type": "markdown",
   "id": "09477af5",
   "metadata": {},
   "source": [
    "## Realizando predições"
   ]
  },
  {
   "cell_type": "code",
   "execution_count": 22,
   "id": "96504b76",
   "metadata": {},
   "outputs": [],
   "source": [
    "%matplotlib inline"
   ]
  },
  {
   "cell_type": "code",
   "execution_count": 24,
   "id": "ad67d6b9",
   "metadata": {},
   "outputs": [],
   "source": [
    "dados['y_predito'] = modelo.predict(dados[['X']])"
   ]
  },
  {
   "cell_type": "code",
   "execution_count": 25,
   "id": "127ead0c",
   "metadata": {},
   "outputs": [
    {
     "data": {
      "image/png": "[encoded data removed]",
      "text/plain": [
       "<Figure size 432x288 with 1 Axes>"
      ]
     },
     "metadata": {
      "needs_background": "light"
     },
     "output_type": "display_data"
    }
   ],
   "source": [
    "plt.scatter(dados['X'], dados['y'])\n",
    "plt.plot(dados['X'], dados['y_predito'], color='red')\n",
    "plt.ylabel('Y - variável dependente')\n",
    "plt.xlabel('X - variável independente')\n",
    "plt.title('Y vs X')\n",
    "plt.show()"
   ]
  },
  {
   "cell_type": "markdown",
   "id": "7fed6a78",
   "metadata": {},
   "source": [
    "No objeto <b> modelo </b>, também podemos verificar o valor dos coeficientes ajustados:"
   ]
  },
  {
   "cell_type": "code",
   "execution_count": 26,
   "id": "d1b91d21",
   "metadata": {},
   "outputs": [],
   "source": [
    "a, b = modelo.coef_[0], modelo.intercept_"
   ]
  },
  {
   "cell_type": "code",
   "execution_count": 27,
   "id": "745c6c06",
   "metadata": {},
   "outputs": [
    {
     "name": "stdout",
     "output_type": "stream",
     "text": [
      "Coeficiente angular (a) = 1.9787431143689695, Intercepto (b) = 5.090886251790021\n"
     ]
    }
   ],
   "source": [
    "print(f\"Coeficiente angular (a) = {a}, Intercepto (b) = {b}\")"
   ]
  },
  {
   "cell_type": "markdown",
   "id": "a4dcdd23",
   "metadata": {},
   "source": [
    "Ou seja, a equação da reta nesse caso é:"
   ]
  },
  {
   "cell_type": "markdown",
   "id": "250d2b61",
   "metadata": {},
   "source": [
    "\\begin{align}\n",
    "Y = a*X + b\n",
    "\\end{align}"
   ]
  },
  {
   "cell_type": "markdown",
   "id": "40e20f8c",
   "metadata": {},
   "source": [
    "<font color=\"blue\"> <b> Qual o significado de a e b? </b> </font>"
   ]
  },
  {
   "cell_type": "markdown",
   "id": "ddbd3ef4",
   "metadata": {},
   "source": [
    "## Quão bom foi o ajuste? "
   ]
  },
  {
   "cell_type": "markdown",
   "id": "d80ef7ad",
   "metadata": {},
   "source": [
    "O sklearn possui um módulo dedicado com funções para calcular métricas do modelo"
   ]
  },
  {
   "cell_type": "code",
   "execution_count": 28,
   "id": "13718c47",
   "metadata": {},
   "outputs": [],
   "source": [
    "from sklearn.metrics import r2_score, mean_absolute_error, mean_squared_error"
   ]
  },
  {
   "cell_type": "markdown",
   "id": "b70bbac7",
   "metadata": {},
   "source": [
    "Erro médio absoluto:"
   ]
  },
  {
   "cell_type": "code",
   "execution_count": 29,
   "id": "dd19d6c5",
   "metadata": {},
   "outputs": [
    {
     "data": {
      "image/png": "[encoded data removed]",
      "text/plain": [
       "<IPython.core.display.Image object>"
      ]
     },
     "execution_count": 29,
     "metadata": {},
     "output_type": "execute_result"
    }
   ],
   "source": [
    "Image('../figures/MAE.png')"
   ]
  },
  {
   "cell_type": "markdown",
   "id": "403d1dd9",
   "metadata": {},
   "source": [
    "Coeficiente de determinação (% variabilidade explicada)"
   ]
  },
  {
   "cell_type": "code",
   "execution_count": 30,
   "id": "9b5d1ba6",
   "metadata": {},
   "outputs": [
    {
     "data": {
      "image/png": "[encoded data removed]",
      "text/plain": [
       "<IPython.core.display.Image object>"
      ]
     },
     "execution_count": 30,
     "metadata": {},
     "output_type": "execute_result"
    }
   ],
   "source": [
    "Image('../figures/r2_scores.png')"
   ]
  },
  {
   "cell_type": "code",
   "execution_count": null,
   "id": "cb9a22df",
   "metadata": {},
   "outputs": [],
   "source": [
    "Image('../figures/ssres.png')"
   ]
  },
  {
   "cell_type": "code",
   "execution_count": null,
   "id": "5794e40e",
   "metadata": {},
   "outputs": [],
   "source": [
    "Image('../figures/sstot.png')"
   ]
  },
  {
   "cell_type": "code",
   "execution_count": 31,
   "id": "5bcb2f7a",
   "metadata": {},
   "outputs": [
    {
     "data": {
      "image/png": "[encoded data removed]",
      "text/plain": [
       "<IPython.core.display.Image object>"
      ]
     },
     "execution_count": 31,
     "metadata": {},
     "output_type": "execute_result"
    }
   ],
   "source": [
    "Image('../figures/mse.png')"
   ]
  },
  {
   "cell_type": "code",
   "execution_count": 32,
   "id": "d7470027",
   "metadata": {},
   "outputs": [],
   "source": [
    "metricas_do_modelo = {\n",
    "    'R2': r2_score(y_true = dados['y'], y_pred=dados['y_predito']),\n",
    "    'MAE': mean_absolute_error(y_true = dados['y'], y_pred=dados['y_predito']),\n",
    "}"
   ]
  },
  {
   "cell_type": "markdown",
   "id": "d2855b9b",
   "metadata": {},
   "source": [
    "Podemos fazer de forma dinâmica:"
   ]
  },
  {
   "cell_type": "code",
   "execution_count": 33,
   "id": "887feaaa",
   "metadata": {},
   "outputs": [],
   "source": [
    "score_funcs = [r2_score, mean_absolute_error, mean_squared_error]\n",
    "\n",
    "metricas_do_modelo = {}\n",
    "for funcao in score_funcs:\n",
    "    metricas_do_modelo[funcao.__name__] = funcao(y_true=dados['y'], y_pred=dados['y_predito'])\n"
   ]
  },
  {
   "cell_type": "code",
   "execution_count": 34,
   "id": "28e01af6",
   "metadata": {},
   "outputs": [
    {
     "data": {
      "text/plain": [
       "{'r2_score': 0.8866624084232779,\n",
       " 'mean_absolute_error': 1.6400074772933422,\n",
       " 'mean_squared_error': 4.220594892038474}"
      ]
     },
     "execution_count": 34,
     "metadata": {},
     "output_type": "execute_result"
    }
   ],
   "source": [
    "metricas_do_modelo\n"
   ]
  },
  {
   "cell_type": "code",
   "execution_count": 35,
   "id": "192f76d3",
   "metadata": {},
   "outputs": [
    {
     "data": {
      "text/html": [
       "<div>\n",
       "<style scoped>\n",
       "    .dataframe tbody tr th:only-of-type {\n",
       "        vertical-align: middle;\n",
       "    }\n",
       "\n",
       "    .dataframe tbody tr th {\n",
       "        vertical-align: top;\n",
       "    }\n",
       "\n",
       "    .dataframe thead th {\n",
       "        text-align: right;\n",
       "    }\n",
       "</style>\n",
       "<table border=\"1\" class=\"dataframe\">\n",
       "  <thead>\n",
       "    <tr style=\"text-align: right;\">\n",
       "      <th></th>\n",
       "      <th>r2_score</th>\n",
       "      <th>mean_absolute_error</th>\n",
       "      <th>mean_squared_error</th>\n",
       "    </tr>\n",
       "  </thead>\n",
       "  <tbody>\n",
       "    <tr>\n",
       "      <th>0</th>\n",
       "      <td>0.886662</td>\n",
       "      <td>1.640007</td>\n",
       "      <td>4.220595</td>\n",
       "    </tr>\n",
       "  </tbody>\n",
       "</table>\n",
       "</div>"
      ],
      "text/plain": [
       "   r2_score  mean_absolute_error  mean_squared_error\n",
       "0  0.886662             1.640007            4.220595"
      ]
     },
     "execution_count": 35,
     "metadata": {},
     "output_type": "execute_result"
    }
   ],
   "source": [
    "pd.DataFrame([metricas_do_modelo])"
   ]
  },
  {
   "cell_type": "markdown",
   "id": "d143b98e",
   "metadata": {},
   "source": [
    "## Efeito de um outlier"
   ]
  },
  {
   "cell_type": "markdown",
   "id": "f064150b",
   "metadata": {},
   "source": [
    "O que acontece quando os dados possuem outliers? Vamos simular:"
   ]
  },
  {
   "cell_type": "code",
   "execution_count": 36,
   "id": "72530201",
   "metadata": {},
   "outputs": [],
   "source": [
    "dados.loc[500, 'y'] = 500"
   ]
  },
  {
   "cell_type": "code",
   "execution_count": 37,
   "id": "9a150906",
   "metadata": {},
   "outputs": [
    {
     "data": {
      "text/plain": [
       "LinearRegression()"
      ]
     },
     "execution_count": 37,
     "metadata": {},
     "output_type": "execute_result"
    }
   ],
   "source": [
    "modelo.fit(X=dados['X'].values.reshape(-1,1), y=dados['y'])"
   ]
  },
  {
   "cell_type": "code",
   "execution_count": 105,
   "id": "1a92cfa7",
   "metadata": {},
   "outputs": [
    {
     "ename": "KeyError",
     "evalue": "\"None of [Index(['X'], dtype='object')] are in the [columns]\"",
     "output_type": "error",
     "traceback": [
      "\u001b[0;31m---------------------------------------------------------------------------\u001b[0m",
      "\u001b[0;31mKeyError\u001b[0m                                  Traceback (most recent call last)",
      "\u001b[0;32m<ipython-input-105-4150ed910a94>\u001b[0m in \u001b[0;36m<module>\u001b[0;34m\u001b[0m\n\u001b[0;32m----> 1\u001b[0;31m \u001b[0mdados\u001b[0m\u001b[0;34m[\u001b[0m\u001b[0;34m'y_predito'\u001b[0m\u001b[0;34m]\u001b[0m \u001b[0;34m=\u001b[0m \u001b[0mmodelo\u001b[0m\u001b[0;34m.\u001b[0m\u001b[0mpredict\u001b[0m\u001b[0;34m(\u001b[0m\u001b[0mdados\u001b[0m\u001b[0;34m[\u001b[0m\u001b[0;34m[\u001b[0m\u001b[0;34m'X'\u001b[0m\u001b[0;34m]\u001b[0m\u001b[0;34m]\u001b[0m\u001b[0;34m)\u001b[0m\u001b[0;34m\u001b[0m\u001b[0;34m\u001b[0m\u001b[0m\n\u001b[0m",
      "\u001b[0;32m~/dadosjupyter/lib/python3.9/site-packages/pandas/core/frame.py\u001b[0m in \u001b[0;36m__getitem__\u001b[0;34m(self, key)\u001b[0m\n\u001b[1;32m   3028\u001b[0m             \u001b[0;32mif\u001b[0m \u001b[0mis_iterator\u001b[0m\u001b[0;34m(\u001b[0m\u001b[0mkey\u001b[0m\u001b[0;34m)\u001b[0m\u001b[0;34m:\u001b[0m\u001b[0;34m\u001b[0m\u001b[0;34m\u001b[0m\u001b[0m\n\u001b[1;32m   3029\u001b[0m                 \u001b[0mkey\u001b[0m \u001b[0;34m=\u001b[0m \u001b[0mlist\u001b[0m\u001b[0;34m(\u001b[0m\u001b[0mkey\u001b[0m\u001b[0;34m)\u001b[0m\u001b[0;34m\u001b[0m\u001b[0;34m\u001b[0m\u001b[0m\n\u001b[0;32m-> 3030\u001b[0;31m             \u001b[0mindexer\u001b[0m \u001b[0;34m=\u001b[0m \u001b[0mself\u001b[0m\u001b[0;34m.\u001b[0m\u001b[0mloc\u001b[0m\u001b[0;34m.\u001b[0m\u001b[0m_get_listlike_indexer\u001b[0m\u001b[0;34m(\u001b[0m\u001b[0mkey\u001b[0m\u001b[0;34m,\u001b[0m \u001b[0maxis\u001b[0m\u001b[0;34m=\u001b[0m\u001b[0;36m1\u001b[0m\u001b[0;34m,\u001b[0m \u001b[0mraise_missing\u001b[0m\u001b[0;34m=\u001b[0m\u001b[0;32mTrue\u001b[0m\u001b[0;34m)\u001b[0m\u001b[0;34m[\u001b[0m\u001b[0;36m1\u001b[0m\u001b[0;34m]\u001b[0m\u001b[0;34m\u001b[0m\u001b[0;34m\u001b[0m\u001b[0m\n\u001b[0m\u001b[1;32m   3031\u001b[0m \u001b[0;34m\u001b[0m\u001b[0m\n\u001b[1;32m   3032\u001b[0m         \u001b[0;31m# take() does not accept boolean indexers\u001b[0m\u001b[0;34m\u001b[0m\u001b[0;34m\u001b[0m\u001b[0;34m\u001b[0m\u001b[0m\n",
      "\u001b[0;32m~/dadosjupyter/lib/python3.9/site-packages/pandas/core/indexing.py\u001b[0m in \u001b[0;36m_get_listlike_indexer\u001b[0;34m(self, key, axis, raise_missing)\u001b[0m\n\u001b[1;32m   1264\u001b[0m             \u001b[0mkeyarr\u001b[0m\u001b[0;34m,\u001b[0m \u001b[0mindexer\u001b[0m\u001b[0;34m,\u001b[0m \u001b[0mnew_indexer\u001b[0m \u001b[0;34m=\u001b[0m \u001b[0max\u001b[0m\u001b[0;34m.\u001b[0m\u001b[0m_reindex_non_unique\u001b[0m\u001b[0;34m(\u001b[0m\u001b[0mkeyarr\u001b[0m\u001b[0;34m)\u001b[0m\u001b[0;34m\u001b[0m\u001b[0;34m\u001b[0m\u001b[0m\n\u001b[1;32m   1265\u001b[0m \u001b[0;34m\u001b[0m\u001b[0m\n\u001b[0;32m-> 1266\u001b[0;31m         \u001b[0mself\u001b[0m\u001b[0;34m.\u001b[0m\u001b[0m_validate_read_indexer\u001b[0m\u001b[0;34m(\u001b[0m\u001b[0mkeyarr\u001b[0m\u001b[0;34m,\u001b[0m \u001b[0mindexer\u001b[0m\u001b[0;34m,\u001b[0m \u001b[0maxis\u001b[0m\u001b[0;34m,\u001b[0m \u001b[0mraise_missing\u001b[0m\u001b[0;34m=\u001b[0m\u001b[0mraise_missing\u001b[0m\u001b[0;34m)\u001b[0m\u001b[0;34m\u001b[0m\u001b[0;34m\u001b[0m\u001b[0m\n\u001b[0m\u001b[1;32m   1267\u001b[0m         \u001b[0;32mreturn\u001b[0m \u001b[0mkeyarr\u001b[0m\u001b[0;34m,\u001b[0m \u001b[0mindexer\u001b[0m\u001b[0;34m\u001b[0m\u001b[0;34m\u001b[0m\u001b[0m\n\u001b[1;32m   1268\u001b[0m \u001b[0;34m\u001b[0m\u001b[0m\n",
      "\u001b[0;32m~/dadosjupyter/lib/python3.9/site-packages/pandas/core/indexing.py\u001b[0m in \u001b[0;36m_validate_read_indexer\u001b[0;34m(self, key, indexer, axis, raise_missing)\u001b[0m\n\u001b[1;32m   1306\u001b[0m             \u001b[0;32mif\u001b[0m \u001b[0mmissing\u001b[0m \u001b[0;34m==\u001b[0m \u001b[0mlen\u001b[0m\u001b[0;34m(\u001b[0m\u001b[0mindexer\u001b[0m\u001b[0;34m)\u001b[0m\u001b[0;34m:\u001b[0m\u001b[0;34m\u001b[0m\u001b[0;34m\u001b[0m\u001b[0m\n\u001b[1;32m   1307\u001b[0m                 \u001b[0maxis_name\u001b[0m \u001b[0;34m=\u001b[0m \u001b[0mself\u001b[0m\u001b[0;34m.\u001b[0m\u001b[0mobj\u001b[0m\u001b[0;34m.\u001b[0m\u001b[0m_get_axis_name\u001b[0m\u001b[0;34m(\u001b[0m\u001b[0maxis\u001b[0m\u001b[0;34m)\u001b[0m\u001b[0;34m\u001b[0m\u001b[0;34m\u001b[0m\u001b[0m\n\u001b[0;32m-> 1308\u001b[0;31m                 \u001b[0;32mraise\u001b[0m \u001b[0mKeyError\u001b[0m\u001b[0;34m(\u001b[0m\u001b[0;34mf\"None of [{key}] are in the [{axis_name}]\"\u001b[0m\u001b[0;34m)\u001b[0m\u001b[0;34m\u001b[0m\u001b[0;34m\u001b[0m\u001b[0m\n\u001b[0m\u001b[1;32m   1309\u001b[0m \u001b[0;34m\u001b[0m\u001b[0m\n\u001b[1;32m   1310\u001b[0m             \u001b[0max\u001b[0m \u001b[0;34m=\u001b[0m \u001b[0mself\u001b[0m\u001b[0;34m.\u001b[0m\u001b[0mobj\u001b[0m\u001b[0;34m.\u001b[0m\u001b[0m_get_axis\u001b[0m\u001b[0;34m(\u001b[0m\u001b[0maxis\u001b[0m\u001b[0;34m)\u001b[0m\u001b[0;34m\u001b[0m\u001b[0;34m\u001b[0m\u001b[0m\n",
      "\u001b[0;31mKeyError\u001b[0m: \"None of [Index(['X'], dtype='object')] are in the [columns]\""
     ]
    }
   ],
   "source": [
    "dados['y_predito'] = modelo.predict(dados[['X']])"
   ]
  },
  {
   "cell_type": "code",
   "execution_count": 39,
   "id": "ddd8b77b",
   "metadata": {},
   "outputs": [],
   "source": [
    "score_funcs = [r2_score, mean_absolute_error, mean_squared_error]\n",
    "\n",
    "metricas_do_modelo = {}\n",
    "for funcao in score_funcs:\n",
    "    metricas_do_modelo[funcao.__name__] = funcao(y_true=dados['y'], y_pred=dados['y_predito'])\n"
   ]
  },
  {
   "cell_type": "code",
   "execution_count": 40,
   "id": "6e292141",
   "metadata": {},
   "outputs": [
    {
     "data": {
      "text/html": [
       "<div>\n",
       "<style scoped>\n",
       "    .dataframe tbody tr th:only-of-type {\n",
       "        vertical-align: middle;\n",
       "    }\n",
       "\n",
       "    .dataframe tbody tr th {\n",
       "        vertical-align: top;\n",
       "    }\n",
       "\n",
       "    .dataframe thead th {\n",
       "        text-align: right;\n",
       "    }\n",
       "</style>\n",
       "<table border=\"1\" class=\"dataframe\">\n",
       "  <thead>\n",
       "    <tr style=\"text-align: right;\">\n",
       "      <th></th>\n",
       "      <th>r2_score</th>\n",
       "      <th>mean_absolute_error</th>\n",
       "      <th>mean_squared_error</th>\n",
       "    </tr>\n",
       "  </thead>\n",
       "  <tbody>\n",
       "    <tr>\n",
       "      <th>0</th>\n",
       "      <td>0.081026</td>\n",
       "      <td>2.374023</td>\n",
       "      <td>249.893837</td>\n",
       "    </tr>\n",
       "  </tbody>\n",
       "</table>\n",
       "</div>"
      ],
      "text/plain": [
       "   r2_score  mean_absolute_error  mean_squared_error\n",
       "0  0.081026             2.374023          249.893837"
      ]
     },
     "execution_count": 40,
     "metadata": {},
     "output_type": "execute_result"
    }
   ],
   "source": [
    "pd.DataFrame([metricas_do_modelo])"
   ]
  },
  {
   "cell_type": "code",
   "execution_count": 41,
   "id": "111ab8aa",
   "metadata": {},
   "outputs": [
    {
     "data": {
      "text/plain": [
       "Text(0.5, 0, 'X - variável independente')"
      ]
     },
     "execution_count": 41,
     "metadata": {},
     "output_type": "execute_result"
    },
    {
     "data": {
      "image/png": "[encoded data removed]",
      "text/plain": [
       "<Figure size 432x288 with 1 Axes>"
      ]
     },
     "metadata": {
      "needs_background": "light"
     },
     "output_type": "display_data"
    }
   ],
   "source": [
    "fig = plt.scatter(dados['X'], dados['y'])\n",
    "plt.ylabel('Y - variável dependente')\n",
    "plt.xlabel('X - variável independente')"
   ]
  },
  {
   "cell_type": "code",
   "execution_count": 42,
   "id": "8a1b42fd",
   "metadata": {},
   "outputs": [],
   "source": [
    "a, b = modelo.coef_[0], modelo.intercept_"
   ]
  },
  {
   "cell_type": "code",
   "execution_count": 43,
   "id": "d5cdfad0",
   "metadata": {},
   "outputs": [
    {
     "name": "stdout",
     "output_type": "stream",
     "text": [
      "Coeficiente angular (a) = 1.6164046690961338, Intercepto (b) = 7.4050584961176895\n"
     ]
    }
   ],
   "source": [
    "print(f\"Coeficiente angular (a) = {a}, Intercepto (b) = {b}\")"
   ]
  },
  {
   "cell_type": "code",
   "execution_count": 44,
   "id": "7b5616b1",
   "metadata": {},
   "outputs": [],
   "source": [
    "#removendo o outlier e substituindo pela mediana\n",
    "dados.loc[500, 'y'] = dados['y'].median()"
   ]
  },
  {
   "cell_type": "markdown",
   "id": "3452ecef",
   "metadata": {},
   "source": [
    "<b> <font color=\"blue\"> IMPORTANTE </font> </b> "
   ]
  },
  {
   "cell_type": "markdown",
   "id": "16d81ffe",
   "metadata": {},
   "source": [
    "Atente-se ao fato que acabamos de medir o erro do modelo com os dados de treinamento. Quando falamos em modelagem preditiva, queremos ter uma ideia de qual será seu erro em novas obervações, então será que essa forma de estimar o erro é a mais adequada? Falaremos sobre isso em breve! "
   ]
  },
  {
   "cell_type": "markdown",
   "id": "3bfd350a",
   "metadata": {},
   "source": [
    "## As métricas de desempenho são suficientes?"
   ]
  },
  {
   "cell_type": "markdown",
   "id": "2ff77a48",
   "metadata": {},
   "source": [
    "<b> Um modelo de regressão linear se baseia em premissas. Mesmo com um baixo erro ou alto R², se elas não tiverem sendo respeitadas, há grande risco de que as conclusões tiradas sejam inválidas."
   ]
  },
  {
   "cell_type": "markdown",
   "id": "6ae6ed32",
   "metadata": {},
   "source": [
    "- A variável resposta (y) deve ter uma relação linear com as variáveis independentes (explanatórias ou preditoras) (X);\n",
    "- O erro residual (yreal - ypred) deve aleatório (independente e identicamente distribuído)\n",
    "- O resíduo deve ter distribuição normal\n",
    "- O resíduo deve ter homoscedasticidade (variância constante)\n",
    "\n",
    "https://towardsdatascience.com/assumptions-of-linear-regression-5d87c347140"
   ]
  },
  {
   "cell_type": "markdown",
   "id": "bcca34eb",
   "metadata": {},
   "source": [
    "## Inspecionando o resíduo do modelo"
   ]
  },
  {
   "cell_type": "code",
   "execution_count": 104,
   "id": "8a287916",
   "metadata": {},
   "outputs": [
    {
     "ename": "KeyError",
     "evalue": "'y_predito'",
     "output_type": "error",
     "traceback": [
      "\u001b[0;31m---------------------------------------------------------------------------\u001b[0m",
      "\u001b[0;31mKeyError\u001b[0m                                  Traceback (most recent call last)",
      "\u001b[0;32m~/dadosjupyter/lib/python3.9/site-packages/pandas/core/indexes/base.py\u001b[0m in \u001b[0;36mget_loc\u001b[0;34m(self, key, method, tolerance)\u001b[0m\n\u001b[1;32m   3079\u001b[0m             \u001b[0;32mtry\u001b[0m\u001b[0;34m:\u001b[0m\u001b[0;34m\u001b[0m\u001b[0;34m\u001b[0m\u001b[0m\n\u001b[0;32m-> 3080\u001b[0;31m                 \u001b[0;32mreturn\u001b[0m \u001b[0mself\u001b[0m\u001b[0;34m.\u001b[0m\u001b[0m_engine\u001b[0m\u001b[0;34m.\u001b[0m\u001b[0mget_loc\u001b[0m\u001b[0;34m(\u001b[0m\u001b[0mcasted_key\u001b[0m\u001b[0;34m)\u001b[0m\u001b[0;34m\u001b[0m\u001b[0;34m\u001b[0m\u001b[0m\n\u001b[0m\u001b[1;32m   3081\u001b[0m             \u001b[0;32mexcept\u001b[0m \u001b[0mKeyError\u001b[0m \u001b[0;32mas\u001b[0m \u001b[0merr\u001b[0m\u001b[0;34m:\u001b[0m\u001b[0;34m\u001b[0m\u001b[0;34m\u001b[0m\u001b[0m\n",
      "\u001b[0;32mpandas/_libs/index.pyx\u001b[0m in \u001b[0;36mpandas._libs.index.IndexEngine.get_loc\u001b[0;34m()\u001b[0m\n",
      "\u001b[0;32mpandas/_libs/index.pyx\u001b[0m in \u001b[0;36mpandas._libs.index.IndexEngine.get_loc\u001b[0;34m()\u001b[0m\n",
      "\u001b[0;32mpandas/_libs/hashtable_class_helper.pxi\u001b[0m in \u001b[0;36mpandas._libs.hashtable.PyObjectHashTable.get_item\u001b[0;34m()\u001b[0m\n",
      "\u001b[0;32mpandas/_libs/hashtable_class_helper.pxi\u001b[0m in \u001b[0;36mpandas._libs.hashtable.PyObjectHashTable.get_item\u001b[0;34m()\u001b[0m\n",
      "\u001b[0;31mKeyError\u001b[0m: 'y_predito'",
      "\nThe above exception was the direct cause of the following exception:\n",
      "\u001b[0;31mKeyError\u001b[0m                                  Traceback (most recent call last)",
      "\u001b[0;32m<ipython-input-104-894ece811eb7>\u001b[0m in \u001b[0;36m<module>\u001b[0;34m\u001b[0m\n\u001b[0;32m----> 1\u001b[0;31m \u001b[0mdados\u001b[0m\u001b[0;34m[\u001b[0m\u001b[0;34m'residuo'\u001b[0m\u001b[0;34m]\u001b[0m \u001b[0;34m=\u001b[0m \u001b[0mdados\u001b[0m\u001b[0;34m[\u001b[0m\u001b[0;34m'y_predito'\u001b[0m\u001b[0;34m]\u001b[0m \u001b[0;34m-\u001b[0m \u001b[0mdados\u001b[0m\u001b[0;34m[\u001b[0m\u001b[0;34m'y'\u001b[0m\u001b[0;34m]\u001b[0m\u001b[0;34m\u001b[0m\u001b[0;34m\u001b[0m\u001b[0m\n\u001b[0m",
      "\u001b[0;32m~/dadosjupyter/lib/python3.9/site-packages/pandas/core/frame.py\u001b[0m in \u001b[0;36m__getitem__\u001b[0;34m(self, key)\u001b[0m\n\u001b[1;32m   3022\u001b[0m             \u001b[0;32mif\u001b[0m \u001b[0mself\u001b[0m\u001b[0;34m.\u001b[0m\u001b[0mcolumns\u001b[0m\u001b[0;34m.\u001b[0m\u001b[0mnlevels\u001b[0m \u001b[0;34m>\u001b[0m \u001b[0;36m1\u001b[0m\u001b[0;34m:\u001b[0m\u001b[0;34m\u001b[0m\u001b[0;34m\u001b[0m\u001b[0m\n\u001b[1;32m   3023\u001b[0m                 \u001b[0;32mreturn\u001b[0m \u001b[0mself\u001b[0m\u001b[0;34m.\u001b[0m\u001b[0m_getitem_multilevel\u001b[0m\u001b[0;34m(\u001b[0m\u001b[0mkey\u001b[0m\u001b[0;34m)\u001b[0m\u001b[0;34m\u001b[0m\u001b[0;34m\u001b[0m\u001b[0m\n\u001b[0;32m-> 3024\u001b[0;31m             \u001b[0mindexer\u001b[0m \u001b[0;34m=\u001b[0m \u001b[0mself\u001b[0m\u001b[0;34m.\u001b[0m\u001b[0mcolumns\u001b[0m\u001b[0;34m.\u001b[0m\u001b[0mget_loc\u001b[0m\u001b[0;34m(\u001b[0m\u001b[0mkey\u001b[0m\u001b[0;34m)\u001b[0m\u001b[0;34m\u001b[0m\u001b[0;34m\u001b[0m\u001b[0m\n\u001b[0m\u001b[1;32m   3025\u001b[0m             \u001b[0;32mif\u001b[0m \u001b[0mis_integer\u001b[0m\u001b[0;34m(\u001b[0m\u001b[0mindexer\u001b[0m\u001b[0;34m)\u001b[0m\u001b[0;34m:\u001b[0m\u001b[0;34m\u001b[0m\u001b[0;34m\u001b[0m\u001b[0m\n\u001b[1;32m   3026\u001b[0m                 \u001b[0mindexer\u001b[0m \u001b[0;34m=\u001b[0m \u001b[0;34m[\u001b[0m\u001b[0mindexer\u001b[0m\u001b[0;34m]\u001b[0m\u001b[0;34m\u001b[0m\u001b[0;34m\u001b[0m\u001b[0m\n",
      "\u001b[0;32m~/dadosjupyter/lib/python3.9/site-packages/pandas/core/indexes/base.py\u001b[0m in \u001b[0;36mget_loc\u001b[0;34m(self, key, method, tolerance)\u001b[0m\n\u001b[1;32m   3080\u001b[0m                 \u001b[0;32mreturn\u001b[0m \u001b[0mself\u001b[0m\u001b[0;34m.\u001b[0m\u001b[0m_engine\u001b[0m\u001b[0;34m.\u001b[0m\u001b[0mget_loc\u001b[0m\u001b[0;34m(\u001b[0m\u001b[0mcasted_key\u001b[0m\u001b[0;34m)\u001b[0m\u001b[0;34m\u001b[0m\u001b[0;34m\u001b[0m\u001b[0m\n\u001b[1;32m   3081\u001b[0m             \u001b[0;32mexcept\u001b[0m \u001b[0mKeyError\u001b[0m \u001b[0;32mas\u001b[0m \u001b[0merr\u001b[0m\u001b[0;34m:\u001b[0m\u001b[0;34m\u001b[0m\u001b[0;34m\u001b[0m\u001b[0m\n\u001b[0;32m-> 3082\u001b[0;31m                 \u001b[0;32mraise\u001b[0m \u001b[0mKeyError\u001b[0m\u001b[0;34m(\u001b[0m\u001b[0mkey\u001b[0m\u001b[0;34m)\u001b[0m \u001b[0;32mfrom\u001b[0m \u001b[0merr\u001b[0m\u001b[0;34m\u001b[0m\u001b[0;34m\u001b[0m\u001b[0m\n\u001b[0m\u001b[1;32m   3083\u001b[0m \u001b[0;34m\u001b[0m\u001b[0m\n\u001b[1;32m   3084\u001b[0m         \u001b[0;32mif\u001b[0m \u001b[0mtolerance\u001b[0m \u001b[0;32mis\u001b[0m \u001b[0;32mnot\u001b[0m \u001b[0;32mNone\u001b[0m\u001b[0;34m:\u001b[0m\u001b[0;34m\u001b[0m\u001b[0;34m\u001b[0m\u001b[0m\n",
      "\u001b[0;31mKeyError\u001b[0m: 'y_predito'"
     ]
    }
   ],
   "source": [
    "dados['residuo'] = dados['y_predito'] - dados['y']"
   ]
  },
  {
   "cell_type": "code",
   "execution_count": 46,
   "id": "61684545",
   "metadata": {},
   "outputs": [
    {
     "data": {
      "text/plain": [
       "Text(0.5, 1.0, 'Histograma dos resíduos')"
      ]
     },
     "execution_count": 46,
     "metadata": {},
     "output_type": "execute_result"
    },
    {
     "data": {
      "image/png": "[encoded data removed]",
      "text/plain": [
       "<Figure size 432x288 with 1 Axes>"
      ]
     },
     "metadata": {
      "needs_background": "light"
     },
     "output_type": "display_data"
    }
   ],
   "source": [
    "hist = sns.histplot(dados['residuo'])\n",
    "plt.title(\"Histograma dos resíduos\")"
   ]
  },
  {
   "cell_type": "code",
   "execution_count": 47,
   "id": "984cee48",
   "metadata": {},
   "outputs": [
    {
     "data": {
      "text/plain": [
       "Text(0.5, 1.0, 'Resíduo versus y')"
      ]
     },
     "execution_count": 47,
     "metadata": {},
     "output_type": "execute_result"
    },
    {
     "data": {
      "image/png": "[encoded data removed]",
      "text/plain": [
       "<Figure size 432x288 with 1 Axes>"
      ]
     },
     "metadata": {
      "needs_background": "light"
     },
     "output_type": "display_data"
    }
   ],
   "source": [
    "sns.scatterplot(y = dados['residuo'], x = dados['y'])\n",
    "plt.title('Resíduo versus y')"
   ]
  },
  {
   "cell_type": "code",
   "execution_count": 48,
   "id": "442e4059",
   "metadata": {},
   "outputs": [
    {
     "data": {
      "text/plain": [
       "Text(0.5, 1.0, 'Resíduo versus X')"
      ]
     },
     "execution_count": 48,
     "metadata": {},
     "output_type": "execute_result"
    },
    {
     "data": {
      "image/png": "[encoded data removed]",
      "text/plain": [
       "<Figure size 432x288 with 1 Axes>"
      ]
     },
     "metadata": {
      "needs_background": "light"
     },
     "output_type": "display_data"
    }
   ],
   "source": [
    "sns.scatterplot(y = dados['residuo'], x = dados['X'])\n",
    "plt.title('Resíduo versus X')"
   ]
  },
  {
   "cell_type": "markdown",
   "id": "c6772d1a",
   "metadata": {},
   "source": [
    "## E se a relação entre y e X não for linear?"
   ]
  },
  {
   "cell_type": "code",
   "execution_count": 49,
   "id": "7182cdc8",
   "metadata": {},
   "outputs": [],
   "source": [
    "# criando um novo dataset\n",
    "X = np.random.normal(5, 3, 1000)\n",
    "y = 2*X**2 + np.random.normal(0, 2, 1000) + 5\n",
    "dados = pd.DataFrame(zip(X,y), columns=['X', 'y'])"
   ]
  },
  {
   "cell_type": "code",
   "execution_count": 50,
   "id": "56f35146",
   "metadata": {},
   "outputs": [
    {
     "data": {
      "text/html": [
       "<div>\n",
       "<style scoped>\n",
       "    .dataframe tbody tr th:only-of-type {\n",
       "        vertical-align: middle;\n",
       "    }\n",
       "\n",
       "    .dataframe tbody tr th {\n",
       "        vertical-align: top;\n",
       "    }\n",
       "\n",
       "    .dataframe thead th {\n",
       "        text-align: right;\n",
       "    }\n",
       "</style>\n",
       "<table border=\"1\" class=\"dataframe\">\n",
       "  <thead>\n",
       "    <tr style=\"text-align: right;\">\n",
       "      <th></th>\n",
       "      <th>X</th>\n",
       "      <th>y</th>\n",
       "    </tr>\n",
       "  </thead>\n",
       "  <tbody>\n",
       "    <tr>\n",
       "      <th>0</th>\n",
       "      <td>7.256166</td>\n",
       "      <td>105.823494</td>\n",
       "    </tr>\n",
       "    <tr>\n",
       "      <th>1</th>\n",
       "      <td>8.942198</td>\n",
       "      <td>163.354223</td>\n",
       "    </tr>\n",
       "    <tr>\n",
       "      <th>2</th>\n",
       "      <td>9.110348</td>\n",
       "      <td>168.582213</td>\n",
       "    </tr>\n",
       "    <tr>\n",
       "      <th>3</th>\n",
       "      <td>4.481319</td>\n",
       "      <td>44.662113</td>\n",
       "    </tr>\n",
       "    <tr>\n",
       "      <th>4</th>\n",
       "      <td>3.999490</td>\n",
       "      <td>35.198184</td>\n",
       "    </tr>\n",
       "    <tr>\n",
       "      <th>...</th>\n",
       "      <td>...</td>\n",
       "      <td>...</td>\n",
       "    </tr>\n",
       "    <tr>\n",
       "      <th>995</th>\n",
       "      <td>7.038893</td>\n",
       "      <td>105.397227</td>\n",
       "    </tr>\n",
       "    <tr>\n",
       "      <th>996</th>\n",
       "      <td>1.020481</td>\n",
       "      <td>5.147690</td>\n",
       "    </tr>\n",
       "    <tr>\n",
       "      <th>997</th>\n",
       "      <td>6.273116</td>\n",
       "      <td>82.275229</td>\n",
       "    </tr>\n",
       "    <tr>\n",
       "      <th>998</th>\n",
       "      <td>5.876482</td>\n",
       "      <td>76.809376</td>\n",
       "    </tr>\n",
       "    <tr>\n",
       "      <th>999</th>\n",
       "      <td>1.084959</td>\n",
       "      <td>10.022514</td>\n",
       "    </tr>\n",
       "  </tbody>\n",
       "</table>\n",
       "<p>1000 rows × 2 columns</p>\n",
       "</div>"
      ],
      "text/plain": [
       "            X           y\n",
       "0    7.256166  105.823494\n",
       "1    8.942198  163.354223\n",
       "2    9.110348  168.582213\n",
       "3    4.481319   44.662113\n",
       "4    3.999490   35.198184\n",
       "..        ...         ...\n",
       "995  7.038893  105.397227\n",
       "996  1.020481    5.147690\n",
       "997  6.273116   82.275229\n",
       "998  5.876482   76.809376\n",
       "999  1.084959   10.022514\n",
       "\n",
       "[1000 rows x 2 columns]"
      ]
     },
     "execution_count": 50,
     "metadata": {},
     "output_type": "execute_result"
    }
   ],
   "source": [
    "dados"
   ]
  },
  {
   "cell_type": "code",
   "execution_count": 51,
   "id": "08415ecb",
   "metadata": {},
   "outputs": [
    {
     "data": {
      "text/plain": [
       "LinearRegression()"
      ]
     },
     "execution_count": 51,
     "metadata": {},
     "output_type": "execute_result"
    }
   ],
   "source": [
    "#agora temos \n",
    "modelo = LinearRegression()\n",
    "modelo.fit(X=dados[['X']], y=dados['y'])"
   ]
  },
  {
   "cell_type": "code",
   "execution_count": 52,
   "id": "066fd62b",
   "metadata": {},
   "outputs": [],
   "source": [
    "dados['y_predito'] = modelo.predict(dados[['X']])"
   ]
  },
  {
   "cell_type": "code",
   "execution_count": 53,
   "id": "c529b9c2",
   "metadata": {},
   "outputs": [
    {
     "data": {
      "text/plain": [
       "Text(0.5, 0, 'X - variável independente')"
      ]
     },
     "execution_count": 53,
     "metadata": {},
     "output_type": "execute_result"
    },
    {
     "data": {
      "image/png": "[encoded data removed]",
      "text/plain": [
       "<Figure size 432x288 with 1 Axes>"
      ]
     },
     "metadata": {
      "needs_background": "light"
     },
     "output_type": "display_data"
    }
   ],
   "source": [
    "plt.scatter(dados['X'], dados['y'])\n",
    "plt.plot(dados['X'], dados['y_predito'], color='red')\n",
    "plt.ylabel('Y - variável dependente')\n",
    "plt.xlabel('X - variável independente')"
   ]
  },
  {
   "cell_type": "markdown",
   "id": "dbd0d930",
   "metadata": {},
   "source": [
    "Pela figura acima, claramente uma reta não é capaz de capturar o comportamento da variável y. Isso também se reflete nos residuos:"
   ]
  },
  {
   "cell_type": "code",
   "execution_count": 54,
   "id": "98f07436",
   "metadata": {},
   "outputs": [],
   "source": [
    "dados['residuo'] = dados['y_predito'] - dados['y']"
   ]
  },
  {
   "cell_type": "code",
   "execution_count": 55,
   "id": "e45e721f",
   "metadata": {},
   "outputs": [
    {
     "data": {
      "text/plain": [
       "Text(0.5, 1.0, 'Histograma dos resíduos')"
      ]
     },
     "execution_count": 55,
     "metadata": {},
     "output_type": "execute_result"
    },
    {
     "data": {
      "image/png": "[encoded data removed]",
      "text/plain": [
       "<Figure size 432x288 with 1 Axes>"
      ]
     },
     "metadata": {
      "needs_background": "light"
     },
     "output_type": "display_data"
    }
   ],
   "source": [
    "hist = sns.histplot(dados['residuo'])\n",
    "plt.title(\"Histograma dos resíduos\")"
   ]
  },
  {
   "cell_type": "code",
   "execution_count": 56,
   "id": "63c1e52c",
   "metadata": {},
   "outputs": [
    {
     "data": {
      "text/plain": [
       "Text(0.5, 1.0, 'Resíduo versus y')"
      ]
     },
     "execution_count": 56,
     "metadata": {},
     "output_type": "execute_result"
    },
    {
     "data": {
      "image/png": "[encoded data removed]",
      "text/plain": [
       "<Figure size 432x288 with 1 Axes>"
      ]
     },
     "metadata": {
      "needs_background": "light"
     },
     "output_type": "display_data"
    }
   ],
   "source": [
    "sns.scatterplot(y = dados['residuo'], x = dados['y'])\n",
    "plt.title('Resíduo versus y')"
   ]
  },
  {
   "cell_type": "markdown",
   "id": "33b0e0eb",
   "metadata": {},
   "source": [
    "<b> <font color=\"green\"> CALMA! AINDA EXISTEM ALTERNATIVAS! </font> </b> "
   ]
  },
  {
   "cell_type": "markdown",
   "id": "92c7cb89",
   "metadata": {},
   "source": [
    "Relação não linear entre x e y? Resíduos totalmente não aleatórios? Você ainda pode continuar usando regressão linear! Aqui sabemos que a variável resposta Y tem uma dependência com X², podemos ajustar então uma regressão linear em relação a X², ao invés de X:"
   ]
  },
  {
   "cell_type": "code",
   "execution_count": 57,
   "id": "4e9cc01f",
   "metadata": {},
   "outputs": [],
   "source": [
    "dados['X_quadrado'] = dados['X']**2"
   ]
  },
  {
   "cell_type": "code",
   "execution_count": 58,
   "id": "6b6ae202",
   "metadata": {},
   "outputs": [
    {
     "data": {
      "text/plain": [
       "LinearRegression()"
      ]
     },
     "execution_count": 58,
     "metadata": {},
     "output_type": "execute_result"
    }
   ],
   "source": [
    "#agora temos um novo modelo em função de X² \n",
    "modelo = LinearRegression()\n",
    "modelo.fit(X=dados[['X_quadrado']], y=dados['y'])"
   ]
  },
  {
   "cell_type": "code",
   "execution_count": 59,
   "id": "ff166d0e",
   "metadata": {},
   "outputs": [],
   "source": [
    "dados['y_predito'] = modelo.predict(dados[['X_quadrado']])"
   ]
  },
  {
   "cell_type": "code",
   "execution_count": 60,
   "id": "2f1bf45e",
   "metadata": {},
   "outputs": [
    {
     "data": {
      "text/plain": [
       "Text(0.5, 0, 'X² - variável independente')"
      ]
     },
     "execution_count": 60,
     "metadata": {},
     "output_type": "execute_result"
    },
    {
     "data": {
      "image/png": "[encoded data removed]",
      "text/plain": [
       "<Figure size 432x288 with 1 Axes>"
      ]
     },
     "metadata": {
      "needs_background": "light"
     },
     "output_type": "display_data"
    }
   ],
   "source": [
    "plt.scatter(dados['X_quadrado'], dados['y'])\n",
    "plt.plot(dados['X_quadrado'], dados['y_predito'], color='red')\n",
    "plt.ylabel('Y - variável dependente')\n",
    "plt.xlabel('X² - variável independente')"
   ]
  },
  {
   "cell_type": "code",
   "execution_count": 61,
   "id": "e944f5a9",
   "metadata": {},
   "outputs": [],
   "source": [
    "dados['residuo'] = dados['y_predito'] - dados['y']"
   ]
  },
  {
   "cell_type": "code",
   "execution_count": 62,
   "id": "f938664d",
   "metadata": {},
   "outputs": [
    {
     "data": {
      "text/plain": [
       "Text(0.5, 1.0, 'Histograma dos resíduos')"
      ]
     },
     "execution_count": 62,
     "metadata": {},
     "output_type": "execute_result"
    },
    {
     "data": {
      "image/png": "[encoded data removed]",
      "text/plain": [
       "<Figure size 432x288 with 1 Axes>"
      ]
     },
     "metadata": {
      "needs_background": "light"
     },
     "output_type": "display_data"
    }
   ],
   "source": [
    "hist = sns.histplot(dados['residuo'])\n",
    "plt.title(\"Histograma dos resíduos\")"
   ]
  },
  {
   "cell_type": "markdown",
   "id": "428b1eea",
   "metadata": {},
   "source": [
    "Algumas transformações que você pode fazer na variável independente (X) do modelo:"
   ]
  },
  {
   "cell_type": "markdown",
   "id": "82b09c9f",
   "metadata": {},
   "source": [
    "- X², X³\n",
    "- log(X)\n",
    "- exp(X)\n",
    "- Boxcox(X) para transformar a distribuição em normal"
   ]
  },
  {
   "cell_type": "markdown",
   "id": "18f88a98",
   "metadata": {},
   "source": [
    "Também existe a possibilidade de transformar a própria resposta do modelo. Nesse caso, a relação entre y e x² é linear.  E se fizessemos uma regressão de raiz(y) por x?"
   ]
  },
  {
   "cell_type": "markdown",
   "id": "b84f2eaa",
   "metadata": {},
   "source": [
    "Poderiamos fazer isso da mesma forma como foi feito acima, criando uma nova coluna calculando a raiz quadrada de y. Mas ao recuperar qualquer resultado da predição, precisariamos lembrar de fazer a resposta² para retornar ao valor original de y. O sklearn possui uma funcionalidade para transformar automaticamente a resposta do modelo:"
   ]
  },
  {
   "cell_type": "code",
   "execution_count": 63,
   "id": "fef9629c",
   "metadata": {},
   "outputs": [],
   "source": [
    "from sklearn.compose import TransformedTargetRegressor"
   ]
  },
  {
   "cell_type": "code",
   "execution_count": 64,
   "id": "d51961ed",
   "metadata": {},
   "outputs": [],
   "source": [
    "modelo_transformado = TransformedTargetRegressor(\n",
    "    regressor=LinearRegression(),\n",
    "    func=np.sqrt,\n",
    "    inverse_func=np.square\n",
    ")"
   ]
  },
  {
   "cell_type": "markdown",
   "id": "6205271f",
   "metadata": {},
   "source": [
    "Assim, essa função automaticamente ira aplicar raiz quadrada ao fazer a regressão, e elevar ao quadrado após a predição"
   ]
  },
  {
   "cell_type": "code",
   "execution_count": 65,
   "id": "cf23721c",
   "metadata": {},
   "outputs": [
    {
     "data": {
      "text/plain": [
       "TransformedTargetRegressor(func=<ufunc 'sqrt'>, inverse_func=<ufunc 'square'>,\n",
       "                           regressor=LinearRegression())"
      ]
     },
     "execution_count": 65,
     "metadata": {},
     "output_type": "execute_result"
    }
   ],
   "source": [
    "modelo_transformado.fit(X=dados[['X']], y=dados['y'])"
   ]
  },
  {
   "cell_type": "code",
   "execution_count": 66,
   "id": "e1a9b8f1",
   "metadata": {},
   "outputs": [],
   "source": [
    "dados['y_pred_transformado'] = modelo_transformado.predict(dados[['X']])"
   ]
  },
  {
   "cell_type": "code",
   "execution_count": 67,
   "id": "83cbdac9",
   "metadata": {},
   "outputs": [
    {
     "data": {
      "text/plain": [
       "<matplotlib.collections.PathCollection at 0x7fa1ce3e6a00>"
      ]
     },
     "execution_count": 67,
     "metadata": {},
     "output_type": "execute_result"
    },
    {
     "data": {
      "image/png": "[encoded data removed]",
      "text/plain": [
       "<Figure size 432x288 with 1 Axes>"
      ]
     },
     "metadata": {
      "needs_background": "light"
     },
     "output_type": "display_data"
    }
   ],
   "source": [
    "sns.scatterplot(x=dados['X'], y=dados['y'])\n",
    "plt.scatter(x=dados['X'], y=dados['y_pred_transformado'])"
   ]
  },
  {
   "cell_type": "markdown",
   "id": "6f49b638",
   "metadata": {},
   "source": [
    "<b> <font color='blue'> DICA </font> </b>: Quando trabalhando com regressão linear ou modelos que precisem de distribuição normal, se a variável resposta (y) não apresentar esse comportamento, aplicar transformações nela pode tornar possivel a modelagem (e ajudar no desempenho). Você pode utilizar os gráficos de residuos para determinar se uma transformação pode ser útil. Exemplos de transformação:"
   ]
  },
  {
   "cell_type": "markdown",
   "id": "f067b1c0",
   "metadata": {},
   "source": [
    "- log(y)\n",
    "- box-cox(y)"
   ]
  },
  {
   "cell_type": "markdown",
   "id": "dca51524",
   "metadata": {},
   "source": [
    "Na verdade, essas transformações na variável resposta são o primeiro passo para uma generalização do modelo de regressão linear <b> (Generalized Linear Models ou GLM) </b>. Nele, a premissa é que exista uma relação linear entre a <b> variável y transformada </b> e as entradas (X), mas não necessáriamente que y seja linear em relação a X. Além disso, podemos generalizar a premissa da distribuição dos residuos para outra que não seja a normal. Vamos falar sobre um exemplo especial de GLM logo mais, a <b> regressão logística </b>."
   ]
  },
  {
   "cell_type": "markdown",
   "id": "253af8fc",
   "metadata": {},
   "source": [
    "Para se aprofundar: https://towardsdatascience.com/generalized-linear-models-9ec4dfe3dc3f"
   ]
  },
  {
   "cell_type": "markdown",
   "id": "d18e977e",
   "metadata": {},
   "source": [
    "# Regressão linear multipla"
   ]
  },
  {
   "cell_type": "markdown",
   "id": "13a13676",
   "metadata": {},
   "source": [
    "Trabalhando com dados reais, são grandes as chances de estarmos interessados em obter um modelo que leve em conta diversas variáveis ao invés de uma. A regressão linear pode ser extendida para esses casos também:"
   ]
  },
  {
   "cell_type": "code",
   "execution_count": 68,
   "id": "e0d44351",
   "metadata": {},
   "outputs": [],
   "source": [
    "from sklearn.datasets import load_diabetes"
   ]
  },
  {
   "cell_type": "code",
   "execution_count": 69,
   "id": "def3ff24",
   "metadata": {},
   "outputs": [],
   "source": [
    "raw_data = load_diabetes()"
   ]
  },
  {
   "cell_type": "code",
   "execution_count": 70,
   "id": "072dbac3",
   "metadata": {},
   "outputs": [
    {
     "name": "stdout",
     "output_type": "stream",
     "text": [
      ".. _diabetes_dataset:\n",
      "\n",
      "Diabetes dataset\n",
      "----------------\n",
      "\n",
      "Ten baseline variables, age, sex, body mass index, average blood\n",
      "pressure, and six blood serum measurements were obtained for each of n =\n",
      "442 diabetes patients, as well as the response of interest, a\n",
      "quantitative measure of disease progression one year after baseline.\n",
      "\n",
      "**Data Set Characteristics:**\n",
      "\n",
      "  :Number of Instances: 442\n",
      "\n",
      "  :Number of Attributes: First 10 columns are numeric predictive values\n",
      "\n",
      "  :Target: Column 11 is a quantitative measure of disease progression one year after baseline\n",
      "\n",
      "  :Attribute Information:\n",
      "      - age     age in years\n",
      "      - sex\n",
      "      - bmi     body mass index\n",
      "      - bp      average blood pressure\n",
      "      - s1      tc, total serum cholesterol\n",
      "      - s2      ldl, low-density lipoproteins\n",
      "      - s3      hdl, high-density lipoproteins\n",
      "      - s4      tch, total cholesterol / HDL\n",
      "      - s5      ltg, possibly log of serum triglycerides level\n",
      "      - s6      glu, blood sugar level\n",
      "\n",
      "Note: Each of these 10 feature variables have been mean centered and scaled by the standard deviation times `n_samples` (i.e. the sum of squares of each column totals 1).\n",
      "\n",
      "Source URL:\n",
      "https://www4.stat.ncsu.edu/~boos/var.select/diabetes.html\n",
      "\n",
      "For more information see:\n",
      "Bradley Efron, Trevor Hastie, Iain Johnstone and Robert Tibshirani (2004) \"Least Angle Regression,\" Annals of Statistics (with discussion), 407-499.\n",
      "(https://web.stanford.edu/~hastie/Papers/LARS/LeastAngle_2002.pdf)\n"
     ]
    }
   ],
   "source": [
    "print(raw_data['DESCR'])"
   ]
  },
  {
   "cell_type": "code",
   "execution_count": 71,
   "id": "4dfaf7f8",
   "metadata": {},
   "outputs": [],
   "source": [
    "features = raw_data['feature_names']"
   ]
  },
  {
   "cell_type": "code",
   "execution_count": 72,
   "id": "159930b0",
   "metadata": {},
   "outputs": [],
   "source": [
    "dados = pd.DataFrame(raw_data['data'], columns = features)\n",
    "dados['y'] = raw_data['target']"
   ]
  },
  {
   "cell_type": "code",
   "execution_count": 73,
   "id": "be14d7bf",
   "metadata": {},
   "outputs": [
    {
     "data": {
      "text/html": [
       "<div>\n",
       "<style scoped>\n",
       "    .dataframe tbody tr th:only-of-type {\n",
       "        vertical-align: middle;\n",
       "    }\n",
       "\n",
       "    .dataframe tbody tr th {\n",
       "        vertical-align: top;\n",
       "    }\n",
       "\n",
       "    .dataframe thead th {\n",
       "        text-align: right;\n",
       "    }\n",
       "</style>\n",
       "<table border=\"1\" class=\"dataframe\">\n",
       "  <thead>\n",
       "    <tr style=\"text-align: right;\">\n",
       "      <th></th>\n",
       "      <th>age</th>\n",
       "      <th>sex</th>\n",
       "      <th>bmi</th>\n",
       "      <th>bp</th>\n",
       "      <th>s1</th>\n",
       "      <th>s2</th>\n",
       "      <th>s3</th>\n",
       "      <th>s4</th>\n",
       "      <th>s5</th>\n",
       "      <th>s6</th>\n",
       "      <th>y</th>\n",
       "    </tr>\n",
       "  </thead>\n",
       "  <tbody>\n",
       "    <tr>\n",
       "      <th>0</th>\n",
       "      <td>0.038076</td>\n",
       "      <td>0.050680</td>\n",
       "      <td>0.061696</td>\n",
       "      <td>0.021872</td>\n",
       "      <td>-0.044223</td>\n",
       "      <td>-0.034821</td>\n",
       "      <td>-0.043401</td>\n",
       "      <td>-0.002592</td>\n",
       "      <td>0.019908</td>\n",
       "      <td>-0.017646</td>\n",
       "      <td>151.0</td>\n",
       "    </tr>\n",
       "    <tr>\n",
       "      <th>1</th>\n",
       "      <td>-0.001882</td>\n",
       "      <td>-0.044642</td>\n",
       "      <td>-0.051474</td>\n",
       "      <td>-0.026328</td>\n",
       "      <td>-0.008449</td>\n",
       "      <td>-0.019163</td>\n",
       "      <td>0.074412</td>\n",
       "      <td>-0.039493</td>\n",
       "      <td>-0.068330</td>\n",
       "      <td>-0.092204</td>\n",
       "      <td>75.0</td>\n",
       "    </tr>\n",
       "    <tr>\n",
       "      <th>2</th>\n",
       "      <td>0.085299</td>\n",
       "      <td>0.050680</td>\n",
       "      <td>0.044451</td>\n",
       "      <td>-0.005671</td>\n",
       "      <td>-0.045599</td>\n",
       "      <td>-0.034194</td>\n",
       "      <td>-0.032356</td>\n",
       "      <td>-0.002592</td>\n",
       "      <td>0.002864</td>\n",
       "      <td>-0.025930</td>\n",
       "      <td>141.0</td>\n",
       "    </tr>\n",
       "    <tr>\n",
       "      <th>3</th>\n",
       "      <td>-0.089063</td>\n",
       "      <td>-0.044642</td>\n",
       "      <td>-0.011595</td>\n",
       "      <td>-0.036656</td>\n",
       "      <td>0.012191</td>\n",
       "      <td>0.024991</td>\n",
       "      <td>-0.036038</td>\n",
       "      <td>0.034309</td>\n",
       "      <td>0.022692</td>\n",
       "      <td>-0.009362</td>\n",
       "      <td>206.0</td>\n",
       "    </tr>\n",
       "    <tr>\n",
       "      <th>4</th>\n",
       "      <td>0.005383</td>\n",
       "      <td>-0.044642</td>\n",
       "      <td>-0.036385</td>\n",
       "      <td>0.021872</td>\n",
       "      <td>0.003935</td>\n",
       "      <td>0.015596</td>\n",
       "      <td>0.008142</td>\n",
       "      <td>-0.002592</td>\n",
       "      <td>-0.031991</td>\n",
       "      <td>-0.046641</td>\n",
       "      <td>135.0</td>\n",
       "    </tr>\n",
       "  </tbody>\n",
       "</table>\n",
       "</div>"
      ],
      "text/plain": [
       "        age       sex       bmi        bp        s1        s2        s3  \\\n",
       "0  0.038076  0.050680  0.061696  0.021872 -0.044223 -0.034821 -0.043401   \n",
       "1 -0.001882 -0.044642 -0.051474 -0.026328 -0.008449 -0.019163  0.074412   \n",
       "2  0.085299  0.050680  0.044451 -0.005671 -0.045599 -0.034194 -0.032356   \n",
       "3 -0.089063 -0.044642 -0.011595 -0.036656  0.012191  0.024991 -0.036038   \n",
       "4  0.005383 -0.044642 -0.036385  0.021872  0.003935  0.015596  0.008142   \n",
       "\n",
       "         s4        s5        s6      y  \n",
       "0 -0.002592  0.019908 -0.017646  151.0  \n",
       "1 -0.039493 -0.068330 -0.092204   75.0  \n",
       "2 -0.002592  0.002864 -0.025930  141.0  \n",
       "3  0.034309  0.022692 -0.009362  206.0  \n",
       "4 -0.002592 -0.031991 -0.046641  135.0  "
      ]
     },
     "execution_count": 73,
     "metadata": {},
     "output_type": "execute_result"
    }
   ],
   "source": [
    "dados.head()"
   ]
  },
  {
   "cell_type": "code",
   "execution_count": 74,
   "id": "d40ff2fd",
   "metadata": {},
   "outputs": [],
   "source": [
    "modelo_diabetes = LinearRegression()"
   ]
  },
  {
   "cell_type": "code",
   "execution_count": 75,
   "id": "925c0a13",
   "metadata": {},
   "outputs": [
    {
     "data": {
      "text/plain": [
       "LinearRegression()"
      ]
     },
     "execution_count": 75,
     "metadata": {},
     "output_type": "execute_result"
    }
   ],
   "source": [
    "modelo_diabetes.fit(X=dados[features], y=dados['y'])"
   ]
  },
  {
   "cell_type": "code",
   "execution_count": 76,
   "id": "9cda6af4",
   "metadata": {},
   "outputs": [],
   "source": [
    "dados['y_pred'] = modelo_diabetes.predict(dados[features])"
   ]
  },
  {
   "cell_type": "code",
   "execution_count": 77,
   "id": "5e53c3a0",
   "metadata": {},
   "outputs": [
    {
     "data": {
      "text/plain": [
       "Text(0.5, 0, 'Medido')"
      ]
     },
     "execution_count": 77,
     "metadata": {},
     "output_type": "execute_result"
    },
    {
     "data": {
      "image/png": "[encoded data removed]",
      "text/plain": [
       "<Figure size 432x288 with 1 Axes>"
      ]
     },
     "metadata": {
      "needs_background": "light"
     },
     "output_type": "display_data"
    }
   ],
   "source": [
    "plt.scatter(y = dados['y_pred'], x= dados['y'])\n",
    "plt.ylabel('Predito')\n",
    "plt.xlabel('Medido')"
   ]
  },
  {
   "cell_type": "markdown",
   "id": "c7dc9ac5",
   "metadata": {},
   "source": [
    "Quando ajustamos um modelo de regressão linear multipla, as mesmas premissas do modelo com uma variável devem ser respeitadas. Existem bibliotecas especializadas que auxiliam a entender se as premissas estão sendo respeitadas, realizando os devidos testes estatísticos:"
   ]
  },
  {
   "cell_type": "code",
   "execution_count": 78,
   "id": "9b60f8da",
   "metadata": {},
   "outputs": [],
   "source": [
    "import statsmodels.api as sm"
   ]
  },
  {
   "cell_type": "markdown",
   "id": "a54f3a5d",
   "metadata": {},
   "source": [
    "Lembrando, caso não tenha, é necessário instalar:"
   ]
  },
  {
   "cell_type": "code",
   "execution_count": 79,
   "id": "cc486ddf",
   "metadata": {},
   "outputs": [
    {
     "name": "stdout",
     "output_type": "stream",
     "text": [
      "Requirement already satisfied: statsmodels in /home/joaopaulo/dadosjupyter/lib/python3.9/site-packages (0.12.2)\n",
      "Requirement already satisfied: pandas>=0.21 in /home/joaopaulo/dadosjupyter/lib/python3.9/site-packages (from statsmodels) (1.2.4)\n",
      "Requirement already satisfied: scipy>=1.1 in /home/joaopaulo/dadosjupyter/lib/python3.9/site-packages (from statsmodels) (1.6.3)\n",
      "Requirement already satisfied: numpy>=1.15 in /home/joaopaulo/dadosjupyter/lib/python3.9/site-packages (from statsmodels) (1.20.2)\n",
      "Requirement already satisfied: patsy>=0.5 in /home/joaopaulo/dadosjupyter/lib/python3.9/site-packages (from statsmodels) (0.5.1)\n",
      "Requirement already satisfied: python-dateutil>=2.7.3 in /home/joaopaulo/dadosjupyter/lib/python3.9/site-packages (from pandas>=0.21->statsmodels) (2.8.1)\n",
      "Requirement already satisfied: pytz>=2017.3 in /home/joaopaulo/dadosjupyter/lib/python3.9/site-packages (from pandas>=0.21->statsmodels) (2021.1)\n",
      "Requirement already satisfied: six in /home/joaopaulo/dadosjupyter/lib/python3.9/site-packages (from patsy>=0.5->statsmodels) (1.16.0)\n"
     ]
    }
   ],
   "source": [
    "!pip install statsmodels"
   ]
  },
  {
   "cell_type": "code",
   "execution_count": 80,
   "id": "caa35b09",
   "metadata": {},
   "outputs": [],
   "source": [
    "features = [x for x in dados.columns if x not in ['y', 'y_pred']]"
   ]
  },
  {
   "cell_type": "code",
   "execution_count": 81,
   "id": "5add17fb",
   "metadata": {},
   "outputs": [],
   "source": [
    "modelo_ols = sm.OLS(dados['y'],dados[features]).fit()"
   ]
  },
  {
   "cell_type": "code",
   "execution_count": 82,
   "id": "6361d85c",
   "metadata": {},
   "outputs": [
    {
     "name": "stdout",
     "output_type": "stream",
     "text": [
      "                                 OLS Regression Results                                \n",
      "=======================================================================================\n",
      "Dep. Variable:                      y   R-squared (uncentered):                   0.106\n",
      "Model:                            OLS   Adj. R-squared (uncentered):              0.085\n",
      "Method:                 Least Squares   F-statistic:                              5.100\n",
      "Date:                Tue, 19 Oct 2021   Prob (F-statistic):                    4.72e-07\n",
      "Time:                        03:13:28   Log-Likelihood:                         -2873.9\n",
      "No. Observations:                 442   AIC:                                      5768.\n",
      "Df Residuals:                     432   BIC:                                      5809.\n",
      "Df Model:                          10                                                  \n",
      "Covariance Type:            nonrobust                                                  \n",
      "==============================================================================\n",
      "                 coef    std err          t      P>|t|      [0.025      0.975]\n",
      "------------------------------------------------------------------------------\n",
      "age          -10.0122    179.967     -0.056      0.956    -363.731     343.707\n",
      "sex         -239.8191    184.404     -1.301      0.194    -602.259     122.621\n",
      "bmi          519.8398    200.401      2.594      0.010     125.957     913.723\n",
      "bp           324.3904    197.053      1.646      0.100     -62.912     711.692\n",
      "s1          -792.1842   1255.066     -0.631      0.528   -3258.979    1674.611\n",
      "s2           476.7458   1021.183      0.467      0.641   -1530.360    2483.851\n",
      "s3           101.0446    640.155      0.158      0.875   -1157.162    1359.251\n",
      "s4           177.0642    486.370      0.364      0.716    -778.882    1133.010\n",
      "s5           751.2793    517.774      1.451      0.148    -266.391    1768.950\n",
      "s6            67.6254    198.747      0.340      0.734    -323.005     458.256\n",
      "==============================================================================\n",
      "Omnibus:                        1.506   Durbin-Watson:                   0.223\n",
      "Prob(Omnibus):                  0.471   Jarque-Bera (JB):                1.404\n",
      "Skew:                           0.017   Prob(JB):                        0.496\n",
      "Kurtosis:                       2.726   Cond. No.                         21.7\n",
      "==============================================================================\n",
      "\n",
      "Notes:\n",
      "[1] R² is computed without centering (uncentered) since the model does not contain a constant.\n",
      "[2] Standard Errors assume that the covariance matrix of the errors is correctly specified.\n"
     ]
    }
   ],
   "source": [
    "print(modelo_ols.summary())"
   ]
  },
  {
   "cell_type": "markdown",
   "id": "eecc862b",
   "metadata": {},
   "source": [
    "Para maiores referências sobre interpretação da tabela acima: https://medium.com/swlh/interpreting-linear-regression-through-statsmodels-summary-4796d359035a"
   ]
  },
  {
   "cell_type": "markdown",
   "id": "633f1ffd",
   "metadata": {},
   "source": [
    "# Validação cruzada"
   ]
  },
  {
   "cell_type": "markdown",
   "id": "4aa7d335",
   "metadata": {},
   "source": [
    "Podemos usar uma das funções de score para estimar o desempenho desse ajuste:"
   ]
  },
  {
   "cell_type": "code",
   "execution_count": 83,
   "id": "2676b058",
   "metadata": {},
   "outputs": [
    {
     "data": {
      "text/plain": [
       "43.27739508374988"
      ]
     },
     "execution_count": 83,
     "metadata": {},
     "output_type": "execute_result"
    }
   ],
   "source": [
    "mean_absolute_error(dados['y'], dados['y_pred'])"
   ]
  },
  {
   "cell_type": "markdown",
   "id": "87cf347a",
   "metadata": {},
   "source": [
    "Como falamos antes, estimar o erro do modelo com a mesma informação na qual ele foi treinado pode ser problemático, pois não temos acesso a uma população dos dados, apenas amostras."
   ]
  },
  {
   "cell_type": "markdown",
   "id": "9a5d7028",
   "metadata": {},
   "source": [
    "E se o modelo está se ajustando especialmente bem a esses dados, e não ao comportamento geral do fenômeno? Podemos utilizar o próprio conjunto de dados para estimar qual seria o erro do modelo em dados ainda não vistos. Isso pode ser feito de algumas formas:"
   ]
  },
  {
   "cell_type": "markdown",
   "id": "03fb00c9",
   "metadata": {},
   "source": [
    "1) Deixar de fora um pedaço dos conjunto de dados (aleatório ou não). Treinar o modelo usando uma parte e testar usando outra:"
   ]
  },
  {
   "cell_type": "code",
   "execution_count": 84,
   "id": "c0176e37",
   "metadata": {},
   "outputs": [
    {
     "data": {
      "image/png": "[encoded data removed]",
      "text/plain": [
       "<IPython.core.display.Image object>"
      ]
     },
     "execution_count": 84,
     "metadata": {},
     "output_type": "execute_result"
    }
   ],
   "source": [
    "Image('../figures/train_test_split.png')"
   ]
  },
  {
   "cell_type": "markdown",
   "id": "01f47160",
   "metadata": {},
   "source": [
    "Aqui, as barras representam o tamanho do dataset (em linhas). O dataset em azul é a porção do treino, e em laranja é a porção do teste"
   ]
  },
  {
   "cell_type": "code",
   "execution_count": 85,
   "id": "4b0bd4fa",
   "metadata": {},
   "outputs": [],
   "source": [
    "from sklearn.model_selection import train_test_split"
   ]
  },
  {
   "cell_type": "code",
   "execution_count": 86,
   "id": "ceefd7c8",
   "metadata": {},
   "outputs": [],
   "source": [
    "train,test = train_test_split(dados, test_size=0.2, shuffle=False)"
   ]
  },
  {
   "cell_type": "code",
   "execution_count": 87,
   "id": "a0b03ce3",
   "metadata": {},
   "outputs": [
    {
     "data": {
      "text/plain": [
       "(442, 12)"
      ]
     },
     "execution_count": 87,
     "metadata": {},
     "output_type": "execute_result"
    }
   ],
   "source": [
    "dados.shape"
   ]
  },
  {
   "cell_type": "code",
   "execution_count": 88,
   "id": "03e996ac",
   "metadata": {},
   "outputs": [
    {
     "data": {
      "text/plain": [
       "(353, 12)"
      ]
     },
     "execution_count": 88,
     "metadata": {},
     "output_type": "execute_result"
    }
   ],
   "source": [
    "train.shape"
   ]
  },
  {
   "cell_type": "code",
   "execution_count": 89,
   "id": "182571f9",
   "metadata": {},
   "outputs": [
    {
     "data": {
      "text/plain": [
       "(89, 12)"
      ]
     },
     "execution_count": 89,
     "metadata": {},
     "output_type": "execute_result"
    }
   ],
   "source": [
    "test.shape"
   ]
  },
  {
   "cell_type": "code",
   "execution_count": 90,
   "id": "79d000a7",
   "metadata": {},
   "outputs": [
    {
     "data": {
      "text/plain": [
       "LinearRegression()"
      ]
     },
     "execution_count": 90,
     "metadata": {},
     "output_type": "execute_result"
    }
   ],
   "source": [
    "modelo_diabetes.fit(X=train[features], y=train['y'])"
   ]
  },
  {
   "cell_type": "code",
   "execution_count": 103,
   "id": "f7ef080b",
   "metadata": {},
   "outputs": [
    {
     "name": "stderr",
     "output_type": "stream",
     "text": [
      "<ipython-input-103-ae4a98b4de1e>:1: SettingWithCopyWarning: \n",
      "A value is trying to be set on a copy of a slice from a DataFrame.\n",
      "Try using .loc[row_indexer,col_indexer] = value instead\n",
      "\n",
      "See the caveats in the documentation: https://pandas.pydata.org/pandas-docs/stable/user_guide/indexing.html#returning-a-view-versus-a-copy\n",
      "  test['y_pred'] = modelo_diabetes.predict(test[features])\n"
     ]
    }
   ],
   "source": [
    "test['y_pred'] = modelo_diabetes.predict(test[features])"
   ]
  },
  {
   "cell_type": "code",
   "execution_count": 92,
   "id": "8718eda7",
   "metadata": {},
   "outputs": [
    {
     "data": {
      "text/plain": [
       "42.54819305780145"
      ]
     },
     "execution_count": 92,
     "metadata": {},
     "output_type": "execute_result"
    }
   ],
   "source": [
    "mean_absolute_error(test['y'], test['y_pred'])"
   ]
  },
  {
   "cell_type": "markdown",
   "id": "5f3ef10f",
   "metadata": {},
   "source": [
    "Existem outras formas que podem ou não ser mais adequadas. A mais comumente utilizada é conhecida como K-fold cross validation. Dividimos o nosso dataset em \"K\" pedaços. Treinamos com  (K-1) pedaços e medimos o erro com o pedaço (K) que restou:"
   ]
  },
  {
   "cell_type": "code",
   "execution_count": 93,
   "id": "06c450f8",
   "metadata": {},
   "outputs": [
    {
     "data": {
      "image/png": "[encoded data removed]",
      "text/plain": [
       "<IPython.core.display.Image object>"
      ]
     },
     "execution_count": 93,
     "metadata": {},
     "output_type": "execute_result"
    }
   ],
   "source": [
    "Image('../figures/kfold.png')"
   ]
  },
  {
   "cell_type": "markdown",
   "id": "ca3b7234",
   "metadata": {},
   "source": [
    "FONTE: https://hub.packtpub.com/cross-validation-strategies-for-time-series-forecasting-tutorial/"
   ]
  },
  {
   "cell_type": "code",
   "execution_count": 94,
   "id": "a03e66ae",
   "metadata": {},
   "outputs": [],
   "source": [
    "from sklearn.model_selection import KFold"
   ]
  },
  {
   "cell_type": "code",
   "execution_count": 95,
   "id": "b5b04683",
   "metadata": {},
   "outputs": [],
   "source": [
    "kfold_splitter = KFold(n_splits=5)"
   ]
  },
  {
   "cell_type": "code",
   "execution_count": 96,
   "id": "d6fd9161",
   "metadata": {},
   "outputs": [],
   "source": [
    "folds = list(kfold_splitter.split(X=dados))"
   ]
  },
  {
   "cell_type": "code",
   "execution_count": 97,
   "id": "6d430790",
   "metadata": {},
   "outputs": [
    {
     "data": {
      "text/plain": [
       "(array([ 89,  90,  91,  92,  93,  94,  95,  96,  97,  98,  99, 100, 101,\n",
       "        102, 103, 104, 105, 106, 107, 108, 109, 110, 111, 112, 113, 114,\n",
       "        115, 116, 117, 118, 119, 120, 121, 122, 123, 124, 125, 126, 127,\n",
       "        128, 129, 130, 131, 132, 133, 134, 135, 136, 137, 138, 139, 140,\n",
       "        141, 142, 143, 144, 145, 146, 147, 148, 149, 150, 151, 152, 153,\n",
       "        154, 155, 156, 157, 158, 159, 160, 161, 162, 163, 164, 165, 166,\n",
       "        167, 168, 169, 170, 171, 172, 173, 174, 175, 176, 177, 178, 179,\n",
       "        180, 181, 182, 183, 184, 185, 186, 187, 188, 189, 190, 191, 192,\n",
       "        193, 194, 195, 196, 197, 198, 199, 200, 201, 202, 203, 204, 205,\n",
       "        206, 207, 208, 209, 210, 211, 212, 213, 214, 215, 216, 217, 218,\n",
       "        219, 220, 221, 222, 223, 224, 225, 226, 227, 228, 229, 230, 231,\n",
       "        232, 233, 234, 235, 236, 237, 238, 239, 240, 241, 242, 243, 244,\n",
       "        245, 246, 247, 248, 249, 250, 251, 252, 253, 254, 255, 256, 257,\n",
       "        258, 259, 260, 261, 262, 263, 264, 265, 266, 267, 268, 269, 270,\n",
       "        271, 272, 273, 274, 275, 276, 277, 278, 279, 280, 281, 282, 283,\n",
       "        284, 285, 286, 287, 288, 289, 290, 291, 292, 293, 294, 295, 296,\n",
       "        297, 298, 299, 300, 301, 302, 303, 304, 305, 306, 307, 308, 309,\n",
       "        310, 311, 312, 313, 314, 315, 316, 317, 318, 319, 320, 321, 322,\n",
       "        323, 324, 325, 326, 327, 328, 329, 330, 331, 332, 333, 334, 335,\n",
       "        336, 337, 338, 339, 340, 341, 342, 343, 344, 345, 346, 347, 348,\n",
       "        349, 350, 351, 352, 353, 354, 355, 356, 357, 358, 359, 360, 361,\n",
       "        362, 363, 364, 365, 366, 367, 368, 369, 370, 371, 372, 373, 374,\n",
       "        375, 376, 377, 378, 379, 380, 381, 382, 383, 384, 385, 386, 387,\n",
       "        388, 389, 390, 391, 392, 393, 394, 395, 396, 397, 398, 399, 400,\n",
       "        401, 402, 403, 404, 405, 406, 407, 408, 409, 410, 411, 412, 413,\n",
       "        414, 415, 416, 417, 418, 419, 420, 421, 422, 423, 424, 425, 426,\n",
       "        427, 428, 429, 430, 431, 432, 433, 434, 435, 436, 437, 438, 439,\n",
       "        440, 441]),\n",
       " array([ 0,  1,  2,  3,  4,  5,  6,  7,  8,  9, 10, 11, 12, 13, 14, 15, 16,\n",
       "        17, 18, 19, 20, 21, 22, 23, 24, 25, 26, 27, 28, 29, 30, 31, 32, 33,\n",
       "        34, 35, 36, 37, 38, 39, 40, 41, 42, 43, 44, 45, 46, 47, 48, 49, 50,\n",
       "        51, 52, 53, 54, 55, 56, 57, 58, 59, 60, 61, 62, 63, 64, 65, 66, 67,\n",
       "        68, 69, 70, 71, 72, 73, 74, 75, 76, 77, 78, 79, 80, 81, 82, 83, 84,\n",
       "        85, 86, 87, 88]))"
      ]
     },
     "execution_count": 97,
     "metadata": {},
     "output_type": "execute_result"
    }
   ],
   "source": [
    "folds[0]"
   ]
  },
  {
   "cell_type": "markdown",
   "id": "578bed61",
   "metadata": {},
   "source": [
    "Não precismos ajustar manualmente um modelo para cada train fold. O sklearn traz uma funcionalidade para isso:"
   ]
  },
  {
   "cell_type": "code",
   "execution_count": 98,
   "id": "b86d8373",
   "metadata": {},
   "outputs": [],
   "source": [
    "from sklearn.model_selection import cross_validate"
   ]
  },
  {
   "cell_type": "code",
   "execution_count": 99,
   "id": "170429d6",
   "metadata": {},
   "outputs": [],
   "source": [
    "cv_scores = cross_validate(\n",
    "    estimator = modelo_diabetes, \n",
    "    X=dados[features], \n",
    "    y=dados['y'], \n",
    "    cv=KFold(shuffle=True), \n",
    "    scoring='neg_mean_absolute_error'\n",
    ")"
   ]
  },
  {
   "cell_type": "markdown",
   "id": "f0c043e9",
   "metadata": {},
   "source": [
    "Obs: a função 'neg_mean_absolute_error' é a mesma que computamos anteriormente, porém por padrão todas as scoring functions são ajustadas para que quanto maior seu valor, melhor seja o desempenho do modelo."
   ]
  },
  {
   "cell_type": "markdown",
   "id": "d03a06cf",
   "metadata": {},
   "source": [
    "- Scoring function: quanto maior, melhor\n",
    "- Loss function: quanto menor, melhor"
   ]
  },
  {
   "cell_type": "code",
   "execution_count": 100,
   "id": "4cf5c331",
   "metadata": {},
   "outputs": [
    {
     "data": {
      "text/plain": [
       "fit_time       0.005599\n",
       "score_time     0.003585\n",
       "test_score   -44.909960\n",
       "dtype: float64"
      ]
     },
     "execution_count": 100,
     "metadata": {},
     "output_type": "execute_result"
    }
   ],
   "source": [
    "pd.DataFrame(cv_scores).mean()"
   ]
  },
  {
   "cell_type": "code",
   "execution_count": 101,
   "id": "c6aa1b85",
   "metadata": {},
   "outputs": [],
   "source": [
    "from sklearn.metrics import SCORERS "
   ]
  },
  {
   "cell_type": "code",
   "execution_count": 102,
   "id": "c48bfb58",
   "metadata": {},
   "outputs": [
    {
     "data": {
      "text/plain": [
       "{'explained_variance': make_scorer(explained_variance_score),\n",
       " 'r2': make_scorer(r2_score),\n",
       " 'max_error': make_scorer(max_error, greater_is_better=False),\n",
       " 'neg_median_absolute_error': make_scorer(median_absolute_error, greater_is_better=False),\n",
       " 'neg_mean_absolute_error': make_scorer(mean_absolute_error, greater_is_better=False),\n",
       " 'neg_mean_absolute_percentage_error': make_scorer(mean_absolute_percentage_error, greater_is_better=False),\n",
       " 'neg_mean_squared_error': make_scorer(mean_squared_error, greater_is_better=False),\n",
       " 'neg_mean_squared_log_error': make_scorer(mean_squared_log_error, greater_is_better=False),\n",
       " 'neg_root_mean_squared_error': make_scorer(mean_squared_error, greater_is_better=False, squared=False),\n",
       " 'neg_mean_poisson_deviance': make_scorer(mean_poisson_deviance, greater_is_better=False),\n",
       " 'neg_mean_gamma_deviance': make_scorer(mean_gamma_deviance, greater_is_better=False),\n",
       " 'accuracy': make_scorer(accuracy_score),\n",
       " 'top_k_accuracy': make_scorer(top_k_accuracy_score, needs_threshold=True),\n",
       " 'roc_auc': make_scorer(roc_auc_score, needs_threshold=True),\n",
       " 'roc_auc_ovr': make_scorer(roc_auc_score, needs_proba=True, multi_class=ovr),\n",
       " 'roc_auc_ovo': make_scorer(roc_auc_score, needs_proba=True, multi_class=ovo),\n",
       " 'roc_auc_ovr_weighted': make_scorer(roc_auc_score, needs_proba=True, multi_class=ovr, average=weighted),\n",
       " 'roc_auc_ovo_weighted': make_scorer(roc_auc_score, needs_proba=True, multi_class=ovo, average=weighted),\n",
       " 'balanced_accuracy': make_scorer(balanced_accuracy_score),\n",
       " 'average_precision': make_scorer(average_precision_score, needs_threshold=True),\n",
       " 'neg_log_loss': make_scorer(log_loss, greater_is_better=False, needs_proba=True),\n",
       " 'neg_brier_score': make_scorer(brier_score_loss, greater_is_better=False, needs_proba=True),\n",
       " 'adjusted_rand_score': make_scorer(adjusted_rand_score),\n",
       " 'rand_score': make_scorer(rand_score),\n",
       " 'homogeneity_score': make_scorer(homogeneity_score),\n",
       " 'completeness_score': make_scorer(completeness_score),\n",
       " 'v_measure_score': make_scorer(v_measure_score),\n",
       " 'mutual_info_score': make_scorer(mutual_info_score),\n",
       " 'adjusted_mutual_info_score': make_scorer(adjusted_mutual_info_score),\n",
       " 'normalized_mutual_info_score': make_scorer(normalized_mutual_info_score),\n",
       " 'fowlkes_mallows_score': make_scorer(fowlkes_mallows_score),\n",
       " 'precision': make_scorer(precision_score, average=binary),\n",
       " 'precision_macro': make_scorer(precision_score, pos_label=None, average=macro),\n",
       " 'precision_micro': make_scorer(precision_score, pos_label=None, average=micro),\n",
       " 'precision_samples': make_scorer(precision_score, pos_label=None, average=samples),\n",
       " 'precision_weighted': make_scorer(precision_score, pos_label=None, average=weighted),\n",
       " 'recall': make_scorer(recall_score, average=binary),\n",
       " 'recall_macro': make_scorer(recall_score, pos_label=None, average=macro),\n",
       " 'recall_micro': make_scorer(recall_score, pos_label=None, average=micro),\n",
       " 'recall_samples': make_scorer(recall_score, pos_label=None, average=samples),\n",
       " 'recall_weighted': make_scorer(recall_score, pos_label=None, average=weighted),\n",
       " 'f1': make_scorer(f1_score, average=binary),\n",
       " 'f1_macro': make_scorer(f1_score, pos_label=None, average=macro),\n",
       " 'f1_micro': make_scorer(f1_score, pos_label=None, average=micro),\n",
       " 'f1_samples': make_scorer(f1_score, pos_label=None, average=samples),\n",
       " 'f1_weighted': make_scorer(f1_score, pos_label=None, average=weighted),\n",
       " 'jaccard': make_scorer(jaccard_score, average=binary),\n",
       " 'jaccard_macro': make_scorer(jaccard_score, pos_label=None, average=macro),\n",
       " 'jaccard_micro': make_scorer(jaccard_score, pos_label=None, average=micro),\n",
       " 'jaccard_samples': make_scorer(jaccard_score, pos_label=None, average=samples),\n",
       " 'jaccard_weighted': make_scorer(jaccard_score, pos_label=None, average=weighted)}"
      ]
     },
     "execution_count": 102,
     "metadata": {},
     "output_type": "execute_result"
    }
   ],
   "source": [
    "SCORERS"
   ]
  },
  {
   "cell_type": "markdown",
   "id": "89c3cfe6",
   "metadata": {},
   "source": [
    "# Revisando"
   ]
  },
  {
   "cell_type": "markdown",
   "id": "4ac05a1e",
   "metadata": {},
   "source": [
    "Nessa seção aprendemos alguns conceitos fundamentais da tarefa de aprendizado supervisionado: <b> variáveis dependentes, independentes, loss function, parâmetros, estratégias de validação </b>."
   ]
  },
  {
   "cell_type": "markdown",
   "id": "8b42cac0",
   "metadata": {},
   "source": [
    "- Regressão linear é um modelo simples e rápido de ser ajustado. Os coeficientes também são diretamente interpretáveis\n",
    "- Necessário verificar se as premissas do modelo estão sendo respeitadas\n",
    "- É possível modelar relações não lineares, transformando as variáveis de entrada ou resposta(idealmente com conhecimento do domínio do problema)\n",
    "- Relações y vs X podem ser apenas parcialmente lineares. É possivel ajustar varios sub-modelos restritos a um dominio\n",
    "- Atenção aos outliers!\n",
    "- O erro nos dados de treino não será necessariamente igual ao erro do modelo quando em produção "
   ]
  },
  {
   "cell_type": "code",
   "execution_count": null,
   "id": "1253d06d",
   "metadata": {},
   "outputs": [],
   "source": []
  }
 ],
 "metadata": {
  "kernelspec": {
   "display_name": "Python 3 (ipykernel)",
   "language": "python",
   "name": "python3"
  },
  "language_info": {
   "codemirror_mode": {
    "name": "ipython",
    "version": 3
   },
   "file_extension": ".py",
   "mimetype": "text/x-python",
   "name": "python",
   "nbconvert_exporter": "python",
   "pygments_lexer": "ipython3",
   "version": "3.9.5"
  },
  "toc": {
   "base_numbering": 1,
   "nav_menu": {},
   "number_sections": true,
   "sideBar": true,
   "skip_h1_title": false,
   "title_cell": "Table of Contents",
   "title_sidebar": "Contents",
   "toc_cell": false,
   "toc_position": {
    "height": "calc(100% - 180px)",
    "left": "10px",
    "top": "150px",
    "width": "352px"
   },
   "toc_section_display": true,
   "toc_window_display": true
  }
 },
 "nbformat": 4,
 "nbformat_minor": 5
}

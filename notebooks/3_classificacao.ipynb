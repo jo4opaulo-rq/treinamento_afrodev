{
 "cells": [
  {
   "cell_type": "markdown",
   "metadata": {},
   "source": [
    "# Aprendizado Supervisionado - Classificação"
   ]
  },
  {
   "cell_type": "markdown",
   "metadata": {},
   "source": [
    "Já exploramos sobre como criar, melhorar e interpretar modelos em que a variável resposta é um valor contínuo. Como podemos tratar os problemas em que as respostas não são contínuas?"
   ]
  },
  {
   "cell_type": "markdown",
   "metadata": {},
   "source": [
    "Vamos trabalhar usando um dataset do kaggle: https://www.kaggle.com/shrutimechlearn/churn-modelling"
   ]
  },
  {
   "cell_type": "code",
   "execution_count": 1,
   "metadata": {},
   "outputs": [],
   "source": [
    "import pandas as pd\n",
    "import numpy as np\n",
    "from IPython.display import Image"
   ]
  },
  {
   "cell_type": "code",
   "execution_count": 2,
   "metadata": {},
   "outputs": [],
   "source": [
    "df = pd.read_csv('../data/churn/Churn_Modelling.csv')"
   ]
  },
  {
   "cell_type": "code",
   "execution_count": 3,
   "metadata": {},
   "outputs": [
    {
     "name": "stdout",
     "output_type": "stream",
     "text": [
      "<class 'pandas.core.frame.DataFrame'>\n",
      "RangeIndex: 10000 entries, 0 to 9999\n",
      "Data columns (total 14 columns):\n",
      " #   Column           Non-Null Count  Dtype  \n",
      "---  ------           --------------  -----  \n",
      " 0   RowNumber        10000 non-null  int64  \n",
      " 1   CustomerId       10000 non-null  int64  \n",
      " 2   Surname          10000 non-null  object \n",
      " 3   CreditScore      10000 non-null  int64  \n",
      " 4   Geography        10000 non-null  object \n",
      " 5   Gender           10000 non-null  object \n",
      " 6   Age              10000 non-null  int64  \n",
      " 7   Tenure           10000 non-null  int64  \n",
      " 8   Balance          10000 non-null  float64\n",
      " 9   NumOfProducts    10000 non-null  int64  \n",
      " 10  HasCrCard        10000 non-null  int64  \n",
      " 11  IsActiveMember   10000 non-null  int64  \n",
      " 12  EstimatedSalary  10000 non-null  float64\n",
      " 13  Exited           10000 non-null  int64  \n",
      "dtypes: float64(2), int64(9), object(3)\n",
      "memory usage: 1.1+ MB\n"
     ]
    }
   ],
   "source": [
    "df.info()"
   ]
  },
  {
   "cell_type": "markdown",
   "metadata": {},
   "source": [
    "Nesse dataset, temos a variável resposta: <b> Exited </b> e algumas colunas que com informações sobre o cliente. Queremos predizer se o cliente vai sair (churn) ou não, em função dessas informações."
   ]
  },
  {
   "cell_type": "code",
   "execution_count": 4,
   "metadata": {},
   "outputs": [
    {
     "data": {
      "text/plain": [
       "<AxesSubplot:>"
      ]
     },
     "execution_count": 4,
     "metadata": {},
     "output_type": "execute_result"
    },
    {
     "data": {
      "image/png": "[encoded data removed]",
      "text/plain": [
       "<Figure size 432x288 with 1 Axes>"
      ]
     },
     "metadata": {
      "needs_background": "light"
     },
     "output_type": "display_data"
    }
   ],
   "source": [
    "(100*df['Exited'].value_counts()/df['Exited'].shape[0]).plot.barh()"
   ]
  },
  {
   "cell_type": "markdown",
   "metadata": {},
   "source": [
    "- 0: não houve churn\n",
    "- 1: houve churn"
   ]
  },
  {
   "cell_type": "markdown",
   "metadata": {},
   "source": [
    "E se fizermos uma regressão linear?"
   ]
  },
  {
   "cell_type": "markdown",
   "metadata": {},
   "source": [
    "Vamos tentar criar um modelo do Churn em função da variável Age"
   ]
  },
  {
   "cell_type": "code",
   "execution_count": 5,
   "metadata": {},
   "outputs": [],
   "source": [
    "df = df.sort_values(by='Exited') #para auxiliar na visualização"
   ]
  },
  {
   "cell_type": "code",
   "execution_count": 6,
   "metadata": {},
   "outputs": [],
   "source": [
    "features = ['Age']\n",
    "output = 'Exited'"
   ]
  },
  {
   "cell_type": "code",
   "execution_count": 7,
   "metadata": {},
   "outputs": [
    {
     "data": {
      "text/plain": [
       "array([[<AxesSubplot:title={'center':'Age'}>]], dtype=object)"
      ]
     },
     "execution_count": 7,
     "metadata": {},
     "output_type": "execute_result"
    },
    {
     "data": {
      "image/png": "[encoded data removed]",
      "text/plain": [
       "<Figure size 432x288 with 1 Axes>"
      ]
     },
     "metadata": {
      "needs_background": "light"
     },
     "output_type": "display_data"
    }
   ],
   "source": [
    "df[features].hist()"
   ]
  },
  {
   "cell_type": "code",
   "execution_count": 8,
   "metadata": {},
   "outputs": [],
   "source": [
    "from sklearn.linear_model import LinearRegression"
   ]
  },
  {
   "cell_type": "code",
   "execution_count": 9,
   "metadata": {},
   "outputs": [],
   "source": [
    "modelo = LinearRegression()"
   ]
  },
  {
   "cell_type": "code",
   "execution_count": 10,
   "metadata": {},
   "outputs": [
    {
     "data": {
      "text/plain": [
       "LinearRegression()"
      ]
     },
     "execution_count": 10,
     "metadata": {},
     "output_type": "execute_result"
    }
   ],
   "source": [
    "modelo.fit(X=df[features], y=df[output])"
   ]
  },
  {
   "cell_type": "code",
   "execution_count": 11,
   "metadata": {},
   "outputs": [],
   "source": [
    "df['ypred'] = modelo.predict(df[features])"
   ]
  },
  {
   "cell_type": "code",
   "execution_count": 12,
   "metadata": {},
   "outputs": [],
   "source": [
    "import matplotlib.pyplot as plt"
   ]
  },
  {
   "cell_type": "code",
   "execution_count": 13,
   "metadata": {},
   "outputs": [
    {
     "data": {
      "text/plain": [
       "Text(0.5, 1.0, 'Y vs X')"
      ]
     },
     "execution_count": 13,
     "metadata": {},
     "output_type": "execute_result"
    },
    {
     "data": {
      "image/png": "[encoded data removed]",
      "text/plain": [
       "<Figure size 432x288 with 1 Axes>"
      ]
     },
     "metadata": {
      "needs_background": "light"
     },
     "output_type": "display_data"
    }
   ],
   "source": [
    "plt.scatter(df[features], df[output])\n",
    "plt.plot(df[features], df['ypred'], color='red')\n",
    "plt.ylabel('Exited?')\n",
    "plt.xlabel('Age')\n",
    "plt.title('Y vs X')"
   ]
  },
  {
   "cell_type": "markdown",
   "metadata": {},
   "source": [
    "Fazer uma regressão linear não gera nenhum erro no código..no entanto apresenta alguns problemas.."
   ]
  },
  {
   "cell_type": "markdown",
   "metadata": {},
   "source": [
    "- resposta só possui 2 valores possiveis: 0 (não churn) ou 1 (churn). Ypredito é uma reta\n",
    "- conforme a idade aumenta ou diminui, os valores de ypred irão extrapolar os limites da variável resposta"
   ]
  },
  {
   "cell_type": "code",
   "execution_count": 14,
   "metadata": {},
   "outputs": [],
   "source": [
    "df['residuo'] = df['ypred'] - df[output]"
   ]
  },
  {
   "cell_type": "code",
   "execution_count": 15,
   "metadata": {},
   "outputs": [],
   "source": [
    "import seaborn as sns"
   ]
  },
  {
   "cell_type": "markdown",
   "metadata": {},
   "source": [
    "Lembre-se que uma regressão linear tem como premissa que seus resíduos sejam normalmente distribuidos em torno de 0:"
   ]
  },
  {
   "cell_type": "code",
   "execution_count": 16,
   "metadata": {},
   "outputs": [
    {
     "data": {
      "text/plain": [
       "Text(0.5, 1.0, 'Histograma dos resíduos')"
      ]
     },
     "execution_count": 16,
     "metadata": {},
     "output_type": "execute_result"
    },
    {
     "data": {
      "image/png": "[encoded data removed]",
      "text/plain": [
       "<Figure size 432x288 with 1 Axes>"
      ]
     },
     "metadata": {
      "needs_background": "light"
     },
     "output_type": "display_data"
    }
   ],
   "source": [
    "hist = sns.histplot(df['residuo'])\n",
    "plt.title(\"Histograma dos resíduos\")"
   ]
  },
  {
   "cell_type": "markdown",
   "metadata": {},
   "source": [
    "## Mas então, como modelar uma resposta categórica?"
   ]
  },
  {
   "cell_type": "markdown",
   "metadata": {},
   "source": [
    "Se optarmos por utilizar um modelo linear, podemos trabalhar com uma generalização da regressão (GLM) chamada <b>  <font color='green'> regressão logística </font> </b> :  "
   ]
  },
  {
   "cell_type": "code",
   "execution_count": 17,
   "metadata": {},
   "outputs": [],
   "source": [
    "from sklearn.linear_model import LogisticRegression"
   ]
  },
  {
   "cell_type": "markdown",
   "metadata": {},
   "source": [
    "Esse modelo é dado por:"
   ]
  },
  {
   "cell_type": "markdown",
   "metadata": {},
   "source": [
    "\\begin{align}\n",
    "log(\\frac{p}{1-p}) = b0 + b1*x1 + b2*x2 + ...\n",
    "\\end{align}"
   ]
  },
  {
   "cell_type": "markdown",
   "metadata": {},
   "source": [
    "A parte esquerda da equação é chamada <b> Logit </b>. Nesse tipo de modelo, a premissa é que <b> Logit(p) tenha uma relação linear com as variáveis preditoras </b>. Rearranjando:"
   ]
  },
  {
   "cell_type": "markdown",
   "metadata": {},
   "source": [
    "\\begin{align}\n",
    "p = \\frac{1}{1+e^{-(b0 + b1*x1+b2*x2 +...)}}\n",
    "\\end{align}"
   ]
  },
  {
   "cell_type": "markdown",
   "metadata": {},
   "source": [
    "Essa função é conhecida como Sigmoide, e tem esse formato abaixo:"
   ]
  },
  {
   "cell_type": "code",
   "execution_count": 18,
   "metadata": {},
   "outputs": [
    {
     "data": {
      "image/png": "[encoded data removed]",
      "text/plain": [
       "<IPython.core.display.Image object>"
      ]
     },
     "execution_count": 18,
     "metadata": {},
     "output_type": "execute_result"
    }
   ],
   "source": [
    "Image('../figures/sigmoid.png')"
   ]
  },
  {
   "cell_type": "code",
   "execution_count": 19,
   "metadata": {},
   "outputs": [],
   "source": [
    "modelo_logistico = LogisticRegression()"
   ]
  },
  {
   "cell_type": "code",
   "execution_count": 20,
   "metadata": {},
   "outputs": [
    {
     "data": {
      "text/plain": [
       "LogisticRegression()"
      ]
     },
     "execution_count": 20,
     "metadata": {},
     "output_type": "execute_result"
    }
   ],
   "source": [
    "modelo_logistico.fit(X=df[features], y=df[output])"
   ]
  },
  {
   "cell_type": "markdown",
   "metadata": {},
   "source": [
    "Modelos de classificação tem duas formas de predict:"
   ]
  },
  {
   "cell_type": "code",
   "execution_count": 21,
   "metadata": {},
   "outputs": [
    {
     "data": {
      "text/plain": [
       "array([[0.82298419, 0.17701581],\n",
       "       [0.89121363, 0.10878637],\n",
       "       [0.8319684 , 0.1680316 ],\n",
       "       ...,\n",
       "       [0.58437345, 0.41562655],\n",
       "       [0.76115662, 0.23884338],\n",
       "       [0.78328612, 0.21671388]])"
      ]
     },
     "execution_count": 21,
     "metadata": {},
     "output_type": "execute_result"
    }
   ],
   "source": [
    "modelo_logistico.predict_proba(df[features])"
   ]
  },
  {
   "cell_type": "code",
   "execution_count": 22,
   "metadata": {},
   "outputs": [
    {
     "data": {
      "text/plain": [
       "array([0.17701581, 0.10878637, 0.1680316 , ..., 0.41562655, 0.23884338,\n",
       "       0.21671388])"
      ]
     },
     "execution_count": 22,
     "metadata": {},
     "output_type": "execute_result"
    }
   ],
   "source": [
    "modelo_logistico.predict_proba(df[features])[:,1]"
   ]
  },
  {
   "cell_type": "code",
   "execution_count": 23,
   "metadata": {},
   "outputs": [],
   "source": [
    "df['ypred_log'] = modelo_logistico.predict_proba(df[features])[:,1] #predizendo a probabilidade do output ser 1"
   ]
  },
  {
   "cell_type": "code",
   "execution_count": 24,
   "metadata": {},
   "outputs": [
    {
     "data": {
      "text/plain": [
       "Text(0.5, 1.0, 'Y vs X')"
      ]
     },
     "execution_count": 24,
     "metadata": {},
     "output_type": "execute_result"
    },
    {
     "data": {
      "image/png": "[encoded data removed]",
      "text/plain": [
       "<Figure size 432x288 with 1 Axes>"
      ]
     },
     "metadata": {
      "needs_background": "light"
     },
     "output_type": "display_data"
    }
   ],
   "source": [
    "plt.scatter(df[features], df[output])\n",
    "plt.scatter(df[features], df['ypred_log'], color='red')\n",
    "plt.ylabel('Y - variável dependente')\n",
    "plt.xlabel('X - variável independente')\n",
    "plt.title('Y vs X')"
   ]
  },
  {
   "cell_type": "markdown",
   "metadata": {},
   "source": [
    "A transformação que aplicamos (função logística) tem esse efeito de restringir a saida entre 0 e 1, então a predição pode ser dada como uma probabilidade de a classe ser 1. Se adotarmos um limiar, ex.: 50%, podemos atribuir 1 para os valores cuja probabilidade é maior que o limiar, ou zero para o outro caso."
   ]
  },
  {
   "cell_type": "markdown",
   "metadata": {},
   "source": [
    "Como um modelo linear generalizado, a regressão logística também deve respeitar premissas. Caso elas não sejam atendidas, os coeficientes e as métricas podem estar incorretos. "
   ]
  },
  {
   "cell_type": "markdown",
   "metadata": {},
   "source": [
    "- variável resposta é binária (se tiver mais de 2 categorias, necessário usar outro GLM como regressão multinomial)\n",
    "- observações são independentes umas das outras\n",
    "- as variáveis explanatórias não são colineares (correlacionadas)\n",
    "- não há outliers\n",
    "- há uma relação linear entre as variáveis explanatorias e o logit da variável resposta"
   ]
  },
  {
   "cell_type": "markdown",
   "metadata": {},
   "source": [
    "Para saber mais: https://www.statology.org/assumptions-of-logistic-regression/"
   ]
  },
  {
   "cell_type": "markdown",
   "metadata": {},
   "source": [
    "# Ensemble de árvores para classificação"
   ]
  },
  {
   "cell_type": "markdown",
   "metadata": {},
   "source": [
    "Os modelos baseados em árvores de decisão também são robustos para fazer classificação. A diferença aqui é que, para modelos baseados em Bagging, cada árvore \"dá o seu voto\", a classe final ou propabilidade é a proporção de votos no ensemble (conjunto de modelos)."
   ]
  },
  {
   "cell_type": "markdown",
   "metadata": {},
   "source": [
    "Para modelos baseados em Boosting, como o que vamos testar agora, a probabilidade da variável resposta ser 0 ou 1 é aproximada por sucessivas predições de árvores de decisão com objetivo de minimizar o residuo da árvore anterior.  "
   ]
  },
  {
   "cell_type": "code",
   "execution_count": 25,
   "metadata": {},
   "outputs": [],
   "source": [
    "df = pd.read_csv('../data/churn/Churn_Modelling.csv')"
   ]
  },
  {
   "cell_type": "markdown",
   "metadata": {},
   "source": [
    "Os modelos que utilzamos na seção anterior também podem ser adaptados para utilizar em casos de classificação"
   ]
  },
  {
   "cell_type": "code",
   "execution_count": 26,
   "metadata": {},
   "outputs": [
    {
     "name": "stderr",
     "output_type": "stream",
     "text": [
      "Invalid requirement: '#instalar'\n",
      "\n",
      "You are using pip version 19.0.3, however version 21.1.1 is available.\n",
      "You should consider upgrading via the 'python -m pip install --upgrade pip' command.\n"
     ]
    }
   ],
   "source": [
    "!pip install xgboost #instalar caso ainda não tenha instalado"
   ]
  },
  {
   "cell_type": "code",
   "execution_count": 27,
   "metadata": {},
   "outputs": [],
   "source": [
    "from xgboost.sklearn import XGBClassifier"
   ]
  },
  {
   "cell_type": "code",
   "execution_count": 28,
   "metadata": {},
   "outputs": [
    {
     "name": "stdout",
     "output_type": "stream",
     "text": [
      "<class 'pandas.core.frame.DataFrame'>\n",
      "RangeIndex: 10000 entries, 0 to 9999\n",
      "Data columns (total 14 columns):\n",
      " #   Column           Non-Null Count  Dtype  \n",
      "---  ------           --------------  -----  \n",
      " 0   RowNumber        10000 non-null  int64  \n",
      " 1   CustomerId       10000 non-null  int64  \n",
      " 2   Surname          10000 non-null  object \n",
      " 3   CreditScore      10000 non-null  int64  \n",
      " 4   Geography        10000 non-null  object \n",
      " 5   Gender           10000 non-null  object \n",
      " 6   Age              10000 non-null  int64  \n",
      " 7   Tenure           10000 non-null  int64  \n",
      " 8   Balance          10000 non-null  float64\n",
      " 9   NumOfProducts    10000 non-null  int64  \n",
      " 10  HasCrCard        10000 non-null  int64  \n",
      " 11  IsActiveMember   10000 non-null  int64  \n",
      " 12  EstimatedSalary  10000 non-null  float64\n",
      " 13  Exited           10000 non-null  int64  \n",
      "dtypes: float64(2), int64(9), object(3)\n",
      "memory usage: 1.1+ MB\n"
     ]
    }
   ],
   "source": [
    "df.info()"
   ]
  },
  {
   "cell_type": "code",
   "execution_count": 29,
   "metadata": {},
   "outputs": [],
   "source": [
    "import os\n",
    "import sys\n",
    "sys.path.append('../')\n",
    "from src.utils import *"
   ]
  },
  {
   "cell_type": "markdown",
   "metadata": {},
   "source": [
    "Ja aplicamos uma função para transformar cada categoria em um número. Dessa vez vamos testar outra opção: one hot encoding"
   ]
  },
  {
   "cell_type": "markdown",
   "metadata": {},
   "source": [
    "Processamento para variáveis não numéricas:"
   ]
  },
  {
   "cell_type": "code",
   "execution_count": 30,
   "metadata": {},
   "outputs": [],
   "source": [
    "def fazer_onehotencoding_colunas_categoricas(\n",
    "    df: pd.DataFrame, \n",
    "    drop: bool = True, \n",
    "    max_cats: int = 10,\n",
    "    subset: list = []\n",
    ") -> pd.DataFrame:\n",
    "    \n",
    "    \"\"\"\n",
    "    recebe um dataframe, identifica as colunas não numericas e faz one hot encoding de cada\n",
    "    \n",
    "    Parameters:\n",
    "    -----------\n",
    "    \n",
    "    df: dataframe a ser processado\n",
    "    drop: eliminar as colunas originais\n",
    "    max_cats: maximo de valores únicos na coluna, que se tornarao em categorias distintas. \n",
    "    Se a coluna tiver mais que o máximo, retorna ela sem transformar\n",
    "    subset: aplicar a transformação em somente um conjunto de colunas\n",
    "    \n",
    "    Returns:\n",
    "    --------\n",
    "    dataframe com as colunas categoricas tratadas utilizando one hot encoding\n",
    "    \n",
    "    \"\"\"\n",
    "        \n",
    "    for nome, c in df.items():\n",
    "        if is_string_dtype(c) and c.nunique() <= max_cats: \n",
    "            dummified_col =  pd.get_dummies(c)\n",
    "            dummified_col.columns = [f\"{nome}_is{x}\" for x in dummified_col.columns]\n",
    "            df = df.join(dummified_col)\n",
    "            \n",
    "            if drop: \n",
    "                df = df.drop(nome, axis = 1)\n",
    "\n",
    "    return df\n",
    "            "
   ]
  },
  {
   "cell_type": "code",
   "execution_count": 31,
   "metadata": {},
   "outputs": [],
   "source": [
    "df = fazer_onehotencoding_colunas_categoricas(df)"
   ]
  },
  {
   "cell_type": "code",
   "execution_count": 32,
   "metadata": {},
   "outputs": [
    {
     "data": {
      "text/html": [
       "<div>\n",
       "<style scoped>\n",
       "    .dataframe tbody tr th:only-of-type {\n",
       "        vertical-align: middle;\n",
       "    }\n",
       "\n",
       "    .dataframe tbody tr th {\n",
       "        vertical-align: top;\n",
       "    }\n",
       "\n",
       "    .dataframe thead th {\n",
       "        text-align: right;\n",
       "    }\n",
       "</style>\n",
       "<table border=\"1\" class=\"dataframe\">\n",
       "  <thead>\n",
       "    <tr style=\"text-align: right;\">\n",
       "      <th></th>\n",
       "      <th>RowNumber</th>\n",
       "      <th>CustomerId</th>\n",
       "      <th>Surname</th>\n",
       "      <th>CreditScore</th>\n",
       "      <th>Age</th>\n",
       "      <th>Tenure</th>\n",
       "      <th>Balance</th>\n",
       "      <th>NumOfProducts</th>\n",
       "      <th>HasCrCard</th>\n",
       "      <th>IsActiveMember</th>\n",
       "      <th>EstimatedSalary</th>\n",
       "      <th>Exited</th>\n",
       "      <th>Geography_isFrance</th>\n",
       "      <th>Geography_isGermany</th>\n",
       "      <th>Geography_isSpain</th>\n",
       "      <th>Gender_isFemale</th>\n",
       "      <th>Gender_isMale</th>\n",
       "    </tr>\n",
       "  </thead>\n",
       "  <tbody>\n",
       "    <tr>\n",
       "      <th>0</th>\n",
       "      <td>1</td>\n",
       "      <td>15634602</td>\n",
       "      <td>Hargrave</td>\n",
       "      <td>619</td>\n",
       "      <td>42</td>\n",
       "      <td>2</td>\n",
       "      <td>0.00</td>\n",
       "      <td>1</td>\n",
       "      <td>1</td>\n",
       "      <td>1</td>\n",
       "      <td>101348.88</td>\n",
       "      <td>1</td>\n",
       "      <td>1</td>\n",
       "      <td>0</td>\n",
       "      <td>0</td>\n",
       "      <td>1</td>\n",
       "      <td>0</td>\n",
       "    </tr>\n",
       "    <tr>\n",
       "      <th>1</th>\n",
       "      <td>2</td>\n",
       "      <td>15647311</td>\n",
       "      <td>Hill</td>\n",
       "      <td>608</td>\n",
       "      <td>41</td>\n",
       "      <td>1</td>\n",
       "      <td>83807.86</td>\n",
       "      <td>1</td>\n",
       "      <td>0</td>\n",
       "      <td>1</td>\n",
       "      <td>112542.58</td>\n",
       "      <td>0</td>\n",
       "      <td>0</td>\n",
       "      <td>0</td>\n",
       "      <td>1</td>\n",
       "      <td>1</td>\n",
       "      <td>0</td>\n",
       "    </tr>\n",
       "    <tr>\n",
       "      <th>2</th>\n",
       "      <td>3</td>\n",
       "      <td>15619304</td>\n",
       "      <td>Onio</td>\n",
       "      <td>502</td>\n",
       "      <td>42</td>\n",
       "      <td>8</td>\n",
       "      <td>159660.80</td>\n",
       "      <td>3</td>\n",
       "      <td>1</td>\n",
       "      <td>0</td>\n",
       "      <td>113931.57</td>\n",
       "      <td>1</td>\n",
       "      <td>1</td>\n",
       "      <td>0</td>\n",
       "      <td>0</td>\n",
       "      <td>1</td>\n",
       "      <td>0</td>\n",
       "    </tr>\n",
       "    <tr>\n",
       "      <th>3</th>\n",
       "      <td>4</td>\n",
       "      <td>15701354</td>\n",
       "      <td>Boni</td>\n",
       "      <td>699</td>\n",
       "      <td>39</td>\n",
       "      <td>1</td>\n",
       "      <td>0.00</td>\n",
       "      <td>2</td>\n",
       "      <td>0</td>\n",
       "      <td>0</td>\n",
       "      <td>93826.63</td>\n",
       "      <td>0</td>\n",
       "      <td>1</td>\n",
       "      <td>0</td>\n",
       "      <td>0</td>\n",
       "      <td>1</td>\n",
       "      <td>0</td>\n",
       "    </tr>\n",
       "    <tr>\n",
       "      <th>4</th>\n",
       "      <td>5</td>\n",
       "      <td>15737888</td>\n",
       "      <td>Mitchell</td>\n",
       "      <td>850</td>\n",
       "      <td>43</td>\n",
       "      <td>2</td>\n",
       "      <td>125510.82</td>\n",
       "      <td>1</td>\n",
       "      <td>1</td>\n",
       "      <td>1</td>\n",
       "      <td>79084.10</td>\n",
       "      <td>0</td>\n",
       "      <td>0</td>\n",
       "      <td>0</td>\n",
       "      <td>1</td>\n",
       "      <td>1</td>\n",
       "      <td>0</td>\n",
       "    </tr>\n",
       "  </tbody>\n",
       "</table>\n",
       "</div>"
      ],
      "text/plain": [
       "   RowNumber  CustomerId   Surname  CreditScore  Age  Tenure    Balance  \\\n",
       "0          1    15634602  Hargrave          619   42       2       0.00   \n",
       "1          2    15647311      Hill          608   41       1   83807.86   \n",
       "2          3    15619304      Onio          502   42       8  159660.80   \n",
       "3          4    15701354      Boni          699   39       1       0.00   \n",
       "4          5    15737888  Mitchell          850   43       2  125510.82   \n",
       "\n",
       "   NumOfProducts  HasCrCard  IsActiveMember  EstimatedSalary  Exited  \\\n",
       "0              1          1               1        101348.88       1   \n",
       "1              1          0               1        112542.58       0   \n",
       "2              3          1               0        113931.57       1   \n",
       "3              2          0               0         93826.63       0   \n",
       "4              1          1               1         79084.10       0   \n",
       "\n",
       "   Geography_isFrance  Geography_isGermany  Geography_isSpain  \\\n",
       "0                   1                    0                  0   \n",
       "1                   0                    0                  1   \n",
       "2                   1                    0                  0   \n",
       "3                   1                    0                  0   \n",
       "4                   0                    0                  1   \n",
       "\n",
       "   Gender_isFemale  Gender_isMale  \n",
       "0                1              0  \n",
       "1                1              0  \n",
       "2                1              0  \n",
       "3                1              0  \n",
       "4                1              0  "
      ]
     },
     "execution_count": 32,
     "metadata": {},
     "output_type": "execute_result"
    }
   ],
   "source": [
    "df.head()"
   ]
  },
  {
   "cell_type": "code",
   "execution_count": 33,
   "metadata": {},
   "outputs": [
    {
     "name": "stdout",
     "output_type": "stream",
     "text": [
      "<class 'pandas.core.frame.DataFrame'>\n",
      "RangeIndex: 10000 entries, 0 to 9999\n",
      "Data columns (total 17 columns):\n",
      " #   Column               Non-Null Count  Dtype  \n",
      "---  ------               --------------  -----  \n",
      " 0   RowNumber            10000 non-null  int64  \n",
      " 1   CustomerId           10000 non-null  int64  \n",
      " 2   Surname              10000 non-null  object \n",
      " 3   CreditScore          10000 non-null  int64  \n",
      " 4   Age                  10000 non-null  int64  \n",
      " 5   Tenure               10000 non-null  int64  \n",
      " 6   Balance              10000 non-null  float64\n",
      " 7   NumOfProducts        10000 non-null  int64  \n",
      " 8   HasCrCard            10000 non-null  int64  \n",
      " 9   IsActiveMember       10000 non-null  int64  \n",
      " 10  EstimatedSalary      10000 non-null  float64\n",
      " 11  Exited               10000 non-null  int64  \n",
      " 12  Geography_isFrance   10000 non-null  uint8  \n",
      " 13  Geography_isGermany  10000 non-null  uint8  \n",
      " 14  Geography_isSpain    10000 non-null  uint8  \n",
      " 15  Gender_isFemale      10000 non-null  uint8  \n",
      " 16  Gender_isMale        10000 non-null  uint8  \n",
      "dtypes: float64(2), int64(9), object(1), uint8(5)\n",
      "memory usage: 986.5+ KB\n"
     ]
    }
   ],
   "source": [
    "df.info()"
   ]
  },
  {
   "cell_type": "code",
   "execution_count": 34,
   "metadata": {},
   "outputs": [
    {
     "data": {
      "text/plain": [
       "['Hargrave',\n",
       " 'Hill',\n",
       " 'Onio',\n",
       " 'Boni',\n",
       " 'Mitchell',\n",
       " 'Chu',\n",
       " 'Bartlett',\n",
       " 'Obinna',\n",
       " 'He',\n",
       " 'H?',\n",
       " 'Bearce',\n",
       " 'Andrews',\n",
       " 'Kay',\n",
       " 'Chin',\n",
       " 'Scott',\n",
       " 'Goforth',\n",
       " 'Romeo',\n",
       " 'Henderson',\n",
       " 'Muldrow',\n",
       " 'Hao',\n",
       " 'McDonald',\n",
       " 'Dellucci',\n",
       " 'Gerasimov',\n",
       " 'Mosman',\n",
       " 'Yen',\n",
       " 'Maclean',\n",
       " 'Young',\n",
       " 'Nebechi',\n",
       " 'McWilliams',\n",
       " 'Lucciano',\n",
       " 'Azikiwe',\n",
       " 'Odinakachukwu',\n",
       " 'Sanderson',\n",
       " 'Maggard',\n",
       " 'Clements',\n",
       " 'Lombardo',\n",
       " 'Watson',\n",
       " 'Lorenzo',\n",
       " 'Armstrong',\n",
       " 'Cameron',\n",
       " 'Hsiao',\n",
       " 'Clarke',\n",
       " 'Osborne',\n",
       " 'Lavine',\n",
       " 'Bianchi',\n",
       " 'Tyler',\n",
       " 'Martin',\n",
       " 'Okagbue',\n",
       " 'Yin',\n",
       " 'Buccho',\n",
       " 'Chidiebele',\n",
       " 'Trevisani',\n",
       " \"O'Brien\",\n",
       " 'Parkhill',\n",
       " 'Yoo',\n",
       " 'Phillipps',\n",
       " 'Tsao',\n",
       " 'Endrizzi',\n",
       " \"T'ien\",\n",
       " 'Velazquez',\n",
       " 'Hunter',\n",
       " 'Clark',\n",
       " 'Jeffrey',\n",
       " 'Pirozzi',\n",
       " 'Jackson',\n",
       " 'Hammond',\n",
       " 'Brownless',\n",
       " 'Chibugo',\n",
       " 'Glauert',\n",
       " 'Pisano',\n",
       " 'Konovalova',\n",
       " 'McKee',\n",
       " 'Palermo',\n",
       " 'Ballard',\n",
       " 'Wallace',\n",
       " 'Cavenagh',\n",
       " 'Hu',\n",
       " 'Read',\n",
       " 'Bushell',\n",
       " 'Postle',\n",
       " 'Buley',\n",
       " 'Leonard',\n",
       " 'Mills',\n",
       " 'Onyeorulu',\n",
       " 'Beit',\n",
       " 'Ndukaku',\n",
       " 'Gant',\n",
       " 'Rowley',\n",
       " 'Sharpe',\n",
       " 'Heap',\n",
       " 'Ritchie',\n",
       " 'Cole',\n",
       " 'Capon',\n",
       " 'Fiorentini',\n",
       " 'Graham',\n",
       " 'Yuille',\n",
       " 'Allard',\n",
       " 'Fanucci',\n",
       " 'Fu',\n",
       " 'Hung',\n",
       " 'Bradley',\n",
       " 'Dunbabin',\n",
       " 'Mauldon',\n",
       " 'Stiger',\n",
       " 'Parsons',\n",
       " 'Walkom',\n",
       " \"T'ang\",\n",
       " 'Eremenko',\n",
       " 'Rowntree',\n",
       " 'Thorpe',\n",
       " 'Chiemela',\n",
       " 'Ko',\n",
       " 'Welch',\n",
       " 'Duncan',\n",
       " 'Chidozie',\n",
       " 'Wu',\n",
       " 'Culbreth',\n",
       " 'Kennedy',\n",
       " 'Calabresi',\n",
       " 'Zetticci',\n",
       " 'Fuller',\n",
       " 'MacDonald',\n",
       " 'Piccio',\n",
       " 'Fernie',\n",
       " 'Kaodilinakachukwu',\n",
       " 'Cocci',\n",
       " 'Alekseeva',\n",
       " 'Chinweike',\n",
       " 'Arthur',\n",
       " 'Li',\n",
       " 'Ma',\n",
       " 'Chia',\n",
       " 'Vasin',\n",
       " 'Groves',\n",
       " 'Tien',\n",
       " 'Forwood',\n",
       " 'Greeves',\n",
       " 'Taylor',\n",
       " 'Madukwe',\n",
       " 'Bennelong',\n",
       " 'Olisanugo',\n",
       " 'Chukwufumnanya',\n",
       " 'Harris',\n",
       " 'Morgan',\n",
       " 'Alexeeva',\n",
       " 'Metcalfe',\n",
       " 'Humphries',\n",
       " 'Milne',\n",
       " 'Chou',\n",
       " 'Clayton',\n",
       " 'Chigolum',\n",
       " 'Wilkinson',\n",
       " 'Wei',\n",
       " 'Treacy',\n",
       " 'Taverner',\n",
       " 'Sherman',\n",
       " 'Taubman',\n",
       " 'Robinson',\n",
       " 'Pinto',\n",
       " 'Wood',\n",
       " 'Hawkins',\n",
       " 'Sun',\n",
       " 'Yost',\n",
       " 'Ting',\n",
       " 'Rowe',\n",
       " 'Ho',\n",
       " 'Okechukwu',\n",
       " 'Campbell',\n",
       " 'Ashbolt',\n",
       " 'Rozier',\n",
       " 'Hsia',\n",
       " 'Ogbonnaya',\n",
       " 'Chang',\n",
       " \"T'ao\",\n",
       " 'Ford',\n",
       " 'Marshall',\n",
       " 'Tsai',\n",
       " 'Onwumelu',\n",
       " 'Golovanov',\n",
       " 'Potts',\n",
       " 'Crawford',\n",
       " 'Aleshire',\n",
       " 'Moran',\n",
       " 'Samsonova',\n",
       " 'Jenkins',\n",
       " 'Volkov',\n",
       " 'Chiemezie',\n",
       " 'Jude',\n",
       " 'Onuora',\n",
       " 'Ginikanwa',\n",
       " 'Ku',\n",
       " 'Collins',\n",
       " 'Hackett',\n",
       " 'Dike',\n",
       " 'Trevisano',\n",
       " 'Tan',\n",
       " 'Glassman',\n",
       " 'Miller',\n",
       " 'Kornilova',\n",
       " 'Marchesi',\n",
       " 'Millar',\n",
       " 'Shih',\n",
       " 'Hay',\n",
       " 'Yang',\n",
       " 'McIntyre',\n",
       " 'Stevenson',\n",
       " 'Poole',\n",
       " 'Bagley',\n",
       " \"Ch'ien\",\n",
       " 'Cattaneo',\n",
       " \"O'Sullivan\",\n",
       " 'Lucas',\n",
       " 'Ringrose',\n",
       " 'Freeman',\n",
       " 'Sergeyev',\n",
       " 'Fiore',\n",
       " 'Smith',\n",
       " 'Dumetochukwu',\n",
       " 'Pacheco',\n",
       " 'Synnot',\n",
       " 'Johnston',\n",
       " 'Stevens',\n",
       " 'Grant',\n",
       " 'Barnes',\n",
       " 'McIntosh',\n",
       " 'Madison',\n",
       " 'Ifesinachi',\n",
       " 'Glazkov',\n",
       " 'Dimauro',\n",
       " 'Wieck',\n",
       " 'Liao',\n",
       " 'Hughes',\n",
       " 'Morrison',\n",
       " 'Matveyeva',\n",
       " 'Cheatham',\n",
       " 'Yao',\n",
       " 'Kirkland',\n",
       " 'Rose',\n",
       " 'Jess',\n",
       " 'Ifeajuna',\n",
       " 'Morton',\n",
       " 'Rossi',\n",
       " 'Reppert',\n",
       " 'Kang',\n",
       " \"Ch'iu\",\n",
       " 'Wallis',\n",
       " 'Fielding',\n",
       " 'Dulhunty',\n",
       " 'Bevington',\n",
       " 'Boyle',\n",
       " 'Newton',\n",
       " 'Bowman',\n",
       " 'Dubinina',\n",
       " 'Toscani',\n",
       " 'Chiazagomekpere',\n",
       " 'Allen',\n",
       " \"K'ung\",\n",
       " 'Wilsmore',\n",
       " 'Hargreaves',\n",
       " 'Huang',\n",
       " 'Wallwork',\n",
       " 'Davidson',\n",
       " \"O'Donnell\",\n",
       " 'Nnachetam',\n",
       " 'Ahmed',\n",
       " 'Booth',\n",
       " 'Chuang',\n",
       " 'Shao',\n",
       " 'Johnson',\n",
       " 'French',\n",
       " 'Efremov',\n",
       " 'Hartley',\n",
       " 'Calabrese',\n",
       " 'Chiu',\n",
       " 'Brennan',\n",
       " 'Onwuatuegwu',\n",
       " 'Hewitt',\n",
       " 'Balashov',\n",
       " 'Doyle',\n",
       " 'Pokrovskii',\n",
       " 'Russo',\n",
       " 'Skinner',\n",
       " 'Robertson',\n",
       " 'Atkinson',\n",
       " 'McEncroe',\n",
       " 'Pearson',\n",
       " 'Gordon',\n",
       " \"Ts'ai\",\n",
       " 'Lung',\n",
       " 'Yuan',\n",
       " 'Pardey',\n",
       " 'Tai',\n",
       " 'Mazzanti',\n",
       " 'L?',\n",
       " 'Beach',\n",
       " 'Hsieh',\n",
       " 'Faulkner',\n",
       " 'Knowles',\n",
       " 'Day',\n",
       " 'Hsueh',\n",
       " 'Nwabugwu',\n",
       " 'Kerr',\n",
       " 'Marrero',\n",
       " 'White',\n",
       " 'Brown',\n",
       " 'Russell',\n",
       " 'Seleznyov',\n",
       " 'Yusupova',\n",
       " 'Foley',\n",
       " 'Ikedinachukwu',\n",
       " 'Power',\n",
       " 'Amos',\n",
       " 'Reed',\n",
       " 'Simmons',\n",
       " 'Ricci',\n",
       " 'West',\n",
       " 'Chen',\n",
       " 'Madukaego',\n",
       " 'Ibrahimova',\n",
       " 'Nolan',\n",
       " 'Blair',\n",
       " 'Monaldo',\n",
       " 'Sutherland',\n",
       " 'Briggs',\n",
       " 'Gregory',\n",
       " 'Angelo',\n",
       " 'Gardiner',\n",
       " 'Distefano',\n",
       " 'Farrell',\n",
       " 'Milano',\n",
       " 'Boyd',\n",
       " 'Onyemaechi',\n",
       " 'Black',\n",
       " 'Oliver',\n",
       " 'Greco',\n",
       " 'Whitehead',\n",
       " 'Ikemefuna',\n",
       " 'Onyeoruru',\n",
       " 'Cunningham',\n",
       " 'Demidov',\n",
       " 'Celis',\n",
       " 'Cheng',\n",
       " 'Knight',\n",
       " 'Morin',\n",
       " 'Outhwaite',\n",
       " 'Tung',\n",
       " 'Pai',\n",
       " 'Carpenter',\n",
       " 'Fennell',\n",
       " 'Fontaine',\n",
       " 'Pratt',\n",
       " 'Franklin',\n",
       " 'McKenzie',\n",
       " 'Pino',\n",
       " 'Fisk',\n",
       " 'Chiang',\n",
       " 'Moseley',\n",
       " 'Hsiung',\n",
       " 'Heath',\n",
       " 'De Salis',\n",
       " 'Richardson',\n",
       " 'Fitch',\n",
       " 'Estes',\n",
       " 'Lattimore',\n",
       " 'Chung',\n",
       " 'Utz',\n",
       " 'Nwachinemelu',\n",
       " 'Kuznetsova',\n",
       " 'Pisani',\n",
       " 'Manna',\n",
       " 'Collier',\n",
       " 'Carr',\n",
       " 'Hs?',\n",
       " 'Findlay',\n",
       " 'Chukwuemeka',\n",
       " 'Genovese',\n",
       " 'Swift',\n",
       " 'Ugoji',\n",
       " 'Parkinson',\n",
       " 'Ross',\n",
       " 'Oleary',\n",
       " 'Turnbull',\n",
       " 'Uspensky',\n",
       " 'Cook',\n",
       " 'Newbold',\n",
       " 'Uchechukwu',\n",
       " \"Ch'en\",\n",
       " 'Hilton',\n",
       " 'Sal',\n",
       " 'Eluemuno',\n",
       " 'Titus',\n",
       " 'Lettiere',\n",
       " 'Templeman',\n",
       " 'Chibuzo',\n",
       " 'Evans',\n",
       " 'Enyinnaya',\n",
       " 'Brookes',\n",
       " 'Padovano',\n",
       " 'Hare',\n",
       " 'Muir',\n",
       " 'Elewechi',\n",
       " 'Ankudinov',\n",
       " 'Nwokike',\n",
       " 'Atkins',\n",
       " 'Burns',\n",
       " 'Obiuto',\n",
       " 'George',\n",
       " 'Lewis',\n",
       " 'Dalrymple',\n",
       " 'Carslaw',\n",
       " 'Kirby',\n",
       " 'Houghton',\n",
       " 'Westerberg',\n",
       " 'Hale',\n",
       " 'Kryukova',\n",
       " 'Sopuluchukwu',\n",
       " 'Barry',\n",
       " 'Selezneva',\n",
       " 'Chizuoke',\n",
       " 'Lueck',\n",
       " 'Udinese',\n",
       " 'Udobata',\n",
       " 'Outlaw',\n",
       " 'Lo',\n",
       " 'King',\n",
       " 'Forbes',\n",
       " 'Macleod',\n",
       " 'Gibbs',\n",
       " 'Isayev',\n",
       " 'Belstead',\n",
       " 'Vassiliev',\n",
       " 'Schneider',\n",
       " 'Knipe',\n",
       " 'Macartney',\n",
       " 'Watts',\n",
       " 'Humphreys',\n",
       " 'Chesnokova',\n",
       " 'Kung',\n",
       " 'Lu',\n",
       " 'Nkemakolam',\n",
       " 'Walton',\n",
       " 'Baldwin',\n",
       " 'Mai',\n",
       " 'Ferreira',\n",
       " 'Ukaegbunam',\n",
       " 'De Luca',\n",
       " 'Davide',\n",
       " 'Kodilinyechukwu',\n",
       " 'Little',\n",
       " 'Paterson',\n",
       " 'Han',\n",
       " 'Ijendu',\n",
       " 'Reichard',\n",
       " 'Price',\n",
       " 'Bruce',\n",
       " 'Sumrall',\n",
       " 'Lazarev',\n",
       " 'Wentworth-Shields',\n",
       " 'Mackenzie',\n",
       " 'Pendergrass',\n",
       " 'Billson',\n",
       " 'Teng',\n",
       " 'Moretti',\n",
       " 'Jordan',\n",
       " \"Ts'ao\",\n",
       " \"Ch'ang\",\n",
       " 'Obialo',\n",
       " 'Gray',\n",
       " 'Lin',\n",
       " 'Hopkins',\n",
       " 'Dobson',\n",
       " 'McKay',\n",
       " 'Revell',\n",
       " 'Rickards',\n",
       " 'Begum',\n",
       " 'Onyinyechukwuka',\n",
       " 'Zuyev',\n",
       " 'Nwankwo',\n",
       " 'Okwuadigbo',\n",
       " 'Chan',\n",
       " 'Buchi',\n",
       " 'Lombardi',\n",
       " 'Uchenna',\n",
       " 'Coffman',\n",
       " 'Alexandrova',\n",
       " 'Fallaci',\n",
       " 'Hudson',\n",
       " 'Stout',\n",
       " 'Burke',\n",
       " 'Chadwick',\n",
       " 'Lawrence',\n",
       " 'Bellucci',\n",
       " 'Harper',\n",
       " 'Moss',\n",
       " 'Avdeyeva',\n",
       " 'Lynton',\n",
       " 'Gether',\n",
       " 'Larionova',\n",
       " 'Loggia',\n",
       " 'Steinhoff',\n",
       " 'Guerra',\n",
       " 'Craig',\n",
       " 'Lazareva',\n",
       " 'Alderete',\n",
       " 'Rahman',\n",
       " 'McMillan',\n",
       " 'Pickering',\n",
       " 'Mirams',\n",
       " 'Douglas',\n",
       " 'Jideofor',\n",
       " 'Bell',\n",
       " 'Mairinger',\n",
       " 'Pagnotto',\n",
       " 'Feng',\n",
       " 'Donaldson',\n",
       " 'Chambers',\n",
       " 'Marcelo',\n",
       " 'Ejimofor',\n",
       " 'Dale',\n",
       " 'Pokrovsky',\n",
       " 'Stonebraker',\n",
       " 'Liang',\n",
       " 'Anderson',\n",
       " 'Christian',\n",
       " 'Mao',\n",
       " 'Sagese',\n",
       " 'Fleming',\n",
       " 'Grubb',\n",
       " 'Napolitani',\n",
       " 'Anenechi',\n",
       " 'Chandler',\n",
       " 'Howells',\n",
       " 'Akeroyd',\n",
       " 'Uwaezuoke',\n",
       " 'Loyau',\n",
       " 'Small',\n",
       " 'Bledsoe',\n",
       " 'Kao',\n",
       " 'Wickens',\n",
       " 'Wertheim',\n",
       " 'Jarvis',\n",
       " \"P'an\",\n",
       " 'Repina',\n",
       " 'Pugliesi',\n",
       " 'Blakey',\n",
       " 'Nucci',\n",
       " 'Higinbotham',\n",
       " 'Achebe',\n",
       " 'Dobie',\n",
       " 'Maccallum',\n",
       " 'Watkins',\n",
       " 'Mitchel',\n",
       " 'Ferdinand',\n",
       " 'Otitodilinna',\n",
       " 'Mamelu',\n",
       " 'Beneventi',\n",
       " 'Perrodin',\n",
       " 'Chinagorom',\n",
       " 'Napolitano',\n",
       " 'Edgar',\n",
       " 'Walker',\n",
       " 'Steele',\n",
       " 'Elkins',\n",
       " 'Toscano',\n",
       " 'Savage',\n",
       " 'Mordvinova',\n",
       " 'Kent',\n",
       " 'Cooper',\n",
       " 'Mazzi',\n",
       " 'Fisher',\n",
       " 'Summers',\n",
       " 'Brady',\n",
       " 'Nicholls',\n",
       " 'Golubov',\n",
       " 'Oldham',\n",
       " 'Kambinachi',\n",
       " 'Chinwemma',\n",
       " 'Olsen',\n",
       " 'Jen',\n",
       " 'Preston',\n",
       " 'Ozioma',\n",
       " 'Cody',\n",
       " 'Ponomarev',\n",
       " 'Milani',\n",
       " 'Tang',\n",
       " 'Romani',\n",
       " 'Davis',\n",
       " 'Onyemauchechukwu',\n",
       " 'Gell',\n",
       " 'Chiwetelu',\n",
       " 'Kirillova',\n",
       " 'Shaw',\n",
       " 'Okwudilichukwu',\n",
       " 'Onuoha',\n",
       " 'Muecke',\n",
       " 'Azubuike',\n",
       " 'Nnonso',\n",
       " 'Ashley',\n",
       " \"Ts'ui\",\n",
       " 'Kenenna',\n",
       " 'Beluchi',\n",
       " 'Williamson',\n",
       " 'Bobrov',\n",
       " 'Pitts',\n",
       " 'Standish',\n",
       " 'Cartwright',\n",
       " 'Johnstone',\n",
       " 'Nikitina',\n",
       " 'McElroy',\n",
       " 'Shen',\n",
       " 'Archer',\n",
       " 'Otutodilinna',\n",
       " 'Denisov',\n",
       " 'Owens',\n",
       " \"P'eng\",\n",
       " 'Verco',\n",
       " 'Bergamaschi',\n",
       " 'Outtrim',\n",
       " 'Hou',\n",
       " 'Galkin',\n",
       " 'Echezonachukwu',\n",
       " 'Munro',\n",
       " 'Ball',\n",
       " 'Virgo',\n",
       " 'Tao',\n",
       " 'Perez',\n",
       " 'Fraser',\n",
       " 'Alley',\n",
       " 'Hooper',\n",
       " 'Rice',\n",
       " 'Cox',\n",
       " 'Ikenna',\n",
       " 'Alexander',\n",
       " 'Piazza',\n",
       " 'Ni',\n",
       " 'Harker',\n",
       " 'Chiabuotu',\n",
       " 'Kuo',\n",
       " 'Gallagher',\n",
       " 'Zhirov',\n",
       " 'Lloyd',\n",
       " 'Palmer',\n",
       " \"Ch'eng\",\n",
       " 'Avent',\n",
       " 'Trentini',\n",
       " 'Koehler',\n",
       " 'Okoli',\n",
       " 'Nwokezuike',\n",
       " 'Artemiev',\n",
       " 'Esposito',\n",
       " 'Abbie',\n",
       " 'Averyanov',\n",
       " 'Unaipon',\n",
       " 'Clamp',\n",
       " 'Lim',\n",
       " 'Wan',\n",
       " 'Pettit',\n",
       " 'Baresi',\n",
       " 'Newbery',\n",
       " 'Iheanacho',\n",
       " 'Landry',\n",
       " 'McGregor',\n",
       " 'Pirogov',\n",
       " 'Oguejiofor',\n",
       " 'Ugochukwu',\n",
       " 'Rohu',\n",
       " 'Cary',\n",
       " \"O'Loghlen\",\n",
       " 'Quinn',\n",
       " 'Page',\n",
       " 'Stanley',\n",
       " 'Bednall',\n",
       " 'She',\n",
       " 'May',\n",
       " 'Seabrook',\n",
       " 'Herrera',\n",
       " 'Kincaid',\n",
       " 'Sleeman',\n",
       " 'Artemieva',\n",
       " 'Barwell',\n",
       " 'Wright',\n",
       " 'Moore',\n",
       " 'Sung',\n",
       " 'Mello',\n",
       " 'Mistry',\n",
       " 'Chukwukadibia',\n",
       " 'Zikoranachidimma',\n",
       " 'Oluchukwu',\n",
       " 'Rivera',\n",
       " 'Niu',\n",
       " 'Bennett',\n",
       " 'Wollstonecraft',\n",
       " 'Thomsen',\n",
       " 'Chinwendu',\n",
       " 'James',\n",
       " 'Lamb',\n",
       " 'Olejuru',\n",
       " 'Chiawuotu',\n",
       " 'Yeates',\n",
       " 'Thurgood',\n",
       " 'Knupp',\n",
       " 'Baryshnikov',\n",
       " 'Shephard',\n",
       " 'Avdeeva',\n",
       " 'Hsu',\n",
       " 'Buchanan',\n",
       " 'Yeh',\n",
       " 'Palazzi',\n",
       " 'Y?an',\n",
       " 'Schofield',\n",
       " 'Wall',\n",
       " 'Blackburn',\n",
       " 'Wickham',\n",
       " 'Bird',\n",
       " 'Brizendine',\n",
       " \"Ch'in\",\n",
       " 'Yusupov',\n",
       " 'Jibunoh',\n",
       " 'Wilder',\n",
       " 'Nepean',\n",
       " 'McNess',\n",
       " 'Coles',\n",
       " 'Benson',\n",
       " 'Gilbert',\n",
       " 'Wilhelm',\n",
       " 'Sinclair',\n",
       " 'Buckner',\n",
       " 'Padovesi',\n",
       " 'Palerma',\n",
       " 'Pan',\n",
       " 'Kenniff',\n",
       " 'Spencer',\n",
       " 'Lees',\n",
       " 'David',\n",
       " 'Hsing',\n",
       " 'Ginn',\n",
       " 'Sozonov',\n",
       " 'Manfrin',\n",
       " 'Artamonova',\n",
       " 'Hansen',\n",
       " 'Larsen',\n",
       " 'Owen',\n",
       " 'Murphy',\n",
       " 'Ekechukwu',\n",
       " 'Ayers',\n",
       " 'Sanders',\n",
       " 'Eberechukwu',\n",
       " 'Bardin',\n",
       " 'Talbot',\n",
       " 'Goold',\n",
       " 'Zikoranaudodimma',\n",
       " 'Garner',\n",
       " 'Naylor',\n",
       " 'Fulton',\n",
       " 'McCaffrey',\n",
       " 'Zuev',\n",
       " 'Fabro',\n",
       " 'Chatfield',\n",
       " 'Volkova',\n",
       " 'Abramovich',\n",
       " 'Chien',\n",
       " 'Timms',\n",
       " 'Williford',\n",
       " 'Hamilton',\n",
       " 'Su',\n",
       " 'Akobundu',\n",
       " 'Chukwuebuka',\n",
       " 'Lampungmeiua',\n",
       " 'Kline',\n",
       " 'Riggs',\n",
       " 'Davison',\n",
       " 'Ingram',\n",
       " 'Dilke',\n",
       " 'Gibson',\n",
       " 'Iadanza',\n",
       " 'Hebert',\n",
       " 'Jamieson',\n",
       " 'Chiganu',\n",
       " 'Burgess',\n",
       " 'Woods',\n",
       " 'Bluett',\n",
       " 'Chapman',\n",
       " 'Andrejew',\n",
       " 'Spyer',\n",
       " 'Philip',\n",
       " 'Perry',\n",
       " 'Fokine',\n",
       " 'Mackay',\n",
       " 'Maslova',\n",
       " 'McLean',\n",
       " 'Thompson',\n",
       " 'Tisdall',\n",
       " 'Onochie',\n",
       " 'Mironova',\n",
       " 'Ndubueze',\n",
       " 'Stephenson',\n",
       " 'Golubev',\n",
       " 'Mullan',\n",
       " 'Glover',\n",
       " 'Northey',\n",
       " 'Howarde',\n",
       " 'Colman',\n",
       " 'Butcher',\n",
       " 'Wilkie',\n",
       " 'Bray',\n",
       " 'Ann',\n",
       " 'Souter',\n",
       " 'Medvedeva',\n",
       " 'Onwudiwe',\n",
       " 'Ferrari',\n",
       " 'Hazon',\n",
       " 'Hardy',\n",
       " 'Dickson',\n",
       " 'Holden',\n",
       " 'Doherty',\n",
       " 'Samuel',\n",
       " 'Malloy',\n",
       " 'Fitts',\n",
       " 'Yefimova',\n",
       " 'Abramov',\n",
       " 'Demuth',\n",
       " 'Lawless',\n",
       " 'Brooks',\n",
       " 'Ignatyeva',\n",
       " 'Balmain',\n",
       " 'Ecuyer',\n",
       " 'Li Fonti',\n",
       " 'Despeissis',\n",
       " 'Williams',\n",
       " 'Hancock',\n",
       " 'Wilkins',\n",
       " 'Longo',\n",
       " 'Mancini',\n",
       " 'Winter-Irving',\n",
       " 'Stewart',\n",
       " 'Murray',\n",
       " 'Rischbieth',\n",
       " 'Otutodilichukwu',\n",
       " 'Thomas',\n",
       " 'Whitworth',\n",
       " 'Trentino',\n",
       " 'McMasters',\n",
       " 'Alekseyeva',\n",
       " 'Baranova',\n",
       " 'Yobachi',\n",
       " 'Sorokina',\n",
       " 'Ervin',\n",
       " 'Vance',\n",
       " 'Noble',\n",
       " 'Milanesi',\n",
       " 'Parkin',\n",
       " 'Cremonesi',\n",
       " 'Docherty',\n",
       " 'Ugonna',\n",
       " 'Bevan',\n",
       " \"O'Neill\",\n",
       " 'Pham',\n",
       " 'Osinachi',\n",
       " 'Muravyov',\n",
       " 'Igwebuike',\n",
       " 'Zack',\n",
       " 'Chidiegwu',\n",
       " 'Lucchesi',\n",
       " 'Yudin',\n",
       " 'Wade',\n",
       " 'Septimus',\n",
       " 'Hargraves',\n",
       " 'Sidorov',\n",
       " 'Bunton',\n",
       " 'Conti',\n",
       " 'Sims',\n",
       " 'Carter',\n",
       " 'Dumetolisa',\n",
       " 'Peng',\n",
       " 'Drake-Brockman',\n",
       " 'Tretiakov',\n",
       " 'Lai',\n",
       " 'Justice',\n",
       " 'Osonduagwuike',\n",
       " 'Ewing',\n",
       " 'Tsou',\n",
       " 'Ubanwa',\n",
       " 'Kapustin',\n",
       " 'Nnamutaezinwa',\n",
       " 'Ferri',\n",
       " 'Amechi',\n",
       " 'Kirk',\n",
       " 'Griffin',\n",
       " 'Longstaff',\n",
       " 'McWilliam',\n",
       " 'Coffee',\n",
       " 'Creswell',\n",
       " 'Dodds',\n",
       " 'Ewen',\n",
       " 'Boniwell',\n",
       " 'Vasilieva',\n",
       " 'Kwemto',\n",
       " 'Bocharova',\n",
       " 'Morres',\n",
       " 'Vogel',\n",
       " \"T'an\",\n",
       " 'Wisdom',\n",
       " 'Shahan',\n",
       " 'Bryant',\n",
       " 'Hayward',\n",
       " 'Liu',\n",
       " 'Greece',\n",
       " 'Norman',\n",
       " 'Chukwudi',\n",
       " 'Fedorov',\n",
       " 'Reid',\n",
       " 'Wofford',\n",
       " 'Stephens',\n",
       " 'Frolov',\n",
       " 'Fields',\n",
       " 'Suffolk',\n",
       " 'Judd',\n",
       " 'Degtyarev',\n",
       " 'Kinlaw',\n",
       " 'Omeokachie',\n",
       " 'Gorbunova',\n",
       " 'Tikhonov',\n",
       " 'Campa',\n",
       " 'Donoghue',\n",
       " 'Tuan',\n",
       " 'Baxter',\n",
       " 'Rogers',\n",
       " 'Byrne',\n",
       " 'Aitken',\n",
       " 'Macintyre',\n",
       " 'Simpson',\n",
       " 'Praed',\n",
       " 'Laurens',\n",
       " 'Bykov',\n",
       " 'Vorobyova',\n",
       " 'Pirogova',\n",
       " 'Sturt',\n",
       " 'Panicucci',\n",
       " 'Siciliani',\n",
       " 'Lucchese',\n",
       " 'Swaim',\n",
       " 'Quinones',\n",
       " 'Ludowici',\n",
       " 'Larson',\n",
       " 'Landman',\n",
       " 'K?',\n",
       " 'Alexeyeva',\n",
       " 'Chukwualuka',\n",
       " 'McCall',\n",
       " 'Okeke',\n",
       " 'Iloabuchi',\n",
       " 'Nebechukwu',\n",
       " 'Diribe',\n",
       " 'Macgroarty',\n",
       " 'Artemova',\n",
       " 'Kelly',\n",
       " 'Reilly',\n",
       " 'Ojiofor',\n",
       " 'Shelton',\n",
       " 'Lange',\n",
       " 'Hovell',\n",
       " 'Espinosa',\n",
       " 'Barbour',\n",
       " 'Ozerova',\n",
       " 'Ulyanova',\n",
       " 'Steiner',\n",
       " 'Akabueze',\n",
       " 'Aleksandrova',\n",
       " 'Griffiths',\n",
       " 'McNeil',\n",
       " 'Bruno',\n",
       " 'Okorie',\n",
       " 'Moen',\n",
       " 'McGuigan',\n",
       " 'Fancher',\n",
       " 'Matthews',\n",
       " 'Kaeppel',\n",
       " 'Yudina',\n",
       " 'Jamison',\n",
       " 'Hardiman',\n",
       " 'Woodard',\n",
       " 'Chienezie',\n",
       " 'Chineze',\n",
       " 'Buckland',\n",
       " 'Flannery',\n",
       " 'Payne',\n",
       " 'Vincent',\n",
       " 'Pearce',\n",
       " 'Riley',\n",
       " 'Honore',\n",
       " 'Macarthur',\n",
       " 'Gould',\n",
       " 'Medvedev',\n",
       " 'Sholes',\n",
       " 'Rolon',\n",
       " 'Bligh',\n",
       " 'Lamble',\n",
       " 'Jose',\n",
       " 'Howard',\n",
       " 'Onwuamaeze',\n",
       " ...]"
      ]
     },
     "execution_count": 34,
     "metadata": {},
     "output_type": "execute_result"
    }
   ],
   "source": [
    "df['Surname'].unique().tolist()"
   ]
  },
  {
   "cell_type": "markdown",
   "metadata": {},
   "source": [
    "Para as variáveis que possuiam mais de 10 categorias, podemos fazer um encoding ordinal para nao criar muitas colunas. Vamos usar a mesma função de processamento já utilizada na regressão:"
   ]
  },
  {
   "cell_type": "code",
   "execution_count": 35,
   "metadata": {},
   "outputs": [],
   "source": [
    "train_cats(df)\n",
    "for n,c in df.items():\n",
    "    numericalize(df,c,n)"
   ]
  },
  {
   "cell_type": "markdown",
   "metadata": {},
   "source": [
    "<b> Para pensar </b>: a única variável que transformamos aqui era o Sobrenome (Surname). Será que ela nos traz algum poder preditivo?"
   ]
  },
  {
   "cell_type": "code",
   "execution_count": 36,
   "metadata": {},
   "outputs": [
    {
     "name": "stdout",
     "output_type": "stream",
     "text": [
      "<class 'pandas.core.frame.DataFrame'>\n",
      "RangeIndex: 10000 entries, 0 to 9999\n",
      "Data columns (total 17 columns):\n",
      " #   Column               Non-Null Count  Dtype  \n",
      "---  ------               --------------  -----  \n",
      " 0   RowNumber            10000 non-null  int64  \n",
      " 1   CustomerId           10000 non-null  int64  \n",
      " 2   Surname              10000 non-null  int16  \n",
      " 3   CreditScore          10000 non-null  int64  \n",
      " 4   Age                  10000 non-null  int64  \n",
      " 5   Tenure               10000 non-null  int64  \n",
      " 6   Balance              10000 non-null  float64\n",
      " 7   NumOfProducts        10000 non-null  int64  \n",
      " 8   HasCrCard            10000 non-null  int64  \n",
      " 9   IsActiveMember       10000 non-null  int64  \n",
      " 10  EstimatedSalary      10000 non-null  float64\n",
      " 11  Exited               10000 non-null  int64  \n",
      " 12  Geography_isFrance   10000 non-null  uint8  \n",
      " 13  Geography_isGermany  10000 non-null  uint8  \n",
      " 14  Geography_isSpain    10000 non-null  uint8  \n",
      " 15  Gender_isFemale      10000 non-null  uint8  \n",
      " 16  Gender_isMale        10000 non-null  uint8  \n",
      "dtypes: float64(2), int16(1), int64(9), uint8(5)\n",
      "memory usage: 927.9 KB\n"
     ]
    }
   ],
   "source": [
    "df.info()"
   ]
  },
  {
   "cell_type": "code",
   "execution_count": 37,
   "metadata": {},
   "outputs": [],
   "source": [
    "output = 'Exited'\n",
    "features = [x for x in df.columns if x!= output]"
   ]
  },
  {
   "cell_type": "code",
   "execution_count": 38,
   "metadata": {},
   "outputs": [
    {
     "data": {
      "text/plain": [
       "['RowNumber',\n",
       " 'CustomerId',\n",
       " 'Surname',\n",
       " 'CreditScore',\n",
       " 'Age',\n",
       " 'Tenure',\n",
       " 'Balance',\n",
       " 'NumOfProducts',\n",
       " 'HasCrCard',\n",
       " 'IsActiveMember',\n",
       " 'EstimatedSalary',\n",
       " 'Geography_isFrance',\n",
       " 'Geography_isGermany',\n",
       " 'Geography_isSpain',\n",
       " 'Gender_isFemale',\n",
       " 'Gender_isMale']"
      ]
     },
     "execution_count": 38,
     "metadata": {},
     "output_type": "execute_result"
    }
   ],
   "source": [
    "features"
   ]
  },
  {
   "cell_type": "code",
   "execution_count": 39,
   "metadata": {},
   "outputs": [
    {
     "data": {
      "text/html": [
       "<div>\n",
       "<style scoped>\n",
       "    .dataframe tbody tr th:only-of-type {\n",
       "        vertical-align: middle;\n",
       "    }\n",
       "\n",
       "    .dataframe tbody tr th {\n",
       "        vertical-align: top;\n",
       "    }\n",
       "\n",
       "    .dataframe thead th {\n",
       "        text-align: right;\n",
       "    }\n",
       "</style>\n",
       "<table border=\"1\" class=\"dataframe\">\n",
       "  <thead>\n",
       "    <tr style=\"text-align: right;\">\n",
       "      <th></th>\n",
       "      <th>RowNumber</th>\n",
       "      <th>CustomerId</th>\n",
       "      <th>Surname</th>\n",
       "      <th>CreditScore</th>\n",
       "      <th>Age</th>\n",
       "      <th>Tenure</th>\n",
       "      <th>Balance</th>\n",
       "      <th>NumOfProducts</th>\n",
       "      <th>HasCrCard</th>\n",
       "      <th>IsActiveMember</th>\n",
       "      <th>EstimatedSalary</th>\n",
       "      <th>Exited</th>\n",
       "      <th>Geography_isFrance</th>\n",
       "      <th>Geography_isGermany</th>\n",
       "      <th>Geography_isSpain</th>\n",
       "      <th>Gender_isFemale</th>\n",
       "      <th>Gender_isMale</th>\n",
       "    </tr>\n",
       "  </thead>\n",
       "  <tbody>\n",
       "    <tr>\n",
       "      <th>0</th>\n",
       "      <td>1</td>\n",
       "      <td>15634602</td>\n",
       "      <td>1116</td>\n",
       "      <td>619</td>\n",
       "      <td>42</td>\n",
       "      <td>2</td>\n",
       "      <td>0.00</td>\n",
       "      <td>1</td>\n",
       "      <td>1</td>\n",
       "      <td>1</td>\n",
       "      <td>101348.88</td>\n",
       "      <td>1</td>\n",
       "      <td>1</td>\n",
       "      <td>0</td>\n",
       "      <td>0</td>\n",
       "      <td>1</td>\n",
       "      <td>0</td>\n",
       "    </tr>\n",
       "    <tr>\n",
       "      <th>1</th>\n",
       "      <td>2</td>\n",
       "      <td>15647311</td>\n",
       "      <td>1178</td>\n",
       "      <td>608</td>\n",
       "      <td>41</td>\n",
       "      <td>1</td>\n",
       "      <td>83807.86</td>\n",
       "      <td>1</td>\n",
       "      <td>0</td>\n",
       "      <td>1</td>\n",
       "      <td>112542.58</td>\n",
       "      <td>0</td>\n",
       "      <td>0</td>\n",
       "      <td>0</td>\n",
       "      <td>1</td>\n",
       "      <td>1</td>\n",
       "      <td>0</td>\n",
       "    </tr>\n",
       "    <tr>\n",
       "      <th>2</th>\n",
       "      <td>3</td>\n",
       "      <td>15619304</td>\n",
       "      <td>2041</td>\n",
       "      <td>502</td>\n",
       "      <td>42</td>\n",
       "      <td>8</td>\n",
       "      <td>159660.80</td>\n",
       "      <td>3</td>\n",
       "      <td>1</td>\n",
       "      <td>0</td>\n",
       "      <td>113931.57</td>\n",
       "      <td>1</td>\n",
       "      <td>1</td>\n",
       "      <td>0</td>\n",
       "      <td>0</td>\n",
       "      <td>1</td>\n",
       "      <td>0</td>\n",
       "    </tr>\n",
       "    <tr>\n",
       "      <th>3</th>\n",
       "      <td>4</td>\n",
       "      <td>15701354</td>\n",
       "      <td>290</td>\n",
       "      <td>699</td>\n",
       "      <td>39</td>\n",
       "      <td>1</td>\n",
       "      <td>0.00</td>\n",
       "      <td>2</td>\n",
       "      <td>0</td>\n",
       "      <td>0</td>\n",
       "      <td>93826.63</td>\n",
       "      <td>0</td>\n",
       "      <td>1</td>\n",
       "      <td>0</td>\n",
       "      <td>0</td>\n",
       "      <td>1</td>\n",
       "      <td>0</td>\n",
       "    </tr>\n",
       "    <tr>\n",
       "      <th>4</th>\n",
       "      <td>5</td>\n",
       "      <td>15737888</td>\n",
       "      <td>1823</td>\n",
       "      <td>850</td>\n",
       "      <td>43</td>\n",
       "      <td>2</td>\n",
       "      <td>125510.82</td>\n",
       "      <td>1</td>\n",
       "      <td>1</td>\n",
       "      <td>1</td>\n",
       "      <td>79084.10</td>\n",
       "      <td>0</td>\n",
       "      <td>0</td>\n",
       "      <td>0</td>\n",
       "      <td>1</td>\n",
       "      <td>1</td>\n",
       "      <td>0</td>\n",
       "    </tr>\n",
       "  </tbody>\n",
       "</table>\n",
       "</div>"
      ],
      "text/plain": [
       "   RowNumber  CustomerId  Surname  CreditScore  Age  Tenure    Balance  \\\n",
       "0          1    15634602     1116          619   42       2       0.00   \n",
       "1          2    15647311     1178          608   41       1   83807.86   \n",
       "2          3    15619304     2041          502   42       8  159660.80   \n",
       "3          4    15701354      290          699   39       1       0.00   \n",
       "4          5    15737888     1823          850   43       2  125510.82   \n",
       "\n",
       "   NumOfProducts  HasCrCard  IsActiveMember  EstimatedSalary  Exited  \\\n",
       "0              1          1               1        101348.88       1   \n",
       "1              1          0               1        112542.58       0   \n",
       "2              3          1               0        113931.57       1   \n",
       "3              2          0               0         93826.63       0   \n",
       "4              1          1               1         79084.10       0   \n",
       "\n",
       "   Geography_isFrance  Geography_isGermany  Geography_isSpain  \\\n",
       "0                   1                    0                  0   \n",
       "1                   0                    0                  1   \n",
       "2                   1                    0                  0   \n",
       "3                   1                    0                  0   \n",
       "4                   0                    0                  1   \n",
       "\n",
       "   Gender_isFemale  Gender_isMale  \n",
       "0                1              0  \n",
       "1                1              0  \n",
       "2                1              0  \n",
       "3                1              0  \n",
       "4                1              0  "
      ]
     },
     "execution_count": 39,
     "metadata": {},
     "output_type": "execute_result"
    }
   ],
   "source": [
    "df.head()"
   ]
  },
  {
   "cell_type": "markdown",
   "metadata": {},
   "source": [
    "Ja sabemos que não podemos avaliar o modelo com os mesmos dados que eles foram treinados:"
   ]
  },
  {
   "cell_type": "code",
   "execution_count": 40,
   "metadata": {},
   "outputs": [],
   "source": [
    "from sklearn.model_selection import train_test_split"
   ]
  },
  {
   "cell_type": "code",
   "execution_count": 41,
   "metadata": {},
   "outputs": [],
   "source": [
    "train, validation = train_test_split(\n",
    "    df, \n",
    "    test_size=0.20, \n",
    "    shuffle=True, #aqui aparentemente não existe um componente temporal, entao vamos amostrar aleatoriamente\n",
    "    stratify=df[output],  #vamos amostrar um validation set que tenha a mesma proporção de churn que o treino\n",
    "    random_state=42\n",
    ")"
   ]
  },
  {
   "cell_type": "markdown",
   "metadata": {},
   "source": [
    "Note 2 pontos aqui:"
   ]
  },
  {
   "cell_type": "markdown",
   "metadata": {},
   "source": [
    "- estamos colocando shuffle = True para amostrar de forma aleatória os dados de treino e teste. Nesse exemplo não temos um componente temporal explicito então podemos testar a validação dessa forma\n",
    "\n",
    "- estamos mantendo a mesma proporção entre 0 e 1s da variável Exited nos conjuntos de treinamento e validação"
   ]
  },
  {
   "cell_type": "code",
   "execution_count": 42,
   "metadata": {},
   "outputs": [
    {
     "data": {
      "text/plain": [
       "0    79.62\n",
       "1    20.38\n",
       "Name: Exited, dtype: float64"
      ]
     },
     "execution_count": 42,
     "metadata": {},
     "output_type": "execute_result"
    }
   ],
   "source": [
    "round(100*train[output].value_counts()/train[output].shape[0],2)"
   ]
  },
  {
   "cell_type": "code",
   "execution_count": 43,
   "metadata": {},
   "outputs": [
    {
     "data": {
      "text/plain": [
       "0    79.65\n",
       "1    20.35\n",
       "Name: Exited, dtype: float64"
      ]
     },
     "execution_count": 43,
     "metadata": {},
     "output_type": "execute_result"
    }
   ],
   "source": [
    "round(100*validation[output].value_counts()/validation[output].shape[0],2)"
   ]
  },
  {
   "cell_type": "code",
   "execution_count": 44,
   "metadata": {},
   "outputs": [],
   "source": [
    "modelo = XGBClassifier(random_state=10)"
   ]
  },
  {
   "cell_type": "code",
   "execution_count": 45,
   "metadata": {},
   "outputs": [
    {
     "name": "stderr",
     "output_type": "stream",
     "text": [
      "c:\\users\\rbarella\\onedrive - suzano papel e celulose s a\\repos\\treinamento\\my-env\\lib\\site-packages\\xgboost\\sklearn.py:1146: UserWarning: The use of label encoder in XGBClassifier is deprecated and will be removed in a future release. To remove this warning, do the following: 1) Pass option use_label_encoder=False when constructing XGBClassifier object; and 2) Encode your labels (y) as integers starting with 0, i.e. 0, 1, 2, ..., [num_class - 1].\n",
      "  warnings.warn(label_encoder_deprecation_msg, UserWarning)\n"
     ]
    },
    {
     "name": "stdout",
     "output_type": "stream",
     "text": [
      "[21:36:21] WARNING: C:/Users/Administrator/workspace/xgboost-win64_release_1.4.0/src/learner.cc:1095: Starting in XGBoost 1.3.0, the default evaluation metric used with the objective 'binary:logistic' was changed from 'error' to 'logloss'. Explicitly set eval_metric if you'd like to restore the old behavior.\n"
     ]
    },
    {
     "data": {
      "text/plain": [
       "XGBClassifier(base_score=0.5, booster='gbtree', colsample_bylevel=1,\n",
       "              colsample_bynode=1, colsample_bytree=1, gamma=0, gpu_id=-1,\n",
       "              importance_type='gain', interaction_constraints='',\n",
       "              learning_rate=0.300000012, max_delta_step=0, max_depth=6,\n",
       "              min_child_weight=1, missing=nan, monotone_constraints='()',\n",
       "              n_estimators=100, n_jobs=8, num_parallel_tree=1, random_state=10,\n",
       "              reg_alpha=0, reg_lambda=1, scale_pos_weight=1, subsample=1,\n",
       "              tree_method='exact', validate_parameters=1, verbosity=None)"
      ]
     },
     "execution_count": 45,
     "metadata": {},
     "output_type": "execute_result"
    }
   ],
   "source": [
    "modelo.fit(X=train[features], y = train[output])"
   ]
  },
  {
   "cell_type": "markdown",
   "metadata": {},
   "source": [
    "## Entendendo o desempenho do modelo"
   ]
  },
  {
   "cell_type": "markdown",
   "metadata": {},
   "source": [
    "Na regressão, podemos investigar o residuo do modelo, isso é, valores preditos - valores reais. A partir do residuo extraimos diversos indicadores de desempenho. Como isso funciona num modelo que só possui 2 possiveis respostas reais?"
   ]
  },
  {
   "cell_type": "markdown",
   "metadata": {},
   "source": [
    "Vamos começar gerando as predições no conjunto de validação:"
   ]
  },
  {
   "cell_type": "code",
   "execution_count": 124,
   "metadata": {},
   "outputs": [
    {
     "name": "stderr",
     "output_type": "stream",
     "text": [
      "c:\\users\\rbarella\\onedrive - suzano papel e celulose s a\\repos\\treinamento\\my-env\\lib\\site-packages\\pandas\\core\\indexing.py:1597: SettingWithCopyWarning: \n",
      "A value is trying to be set on a copy of a slice from a DataFrame.\n",
      "Try using .loc[row_indexer,col_indexer] = value instead\n",
      "\n",
      "See the caveats in the documentation: https://pandas.pydata.org/pandas-docs/stable/user_guide/indexing.html#returning-a-view-versus-a-copy\n",
      "  self.obj[key] = value\n",
      "c:\\users\\rbarella\\onedrive - suzano papel e celulose s a\\repos\\treinamento\\my-env\\lib\\site-packages\\pandas\\core\\indexing.py:1676: SettingWithCopyWarning: \n",
      "A value is trying to be set on a copy of a slice from a DataFrame.\n",
      "Try using .loc[row_indexer,col_indexer] = value instead\n",
      "\n",
      "See the caveats in the documentation: https://pandas.pydata.org/pandas-docs/stable/user_guide/indexing.html#returning-a-view-versus-a-copy\n",
      "  self._setitem_single_column(ilocs[0], value, pi)\n"
     ]
    }
   ],
   "source": [
    "validation.loc[:, 'ypred'] = modelo.predict(validation[features])"
   ]
  },
  {
   "cell_type": "code",
   "execution_count": 125,
   "metadata": {},
   "outputs": [],
   "source": [
    "#threshold = 0.33"
   ]
  },
  {
   "cell_type": "code",
   "execution_count": 126,
   "metadata": {},
   "outputs": [],
   "source": [
    "#validation.loc[:,'ypred'] = (modelo.predict_proba(validation[features])[:,1] >= threshold).astype(int)"
   ]
  },
  {
   "cell_type": "markdown",
   "metadata": {},
   "source": [
    "Temos duas classes e duas possiveis classificações:"
   ]
  },
  {
   "cell_type": "code",
   "execution_count": 127,
   "metadata": {},
   "outputs": [],
   "source": [
    "from sklearn.metrics import classification_report, confusion_matrix, plot_confusion_matrix"
   ]
  },
  {
   "cell_type": "code",
   "execution_count": 128,
   "metadata": {},
   "outputs": [
    {
     "name": "stdout",
     "output_type": "stream",
     "text": [
      "[[1510   83]\n",
      " [ 216  191]]\n"
     ]
    }
   ],
   "source": [
    "print(confusion_matrix(validation[output], validation['ypred']))"
   ]
  },
  {
   "cell_type": "code",
   "execution_count": 129,
   "metadata": {},
   "outputs": [
    {
     "data": {
      "image/png": "[encoded data removed]",
      "text/plain": [
       "<IPython.core.display.Image object>"
      ]
     },
     "execution_count": 129,
     "metadata": {},
     "output_type": "execute_result"
    }
   ],
   "source": [
    "Image('../figures/confusion_matrix.png')"
   ]
  },
  {
   "cell_type": "code",
   "execution_count": 130,
   "metadata": {},
   "outputs": [
    {
     "data": {
      "text/plain": [
       "<sklearn.metrics._plot.confusion_matrix.ConfusionMatrixDisplay at 0x2676780dd68>"
      ]
     },
     "execution_count": 130,
     "metadata": {},
     "output_type": "execute_result"
    },
    {
     "data": {
      "image/png": "[encoded data removed]",
      "text/plain": [
       "<Figure size 432x288 with 1 Axes>"
      ]
     },
     "metadata": {
      "needs_background": "light"
     },
     "output_type": "display_data"
    }
   ],
   "source": [
    "plot_confusion_matrix(modelo, validation[features], validation[output], colorbar=False)"
   ]
  },
  {
   "cell_type": "markdown",
   "metadata": {},
   "source": [
    "Daqui, podemos tirar algumas métricas:"
   ]
  },
  {
   "cell_type": "markdown",
   "metadata": {},
   "source": [
    "- <b> Acurácia </b>: qual a proporção das predições corretas?"
   ]
  },
  {
   "cell_type": "markdown",
   "metadata": {},
   "source": [
    "\\begin{align}\n",
    "Acurácia = \\frac{VN+VP}{VN+VP+FN+FP} = \\frac{Predições Corretas}{PrediçõesTotais}\n",
    "\\end{align}"
   ]
  },
  {
   "cell_type": "code",
   "execution_count": 131,
   "metadata": {},
   "outputs": [
    {
     "data": {
      "text/plain": [
       "0.855"
      ]
     },
     "execution_count": 131,
     "metadata": {},
     "output_type": "execute_result"
    }
   ],
   "source": [
    "(1511+199)/(1511+199+208+82)"
   ]
  },
  {
   "cell_type": "markdown",
   "metadata": {},
   "source": [
    "A acurácia costuma ser um indicador padrão para ajustar hiperparâmetros ou comparar modelos. No entanto, pode não ser a melhor escolha quando as classes estão desbalanceadas. "
   ]
  },
  {
   "cell_type": "markdown",
   "metadata": {},
   "source": [
    "Vamos considerar um exemplo extremo, mas real: detecção de fraudes em cartão de crédito em que também temos 10mil observações, 100 delas em que houve fraude, e 9900 em que não houve. Considere que o classificador gerou a seguinte matriz de confusão:"
   ]
  },
  {
   "cell_type": "code",
   "execution_count": 132,
   "metadata": {},
   "outputs": [
    {
     "data": {
      "text/plain": [
       "<AxesSubplot:>"
      ]
     },
     "execution_count": 132,
     "metadata": {},
     "output_type": "execute_result"
    },
    {
     "data": {
      "image/png": "[encoded data removed]",
      "text/plain": [
       "<Figure size 432x288 with 1 Axes>"
      ]
     },
     "metadata": {
      "needs_background": "light"
     },
     "output_type": "display_data"
    }
   ],
   "source": [
    "sns.heatmap([[9850, 50], [100, 0]], annot = True , cbar=False)"
   ]
  },
  {
   "cell_type": "markdown",
   "metadata": {},
   "source": [
    "Acurácia nesse caso é de:"
   ]
  },
  {
   "cell_type": "code",
   "execution_count": 133,
   "metadata": {},
   "outputs": [
    {
     "data": {
      "text/plain": [
       "0.985"
      ]
     },
     "execution_count": 133,
     "metadata": {},
     "output_type": "execute_result"
    }
   ],
   "source": [
    "(9850 + 0)/ (9850 + 0 + 50 + 100)"
   ]
  },
  {
   "cell_type": "markdown",
   "metadata": {},
   "source": [
    "<b> Wow.. 98.5% de acurácia </b> ... <font color='red'> mas o modelo pegou alguma fraude? </font>"
   ]
  },
  {
   "cell_type": "markdown",
   "metadata": {},
   "source": [
    "A acurácia será sempre enviesada pela classe majoritária!"
   ]
  },
  {
   "cell_type": "markdown",
   "metadata": {},
   "source": [
    "Então como podemos caracterizar o desempenho do modelo?"
   ]
  },
  {
   "cell_type": "markdown",
   "metadata": {},
   "source": [
    "- <b> Precisão </b>: Qual a proporção <font color='red'> predita </font> na classe x (0 ou 1) estava correta?"
   ]
  },
  {
   "cell_type": "markdown",
   "metadata": {},
   "source": [
    "\\begin{align}\n",
    "Precisão = \\frac{VP}{VP+FP} = \\frac{Predições Corretas}{PrediçõesClasseX}\n",
    "\\end{align}"
   ]
  },
  {
   "cell_type": "markdown",
   "metadata": {},
   "source": [
    "Precisão classe 1:"
   ]
  },
  {
   "cell_type": "code",
   "execution_count": 134,
   "metadata": {},
   "outputs": [
    {
     "data": {
      "text/plain": [
       "0.6642599277978339"
      ]
     },
     "execution_count": 134,
     "metadata": {},
     "output_type": "execute_result"
    }
   ],
   "source": [
    "184/(184+93)"
   ]
  },
  {
   "cell_type": "markdown",
   "metadata": {},
   "source": [
    "- Recall/Sensitividade: Qual proporção <font color='red'> medida </font> na classe x estava correta?"
   ]
  },
  {
   "cell_type": "markdown",
   "metadata": {},
   "source": [
    "\\begin{align}\n",
    "Recall = \\frac{VP}{VP+FN} = \\frac{PrediçõesCorretas}{MedidoClasseX}\n",
    "\\end{align}"
   ]
  },
  {
   "cell_type": "markdown",
   "metadata": {},
   "source": [
    "https://developers.google.com/machine-learning/crash-course/classification/precision-and-recall"
   ]
  },
  {
   "cell_type": "markdown",
   "metadata": {},
   "source": [
    "Recall classe 1:"
   ]
  },
  {
   "cell_type": "code",
   "execution_count": 135,
   "metadata": {},
   "outputs": [
    {
     "data": {
      "text/plain": [
       "0.4520884520884521"
      ]
     },
     "execution_count": 135,
     "metadata": {},
     "output_type": "execute_result"
    }
   ],
   "source": [
    "184/(184+223)"
   ]
  },
  {
   "cell_type": "markdown",
   "metadata": {},
   "source": [
    "- Especificidade: Recall da classe 0, ou qual proporção classificada na classe 0 era realmente classe 0?"
   ]
  },
  {
   "cell_type": "markdown",
   "metadata": {},
   "source": [
    "\\begin{align}\n",
    "Especificidade = \\frac{VN}{VN+FP} = \\frac{PrediçõesNegativasCorretas}{TotalDeNegativos}\n",
    "\\end{align}"
   ]
  },
  {
   "cell_type": "code",
   "execution_count": 136,
   "metadata": {},
   "outputs": [
    {
     "data": {
      "text/plain": [
       "0.9416195856873822"
      ]
     },
     "execution_count": 136,
     "metadata": {},
     "output_type": "execute_result"
    }
   ],
   "source": [
    "(1500)/(1500+93)"
   ]
  },
  {
   "cell_type": "markdown",
   "metadata": {},
   "source": [
    "<b> F1-Score </b>: é um indicador composto, calculado a partir da média harmônica entre precisão e recall: "
   ]
  },
  {
   "cell_type": "markdown",
   "metadata": {},
   "source": [
    "\\begin{align}\n",
    "f1score = 2*\\frac{precisao*recall}{precisao+recall}\n",
    "\\end{align}"
   ]
  },
  {
   "cell_type": "markdown",
   "metadata": {},
   "source": [
    "### Mas para que tanto indicador?"
   ]
  },
  {
   "cell_type": "markdown",
   "metadata": {},
   "source": [
    "Para diferentes problemas de classificação, podemos estar interessados em obter um modelo que maximiza diferentes métricas:"
   ]
  },
  {
   "cell_type": "markdown",
   "metadata": {},
   "source": [
    "- Num modelo que classifica se o paciente tem ou não tem câncer, é mais custoso um Falso Positivo (paciente saudável classificado com câncer) ou um Falso Negativo (paciente com câncer classificado como saudável)? Qual a métrica a ser otimizada?\n",
    "\n",
    "\n",
    "- Num modelo que classifica se a folha da máquina de papel está prestes a quebrar, o que é mais custoso, Falso Positivo ou Falso Negativo?\n",
    "\n",
    "\n",
    "- Num modelo que classifica um e-mail como spam, o que é mais custoso? Falso positivo ou Falso negativo?\n",
    "\n",
    "\n",
    "- Para o nosso problema atual (churn), o que é pior? Detectar erroneamente um cliente que não iria sair? não detectar um cliente que vai sair de fato?"
   ]
  },
  {
   "cell_type": "markdown",
   "metadata": {},
   "source": [
    "<font color='red'> Quanto maior Recall, menor a Precisão, e vice-versa </font>"
   ]
  },
  {
   "cell_type": "code",
   "execution_count": 137,
   "metadata": {},
   "outputs": [
    {
     "name": "stdout",
     "output_type": "stream",
     "text": [
      "              precision    recall  f1-score   support\n",
      "\n",
      "           0       0.87      0.95      0.91      1593\n",
      "           1       0.70      0.47      0.56       407\n",
      "\n",
      "    accuracy                           0.85      2000\n",
      "   macro avg       0.79      0.71      0.74      2000\n",
      "weighted avg       0.84      0.85      0.84      2000\n",
      "\n"
     ]
    }
   ],
   "source": [
    "print(classification_report(validation[output], validation['ypred']))"
   ]
  },
  {
   "cell_type": "markdown",
   "metadata": {},
   "source": [
    "As precisão e recall dependem do limiar para classificação. Por padrão, o limiar está em 0.5. Ou seja probabilidades > 0.5 são classificadas como 1 ou Churn."
   ]
  },
  {
   "cell_type": "markdown",
   "metadata": {},
   "source": [
    "Para avaliar o modelo em vários limiares (thresholds) diferentes, a interpretabilidade das matrizes de confusão ficaria....confusa. Para isso existe a curva ROC"
   ]
  },
  {
   "cell_type": "markdown",
   "metadata": {},
   "source": [
    "<b> ROC: Receiver Operating Characteristic Curve </b>"
   ]
  },
  {
   "cell_type": "code",
   "execution_count": 138,
   "metadata": {},
   "outputs": [],
   "source": [
    "from sklearn.metrics import plot_roc_curve"
   ]
  },
  {
   "cell_type": "code",
   "execution_count": 139,
   "metadata": {},
   "outputs": [
    {
     "data": {
      "text/plain": [
       "<sklearn.metrics._plot.roc_curve.RocCurveDisplay at 0x267678ace80>"
      ]
     },
     "execution_count": 139,
     "metadata": {},
     "output_type": "execute_result"
    },
    {
     "data": {
      "image/png": "[encoded data removed]",
      "text/plain": [
       "<Figure size 432x288 with 1 Axes>"
      ]
     },
     "metadata": {
      "needs_background": "light"
     },
     "output_type": "display_data"
    }
   ],
   "source": [
    "plot_roc_curve(modelo, validation[features], validation[output])  "
   ]
  },
  {
   "cell_type": "markdown",
   "metadata": {},
   "source": [
    "O threshold varia de 1 (esquerda) até zero (direita). Para cada valor, plotamos:"
   ]
  },
  {
   "cell_type": "markdown",
   "metadata": {},
   "source": [
    "True Positives Rate:"
   ]
  },
  {
   "cell_type": "markdown",
   "metadata": {},
   "source": [
    "\\begin{align}\n",
    "TPR = \\frac{VP}{VP+FN} = Recall\n",
    "\\end{align}"
   ]
  },
  {
   "cell_type": "markdown",
   "metadata": {},
   "source": [
    "False Positives Rate:"
   ]
  },
  {
   "cell_type": "markdown",
   "metadata": {},
   "source": [
    "\\begin{align}\n",
    "FPR = \\frac{FP}{VN+FP}=1-Especificidade\n",
    "\\end{align}"
   ]
  },
  {
   "cell_type": "markdown",
   "metadata": {},
   "source": [
    "O que queremos num bom modelo?! Alta TPR com baixa FPR. Se TPR fosse 1 e FPR zero, o modelo seria perfeito, a curva seria na verdade um quadrado, e a área abaixo desse quadrado seria = 1. <b> Essa área é chamada de AUC  (area under curve) e pode ser útil para comparar diferentes modelos de classificação </b>"
   ]
  },
  {
   "cell_type": "markdown",
   "metadata": {},
   "source": [
    "- AUC = 1 - Modelo perfeito\n",
    "\n",
    "- AUC = 0.5 - Modelo não apresenta nenhuma vantagem em relação a uma escolha aleatória\n",
    "\n",
    "- AUC = 0 - Todas as predições estão incorretas"
   ]
  },
  {
   "cell_type": "markdown",
   "metadata": {},
   "source": [
    "No entanto, AUC não depende do threshold. Em problemas que precisamos privilegiar o Recall, por, exemplo, maximizar o AUC não vai garantir que o Recall seja maximizado."
   ]
  },
  {
   "cell_type": "markdown",
   "metadata": {},
   "source": [
    "## Tunando os hiperparâmetros do modelo"
   ]
  },
  {
   "cell_type": "markdown",
   "metadata": {},
   "source": [
    "Ja vimos que, dependendo do nosso objetivo e do balanceamento das classes, devemos escolher uma métrica diferente para encontrar um modelo ótimo. A resposta para essa pergunta tipicamente deve estar associada ao problea de negócios a ser resolvido"
   ]
  },
  {
   "cell_type": "markdown",
   "metadata": {},
   "source": [
    "Vamos fazer uma busca por hiperparâmetros ótimos:"
   ]
  },
  {
   "cell_type": "code",
   "execution_count": 140,
   "metadata": {},
   "outputs": [],
   "source": [
    "from sklearn.model_selection import RandomizedSearchCV, KFold\n",
    "from sklearn.metrics import f1_score, precision_score, recall_score, roc_auc_score"
   ]
  },
  {
   "cell_type": "code",
   "execution_count": 141,
   "metadata": {},
   "outputs": [],
   "source": [
    "parametros_para_testar = {\n",
    "    'learning_rate': np.arange(0.1, 0.6, 0.05), #quanto cada árvore corrige do residuo da árvore anterior\n",
    "    'max_depth': np.arange(3, 11, 1), \n",
    "    'subsample': [0.5, 0.8, 0.9, 1],\n",
    "    'colsample_bytree': [0.5, 0.8, 1],\n",
    "    'scale_pos_weight': [1, 2, 4, 8] #peso da classe minoritária para auxiliar quando temos classes desbalanceadas\n",
    "}"
   ]
  },
  {
   "cell_type": "markdown",
   "metadata": {},
   "source": [
    "Mais sobre como ajustar XGBoost para classes desbalanceadas: https://machinelearningmastery.com/xgboost-for-imbalanced-classification/"
   ]
  },
  {
   "cell_type": "code",
   "execution_count": 142,
   "metadata": {},
   "outputs": [],
   "source": [
    "from sklearn.metrics import SCORERS"
   ]
  },
  {
   "cell_type": "code",
   "execution_count": 143,
   "metadata": {},
   "outputs": [],
   "source": [
    "grid_search = RandomizedSearchCV(\n",
    "    estimator=XGBClassifier(), \n",
    "    param_distributions=parametros_para_testar,\n",
    "    n_iter=30,\n",
    "    scoring= ['f1', 'precision', 'recall', 'roc_auc'], #funções para computar em cada teste.\n",
    "    refit='f1', #MUITO CUIDADO: você quer escolher o melhor score da classe 1? ou a média das duas classes?\n",
    "    cv = KFold(n_splits=5),\n",
    "    n_jobs=-1,\n",
    "    verbose=10\n",
    ")"
   ]
  },
  {
   "cell_type": "code",
   "execution_count": 144,
   "metadata": {},
   "outputs": [
    {
     "name": "stdout",
     "output_type": "stream",
     "text": [
      "Fitting 5 folds for each of 30 candidates, totalling 150 fits\n"
     ]
    },
    {
     "name": "stderr",
     "output_type": "stream",
     "text": [
      "c:\\users\\rbarella\\onedrive - suzano papel e celulose s a\\repos\\treinamento\\my-env\\lib\\site-packages\\xgboost\\sklearn.py:1146: UserWarning: The use of label encoder in XGBClassifier is deprecated and will be removed in a future release. To remove this warning, do the following: 1) Pass option use_label_encoder=False when constructing XGBClassifier object; and 2) Encode your labels (y) as integers starting with 0, i.e. 0, 1, 2, ..., [num_class - 1].\n",
      "  warnings.warn(label_encoder_deprecation_msg, UserWarning)\n"
     ]
    },
    {
     "name": "stdout",
     "output_type": "stream",
     "text": [
      "[21:02:09] WARNING: C:/Users/Administrator/workspace/xgboost-win64_release_1.4.0/src/learner.cc:1095: Starting in XGBoost 1.3.0, the default evaluation metric used with the objective 'binary:logistic' was changed from 'error' to 'logloss'. Explicitly set eval_metric if you'd like to restore the old behavior.\n",
      "Wall time: 1min 14s\n"
     ]
    },
    {
     "data": {
      "text/plain": [
       "RandomizedSearchCV(cv=KFold(n_splits=5, random_state=None, shuffle=False),\n",
       "                   estimator=XGBClassifier(base_score=None, booster=None,\n",
       "                                           colsample_bylevel=None,\n",
       "                                           colsample_bynode=None,\n",
       "                                           colsample_bytree=None, gamma=None,\n",
       "                                           gpu_id=None, importance_type='gain',\n",
       "                                           interaction_constraints=None,\n",
       "                                           learning_rate=None,\n",
       "                                           max_delta_step=None, max_depth=None,\n",
       "                                           min_child_weight=None, missing...\n",
       "                                           subsample=None, tree_method=None,\n",
       "                                           validate_parameters=None,\n",
       "                                           verbosity=None),\n",
       "                   n_iter=30, n_jobs=-1,\n",
       "                   param_distributions={'colsample_bytree': [0.5, 0.8, 1],\n",
       "                                        'learning_rate': array([0.1 , 0.15, 0.2 , 0.25, 0.3 , 0.35, 0.4 , 0.45, 0.5 , 0.55]),\n",
       "                                        'max_depth': array([ 3,  4,  5,  6,  7,  8,  9, 10]),\n",
       "                                        'scale_pos_weight': [1, 2, 4, 8],\n",
       "                                        'subsample': [0.5, 0.8, 0.9, 1]},\n",
       "                   refit='f1', scoring=['f1', 'precision', 'recall', 'roc_auc'],\n",
       "                   verbose=10)"
      ]
     },
     "execution_count": 144,
     "metadata": {},
     "output_type": "execute_result"
    }
   ],
   "source": [
    "%time grid_search.fit(X=train[features], y=train[output])"
   ]
  },
  {
   "cell_type": "code",
   "execution_count": 145,
   "metadata": {},
   "outputs": [],
   "source": [
    "import pickle"
   ]
  },
  {
   "cell_type": "code",
   "execution_count": 146,
   "metadata": {},
   "outputs": [],
   "source": [
    "with open('../models/grid_churn.pkl', 'wb') as file:\n",
    "    pickle.dump(grid_search, file)"
   ]
  },
  {
   "cell_type": "code",
   "execution_count": 170,
   "metadata": {},
   "outputs": [],
   "source": [
    "with open('../models/grid_churn.pkl', 'rb') as file:\n",
    "    grid_search = pickle.load(file)"
   ]
  },
  {
   "cell_type": "code",
   "execution_count": 148,
   "metadata": {},
   "outputs": [],
   "source": [
    "pd.set_option('display.max_columns', None)"
   ]
  },
  {
   "cell_type": "code",
   "execution_count": 171,
   "metadata": {},
   "outputs": [
    {
     "data": {
      "text/plain": [
       "0.6128897767380731"
      ]
     },
     "execution_count": 171,
     "metadata": {},
     "output_type": "execute_result"
    }
   ],
   "source": [
    "grid_search.best_score_"
   ]
  },
  {
   "cell_type": "code",
   "execution_count": 173,
   "metadata": {},
   "outputs": [],
   "source": [
    "scores = pd.DataFrame(grid_search.cv_results_)"
   ]
  },
  {
   "cell_type": "code",
   "execution_count": 174,
   "metadata": {},
   "outputs": [
    {
     "data": {
      "text/plain": [
       "mean_fit_time                                                       2.95258\n",
       "std_fit_time                                                       0.052024\n",
       "mean_score_time                                                    0.029017\n",
       "std_score_time                                                     0.003466\n",
       "param_subsample                                                         0.5\n",
       "param_scale_pos_weight                                                    8\n",
       "param_max_depth                                                           6\n",
       "param_learning_rate                                                     0.5\n",
       "param_colsample_bytree                                                  0.5\n",
       "params                    {'subsample': 0.5, 'scale_pos_weight': 8, 'max...\n",
       "split0_test_f1                                                     0.558459\n",
       "split1_test_f1                                                     0.517829\n",
       "split2_test_f1                                                     0.506667\n",
       "split3_test_f1                                                     0.553425\n",
       "split4_test_f1                                                     0.544928\n",
       "mean_test_f1                                                       0.536262\n",
       "std_test_f1                                                        0.020386\n",
       "rank_test_f1                                                             30\n",
       "split0_test_precision                                              0.541333\n",
       "split1_test_precision                                              0.489736\n",
       "split2_test_precision                                              0.463415\n",
       "split3_test_precision                                              0.528796\n",
       "split4_test_precision                                              0.508108\n",
       "mean_test_precision                                                0.506278\n",
       "std_test_precision                                                  0.02775\n",
       "rank_test_precision                                                      25\n",
       "split0_test_recall                                                 0.576705\n",
       "split1_test_recall                                                 0.549342\n",
       "split2_test_recall                                                 0.558824\n",
       "split3_test_recall                                                  0.58046\n",
       "split4_test_recall                                                   0.5875\n",
       "mean_test_recall                                                   0.570566\n",
       "std_test_recall                                                    0.014217\n",
       "rank_test_recall                                                         15\n",
       "split0_test_roc_auc                                                0.801872\n",
       "split1_test_roc_auc                                                0.783963\n",
       "split2_test_roc_auc                                                0.778732\n",
       "split3_test_roc_auc                                                0.814887\n",
       "split4_test_roc_auc                                                0.808936\n",
       "mean_test_roc_auc                                                  0.797678\n",
       "std_test_roc_auc                                                   0.014053\n",
       "rank_test_roc_auc                                                        30\n",
       "Name: 27, dtype: object"
      ]
     },
     "execution_count": 174,
     "metadata": {},
     "output_type": "execute_result"
    }
   ],
   "source": [
    "scores.iloc[np.argmax(scores['rank_test_f1']),:]"
   ]
  },
  {
   "cell_type": "code",
   "execution_count": 176,
   "metadata": {},
   "outputs": [
    {
     "data": {
      "text/plain": [
       "{'subsample': 0.5,\n",
       " 'scale_pos_weight': 2,\n",
       " 'max_depth': 3,\n",
       " 'learning_rate': 0.25000000000000006,\n",
       " 'colsample_bytree': 0.8}"
      ]
     },
     "execution_count": 176,
     "metadata": {},
     "output_type": "execute_result"
    }
   ],
   "source": [
    "grid_search.best_params_"
   ]
  },
  {
   "cell_type": "code",
   "execution_count": 177,
   "metadata": {},
   "outputs": [
    {
     "data": {
      "text/plain": [
       "XGBClassifier(base_score=0.5, booster='gbtree', colsample_bylevel=1,\n",
       "              colsample_bynode=1, colsample_bytree=0.8, gamma=0, gpu_id=-1,\n",
       "              importance_type='gain', interaction_constraints='',\n",
       "              learning_rate=0.25000000000000006, max_delta_step=0, max_depth=3,\n",
       "              min_child_weight=1, missing=nan, monotone_constraints='()',\n",
       "              n_estimators=100, n_jobs=8, num_parallel_tree=1, random_state=0,\n",
       "              reg_alpha=0, reg_lambda=1, scale_pos_weight=2, subsample=0.5,\n",
       "              tree_method='exact', validate_parameters=1, verbosity=None)"
      ]
     },
     "execution_count": 177,
     "metadata": {},
     "output_type": "execute_result"
    }
   ],
   "source": [
    "grid_search.best_estimator_"
   ]
  },
  {
   "cell_type": "code",
   "execution_count": 178,
   "metadata": {},
   "outputs": [],
   "source": [
    "modelo_tunado = grid_search.best_estimator_"
   ]
  },
  {
   "cell_type": "code",
   "execution_count": 179,
   "metadata": {},
   "outputs": [
    {
     "name": "stderr",
     "output_type": "stream",
     "text": [
      "c:\\users\\rbarella\\onedrive - suzano papel e celulose s a\\repos\\treinamento\\my-env\\lib\\site-packages\\pandas\\core\\indexing.py:1676: SettingWithCopyWarning: \n",
      "A value is trying to be set on a copy of a slice from a DataFrame.\n",
      "Try using .loc[row_indexer,col_indexer] = value instead\n",
      "\n",
      "See the caveats in the documentation: https://pandas.pydata.org/pandas-docs/stable/user_guide/indexing.html#returning-a-view-versus-a-copy\n",
      "  self._setitem_single_column(ilocs[0], value, pi)\n"
     ]
    }
   ],
   "source": [
    "validation.loc[: ,['ypred']] = modelo_tunado.predict(validation[features])"
   ]
  },
  {
   "cell_type": "code",
   "execution_count": 180,
   "metadata": {},
   "outputs": [
    {
     "name": "stdout",
     "output_type": "stream",
     "text": [
      "              precision    recall  f1-score   support\n",
      "\n",
      "           0       0.90      0.90      0.90      1593\n",
      "           1       0.60      0.60      0.60       407\n",
      "\n",
      "    accuracy                           0.84      2000\n",
      "   macro avg       0.75      0.75      0.75      2000\n",
      "weighted avg       0.84      0.84      0.84      2000\n",
      "\n"
     ]
    }
   ],
   "source": [
    "print(classification_report(validation[output], validation['ypred']))"
   ]
  },
  {
   "cell_type": "code",
   "execution_count": 155,
   "metadata": {},
   "outputs": [
    {
     "data": {
      "text/plain": [
       "<sklearn.metrics._plot.confusion_matrix.ConfusionMatrixDisplay at 0x267679772e8>"
      ]
     },
     "execution_count": 155,
     "metadata": {},
     "output_type": "execute_result"
    },
    {
     "data": {
      "image/png": "[encoded data removed]",
      "text/plain": [
       "<Figure size 432x288 with 1 Axes>"
      ]
     },
     "metadata": {
      "needs_background": "light"
     },
     "output_type": "display_data"
    }
   ],
   "source": [
    "plot_confusion_matrix(modelo_tunado, validation[features], validation[output], colorbar=False)"
   ]
  },
  {
   "cell_type": "markdown",
   "metadata": {},
   "source": [
    "## Otimizando o modelo para uma regra de negócio"
   ]
  },
  {
   "cell_type": "code",
   "execution_count": 156,
   "metadata": {},
   "outputs": [
    {
     "data": {
      "text/plain": [
       "array([[1429,  164],\n",
       "       [ 163,  244]], dtype=int64)"
      ]
     },
     "execution_count": 156,
     "metadata": {},
     "output_type": "execute_result"
    }
   ],
   "source": [
    "confusion_matrix(validation[output], validation['ypred'])"
   ]
  },
  {
   "cell_type": "code",
   "execution_count": 157,
   "metadata": {},
   "outputs": [],
   "source": [
    "from sklearn.metrics import make_scorer, recall_score"
   ]
  },
  {
   "cell_type": "code",
   "execution_count": 158,
   "metadata": {},
   "outputs": [],
   "source": [
    "def score_custo_churn(\n",
    "    y_true: pd.Series, \n",
    "    y_pred: pd.Series\n",
    ") -> float:\n",
    "    \n",
    "    \"\"\"\n",
    "    regra de negócio: \n",
    "        - custo de aquisição de um novo cliente: $2500\n",
    "        - custo de engajamento potenciais clientes que vão sair: $500 (considerando que já se \n",
    "        conhecem as ações efetivas, ex. enviar um bonus, cashback, cesta de serviços ampliada, etc..)\n",
    "        \n",
    "        \n",
    "    custo: quanto menor, melhor\n",
    "    \n",
    "    \"\"\"\n",
    "    \n",
    "    cm = confusion_matrix(y_true, y_pred)\n",
    "    \n",
    "    #extraindo da matriz de confusão\n",
    "    VN = cm[0][0]\n",
    "    FP = cm[0][1]\n",
    "    FN = cm[1][0]\n",
    "    VP = cm[1][1]\n",
    "   \n",
    "    custo_aquisicao_cliente = 2500\n",
    "    custo_engajamento = 500\n",
    "    \n",
    "    custo = 500*(VP + FP) - 2500*(VP)\n",
    "    \n",
    "    return custo\n",
    "    "
   ]
  },
  {
   "cell_type": "code",
   "execution_count": 159,
   "metadata": {},
   "outputs": [],
   "source": [
    "reducao_custo = score_custo_churn(y_true = validation[output], y_pred = validation['ypred'])"
   ]
  },
  {
   "cell_type": "code",
   "execution_count": 160,
   "metadata": {},
   "outputs": [
    {
     "name": "stdout",
     "output_type": "stream",
     "text": [
      "Baseado nas regras de negocio, o modelo_tunado tem potencial de redução de custo em: US$-406000\n"
     ]
    }
   ],
   "source": [
    "print(f\"Baseado nas regras de negocio, o modelo_tunado tem potencial de redução de custo em: US${reducao_custo}\")"
   ]
  },
  {
   "cell_type": "code",
   "execution_count": 161,
   "metadata": {},
   "outputs": [],
   "source": [
    "churn_scorer = make_scorer(score_custo_churn, greater_is_better=False)"
   ]
  },
  {
   "cell_type": "code",
   "execution_count": 162,
   "metadata": {},
   "outputs": [],
   "source": [
    "grid_search = RandomizedSearchCV(\n",
    "    estimator=XGBClassifier(), \n",
    "    param_distributions=parametros_para_testar,\n",
    "    n_iter=30,\n",
    "    scoring= churn_scorer,\n",
    "    refit=True, \n",
    "    cv = KFold(n_splits=5),\n",
    "    n_jobs=-1,\n",
    "    verbose=10\n",
    ")"
   ]
  },
  {
   "cell_type": "code",
   "execution_count": 163,
   "metadata": {},
   "outputs": [
    {
     "name": "stdout",
     "output_type": "stream",
     "text": [
      "Fitting 5 folds for each of 30 candidates, totalling 150 fits\n"
     ]
    },
    {
     "name": "stderr",
     "output_type": "stream",
     "text": [
      "c:\\users\\rbarella\\onedrive - suzano papel e celulose s a\\repos\\treinamento\\my-env\\lib\\site-packages\\xgboost\\sklearn.py:1146: UserWarning: The use of label encoder in XGBClassifier is deprecated and will be removed in a future release. To remove this warning, do the following: 1) Pass option use_label_encoder=False when constructing XGBClassifier object; and 2) Encode your labels (y) as integers starting with 0, i.e. 0, 1, 2, ..., [num_class - 1].\n",
      "  warnings.warn(label_encoder_deprecation_msg, UserWarning)\n"
     ]
    },
    {
     "name": "stdout",
     "output_type": "stream",
     "text": [
      "[21:04:00] WARNING: C:/Users/Administrator/workspace/xgboost-win64_release_1.4.0/src/learner.cc:1095: Starting in XGBoost 1.3.0, the default evaluation metric used with the objective 'binary:logistic' was changed from 'error' to 'logloss'. Explicitly set eval_metric if you'd like to restore the old behavior.\n",
      "Wall time: 1min 17s\n"
     ]
    },
    {
     "data": {
      "text/plain": [
       "RandomizedSearchCV(cv=KFold(n_splits=5, random_state=None, shuffle=False),\n",
       "                   estimator=XGBClassifier(base_score=None, booster=None,\n",
       "                                           colsample_bylevel=None,\n",
       "                                           colsample_bynode=None,\n",
       "                                           colsample_bytree=None, gamma=None,\n",
       "                                           gpu_id=None, importance_type='gain',\n",
       "                                           interaction_constraints=None,\n",
       "                                           learning_rate=None,\n",
       "                                           max_delta_step=None, max_depth=None,\n",
       "                                           min_child_weight=None, missing...\n",
       "                                           validate_parameters=None,\n",
       "                                           verbosity=None),\n",
       "                   n_iter=30, n_jobs=-1,\n",
       "                   param_distributions={'colsample_bytree': [0.5, 0.8, 1],\n",
       "                                        'learning_rate': array([0.1 , 0.15, 0.2 , 0.25, 0.3 , 0.35, 0.4 , 0.45, 0.5 , 0.55]),\n",
       "                                        'max_depth': array([ 3,  4,  5,  6,  7,  8,  9, 10]),\n",
       "                                        'scale_pos_weight': [1, 2, 4, 8],\n",
       "                                        'subsample': [0.5, 0.8, 0.9, 1]},\n",
       "                   scoring=make_scorer(score_custo_churn, greater_is_better=False),\n",
       "                   verbose=10)"
      ]
     },
     "execution_count": 163,
     "metadata": {},
     "output_type": "execute_result"
    }
   ],
   "source": [
    "%time grid_search.fit(X=train[features], y=train[output])"
   ]
  },
  {
   "cell_type": "code",
   "execution_count": 164,
   "metadata": {},
   "outputs": [],
   "source": [
    "with open('../models/grid_churn_custo_personalizado.pkl', 'wb') as file:\n",
    "    pickle.dump(grid_search, file)"
   ]
  },
  {
   "cell_type": "code",
   "execution_count": 181,
   "metadata": {},
   "outputs": [],
   "source": [
    "with open('../models/grid_churn_custo_personalizado.pkl', 'rb') as file:\n",
    "    grid_search = pickle.load(file)"
   ]
  },
  {
   "cell_type": "code",
   "execution_count": 182,
   "metadata": {},
   "outputs": [
    {
     "data": {
      "text/html": [
       "<div>\n",
       "<style scoped>\n",
       "    .dataframe tbody tr th:only-of-type {\n",
       "        vertical-align: middle;\n",
       "    }\n",
       "\n",
       "    .dataframe tbody tr th {\n",
       "        vertical-align: top;\n",
       "    }\n",
       "\n",
       "    .dataframe thead th {\n",
       "        text-align: right;\n",
       "    }\n",
       "</style>\n",
       "<table border=\"1\" class=\"dataframe\">\n",
       "  <thead>\n",
       "    <tr style=\"text-align: right;\">\n",
       "      <th></th>\n",
       "      <th>mean_fit_time</th>\n",
       "      <th>std_fit_time</th>\n",
       "      <th>mean_score_time</th>\n",
       "      <th>std_score_time</th>\n",
       "      <th>param_subsample</th>\n",
       "      <th>param_scale_pos_weight</th>\n",
       "      <th>param_max_depth</th>\n",
       "      <th>param_learning_rate</th>\n",
       "      <th>param_colsample_bytree</th>\n",
       "      <th>params</th>\n",
       "      <th>split0_test_score</th>\n",
       "      <th>split1_test_score</th>\n",
       "      <th>split2_test_score</th>\n",
       "      <th>split3_test_score</th>\n",
       "      <th>split4_test_score</th>\n",
       "      <th>mean_test_score</th>\n",
       "      <th>std_test_score</th>\n",
       "      <th>rank_test_score</th>\n",
       "    </tr>\n",
       "  </thead>\n",
       "  <tbody>\n",
       "    <tr>\n",
       "      <th>0</th>\n",
       "      <td>2.087617</td>\n",
       "      <td>0.051225</td>\n",
       "      <td>0.024349</td>\n",
       "      <td>0.012254</td>\n",
       "      <td>0.9</td>\n",
       "      <td>8</td>\n",
       "      <td>4</td>\n",
       "      <td>0.3</td>\n",
       "      <td>0.5</td>\n",
       "      <td>{'subsample': 0.9, 'scale_pos_weight': 8, 'max...</td>\n",
       "      <td>387500.0</td>\n",
       "      <td>318000.0</td>\n",
       "      <td>288500.0</td>\n",
       "      <td>383000.0</td>\n",
       "      <td>346500.0</td>\n",
       "      <td>344700.0</td>\n",
       "      <td>37876.905893</td>\n",
       "      <td>3</td>\n",
       "    </tr>\n",
       "    <tr>\n",
       "      <th>1</th>\n",
       "      <td>5.615655</td>\n",
       "      <td>0.198663</td>\n",
       "      <td>0.020378</td>\n",
       "      <td>0.006620</td>\n",
       "      <td>0.8</td>\n",
       "      <td>8</td>\n",
       "      <td>10</td>\n",
       "      <td>0.45</td>\n",
       "      <td>0.5</td>\n",
       "      <td>{'subsample': 0.8, 'scale_pos_weight': 8, 'max...</td>\n",
       "      <td>305500.0</td>\n",
       "      <td>287000.0</td>\n",
       "      <td>225000.0</td>\n",
       "      <td>318000.0</td>\n",
       "      <td>298500.0</td>\n",
       "      <td>286800.0</td>\n",
       "      <td>32493.999446</td>\n",
       "      <td>18</td>\n",
       "    </tr>\n",
       "    <tr>\n",
       "      <th>2</th>\n",
       "      <td>4.420251</td>\n",
       "      <td>0.247529</td>\n",
       "      <td>0.014151</td>\n",
       "      <td>0.004243</td>\n",
       "      <td>0.8</td>\n",
       "      <td>1</td>\n",
       "      <td>7</td>\n",
       "      <td>0.15</td>\n",
       "      <td>0.8</td>\n",
       "      <td>{'subsample': 0.8, 'scale_pos_weight': 1, 'max...</td>\n",
       "      <td>291000.0</td>\n",
       "      <td>256500.0</td>\n",
       "      <td>242000.0</td>\n",
       "      <td>315000.0</td>\n",
       "      <td>288500.0</td>\n",
       "      <td>278600.0</td>\n",
       "      <td>26094.827074</td>\n",
       "      <td>27</td>\n",
       "    </tr>\n",
       "    <tr>\n",
       "      <th>3</th>\n",
       "      <td>1.770802</td>\n",
       "      <td>0.065778</td>\n",
       "      <td>0.017394</td>\n",
       "      <td>0.003772</td>\n",
       "      <td>1</td>\n",
       "      <td>1</td>\n",
       "      <td>3</td>\n",
       "      <td>0.2</td>\n",
       "      <td>1</td>\n",
       "      <td>{'subsample': 1, 'scale_pos_weight': 1, 'max_d...</td>\n",
       "      <td>300500.0</td>\n",
       "      <td>277000.0</td>\n",
       "      <td>244500.0</td>\n",
       "      <td>310500.0</td>\n",
       "      <td>302500.0</td>\n",
       "      <td>287000.0</td>\n",
       "      <td>24004.166305</td>\n",
       "      <td>17</td>\n",
       "    </tr>\n",
       "    <tr>\n",
       "      <th>4</th>\n",
       "      <td>5.552656</td>\n",
       "      <td>0.063560</td>\n",
       "      <td>0.014134</td>\n",
       "      <td>0.004231</td>\n",
       "      <td>0.5</td>\n",
       "      <td>1</td>\n",
       "      <td>9</td>\n",
       "      <td>0.45</td>\n",
       "      <td>1</td>\n",
       "      <td>{'subsample': 0.5, 'scale_pos_weight': 1, 'max...</td>\n",
       "      <td>274500.0</td>\n",
       "      <td>249000.0</td>\n",
       "      <td>215500.0</td>\n",
       "      <td>287500.0</td>\n",
       "      <td>260500.0</td>\n",
       "      <td>257400.0</td>\n",
       "      <td>24634.122676</td>\n",
       "      <td>30</td>\n",
       "    </tr>\n",
       "    <tr>\n",
       "      <th>5</th>\n",
       "      <td>4.232357</td>\n",
       "      <td>0.451695</td>\n",
       "      <td>0.014119</td>\n",
       "      <td>0.004961</td>\n",
       "      <td>0.8</td>\n",
       "      <td>1</td>\n",
       "      <td>7</td>\n",
       "      <td>0.1</td>\n",
       "      <td>0.5</td>\n",
       "      <td>{'subsample': 0.8, 'scale_pos_weight': 1, 'max...</td>\n",
       "      <td>301000.0</td>\n",
       "      <td>260000.0</td>\n",
       "      <td>229000.0</td>\n",
       "      <td>289000.0</td>\n",
       "      <td>276500.0</td>\n",
       "      <td>271100.0</td>\n",
       "      <td>25056.735621</td>\n",
       "      <td>29</td>\n",
       "    </tr>\n",
       "    <tr>\n",
       "      <th>6</th>\n",
       "      <td>5.806417</td>\n",
       "      <td>0.104760</td>\n",
       "      <td>0.015753</td>\n",
       "      <td>0.004672</td>\n",
       "      <td>0.9</td>\n",
       "      <td>1</td>\n",
       "      <td>7</td>\n",
       "      <td>0.2</td>\n",
       "      <td>1</td>\n",
       "      <td>{'subsample': 0.9, 'scale_pos_weight': 1, 'max...</td>\n",
       "      <td>298000.0</td>\n",
       "      <td>273000.0</td>\n",
       "      <td>238000.0</td>\n",
       "      <td>301000.0</td>\n",
       "      <td>284500.0</td>\n",
       "      <td>278900.0</td>\n",
       "      <td>22769.277547</td>\n",
       "      <td>25</td>\n",
       "    </tr>\n",
       "    <tr>\n",
       "      <th>7</th>\n",
       "      <td>2.936197</td>\n",
       "      <td>0.403458</td>\n",
       "      <td>0.010495</td>\n",
       "      <td>0.000810</td>\n",
       "      <td>0.9</td>\n",
       "      <td>2</td>\n",
       "      <td>4</td>\n",
       "      <td>0.4</td>\n",
       "      <td>1</td>\n",
       "      <td>{'subsample': 0.9, 'scale_pos_weight': 2, 'max...</td>\n",
       "      <td>335000.0</td>\n",
       "      <td>283500.0</td>\n",
       "      <td>256500.0</td>\n",
       "      <td>339500.0</td>\n",
       "      <td>327000.0</td>\n",
       "      <td>308300.0</td>\n",
       "      <td>32662.822903</td>\n",
       "      <td>11</td>\n",
       "    </tr>\n",
       "    <tr>\n",
       "      <th>8</th>\n",
       "      <td>5.625617</td>\n",
       "      <td>0.076996</td>\n",
       "      <td>0.014532</td>\n",
       "      <td>0.003913</td>\n",
       "      <td>0.9</td>\n",
       "      <td>4</td>\n",
       "      <td>9</td>\n",
       "      <td>0.15</td>\n",
       "      <td>0.5</td>\n",
       "      <td>{'subsample': 0.9, 'scale_pos_weight': 4, 'max...</td>\n",
       "      <td>328500.0</td>\n",
       "      <td>280500.0</td>\n",
       "      <td>245500.0</td>\n",
       "      <td>327500.0</td>\n",
       "      <td>303500.0</td>\n",
       "      <td>297100.0</td>\n",
       "      <td>31270.433320</td>\n",
       "      <td>15</td>\n",
       "    </tr>\n",
       "    <tr>\n",
       "      <th>9</th>\n",
       "      <td>1.494783</td>\n",
       "      <td>0.022438</td>\n",
       "      <td>0.012113</td>\n",
       "      <td>0.003121</td>\n",
       "      <td>1</td>\n",
       "      <td>1</td>\n",
       "      <td>3</td>\n",
       "      <td>0.55</td>\n",
       "      <td>1</td>\n",
       "      <td>{'subsample': 1, 'scale_pos_weight': 1, 'max_d...</td>\n",
       "      <td>312500.0</td>\n",
       "      <td>260500.0</td>\n",
       "      <td>235500.0</td>\n",
       "      <td>319000.0</td>\n",
       "      <td>287000.0</td>\n",
       "      <td>282900.0</td>\n",
       "      <td>31447.416428</td>\n",
       "      <td>21</td>\n",
       "    </tr>\n",
       "    <tr>\n",
       "      <th>10</th>\n",
       "      <td>2.144724</td>\n",
       "      <td>0.325737</td>\n",
       "      <td>0.014949</td>\n",
       "      <td>0.003513</td>\n",
       "      <td>1</td>\n",
       "      <td>2</td>\n",
       "      <td>3</td>\n",
       "      <td>0.45</td>\n",
       "      <td>1</td>\n",
       "      <td>{'subsample': 1, 'scale_pos_weight': 2, 'max_d...</td>\n",
       "      <td>355500.0</td>\n",
       "      <td>299000.0</td>\n",
       "      <td>266000.0</td>\n",
       "      <td>373000.0</td>\n",
       "      <td>336000.0</td>\n",
       "      <td>325900.0</td>\n",
       "      <td>38750.999987</td>\n",
       "      <td>9</td>\n",
       "    </tr>\n",
       "    <tr>\n",
       "      <th>11</th>\n",
       "      <td>2.837798</td>\n",
       "      <td>0.066878</td>\n",
       "      <td>0.015750</td>\n",
       "      <td>0.004654</td>\n",
       "      <td>0.9</td>\n",
       "      <td>4</td>\n",
       "      <td>4</td>\n",
       "      <td>0.15</td>\n",
       "      <td>0.5</td>\n",
       "      <td>{'subsample': 0.9, 'scale_pos_weight': 4, 'max...</td>\n",
       "      <td>405000.0</td>\n",
       "      <td>322500.0</td>\n",
       "      <td>306500.0</td>\n",
       "      <td>397000.0</td>\n",
       "      <td>383500.0</td>\n",
       "      <td>362900.0</td>\n",
       "      <td>40429.444715</td>\n",
       "      <td>1</td>\n",
       "    </tr>\n",
       "    <tr>\n",
       "      <th>12</th>\n",
       "      <td>4.534428</td>\n",
       "      <td>0.171757</td>\n",
       "      <td>0.014530</td>\n",
       "      <td>0.003170</td>\n",
       "      <td>0.5</td>\n",
       "      <td>2</td>\n",
       "      <td>8</td>\n",
       "      <td>0.15</td>\n",
       "      <td>0.5</td>\n",
       "      <td>{'subsample': 0.5, 'scale_pos_weight': 2, 'max...</td>\n",
       "      <td>329000.0</td>\n",
       "      <td>266500.0</td>\n",
       "      <td>249500.0</td>\n",
       "      <td>315000.0</td>\n",
       "      <td>295500.0</td>\n",
       "      <td>291100.0</td>\n",
       "      <td>29538.788059</td>\n",
       "      <td>16</td>\n",
       "    </tr>\n",
       "    <tr>\n",
       "      <th>13</th>\n",
       "      <td>6.556388</td>\n",
       "      <td>0.356399</td>\n",
       "      <td>0.016364</td>\n",
       "      <td>0.003629</td>\n",
       "      <td>0.9</td>\n",
       "      <td>4</td>\n",
       "      <td>10</td>\n",
       "      <td>0.25</td>\n",
       "      <td>0.8</td>\n",
       "      <td>{'subsample': 0.9, 'scale_pos_weight': 4, 'max...</td>\n",
       "      <td>326000.0</td>\n",
       "      <td>274000.0</td>\n",
       "      <td>264500.0</td>\n",
       "      <td>319500.0</td>\n",
       "      <td>310000.0</td>\n",
       "      <td>298800.0</td>\n",
       "      <td>24840.692422</td>\n",
       "      <td>14</td>\n",
       "    </tr>\n",
       "    <tr>\n",
       "      <th>14</th>\n",
       "      <td>2.652020</td>\n",
       "      <td>0.098057</td>\n",
       "      <td>0.014541</td>\n",
       "      <td>0.004677</td>\n",
       "      <td>0.9</td>\n",
       "      <td>1</td>\n",
       "      <td>5</td>\n",
       "      <td>0.2</td>\n",
       "      <td>0.5</td>\n",
       "      <td>{'subsample': 0.9, 'scale_pos_weight': 1, 'max...</td>\n",
       "      <td>301000.0</td>\n",
       "      <td>265500.0</td>\n",
       "      <td>237000.0</td>\n",
       "      <td>293500.0</td>\n",
       "      <td>300000.0</td>\n",
       "      <td>279400.0</td>\n",
       "      <td>24822.167512</td>\n",
       "      <td>23</td>\n",
       "    </tr>\n",
       "    <tr>\n",
       "      <th>15</th>\n",
       "      <td>7.146127</td>\n",
       "      <td>0.065961</td>\n",
       "      <td>0.014814</td>\n",
       "      <td>0.004017</td>\n",
       "      <td>0.5</td>\n",
       "      <td>4</td>\n",
       "      <td>9</td>\n",
       "      <td>0.3</td>\n",
       "      <td>1</td>\n",
       "      <td>{'subsample': 0.5, 'scale_pos_weight': 4, 'max...</td>\n",
       "      <td>302500.0</td>\n",
       "      <td>269500.0</td>\n",
       "      <td>249000.0</td>\n",
       "      <td>324000.0</td>\n",
       "      <td>283000.0</td>\n",
       "      <td>285600.0</td>\n",
       "      <td>25944.941704</td>\n",
       "      <td>19</td>\n",
       "    </tr>\n",
       "    <tr>\n",
       "      <th>16</th>\n",
       "      <td>6.454635</td>\n",
       "      <td>0.481275</td>\n",
       "      <td>0.013730</td>\n",
       "      <td>0.004490</td>\n",
       "      <td>1</td>\n",
       "      <td>1</td>\n",
       "      <td>9</td>\n",
       "      <td>0.25</td>\n",
       "      <td>1</td>\n",
       "      <td>{'subsample': 1, 'scale_pos_weight': 1, 'max_d...</td>\n",
       "      <td>295500.0</td>\n",
       "      <td>258000.0</td>\n",
       "      <td>243000.0</td>\n",
       "      <td>296500.0</td>\n",
       "      <td>301500.0</td>\n",
       "      <td>278900.0</td>\n",
       "      <td>23755.841387</td>\n",
       "      <td>25</td>\n",
       "    </tr>\n",
       "    <tr>\n",
       "      <th>17</th>\n",
       "      <td>4.897914</td>\n",
       "      <td>0.054844</td>\n",
       "      <td>0.014131</td>\n",
       "      <td>0.004229</td>\n",
       "      <td>0.5</td>\n",
       "      <td>4</td>\n",
       "      <td>8</td>\n",
       "      <td>0.15</td>\n",
       "      <td>0.8</td>\n",
       "      <td>{'subsample': 0.5, 'scale_pos_weight': 4, 'max...</td>\n",
       "      <td>327500.0</td>\n",
       "      <td>281500.0</td>\n",
       "      <td>260000.0</td>\n",
       "      <td>370000.0</td>\n",
       "      <td>317000.0</td>\n",
       "      <td>311200.0</td>\n",
       "      <td>38105.905054</td>\n",
       "      <td>10</td>\n",
       "    </tr>\n",
       "    <tr>\n",
       "      <th>18</th>\n",
       "      <td>3.039211</td>\n",
       "      <td>0.029259</td>\n",
       "      <td>0.015741</td>\n",
       "      <td>0.003931</td>\n",
       "      <td>0.8</td>\n",
       "      <td>8</td>\n",
       "      <td>6</td>\n",
       "      <td>0.4</td>\n",
       "      <td>0.5</td>\n",
       "      <td>{'subsample': 0.8, 'scale_pos_weight': 8, 'max...</td>\n",
       "      <td>346000.0</td>\n",
       "      <td>283000.0</td>\n",
       "      <td>253000.0</td>\n",
       "      <td>350000.0</td>\n",
       "      <td>295500.0</td>\n",
       "      <td>305500.0</td>\n",
       "      <td>37371.111838</td>\n",
       "      <td>12</td>\n",
       "    </tr>\n",
       "    <tr>\n",
       "      <th>19</th>\n",
       "      <td>4.124861</td>\n",
       "      <td>0.079675</td>\n",
       "      <td>0.014133</td>\n",
       "      <td>0.004948</td>\n",
       "      <td>1</td>\n",
       "      <td>2</td>\n",
       "      <td>8</td>\n",
       "      <td>0.2</td>\n",
       "      <td>0.5</td>\n",
       "      <td>{'subsample': 1, 'scale_pos_weight': 2, 'max_d...</td>\n",
       "      <td>322000.0</td>\n",
       "      <td>259500.0</td>\n",
       "      <td>229500.0</td>\n",
       "      <td>306000.0</td>\n",
       "      <td>306000.0</td>\n",
       "      <td>284600.0</td>\n",
       "      <td>34585.256975</td>\n",
       "      <td>20</td>\n",
       "    </tr>\n",
       "    <tr>\n",
       "      <th>20</th>\n",
       "      <td>1.847497</td>\n",
       "      <td>0.100009</td>\n",
       "      <td>0.013718</td>\n",
       "      <td>0.003692</td>\n",
       "      <td>0.9</td>\n",
       "      <td>1</td>\n",
       "      <td>4</td>\n",
       "      <td>0.45</td>\n",
       "      <td>0.5</td>\n",
       "      <td>{'subsample': 0.9, 'scale_pos_weight': 1, 'max...</td>\n",
       "      <td>302500.0</td>\n",
       "      <td>250000.0</td>\n",
       "      <td>221500.0</td>\n",
       "      <td>300000.0</td>\n",
       "      <td>298500.0</td>\n",
       "      <td>274500.0</td>\n",
       "      <td>32922.636589</td>\n",
       "      <td>28</td>\n",
       "    </tr>\n",
       "    <tr>\n",
       "      <th>21</th>\n",
       "      <td>3.575676</td>\n",
       "      <td>0.044360</td>\n",
       "      <td>0.014652</td>\n",
       "      <td>0.003098</td>\n",
       "      <td>1</td>\n",
       "      <td>8</td>\n",
       "      <td>6</td>\n",
       "      <td>0.3</td>\n",
       "      <td>0.8</td>\n",
       "      <td>{'subsample': 1, 'scale_pos_weight': 8, 'max_d...</td>\n",
       "      <td>384000.0</td>\n",
       "      <td>281500.0</td>\n",
       "      <td>272500.0</td>\n",
       "      <td>389500.0</td>\n",
       "      <td>344500.0</td>\n",
       "      <td>334400.0</td>\n",
       "      <td>49453.412420</td>\n",
       "      <td>4</td>\n",
       "    </tr>\n",
       "    <tr>\n",
       "      <th>22</th>\n",
       "      <td>2.924443</td>\n",
       "      <td>0.041035</td>\n",
       "      <td>0.011773</td>\n",
       "      <td>0.003194</td>\n",
       "      <td>0.9</td>\n",
       "      <td>4</td>\n",
       "      <td>5</td>\n",
       "      <td>0.3</td>\n",
       "      <td>0.8</td>\n",
       "      <td>{'subsample': 0.9, 'scale_pos_weight': 4, 'max...</td>\n",
       "      <td>346000.0</td>\n",
       "      <td>304000.0</td>\n",
       "      <td>289000.0</td>\n",
       "      <td>368000.0</td>\n",
       "      <td>345500.0</td>\n",
       "      <td>330500.0</td>\n",
       "      <td>29312.113537</td>\n",
       "      <td>5</td>\n",
       "    </tr>\n",
       "    <tr>\n",
       "      <th>23</th>\n",
       "      <td>4.465793</td>\n",
       "      <td>0.036393</td>\n",
       "      <td>0.012208</td>\n",
       "      <td>0.003081</td>\n",
       "      <td>1</td>\n",
       "      <td>8</td>\n",
       "      <td>7</td>\n",
       "      <td>0.1</td>\n",
       "      <td>0.8</td>\n",
       "      <td>{'subsample': 1, 'scale_pos_weight': 8, 'max_d...</td>\n",
       "      <td>391000.0</td>\n",
       "      <td>328000.0</td>\n",
       "      <td>305000.0</td>\n",
       "      <td>388000.0</td>\n",
       "      <td>359000.0</td>\n",
       "      <td>354200.0</td>\n",
       "      <td>33546.385796</td>\n",
       "      <td>2</td>\n",
       "    </tr>\n",
       "    <tr>\n",
       "      <th>24</th>\n",
       "      <td>5.043309</td>\n",
       "      <td>0.143429</td>\n",
       "      <td>0.015328</td>\n",
       "      <td>0.003496</td>\n",
       "      <td>0.9</td>\n",
       "      <td>8</td>\n",
       "      <td>7</td>\n",
       "      <td>0.2</td>\n",
       "      <td>1</td>\n",
       "      <td>{'subsample': 0.9, 'scale_pos_weight': 8, 'max...</td>\n",
       "      <td>373500.0</td>\n",
       "      <td>292500.0</td>\n",
       "      <td>273000.0</td>\n",
       "      <td>358000.0</td>\n",
       "      <td>342500.0</td>\n",
       "      <td>327900.0</td>\n",
       "      <td>38641.169755</td>\n",
       "      <td>6</td>\n",
       "    </tr>\n",
       "    <tr>\n",
       "      <th>25</th>\n",
       "      <td>2.266520</td>\n",
       "      <td>0.055514</td>\n",
       "      <td>0.013457</td>\n",
       "      <td>0.004790</td>\n",
       "      <td>0.9</td>\n",
       "      <td>1</td>\n",
       "      <td>4</td>\n",
       "      <td>0.3</td>\n",
       "      <td>0.8</td>\n",
       "      <td>{'subsample': 0.9, 'scale_pos_weight': 1, 'max...</td>\n",
       "      <td>310500.0</td>\n",
       "      <td>267500.0</td>\n",
       "      <td>235500.0</td>\n",
       "      <td>312500.0</td>\n",
       "      <td>284500.0</td>\n",
       "      <td>282100.0</td>\n",
       "      <td>28709.580283</td>\n",
       "      <td>22</td>\n",
       "    </tr>\n",
       "    <tr>\n",
       "      <th>26</th>\n",
       "      <td>3.581572</td>\n",
       "      <td>0.070343</td>\n",
       "      <td>0.012127</td>\n",
       "      <td>0.003106</td>\n",
       "      <td>0.8</td>\n",
       "      <td>4</td>\n",
       "      <td>7</td>\n",
       "      <td>0.55</td>\n",
       "      <td>0.5</td>\n",
       "      <td>{'subsample': 0.8, 'scale_pos_weight': 4, 'max...</td>\n",
       "      <td>308000.0</td>\n",
       "      <td>264500.0</td>\n",
       "      <td>219500.0</td>\n",
       "      <td>311500.0</td>\n",
       "      <td>293500.0</td>\n",
       "      <td>279400.0</td>\n",
       "      <td>34226.305673</td>\n",
       "      <td>23</td>\n",
       "    </tr>\n",
       "    <tr>\n",
       "      <th>27</th>\n",
       "      <td>3.240438</td>\n",
       "      <td>0.390926</td>\n",
       "      <td>0.016163</td>\n",
       "      <td>0.004223</td>\n",
       "      <td>1</td>\n",
       "      <td>2</td>\n",
       "      <td>6</td>\n",
       "      <td>0.1</td>\n",
       "      <td>0.5</td>\n",
       "      <td>{'subsample': 1, 'scale_pos_weight': 2, 'max_d...</td>\n",
       "      <td>346500.0</td>\n",
       "      <td>313500.0</td>\n",
       "      <td>274500.0</td>\n",
       "      <td>356000.0</td>\n",
       "      <td>343000.0</td>\n",
       "      <td>326700.0</td>\n",
       "      <td>29716.325479</td>\n",
       "      <td>7</td>\n",
       "    </tr>\n",
       "    <tr>\n",
       "      <th>28</th>\n",
       "      <td>4.111279</td>\n",
       "      <td>0.051344</td>\n",
       "      <td>0.014091</td>\n",
       "      <td>0.003289</td>\n",
       "      <td>1</td>\n",
       "      <td>2</td>\n",
       "      <td>6</td>\n",
       "      <td>0.1</td>\n",
       "      <td>0.8</td>\n",
       "      <td>{'subsample': 1, 'scale_pos_weight': 2, 'max_d...</td>\n",
       "      <td>360000.0</td>\n",
       "      <td>304000.0</td>\n",
       "      <td>272500.0</td>\n",
       "      <td>360500.0</td>\n",
       "      <td>335500.0</td>\n",
       "      <td>326500.0</td>\n",
       "      <td>34004.411479</td>\n",
       "      <td>8</td>\n",
       "    </tr>\n",
       "    <tr>\n",
       "      <th>29</th>\n",
       "      <td>3.585851</td>\n",
       "      <td>0.607679</td>\n",
       "      <td>0.013714</td>\n",
       "      <td>0.003698</td>\n",
       "      <td>1</td>\n",
       "      <td>2</td>\n",
       "      <td>7</td>\n",
       "      <td>0.2</td>\n",
       "      <td>1</td>\n",
       "      <td>{'subsample': 1, 'scale_pos_weight': 2, 'max_d...</td>\n",
       "      <td>334500.0</td>\n",
       "      <td>279000.0</td>\n",
       "      <td>256500.0</td>\n",
       "      <td>334500.0</td>\n",
       "      <td>300000.0</td>\n",
       "      <td>300900.0</td>\n",
       "      <td>30691.041038</td>\n",
       "      <td>13</td>\n",
       "    </tr>\n",
       "  </tbody>\n",
       "</table>\n",
       "</div>"
      ],
      "text/plain": [
       "    mean_fit_time  std_fit_time  mean_score_time  std_score_time  \\\n",
       "0        2.087617      0.051225         0.024349        0.012254   \n",
       "1        5.615655      0.198663         0.020378        0.006620   \n",
       "2        4.420251      0.247529         0.014151        0.004243   \n",
       "3        1.770802      0.065778         0.017394        0.003772   \n",
       "4        5.552656      0.063560         0.014134        0.004231   \n",
       "5        4.232357      0.451695         0.014119        0.004961   \n",
       "6        5.806417      0.104760         0.015753        0.004672   \n",
       "7        2.936197      0.403458         0.010495        0.000810   \n",
       "8        5.625617      0.076996         0.014532        0.003913   \n",
       "9        1.494783      0.022438         0.012113        0.003121   \n",
       "10       2.144724      0.325737         0.014949        0.003513   \n",
       "11       2.837798      0.066878         0.015750        0.004654   \n",
       "12       4.534428      0.171757         0.014530        0.003170   \n",
       "13       6.556388      0.356399         0.016364        0.003629   \n",
       "14       2.652020      0.098057         0.014541        0.004677   \n",
       "15       7.146127      0.065961         0.014814        0.004017   \n",
       "16       6.454635      0.481275         0.013730        0.004490   \n",
       "17       4.897914      0.054844         0.014131        0.004229   \n",
       "18       3.039211      0.029259         0.015741        0.003931   \n",
       "19       4.124861      0.079675         0.014133        0.004948   \n",
       "20       1.847497      0.100009         0.013718        0.003692   \n",
       "21       3.575676      0.044360         0.014652        0.003098   \n",
       "22       2.924443      0.041035         0.011773        0.003194   \n",
       "23       4.465793      0.036393         0.012208        0.003081   \n",
       "24       5.043309      0.143429         0.015328        0.003496   \n",
       "25       2.266520      0.055514         0.013457        0.004790   \n",
       "26       3.581572      0.070343         0.012127        0.003106   \n",
       "27       3.240438      0.390926         0.016163        0.004223   \n",
       "28       4.111279      0.051344         0.014091        0.003289   \n",
       "29       3.585851      0.607679         0.013714        0.003698   \n",
       "\n",
       "   param_subsample param_scale_pos_weight param_max_depth param_learning_rate  \\\n",
       "0              0.9                      8               4                 0.3   \n",
       "1              0.8                      8              10                0.45   \n",
       "2              0.8                      1               7                0.15   \n",
       "3                1                      1               3                 0.2   \n",
       "4              0.5                      1               9                0.45   \n",
       "5              0.8                      1               7                 0.1   \n",
       "6              0.9                      1               7                 0.2   \n",
       "7              0.9                      2               4                 0.4   \n",
       "8              0.9                      4               9                0.15   \n",
       "9                1                      1               3                0.55   \n",
       "10               1                      2               3                0.45   \n",
       "11             0.9                      4               4                0.15   \n",
       "12             0.5                      2               8                0.15   \n",
       "13             0.9                      4              10                0.25   \n",
       "14             0.9                      1               5                 0.2   \n",
       "15             0.5                      4               9                 0.3   \n",
       "16               1                      1               9                0.25   \n",
       "17             0.5                      4               8                0.15   \n",
       "18             0.8                      8               6                 0.4   \n",
       "19               1                      2               8                 0.2   \n",
       "20             0.9                      1               4                0.45   \n",
       "21               1                      8               6                 0.3   \n",
       "22             0.9                      4               5                 0.3   \n",
       "23               1                      8               7                 0.1   \n",
       "24             0.9                      8               7                 0.2   \n",
       "25             0.9                      1               4                 0.3   \n",
       "26             0.8                      4               7                0.55   \n",
       "27               1                      2               6                 0.1   \n",
       "28               1                      2               6                 0.1   \n",
       "29               1                      2               7                 0.2   \n",
       "\n",
       "   param_colsample_bytree                                             params  \\\n",
       "0                     0.5  {'subsample': 0.9, 'scale_pos_weight': 8, 'max...   \n",
       "1                     0.5  {'subsample': 0.8, 'scale_pos_weight': 8, 'max...   \n",
       "2                     0.8  {'subsample': 0.8, 'scale_pos_weight': 1, 'max...   \n",
       "3                       1  {'subsample': 1, 'scale_pos_weight': 1, 'max_d...   \n",
       "4                       1  {'subsample': 0.5, 'scale_pos_weight': 1, 'max...   \n",
       "5                     0.5  {'subsample': 0.8, 'scale_pos_weight': 1, 'max...   \n",
       "6                       1  {'subsample': 0.9, 'scale_pos_weight': 1, 'max...   \n",
       "7                       1  {'subsample': 0.9, 'scale_pos_weight': 2, 'max...   \n",
       "8                     0.5  {'subsample': 0.9, 'scale_pos_weight': 4, 'max...   \n",
       "9                       1  {'subsample': 1, 'scale_pos_weight': 1, 'max_d...   \n",
       "10                      1  {'subsample': 1, 'scale_pos_weight': 2, 'max_d...   \n",
       "11                    0.5  {'subsample': 0.9, 'scale_pos_weight': 4, 'max...   \n",
       "12                    0.5  {'subsample': 0.5, 'scale_pos_weight': 2, 'max...   \n",
       "13                    0.8  {'subsample': 0.9, 'scale_pos_weight': 4, 'max...   \n",
       "14                    0.5  {'subsample': 0.9, 'scale_pos_weight': 1, 'max...   \n",
       "15                      1  {'subsample': 0.5, 'scale_pos_weight': 4, 'max...   \n",
       "16                      1  {'subsample': 1, 'scale_pos_weight': 1, 'max_d...   \n",
       "17                    0.8  {'subsample': 0.5, 'scale_pos_weight': 4, 'max...   \n",
       "18                    0.5  {'subsample': 0.8, 'scale_pos_weight': 8, 'max...   \n",
       "19                    0.5  {'subsample': 1, 'scale_pos_weight': 2, 'max_d...   \n",
       "20                    0.5  {'subsample': 0.9, 'scale_pos_weight': 1, 'max...   \n",
       "21                    0.8  {'subsample': 1, 'scale_pos_weight': 8, 'max_d...   \n",
       "22                    0.8  {'subsample': 0.9, 'scale_pos_weight': 4, 'max...   \n",
       "23                    0.8  {'subsample': 1, 'scale_pos_weight': 8, 'max_d...   \n",
       "24                      1  {'subsample': 0.9, 'scale_pos_weight': 8, 'max...   \n",
       "25                    0.8  {'subsample': 0.9, 'scale_pos_weight': 1, 'max...   \n",
       "26                    0.5  {'subsample': 0.8, 'scale_pos_weight': 4, 'max...   \n",
       "27                    0.5  {'subsample': 1, 'scale_pos_weight': 2, 'max_d...   \n",
       "28                    0.8  {'subsample': 1, 'scale_pos_weight': 2, 'max_d...   \n",
       "29                      1  {'subsample': 1, 'scale_pos_weight': 2, 'max_d...   \n",
       "\n",
       "    split0_test_score  split1_test_score  split2_test_score  \\\n",
       "0            387500.0           318000.0           288500.0   \n",
       "1            305500.0           287000.0           225000.0   \n",
       "2            291000.0           256500.0           242000.0   \n",
       "3            300500.0           277000.0           244500.0   \n",
       "4            274500.0           249000.0           215500.0   \n",
       "5            301000.0           260000.0           229000.0   \n",
       "6            298000.0           273000.0           238000.0   \n",
       "7            335000.0           283500.0           256500.0   \n",
       "8            328500.0           280500.0           245500.0   \n",
       "9            312500.0           260500.0           235500.0   \n",
       "10           355500.0           299000.0           266000.0   \n",
       "11           405000.0           322500.0           306500.0   \n",
       "12           329000.0           266500.0           249500.0   \n",
       "13           326000.0           274000.0           264500.0   \n",
       "14           301000.0           265500.0           237000.0   \n",
       "15           302500.0           269500.0           249000.0   \n",
       "16           295500.0           258000.0           243000.0   \n",
       "17           327500.0           281500.0           260000.0   \n",
       "18           346000.0           283000.0           253000.0   \n",
       "19           322000.0           259500.0           229500.0   \n",
       "20           302500.0           250000.0           221500.0   \n",
       "21           384000.0           281500.0           272500.0   \n",
       "22           346000.0           304000.0           289000.0   \n",
       "23           391000.0           328000.0           305000.0   \n",
       "24           373500.0           292500.0           273000.0   \n",
       "25           310500.0           267500.0           235500.0   \n",
       "26           308000.0           264500.0           219500.0   \n",
       "27           346500.0           313500.0           274500.0   \n",
       "28           360000.0           304000.0           272500.0   \n",
       "29           334500.0           279000.0           256500.0   \n",
       "\n",
       "    split3_test_score  split4_test_score  mean_test_score  std_test_score  \\\n",
       "0            383000.0           346500.0         344700.0    37876.905893   \n",
       "1            318000.0           298500.0         286800.0    32493.999446   \n",
       "2            315000.0           288500.0         278600.0    26094.827074   \n",
       "3            310500.0           302500.0         287000.0    24004.166305   \n",
       "4            287500.0           260500.0         257400.0    24634.122676   \n",
       "5            289000.0           276500.0         271100.0    25056.735621   \n",
       "6            301000.0           284500.0         278900.0    22769.277547   \n",
       "7            339500.0           327000.0         308300.0    32662.822903   \n",
       "8            327500.0           303500.0         297100.0    31270.433320   \n",
       "9            319000.0           287000.0         282900.0    31447.416428   \n",
       "10           373000.0           336000.0         325900.0    38750.999987   \n",
       "11           397000.0           383500.0         362900.0    40429.444715   \n",
       "12           315000.0           295500.0         291100.0    29538.788059   \n",
       "13           319500.0           310000.0         298800.0    24840.692422   \n",
       "14           293500.0           300000.0         279400.0    24822.167512   \n",
       "15           324000.0           283000.0         285600.0    25944.941704   \n",
       "16           296500.0           301500.0         278900.0    23755.841387   \n",
       "17           370000.0           317000.0         311200.0    38105.905054   \n",
       "18           350000.0           295500.0         305500.0    37371.111838   \n",
       "19           306000.0           306000.0         284600.0    34585.256975   \n",
       "20           300000.0           298500.0         274500.0    32922.636589   \n",
       "21           389500.0           344500.0         334400.0    49453.412420   \n",
       "22           368000.0           345500.0         330500.0    29312.113537   \n",
       "23           388000.0           359000.0         354200.0    33546.385796   \n",
       "24           358000.0           342500.0         327900.0    38641.169755   \n",
       "25           312500.0           284500.0         282100.0    28709.580283   \n",
       "26           311500.0           293500.0         279400.0    34226.305673   \n",
       "27           356000.0           343000.0         326700.0    29716.325479   \n",
       "28           360500.0           335500.0         326500.0    34004.411479   \n",
       "29           334500.0           300000.0         300900.0    30691.041038   \n",
       "\n",
       "    rank_test_score  \n",
       "0                 3  \n",
       "1                18  \n",
       "2                27  \n",
       "3                17  \n",
       "4                30  \n",
       "5                29  \n",
       "6                25  \n",
       "7                11  \n",
       "8                15  \n",
       "9                21  \n",
       "10                9  \n",
       "11                1  \n",
       "12               16  \n",
       "13               14  \n",
       "14               23  \n",
       "15               19  \n",
       "16               25  \n",
       "17               10  \n",
       "18               12  \n",
       "19               20  \n",
       "20               28  \n",
       "21                4  \n",
       "22                5  \n",
       "23                2  \n",
       "24                6  \n",
       "25               22  \n",
       "26               23  \n",
       "27                7  \n",
       "28                8  \n",
       "29               13  "
      ]
     },
     "execution_count": 182,
     "metadata": {},
     "output_type": "execute_result"
    }
   ],
   "source": [
    "pd.DataFrame(grid_search.cv_results_)"
   ]
  },
  {
   "cell_type": "code",
   "execution_count": 185,
   "metadata": {},
   "outputs": [],
   "source": [
    "validation.loc[:,['ypred']] = grid_search.best_estimator_.predict(validation[features])"
   ]
  },
  {
   "cell_type": "code",
   "execution_count": 186,
   "metadata": {},
   "outputs": [
    {
     "data": {
      "text/plain": [
       "<sklearn.metrics._plot.confusion_matrix.ConfusionMatrixDisplay at 0x26768f26cc0>"
      ]
     },
     "execution_count": 186,
     "metadata": {},
     "output_type": "execute_result"
    },
    {
     "data": {
      "image/png": "[encoded data removed]",
      "text/plain": [
       "<Figure size 432x288 with 1 Axes>"
      ]
     },
     "metadata": {
      "needs_background": "light"
     },
     "output_type": "display_data"
    }
   ],
   "source": [
    "plot_confusion_matrix(grid_search.best_estimator_, validation[features], validation[output], colorbar=False)"
   ]
  },
  {
   "cell_type": "code",
   "execution_count": 187,
   "metadata": {},
   "outputs": [
    {
     "name": "stdout",
     "output_type": "stream",
     "text": [
      "Baseado nas regras de negocio, o modelo_tunado tem potencial de redução de custo em: US$-470500\n"
     ]
    }
   ],
   "source": [
    "nova_reducao_custo = score_custo_churn(y_true = validation[output], y_pred = validation['ypred'])\n",
    "print(f\"Baseado nas regras de negocio, o modelo_tunado tem potencial de redução de custo em: US${nova_reducao_custo}\")"
   ]
  },
  {
   "cell_type": "markdown",
   "metadata": {},
   "source": [
    "Esse exercicio mostra algumas coisas interessantes:"
   ]
  },
  {
   "cell_type": "markdown",
   "metadata": {},
   "source": [
    "- nem sempre o modelo de melhor acurácia, precisão, recall vai ser o melhor modelo para o negócio\n",
    "- com alguns passos extras podemos conectar o machine learning com informações do processo e entregar maior valor agregado\n",
    "- além disso, o modelo pode ajudar a refinar a regra de negócio, especialmente ajudando a responder a pergunta: <b> <font color='red'> Quais as melhores ações de engajamento? </font> </b> Como? Aplicando os métodos de interpretação do modelo!"
   ]
  },
  {
   "cell_type": "markdown",
   "metadata": {},
   "source": [
    "# Interpretando o modelo"
   ]
  },
  {
   "cell_type": "markdown",
   "metadata": {},
   "source": [
    "De forma similar ao que fizemos na regressão, podemos interpretar o modelo de classificação utilizando o shap:"
   ]
  },
  {
   "cell_type": "code",
   "execution_count": 188,
   "metadata": {},
   "outputs": [],
   "source": [
    "import shap"
   ]
  },
  {
   "cell_type": "code",
   "execution_count": 189,
   "metadata": {},
   "outputs": [],
   "source": [
    "explainer = shap.Explainer(modelo_tunado)"
   ]
  },
  {
   "cell_type": "code",
   "execution_count": 190,
   "metadata": {},
   "outputs": [
    {
     "name": "stdout",
     "output_type": "stream",
     "text": [
      "Wall time: 100 ms\n"
     ]
    },
    {
     "name": "stderr",
     "output_type": "stream",
     "text": [
      "ntree_limit is deprecated, use `iteration_range` or model slicing instead.\n"
     ]
    }
   ],
   "source": [
    "%time shap_values = explainer(validation[features])"
   ]
  },
  {
   "cell_type": "code",
   "execution_count": 191,
   "metadata": {},
   "outputs": [
    {
     "data": {
      "image/png": "[encoded data removed]",
      "text/plain": [
       "<Figure size 576x396 with 2 Axes>"
      ]
     },
     "metadata": {
      "needs_background": "light"
     },
     "output_type": "display_data"
    }
   ],
   "source": [
    "shap.plots.beeswarm(shap_values)"
   ]
  },
  {
   "cell_type": "markdown",
   "metadata": {},
   "source": [
    "Veja algumas oportunidades de segmentar as ações de engajamento:"
   ]
  },
  {
   "cell_type": "markdown",
   "metadata": {},
   "source": [
    "- clientes de maior idade\n",
    "- número de produtos? É possivel que um produto em especial esteja associado à maior taxa de Churn\n",
    "- Membros menos ativos\n",
    "- Consumidores da Alemanha\n",
    "- Mulheres"
   ]
  },
  {
   "cell_type": "markdown",
   "metadata": {},
   "source": [
    "Podemos também verificar a importância média de cada variável por meio do Shap:"
   ]
  },
  {
   "cell_type": "code",
   "execution_count": 192,
   "metadata": {},
   "outputs": [
    {
     "data": {
      "image/png": "[encoded data removed]",
      "text/plain": [
       "<Figure size 576x684 with 1 Axes>"
      ]
     },
     "metadata": {},
     "output_type": "display_data"
    }
   ],
   "source": [
    "shap.plots.bar(shap_values.abs.mean(0), max_display=20)"
   ]
  },
  {
   "cell_type": "markdown",
   "metadata": {},
   "source": [
    "Note que os impactos não estão em escala de probabilidade, eles estão na escala de <b> log(odds) </b>. "
   ]
  },
  {
   "cell_type": "markdown",
   "metadata": {},
   "source": [
    "## Feature importance"
   ]
  },
  {
   "cell_type": "markdown",
   "metadata": {},
   "source": [
    "O modelo XGBoost também calcula automaticamente as variáveis importantes. Podemos usar esse score para entender quais variáveis precisamos focar e quais podemos tentar eliminar:"
   ]
  },
  {
   "cell_type": "code",
   "execution_count": 193,
   "metadata": {},
   "outputs": [],
   "source": [
    "var_imp = pd.DataFrame(zip(features, modelo.feature_importances_), columns=['feature', 'importancia']).sort_values(by='importancia', ascending=False)"
   ]
  },
  {
   "cell_type": "code",
   "execution_count": 194,
   "metadata": {},
   "outputs": [
    {
     "data": {
      "image/png": "[encoded data removed]",
      "text/plain": [
       "<Figure size 1440x1440 with 1 Axes>"
      ]
     },
     "metadata": {
      "needs_background": "light"
     },
     "output_type": "display_data"
    }
   ],
   "source": [
    "fig, ax = plt.subplots(figsize=(20,20))\n",
    "ax = ax.barh(var_imp['feature'],var_imp['importancia'])"
   ]
  },
  {
   "cell_type": "markdown",
   "metadata": {},
   "source": [
    "A partir daqui, podemos trabalhar no refinamento do modelo, eliminando variáveis que não auxiliam na predição e fazendo nova validação cruzada do modelo, de forma iterativa, até atingir um bom resultado."
   ]
  },
  {
   "cell_type": "code",
   "execution_count": 233,
   "metadata": {},
   "outputs": [
    {
     "data": {
      "text/html": [
       "<div>\n",
       "<style scoped>\n",
       "    .dataframe tbody tr th:only-of-type {\n",
       "        vertical-align: middle;\n",
       "    }\n",
       "\n",
       "    .dataframe tbody tr th {\n",
       "        vertical-align: top;\n",
       "    }\n",
       "\n",
       "    .dataframe thead th {\n",
       "        text-align: right;\n",
       "    }\n",
       "</style>\n",
       "<table border=\"1\" class=\"dataframe\">\n",
       "  <thead>\n",
       "    <tr style=\"text-align: right;\">\n",
       "      <th></th>\n",
       "      <th>feature</th>\n",
       "      <th>importancia</th>\n",
       "    </tr>\n",
       "  </thead>\n",
       "  <tbody>\n",
       "    <tr>\n",
       "      <th>13</th>\n",
       "      <td>Geography_isSpain</td>\n",
       "      <td>0.033762</td>\n",
       "    </tr>\n",
       "    <tr>\n",
       "      <th>0</th>\n",
       "      <td>RowNumber</td>\n",
       "      <td>0.032452</td>\n",
       "    </tr>\n",
       "    <tr>\n",
       "      <th>3</th>\n",
       "      <td>CreditScore</td>\n",
       "      <td>0.031503</td>\n",
       "    </tr>\n",
       "    <tr>\n",
       "      <th>10</th>\n",
       "      <td>EstimatedSalary</td>\n",
       "      <td>0.031381</td>\n",
       "    </tr>\n",
       "    <tr>\n",
       "      <th>1</th>\n",
       "      <td>CustomerId</td>\n",
       "      <td>0.029807</td>\n",
       "    </tr>\n",
       "    <tr>\n",
       "      <th>2</th>\n",
       "      <td>Surname</td>\n",
       "      <td>0.029193</td>\n",
       "    </tr>\n",
       "    <tr>\n",
       "      <th>5</th>\n",
       "      <td>Tenure</td>\n",
       "      <td>0.027592</td>\n",
       "    </tr>\n",
       "    <tr>\n",
       "      <th>8</th>\n",
       "      <td>HasCrCard</td>\n",
       "      <td>0.025630</td>\n",
       "    </tr>\n",
       "    <tr>\n",
       "      <th>15</th>\n",
       "      <td>Gender_isMale</td>\n",
       "      <td>0.000000</td>\n",
       "    </tr>\n",
       "  </tbody>\n",
       "</table>\n",
       "</div>"
      ],
      "text/plain": [
       "              feature  importancia\n",
       "13  Geography_isSpain     0.033762\n",
       "0           RowNumber     0.032452\n",
       "3         CreditScore     0.031503\n",
       "10    EstimatedSalary     0.031381\n",
       "1          CustomerId     0.029807\n",
       "2             Surname     0.029193\n",
       "5              Tenure     0.027592\n",
       "8           HasCrCard     0.025630\n",
       "15      Gender_isMale     0.000000"
      ]
     },
     "execution_count": 233,
     "metadata": {},
     "output_type": "execute_result"
    }
   ],
   "source": [
    "threshold = 0.040\n",
    "var_imp.loc[var_imp['importancia'] < threshold]"
   ]
  },
  {
   "cell_type": "code",
   "execution_count": 234,
   "metadata": {},
   "outputs": [],
   "source": [
    "variaveis_para_excluir = var_imp.loc[var_imp['importancia'] < threshold, 'feature'].tolist()"
   ]
  },
  {
   "cell_type": "code",
   "execution_count": 235,
   "metadata": {},
   "outputs": [],
   "source": [
    "features_novas = [x for x in features if x not in variaveis_para_excluir]"
   ]
  },
  {
   "cell_type": "code",
   "execution_count": 236,
   "metadata": {},
   "outputs": [
    {
     "data": {
      "text/plain": [
       "['Age',\n",
       " 'Balance',\n",
       " 'NumOfProducts',\n",
       " 'IsActiveMember',\n",
       " 'Geography_isFrance',\n",
       " 'Geography_isGermany',\n",
       " 'Gender_isFemale']"
      ]
     },
     "execution_count": 236,
     "metadata": {},
     "output_type": "execute_result"
    }
   ],
   "source": [
    "features_novas"
   ]
  },
  {
   "cell_type": "code",
   "execution_count": 245,
   "metadata": {},
   "outputs": [],
   "source": [
    "params = {'subsample': 0.9,\n",
    " 'scale_pos_weight': 4,\n",
    " 'max_depth': 4,\n",
    " 'learning_rate': 0.15000000000000002,\n",
    " 'colsample_bytree': 0.8}"
   ]
  },
  {
   "cell_type": "code",
   "execution_count": 246,
   "metadata": {},
   "outputs": [],
   "source": [
    "clf = XGBClassifier(**params)"
   ]
  },
  {
   "cell_type": "code",
   "execution_count": 247,
   "metadata": {},
   "outputs": [
    {
     "name": "stderr",
     "output_type": "stream",
     "text": [
      "The use of label encoder in XGBClassifier is deprecated and will be removed in a future release. To remove this warning, do the following: 1) Pass option use_label_encoder=False when constructing XGBClassifier object; and 2) Encode your labels (y) as integers starting with 0, i.e. 0, 1, 2, ..., [num_class - 1].\n"
     ]
    },
    {
     "name": "stdout",
     "output_type": "stream",
     "text": [
      "[21:16:37] WARNING: C:/Users/Administrator/workspace/xgboost-win64_release_1.4.0/src/learner.cc:1095: Starting in XGBoost 1.3.0, the default evaluation metric used with the objective 'binary:logistic' was changed from 'error' to 'logloss'. Explicitly set eval_metric if you'd like to restore the old behavior.\n"
     ]
    },
    {
     "data": {
      "text/plain": [
       "XGBClassifier(base_score=0.5, booster='gbtree', colsample_bylevel=1,\n",
       "              colsample_bynode=1, colsample_bytree=0.8, gamma=0, gpu_id=-1,\n",
       "              importance_type='gain', interaction_constraints='',\n",
       "              learning_rate=0.15000000000000002, max_delta_step=0, max_depth=4,\n",
       "              min_child_weight=1, missing=nan, monotone_constraints='()',\n",
       "              n_estimators=100, n_jobs=8, num_parallel_tree=1, random_state=0,\n",
       "              reg_alpha=0, reg_lambda=1, scale_pos_weight=4, subsample=0.9,\n",
       "              tree_method='exact', validate_parameters=1, verbosity=None)"
      ]
     },
     "execution_count": 247,
     "metadata": {},
     "output_type": "execute_result"
    }
   ],
   "source": [
    "clf.fit(X=train[features_novas], y=train[output])"
   ]
  },
  {
   "cell_type": "code",
   "execution_count": 248,
   "metadata": {},
   "outputs": [
    {
     "name": "stderr",
     "output_type": "stream",
     "text": [
      "\n",
      "A value is trying to be set on a copy of a slice from a DataFrame.\n",
      "Try using .loc[row_indexer,col_indexer] = value instead\n",
      "\n",
      "See the caveats in the documentation: https://pandas.pydata.org/pandas-docs/stable/user_guide/indexing.html#returning-a-view-versus-a-copy\n"
     ]
    }
   ],
   "source": [
    "validation['ypred'] = clf.predict(validation[features_novas])"
   ]
  },
  {
   "cell_type": "code",
   "execution_count": 249,
   "metadata": {},
   "outputs": [
    {
     "name": "stdout",
     "output_type": "stream",
     "text": [
      "              precision    recall  f1-score   support\n",
      "\n",
      "           0       0.93      0.81      0.87      1593\n",
      "           1       0.51      0.76      0.61       407\n",
      "\n",
      "    accuracy                           0.80      2000\n",
      "   macro avg       0.72      0.79      0.74      2000\n",
      "weighted avg       0.84      0.80      0.81      2000\n",
      "\n"
     ]
    }
   ],
   "source": [
    "print(classification_report(validation[output], validation['ypred']))"
   ]
  },
  {
   "cell_type": "code",
   "execution_count": 250,
   "metadata": {},
   "outputs": [
    {
     "data": {
      "text/plain": [
       "<sklearn.metrics._plot.confusion_matrix.ConfusionMatrixDisplay at 0x2676aec1908>"
      ]
     },
     "execution_count": 250,
     "metadata": {},
     "output_type": "execute_result"
    },
    {
     "data": {
      "image/png": "[encoded data removed]",
      "text/plain": [
       "<Figure size 576x396 with 1 Axes>"
      ]
     },
     "metadata": {},
     "output_type": "display_data"
    }
   ],
   "source": [
    "plot_confusion_matrix(clf, validation[features_novas], validation[output], colorbar=False)"
   ]
  },
  {
   "cell_type": "code",
   "execution_count": 251,
   "metadata": {},
   "outputs": [
    {
     "name": "stdout",
     "output_type": "stream",
     "text": [
      "Baseado nas regras de negocio, o modelo_tunado tem potencial de redução de custo em: US$-469500\n"
     ]
    }
   ],
   "source": [
    "nova_reducao_custo = score_custo_churn(y_true = validation[output], y_pred = validation['ypred'])\n",
    "print(f\"Baseado nas regras de negocio, o modelo_tunado tem potencial de redução de custo em: US${nova_reducao_custo}\")"
   ]
  },
  {
   "cell_type": "markdown",
   "metadata": {},
   "source": [
    "## Salvando o modelo"
   ]
  },
  {
   "cell_type": "markdown",
   "metadata": {},
   "source": [
    "Vamos salvar o modelo e alguns artefatos para usar mais tarde. Isso pode ser feito utilizando o pickle"
   ]
  },
  {
   "cell_type": "code",
   "execution_count": 47,
   "metadata": {},
   "outputs": [],
   "source": [
    "import os\n",
    "from pathlib import Path"
   ]
  },
  {
   "cell_type": "code",
   "execution_count": 48,
   "metadata": {},
   "outputs": [],
   "source": [
    "path = Path('../data/streamlit')"
   ]
  },
  {
   "cell_type": "code",
   "execution_count": 265,
   "metadata": {},
   "outputs": [],
   "source": [
    "if not os.path.isdir(path):\n",
    "    os.mkdir(path)"
   ]
  },
  {
   "cell_type": "code",
   "execution_count": 266,
   "metadata": {},
   "outputs": [],
   "source": [
    "#salvando o modelo\n",
    "with open(path/'classificador.pkl', 'wb') as file:\n",
    "    pickle.dump(clf, file)"
   ]
  },
  {
   "cell_type": "code",
   "execution_count": null,
   "metadata": {},
   "outputs": [],
   "source": [
    "#salvando uma lista de features"
   ]
  },
  {
   "cell_type": "code",
   "execution_count": 277,
   "metadata": {},
   "outputs": [],
   "source": [
    "pd.Series(features_novas).to_csv(path/'features.txt', header=False, index=None)"
   ]
  },
  {
   "cell_type": "code",
   "execution_count": 49,
   "metadata": {},
   "outputs": [],
   "source": [
    "#salvando dataset treinamento e validação já processado\n",
    "train.to_pickle(path/'train.pkl')\n",
    "validation.to_pickle(path/'validation.pkl')"
   ]
  },
  {
   "cell_type": "markdown",
   "metadata": {},
   "source": [
    "## Outra opção para tratar classes desbalanceadas"
   ]
  },
  {
   "cell_type": "markdown",
   "metadata": {},
   "source": [
    "- testamos o argumento scale_pos_weight para dar mais peso à classe minoritária. Poderiamos, ao contruir o dataset de treino, amostrar proporções iguais de churn = 0 e churn = 1"
   ]
  },
  {
   "cell_type": "code",
   "execution_count": 209,
   "metadata": {},
   "outputs": [
    {
     "data": {
      "text/plain": [
       "<AxesSubplot:>"
      ]
     },
     "execution_count": 209,
     "metadata": {},
     "output_type": "execute_result"
    },
    {
     "data": {
      "image/png": "[encoded data removed]",
      "text/plain": [
       "<Figure size 432x288 with 1 Axes>"
      ]
     },
     "metadata": {
      "needs_background": "light"
     },
     "output_type": "display_data"
    }
   ],
   "source": [
    "train[output].value_counts().plot.barh()"
   ]
  },
  {
   "cell_type": "code",
   "execution_count": 210,
   "metadata": {},
   "outputs": [
    {
     "data": {
      "image/png": "[encoded data removed]",
      "text/plain": [
       "<IPython.core.display.Image object>"
      ]
     },
     "execution_count": 210,
     "metadata": {},
     "output_type": "execute_result"
    }
   ],
   "source": [
    "Image('../figures/under_over_sampling.png')"
   ]
  },
  {
   "cell_type": "code",
   "execution_count": 211,
   "metadata": {},
   "outputs": [],
   "source": [
    "n_zeros, n_ones = train[output].value_counts()"
   ]
  },
  {
   "cell_type": "code",
   "execution_count": 212,
   "metadata": {},
   "outputs": [
    {
     "name": "stdout",
     "output_type": "stream",
     "text": [
      "Zeros = 6370, Uns: 1630\n"
     ]
    }
   ],
   "source": [
    "print(f\"Zeros = {n_zeros}, Uns: {n_ones}\")"
   ]
  },
  {
   "cell_type": "code",
   "execution_count": 213,
   "metadata": {},
   "outputs": [],
   "source": [
    "train_zeros = train.loc[(train[output] == 0),:].sample(n=n_ones) #amostrando a mesma quantidade de 1s"
   ]
  },
  {
   "cell_type": "code",
   "execution_count": 214,
   "metadata": {},
   "outputs": [
    {
     "data": {
      "text/html": [
       "<div>\n",
       "<style scoped>\n",
       "    .dataframe tbody tr th:only-of-type {\n",
       "        vertical-align: middle;\n",
       "    }\n",
       "\n",
       "    .dataframe tbody tr th {\n",
       "        vertical-align: top;\n",
       "    }\n",
       "\n",
       "    .dataframe thead th {\n",
       "        text-align: right;\n",
       "    }\n",
       "</style>\n",
       "<table border=\"1\" class=\"dataframe\">\n",
       "  <thead>\n",
       "    <tr style=\"text-align: right;\">\n",
       "      <th></th>\n",
       "      <th>RowNumber</th>\n",
       "      <th>CustomerId</th>\n",
       "      <th>Surname</th>\n",
       "      <th>CreditScore</th>\n",
       "      <th>Age</th>\n",
       "      <th>Tenure</th>\n",
       "      <th>Balance</th>\n",
       "      <th>NumOfProducts</th>\n",
       "      <th>HasCrCard</th>\n",
       "      <th>IsActiveMember</th>\n",
       "      <th>EstimatedSalary</th>\n",
       "      <th>Exited</th>\n",
       "      <th>Geography_isFrance</th>\n",
       "      <th>Geography_isGermany</th>\n",
       "      <th>Geography_isSpain</th>\n",
       "      <th>Gender_isFemale</th>\n",
       "      <th>Gender_isMale</th>\n",
       "    </tr>\n",
       "  </thead>\n",
       "  <tbody>\n",
       "    <tr>\n",
       "      <th>3455</th>\n",
       "      <td>3456</td>\n",
       "      <td>15580988</td>\n",
       "      <td>2006</td>\n",
       "      <td>842</td>\n",
       "      <td>29</td>\n",
       "      <td>8</td>\n",
       "      <td>0.00</td>\n",
       "      <td>2</td>\n",
       "      <td>1</td>\n",
       "      <td>1</td>\n",
       "      <td>123437.05</td>\n",
       "      <td>0</td>\n",
       "      <td>1</td>\n",
       "      <td>0</td>\n",
       "      <td>0</td>\n",
       "      <td>0</td>\n",
       "      <td>1</td>\n",
       "    </tr>\n",
       "    <tr>\n",
       "      <th>1147</th>\n",
       "      <td>1148</td>\n",
       "      <td>15671209</td>\n",
       "      <td>1192</td>\n",
       "      <td>593</td>\n",
       "      <td>29</td>\n",
       "      <td>5</td>\n",
       "      <td>101713.84</td>\n",
       "      <td>3</td>\n",
       "      <td>1</td>\n",
       "      <td>0</td>\n",
       "      <td>134594.99</td>\n",
       "      <td>0</td>\n",
       "      <td>0</td>\n",
       "      <td>1</td>\n",
       "      <td>0</td>\n",
       "      <td>1</td>\n",
       "      <td>0</td>\n",
       "    </tr>\n",
       "    <tr>\n",
       "      <th>7802</th>\n",
       "      <td>7803</td>\n",
       "      <td>15717962</td>\n",
       "      <td>442</td>\n",
       "      <td>773</td>\n",
       "      <td>63</td>\n",
       "      <td>9</td>\n",
       "      <td>111179.83</td>\n",
       "      <td>1</td>\n",
       "      <td>1</td>\n",
       "      <td>1</td>\n",
       "      <td>93091.02</td>\n",
       "      <td>0</td>\n",
       "      <td>0</td>\n",
       "      <td>0</td>\n",
       "      <td>1</td>\n",
       "      <td>0</td>\n",
       "      <td>1</td>\n",
       "    </tr>\n",
       "    <tr>\n",
       "      <th>6436</th>\n",
       "      <td>6437</td>\n",
       "      <td>15723216</td>\n",
       "      <td>1055</td>\n",
       "      <td>623</td>\n",
       "      <td>33</td>\n",
       "      <td>2</td>\n",
       "      <td>80002.33</td>\n",
       "      <td>1</td>\n",
       "      <td>1</td>\n",
       "      <td>1</td>\n",
       "      <td>104079.62</td>\n",
       "      <td>0</td>\n",
       "      <td>0</td>\n",
       "      <td>1</td>\n",
       "      <td>0</td>\n",
       "      <td>0</td>\n",
       "      <td>1</td>\n",
       "    </tr>\n",
       "    <tr>\n",
       "      <th>9815</th>\n",
       "      <td>9816</td>\n",
       "      <td>15745431</td>\n",
       "      <td>521</td>\n",
       "      <td>604</td>\n",
       "      <td>34</td>\n",
       "      <td>7</td>\n",
       "      <td>0.00</td>\n",
       "      <td>2</td>\n",
       "      <td>1</td>\n",
       "      <td>1</td>\n",
       "      <td>188078.55</td>\n",
       "      <td>0</td>\n",
       "      <td>1</td>\n",
       "      <td>0</td>\n",
       "      <td>0</td>\n",
       "      <td>0</td>\n",
       "      <td>1</td>\n",
       "    </tr>\n",
       "    <tr>\n",
       "      <th>...</th>\n",
       "      <td>...</td>\n",
       "      <td>...</td>\n",
       "      <td>...</td>\n",
       "      <td>...</td>\n",
       "      <td>...</td>\n",
       "      <td>...</td>\n",
       "      <td>...</td>\n",
       "      <td>...</td>\n",
       "      <td>...</td>\n",
       "      <td>...</td>\n",
       "      <td>...</td>\n",
       "      <td>...</td>\n",
       "      <td>...</td>\n",
       "      <td>...</td>\n",
       "      <td>...</td>\n",
       "      <td>...</td>\n",
       "      <td>...</td>\n",
       "    </tr>\n",
       "    <tr>\n",
       "      <th>294</th>\n",
       "      <td>295</td>\n",
       "      <td>15785819</td>\n",
       "      <td>2416</td>\n",
       "      <td>681</td>\n",
       "      <td>38</td>\n",
       "      <td>3</td>\n",
       "      <td>0.00</td>\n",
       "      <td>2</td>\n",
       "      <td>1</td>\n",
       "      <td>1</td>\n",
       "      <td>112491.96</td>\n",
       "      <td>0</td>\n",
       "      <td>1</td>\n",
       "      <td>0</td>\n",
       "      <td>0</td>\n",
       "      <td>0</td>\n",
       "      <td>1</td>\n",
       "    </tr>\n",
       "    <tr>\n",
       "      <th>4421</th>\n",
       "      <td>4422</td>\n",
       "      <td>15698758</td>\n",
       "      <td>2047</td>\n",
       "      <td>630</td>\n",
       "      <td>31</td>\n",
       "      <td>1</td>\n",
       "      <td>0.00</td>\n",
       "      <td>2</td>\n",
       "      <td>1</td>\n",
       "      <td>1</td>\n",
       "      <td>169802.73</td>\n",
       "      <td>0</td>\n",
       "      <td>0</td>\n",
       "      <td>0</td>\n",
       "      <td>1</td>\n",
       "      <td>1</td>\n",
       "      <td>0</td>\n",
       "    </tr>\n",
       "    <tr>\n",
       "      <th>3772</th>\n",
       "      <td>3773</td>\n",
       "      <td>15699486</td>\n",
       "      <td>1335</td>\n",
       "      <td>745</td>\n",
       "      <td>34</td>\n",
       "      <td>7</td>\n",
       "      <td>132944.53</td>\n",
       "      <td>1</td>\n",
       "      <td>1</td>\n",
       "      <td>1</td>\n",
       "      <td>31802.92</td>\n",
       "      <td>0</td>\n",
       "      <td>0</td>\n",
       "      <td>0</td>\n",
       "      <td>1</td>\n",
       "      <td>0</td>\n",
       "      <td>1</td>\n",
       "    </tr>\n",
       "    <tr>\n",
       "      <th>702</th>\n",
       "      <td>703</td>\n",
       "      <td>15603436</td>\n",
       "      <td>2376</td>\n",
       "      <td>594</td>\n",
       "      <td>49</td>\n",
       "      <td>2</td>\n",
       "      <td>126615.94</td>\n",
       "      <td>2</td>\n",
       "      <td>0</td>\n",
       "      <td>1</td>\n",
       "      <td>123214.74</td>\n",
       "      <td>0</td>\n",
       "      <td>0</td>\n",
       "      <td>0</td>\n",
       "      <td>1</td>\n",
       "      <td>1</td>\n",
       "      <td>0</td>\n",
       "    </tr>\n",
       "    <tr>\n",
       "      <th>464</th>\n",
       "      <td>465</td>\n",
       "      <td>15613786</td>\n",
       "      <td>2010</td>\n",
       "      <td>818</td>\n",
       "      <td>26</td>\n",
       "      <td>4</td>\n",
       "      <td>0.00</td>\n",
       "      <td>2</td>\n",
       "      <td>1</td>\n",
       "      <td>1</td>\n",
       "      <td>167036.94</td>\n",
       "      <td>0</td>\n",
       "      <td>0</td>\n",
       "      <td>0</td>\n",
       "      <td>1</td>\n",
       "      <td>0</td>\n",
       "      <td>1</td>\n",
       "    </tr>\n",
       "  </tbody>\n",
       "</table>\n",
       "<p>1630 rows × 17 columns</p>\n",
       "</div>"
      ],
      "text/plain": [
       "      RowNumber  CustomerId  Surname  CreditScore  Age  Tenure    Balance  \\\n",
       "3455       3456    15580988     2006          842   29       8       0.00   \n",
       "1147       1148    15671209     1192          593   29       5  101713.84   \n",
       "7802       7803    15717962      442          773   63       9  111179.83   \n",
       "6436       6437    15723216     1055          623   33       2   80002.33   \n",
       "9815       9816    15745431      521          604   34       7       0.00   \n",
       "...         ...         ...      ...          ...  ...     ...        ...   \n",
       "294         295    15785819     2416          681   38       3       0.00   \n",
       "4421       4422    15698758     2047          630   31       1       0.00   \n",
       "3772       3773    15699486     1335          745   34       7  132944.53   \n",
       "702         703    15603436     2376          594   49       2  126615.94   \n",
       "464         465    15613786     2010          818   26       4       0.00   \n",
       "\n",
       "      NumOfProducts  HasCrCard  IsActiveMember  EstimatedSalary  Exited  \\\n",
       "3455              2          1               1        123437.05       0   \n",
       "1147              3          1               0        134594.99       0   \n",
       "7802              1          1               1         93091.02       0   \n",
       "6436              1          1               1        104079.62       0   \n",
       "9815              2          1               1        188078.55       0   \n",
       "...             ...        ...             ...              ...     ...   \n",
       "294               2          1               1        112491.96       0   \n",
       "4421              2          1               1        169802.73       0   \n",
       "3772              1          1               1         31802.92       0   \n",
       "702               2          0               1        123214.74       0   \n",
       "464               2          1               1        167036.94       0   \n",
       "\n",
       "      Geography_isFrance  Geography_isGermany  Geography_isSpain  \\\n",
       "3455                   1                    0                  0   \n",
       "1147                   0                    1                  0   \n",
       "7802                   0                    0                  1   \n",
       "6436                   0                    1                  0   \n",
       "9815                   1                    0                  0   \n",
       "...                  ...                  ...                ...   \n",
       "294                    1                    0                  0   \n",
       "4421                   0                    0                  1   \n",
       "3772                   0                    0                  1   \n",
       "702                    0                    0                  1   \n",
       "464                    0                    0                  1   \n",
       "\n",
       "      Gender_isFemale  Gender_isMale  \n",
       "3455                0              1  \n",
       "1147                1              0  \n",
       "7802                0              1  \n",
       "6436                0              1  \n",
       "9815                0              1  \n",
       "...               ...            ...  \n",
       "294                 0              1  \n",
       "4421                1              0  \n",
       "3772                0              1  \n",
       "702                 1              0  \n",
       "464                 0              1  \n",
       "\n",
       "[1630 rows x 17 columns]"
      ]
     },
     "execution_count": 214,
     "metadata": {},
     "output_type": "execute_result"
    }
   ],
   "source": [
    "train_zeros"
   ]
  },
  {
   "cell_type": "code",
   "execution_count": 215,
   "metadata": {},
   "outputs": [],
   "source": [
    "train_ones = train.loc[(train[output] == 1),:]"
   ]
  },
  {
   "cell_type": "code",
   "execution_count": 216,
   "metadata": {},
   "outputs": [
    {
     "data": {
      "text/html": [
       "<div>\n",
       "<style scoped>\n",
       "    .dataframe tbody tr th:only-of-type {\n",
       "        vertical-align: middle;\n",
       "    }\n",
       "\n",
       "    .dataframe tbody tr th {\n",
       "        vertical-align: top;\n",
       "    }\n",
       "\n",
       "    .dataframe thead th {\n",
       "        text-align: right;\n",
       "    }\n",
       "</style>\n",
       "<table border=\"1\" class=\"dataframe\">\n",
       "  <thead>\n",
       "    <tr style=\"text-align: right;\">\n",
       "      <th></th>\n",
       "      <th>RowNumber</th>\n",
       "      <th>CustomerId</th>\n",
       "      <th>Surname</th>\n",
       "      <th>CreditScore</th>\n",
       "      <th>Age</th>\n",
       "      <th>Tenure</th>\n",
       "      <th>Balance</th>\n",
       "      <th>NumOfProducts</th>\n",
       "      <th>HasCrCard</th>\n",
       "      <th>IsActiveMember</th>\n",
       "      <th>EstimatedSalary</th>\n",
       "      <th>Exited</th>\n",
       "      <th>Geography_isFrance</th>\n",
       "      <th>Geography_isGermany</th>\n",
       "      <th>Geography_isSpain</th>\n",
       "      <th>Gender_isFemale</th>\n",
       "      <th>Gender_isMale</th>\n",
       "    </tr>\n",
       "  </thead>\n",
       "  <tbody>\n",
       "    <tr>\n",
       "      <th>2151</th>\n",
       "      <td>2152</td>\n",
       "      <td>15588614</td>\n",
       "      <td>2761</td>\n",
       "      <td>753</td>\n",
       "      <td>57</td>\n",
       "      <td>7</td>\n",
       "      <td>0.00</td>\n",
       "      <td>1</td>\n",
       "      <td>1</td>\n",
       "      <td>0</td>\n",
       "      <td>159475.08</td>\n",
       "      <td>1</td>\n",
       "      <td>1</td>\n",
       "      <td>0</td>\n",
       "      <td>0</td>\n",
       "      <td>0</td>\n",
       "      <td>1</td>\n",
       "    </tr>\n",
       "    <tr>\n",
       "      <th>8392</th>\n",
       "      <td>8393</td>\n",
       "      <td>15641158</td>\n",
       "      <td>211</td>\n",
       "      <td>739</td>\n",
       "      <td>32</td>\n",
       "      <td>3</td>\n",
       "      <td>102128.27</td>\n",
       "      <td>1</td>\n",
       "      <td>1</td>\n",
       "      <td>0</td>\n",
       "      <td>63981.37</td>\n",
       "      <td>1</td>\n",
       "      <td>0</td>\n",
       "      <td>1</td>\n",
       "      <td>0</td>\n",
       "      <td>0</td>\n",
       "      <td>1</td>\n",
       "    </tr>\n",
       "    <tr>\n",
       "      <th>8783</th>\n",
       "      <td>8784</td>\n",
       "      <td>15617052</td>\n",
       "      <td>2776</td>\n",
       "      <td>782</td>\n",
       "      <td>34</td>\n",
       "      <td>9</td>\n",
       "      <td>0.00</td>\n",
       "      <td>1</td>\n",
       "      <td>1</td>\n",
       "      <td>0</td>\n",
       "      <td>183021.06</td>\n",
       "      <td>1</td>\n",
       "      <td>1</td>\n",
       "      <td>0</td>\n",
       "      <td>0</td>\n",
       "      <td>0</td>\n",
       "      <td>1</td>\n",
       "    </tr>\n",
       "    <tr>\n",
       "      <th>4839</th>\n",
       "      <td>4840</td>\n",
       "      <td>15649150</td>\n",
       "      <td>355</td>\n",
       "      <td>531</td>\n",
       "      <td>53</td>\n",
       "      <td>5</td>\n",
       "      <td>127642.44</td>\n",
       "      <td>1</td>\n",
       "      <td>1</td>\n",
       "      <td>0</td>\n",
       "      <td>141501.45</td>\n",
       "      <td>1</td>\n",
       "      <td>1</td>\n",
       "      <td>0</td>\n",
       "      <td>0</td>\n",
       "      <td>1</td>\n",
       "      <td>0</td>\n",
       "    </tr>\n",
       "    <tr>\n",
       "      <th>5936</th>\n",
       "      <td>5937</td>\n",
       "      <td>15773723</td>\n",
       "      <td>765</td>\n",
       "      <td>588</td>\n",
       "      <td>22</td>\n",
       "      <td>9</td>\n",
       "      <td>67178.19</td>\n",
       "      <td>1</td>\n",
       "      <td>1</td>\n",
       "      <td>1</td>\n",
       "      <td>163534.75</td>\n",
       "      <td>1</td>\n",
       "      <td>0</td>\n",
       "      <td>0</td>\n",
       "      <td>1</td>\n",
       "      <td>1</td>\n",
       "      <td>0</td>\n",
       "    </tr>\n",
       "    <tr>\n",
       "      <th>...</th>\n",
       "      <td>...</td>\n",
       "      <td>...</td>\n",
       "      <td>...</td>\n",
       "      <td>...</td>\n",
       "      <td>...</td>\n",
       "      <td>...</td>\n",
       "      <td>...</td>\n",
       "      <td>...</td>\n",
       "      <td>...</td>\n",
       "      <td>...</td>\n",
       "      <td>...</td>\n",
       "      <td>...</td>\n",
       "      <td>...</td>\n",
       "      <td>...</td>\n",
       "      <td>...</td>\n",
       "      <td>...</td>\n",
       "      <td>...</td>\n",
       "    </tr>\n",
       "    <tr>\n",
       "      <th>8007</th>\n",
       "      <td>8008</td>\n",
       "      <td>15791513</td>\n",
       "      <td>1668</td>\n",
       "      <td>647</td>\n",
       "      <td>41</td>\n",
       "      <td>4</td>\n",
       "      <td>138937.35</td>\n",
       "      <td>1</td>\n",
       "      <td>1</td>\n",
       "      <td>1</td>\n",
       "      <td>101617.64</td>\n",
       "      <td>1</td>\n",
       "      <td>1</td>\n",
       "      <td>0</td>\n",
       "      <td>0</td>\n",
       "      <td>0</td>\n",
       "      <td>1</td>\n",
       "    </tr>\n",
       "    <tr>\n",
       "      <th>6821</th>\n",
       "      <td>6822</td>\n",
       "      <td>15704209</td>\n",
       "      <td>1957</td>\n",
       "      <td>802</td>\n",
       "      <td>39</td>\n",
       "      <td>7</td>\n",
       "      <td>120145.96</td>\n",
       "      <td>2</td>\n",
       "      <td>0</td>\n",
       "      <td>1</td>\n",
       "      <td>59497.01</td>\n",
       "      <td>1</td>\n",
       "      <td>1</td>\n",
       "      <td>0</td>\n",
       "      <td>0</td>\n",
       "      <td>1</td>\n",
       "      <td>0</td>\n",
       "    </tr>\n",
       "    <tr>\n",
       "      <th>127</th>\n",
       "      <td>128</td>\n",
       "      <td>15782688</td>\n",
       "      <td>2168</td>\n",
       "      <td>625</td>\n",
       "      <td>56</td>\n",
       "      <td>0</td>\n",
       "      <td>148507.24</td>\n",
       "      <td>1</td>\n",
       "      <td>1</td>\n",
       "      <td>0</td>\n",
       "      <td>46824.08</td>\n",
       "      <td>1</td>\n",
       "      <td>0</td>\n",
       "      <td>1</td>\n",
       "      <td>0</td>\n",
       "      <td>0</td>\n",
       "      <td>1</td>\n",
       "    </tr>\n",
       "    <tr>\n",
       "      <th>487</th>\n",
       "      <td>488</td>\n",
       "      <td>15613772</td>\n",
       "      <td>663</td>\n",
       "      <td>542</td>\n",
       "      <td>39</td>\n",
       "      <td>3</td>\n",
       "      <td>135096.77</td>\n",
       "      <td>1</td>\n",
       "      <td>1</td>\n",
       "      <td>1</td>\n",
       "      <td>14353.43</td>\n",
       "      <td>1</td>\n",
       "      <td>1</td>\n",
       "      <td>0</td>\n",
       "      <td>0</td>\n",
       "      <td>0</td>\n",
       "      <td>1</td>\n",
       "    </tr>\n",
       "    <tr>\n",
       "      <th>4555</th>\n",
       "      <td>4556</td>\n",
       "      <td>15733261</td>\n",
       "      <td>1465</td>\n",
       "      <td>688</td>\n",
       "      <td>35</td>\n",
       "      <td>6</td>\n",
       "      <td>0.00</td>\n",
       "      <td>1</td>\n",
       "      <td>1</td>\n",
       "      <td>0</td>\n",
       "      <td>25488.43</td>\n",
       "      <td>1</td>\n",
       "      <td>0</td>\n",
       "      <td>0</td>\n",
       "      <td>1</td>\n",
       "      <td>1</td>\n",
       "      <td>0</td>\n",
       "    </tr>\n",
       "  </tbody>\n",
       "</table>\n",
       "<p>1630 rows × 17 columns</p>\n",
       "</div>"
      ],
      "text/plain": [
       "      RowNumber  CustomerId  Surname  CreditScore  Age  Tenure    Balance  \\\n",
       "2151       2152    15588614     2761          753   57       7       0.00   \n",
       "8392       8393    15641158      211          739   32       3  102128.27   \n",
       "8783       8784    15617052     2776          782   34       9       0.00   \n",
       "4839       4840    15649150      355          531   53       5  127642.44   \n",
       "5936       5937    15773723      765          588   22       9   67178.19   \n",
       "...         ...         ...      ...          ...  ...     ...        ...   \n",
       "8007       8008    15791513     1668          647   41       4  138937.35   \n",
       "6821       6822    15704209     1957          802   39       7  120145.96   \n",
       "127         128    15782688     2168          625   56       0  148507.24   \n",
       "487         488    15613772      663          542   39       3  135096.77   \n",
       "4555       4556    15733261     1465          688   35       6       0.00   \n",
       "\n",
       "      NumOfProducts  HasCrCard  IsActiveMember  EstimatedSalary  Exited  \\\n",
       "2151              1          1               0        159475.08       1   \n",
       "8392              1          1               0         63981.37       1   \n",
       "8783              1          1               0        183021.06       1   \n",
       "4839              1          1               0        141501.45       1   \n",
       "5936              1          1               1        163534.75       1   \n",
       "...             ...        ...             ...              ...     ...   \n",
       "8007              1          1               1        101617.64       1   \n",
       "6821              2          0               1         59497.01       1   \n",
       "127               1          1               0         46824.08       1   \n",
       "487               1          1               1         14353.43       1   \n",
       "4555              1          1               0         25488.43       1   \n",
       "\n",
       "      Geography_isFrance  Geography_isGermany  Geography_isSpain  \\\n",
       "2151                   1                    0                  0   \n",
       "8392                   0                    1                  0   \n",
       "8783                   1                    0                  0   \n",
       "4839                   1                    0                  0   \n",
       "5936                   0                    0                  1   \n",
       "...                  ...                  ...                ...   \n",
       "8007                   1                    0                  0   \n",
       "6821                   1                    0                  0   \n",
       "127                    0                    1                  0   \n",
       "487                    1                    0                  0   \n",
       "4555                   0                    0                  1   \n",
       "\n",
       "      Gender_isFemale  Gender_isMale  \n",
       "2151                0              1  \n",
       "8392                0              1  \n",
       "8783                0              1  \n",
       "4839                1              0  \n",
       "5936                1              0  \n",
       "...               ...            ...  \n",
       "8007                0              1  \n",
       "6821                1              0  \n",
       "127                 0              1  \n",
       "487                 0              1  \n",
       "4555                1              0  \n",
       "\n",
       "[1630 rows x 17 columns]"
      ]
     },
     "execution_count": 216,
     "metadata": {},
     "output_type": "execute_result"
    }
   ],
   "source": [
    "train_ones"
   ]
  },
  {
   "cell_type": "code",
   "execution_count": 217,
   "metadata": {},
   "outputs": [],
   "source": [
    "train_balanced = pd.concat([train_zeros, train_ones])"
   ]
  },
  {
   "cell_type": "code",
   "execution_count": 218,
   "metadata": {},
   "outputs": [
    {
     "data": {
      "text/plain": [
       "<AxesSubplot:>"
      ]
     },
     "execution_count": 218,
     "metadata": {},
     "output_type": "execute_result"
    },
    {
     "data": {
      "image/png": "[encoded data removed]",
      "text/plain": [
       "<Figure size 432x288 with 1 Axes>"
      ]
     },
     "metadata": {
      "needs_background": "light"
     },
     "output_type": "display_data"
    }
   ],
   "source": [
    "train_balanced[output].value_counts().plot.barh()"
   ]
  },
  {
   "cell_type": "markdown",
   "metadata": {},
   "source": [
    " Undersampling pode acarretar na perda de observações importante para o modelo, oversampling criará observações sintéticas que não ocorrem na mesma proporção \"natural\" do fenômeno. Dessa forma, sugere-se testar as metodologias de reamostragem, parametrização de modelos e threshold para entender qual irá funcionar para o problema em questão."
   ]
  },
  {
   "cell_type": "markdown",
   "metadata": {},
   "source": [
    "# Indo além"
   ]
  },
  {
   "cell_type": "markdown",
   "metadata": {},
   "source": [
    "## Efeito do Threshold de classificação"
   ]
  },
  {
   "cell_type": "markdown",
   "metadata": {},
   "source": [
    "Falamos sobre escolher os melhores hiperparâmetros de um modelo, técnicas para tratar classes não balanceadas, mas não falamos sobre o efeito do Threshold no desempenho do modelo. Pelo sklearn, as probabilidades são convertidas em classe 0 ou 1 utilizando um Threshold padrão de 0.5. Ou seja, valores com probabilidade > 50% são classe 1"
   ]
  },
  {
   "cell_type": "markdown",
   "metadata": {},
   "source": [
    "Quanto temos classes desbalanceadas, otimizar esse threshold pode ser útil:"
   ]
  },
  {
   "cell_type": "code",
   "execution_count": 219,
   "metadata": {},
   "outputs": [
    {
     "name": "stderr",
     "output_type": "stream",
     "text": [
      "The use of label encoder in XGBClassifier is deprecated and will be removed in a future release. To remove this warning, do the following: 1) Pass option use_label_encoder=False when constructing XGBClassifier object; and 2) Encode your labels (y) as integers starting with 0, i.e. 0, 1, 2, ..., [num_class - 1].\n"
     ]
    },
    {
     "name": "stdout",
     "output_type": "stream",
     "text": [
      "[21:11:48] WARNING: C:/Users/Administrator/workspace/xgboost-win64_release_1.4.0/src/learner.cc:1095: Starting in XGBoost 1.3.0, the default evaluation metric used with the objective 'binary:logistic' was changed from 'error' to 'logloss'. Explicitly set eval_metric if you'd like to restore the old behavior.\n"
     ]
    },
    {
     "name": "stderr",
     "output_type": "stream",
     "text": [
      "The use of label encoder in XGBClassifier is deprecated and will be removed in a future release. To remove this warning, do the following: 1) Pass option use_label_encoder=False when constructing XGBClassifier object; and 2) Encode your labels (y) as integers starting with 0, i.e. 0, 1, 2, ..., [num_class - 1].\n"
     ]
    },
    {
     "name": "stdout",
     "output_type": "stream",
     "text": [
      "[21:11:49] WARNING: C:/Users/Administrator/workspace/xgboost-win64_release_1.4.0/src/learner.cc:1095: Starting in XGBoost 1.3.0, the default evaluation metric used with the objective 'binary:logistic' was changed from 'error' to 'logloss'. Explicitly set eval_metric if you'd like to restore the old behavior.\n"
     ]
    },
    {
     "name": "stderr",
     "output_type": "stream",
     "text": [
      "The use of label encoder in XGBClassifier is deprecated and will be removed in a future release. To remove this warning, do the following: 1) Pass option use_label_encoder=False when constructing XGBClassifier object; and 2) Encode your labels (y) as integers starting with 0, i.e. 0, 1, 2, ..., [num_class - 1].\n"
     ]
    },
    {
     "name": "stdout",
     "output_type": "stream",
     "text": [
      "[21:11:49] WARNING: C:/Users/Administrator/workspace/xgboost-win64_release_1.4.0/src/learner.cc:1095: Starting in XGBoost 1.3.0, the default evaluation metric used with the objective 'binary:logistic' was changed from 'error' to 'logloss'. Explicitly set eval_metric if you'd like to restore the old behavior.\n"
     ]
    },
    {
     "name": "stderr",
     "output_type": "stream",
     "text": [
      "The use of label encoder in XGBClassifier is deprecated and will be removed in a future release. To remove this warning, do the following: 1) Pass option use_label_encoder=False when constructing XGBClassifier object; and 2) Encode your labels (y) as integers starting with 0, i.e. 0, 1, 2, ..., [num_class - 1].\n"
     ]
    },
    {
     "name": "stdout",
     "output_type": "stream",
     "text": [
      "[21:11:50] WARNING: C:/Users/Administrator/workspace/xgboost-win64_release_1.4.0/src/learner.cc:1095: Starting in XGBoost 1.3.0, the default evaluation metric used with the objective 'binary:logistic' was changed from 'error' to 'logloss'. Explicitly set eval_metric if you'd like to restore the old behavior.\n"
     ]
    },
    {
     "name": "stderr",
     "output_type": "stream",
     "text": [
      "The use of label encoder in XGBClassifier is deprecated and will be removed in a future release. To remove this warning, do the following: 1) Pass option use_label_encoder=False when constructing XGBClassifier object; and 2) Encode your labels (y) as integers starting with 0, i.e. 0, 1, 2, ..., [num_class - 1].\n"
     ]
    },
    {
     "name": "stdout",
     "output_type": "stream",
     "text": [
      "[21:11:50] WARNING: C:/Users/Administrator/workspace/xgboost-win64_release_1.4.0/src/learner.cc:1095: Starting in XGBoost 1.3.0, the default evaluation metric used with the objective 'binary:logistic' was changed from 'error' to 'logloss'. Explicitly set eval_metric if you'd like to restore the old behavior.\n"
     ]
    },
    {
     "name": "stderr",
     "output_type": "stream",
     "text": [
      "The use of label encoder in XGBClassifier is deprecated and will be removed in a future release. To remove this warning, do the following: 1) Pass option use_label_encoder=False when constructing XGBClassifier object; and 2) Encode your labels (y) as integers starting with 0, i.e. 0, 1, 2, ..., [num_class - 1].\n"
     ]
    },
    {
     "name": "stdout",
     "output_type": "stream",
     "text": [
      "[21:11:51] WARNING: C:/Users/Administrator/workspace/xgboost-win64_release_1.4.0/src/learner.cc:1095: Starting in XGBoost 1.3.0, the default evaluation metric used with the objective 'binary:logistic' was changed from 'error' to 'logloss'. Explicitly set eval_metric if you'd like to restore the old behavior.\n"
     ]
    },
    {
     "name": "stderr",
     "output_type": "stream",
     "text": [
      "The use of label encoder in XGBClassifier is deprecated and will be removed in a future release. To remove this warning, do the following: 1) Pass option use_label_encoder=False when constructing XGBClassifier object; and 2) Encode your labels (y) as integers starting with 0, i.e. 0, 1, 2, ..., [num_class - 1].\n"
     ]
    },
    {
     "name": "stdout",
     "output_type": "stream",
     "text": [
      "[21:11:51] WARNING: C:/Users/Administrator/workspace/xgboost-win64_release_1.4.0/src/learner.cc:1095: Starting in XGBoost 1.3.0, the default evaluation metric used with the objective 'binary:logistic' was changed from 'error' to 'logloss'. Explicitly set eval_metric if you'd like to restore the old behavior.\n"
     ]
    },
    {
     "name": "stderr",
     "output_type": "stream",
     "text": [
      "The use of label encoder in XGBClassifier is deprecated and will be removed in a future release. To remove this warning, do the following: 1) Pass option use_label_encoder=False when constructing XGBClassifier object; and 2) Encode your labels (y) as integers starting with 0, i.e. 0, 1, 2, ..., [num_class - 1].\n"
     ]
    },
    {
     "name": "stdout",
     "output_type": "stream",
     "text": [
      "[21:11:52] WARNING: C:/Users/Administrator/workspace/xgboost-win64_release_1.4.0/src/learner.cc:1095: Starting in XGBoost 1.3.0, the default evaluation metric used with the objective 'binary:logistic' was changed from 'error' to 'logloss'. Explicitly set eval_metric if you'd like to restore the old behavior.\n"
     ]
    },
    {
     "name": "stderr",
     "output_type": "stream",
     "text": [
      "The use of label encoder in XGBClassifier is deprecated and will be removed in a future release. To remove this warning, do the following: 1) Pass option use_label_encoder=False when constructing XGBClassifier object; and 2) Encode your labels (y) as integers starting with 0, i.e. 0, 1, 2, ..., [num_class - 1].\n"
     ]
    },
    {
     "name": "stdout",
     "output_type": "stream",
     "text": [
      "[21:11:52] WARNING: C:/Users/Administrator/workspace/xgboost-win64_release_1.4.0/src/learner.cc:1095: Starting in XGBoost 1.3.0, the default evaluation metric used with the objective 'binary:logistic' was changed from 'error' to 'logloss'. Explicitly set eval_metric if you'd like to restore the old behavior.\n"
     ]
    },
    {
     "name": "stderr",
     "output_type": "stream",
     "text": [
      "The use of label encoder in XGBClassifier is deprecated and will be removed in a future release. To remove this warning, do the following: 1) Pass option use_label_encoder=False when constructing XGBClassifier object; and 2) Encode your labels (y) as integers starting with 0, i.e. 0, 1, 2, ..., [num_class - 1].\n"
     ]
    },
    {
     "name": "stdout",
     "output_type": "stream",
     "text": [
      "[21:11:53] WARNING: C:/Users/Administrator/workspace/xgboost-win64_release_1.4.0/src/learner.cc:1095: Starting in XGBoost 1.3.0, the default evaluation metric used with the objective 'binary:logistic' was changed from 'error' to 'logloss'. Explicitly set eval_metric if you'd like to restore the old behavior.\n"
     ]
    },
    {
     "name": "stderr",
     "output_type": "stream",
     "text": [
      "The use of label encoder in XGBClassifier is deprecated and will be removed in a future release. To remove this warning, do the following: 1) Pass option use_label_encoder=False when constructing XGBClassifier object; and 2) Encode your labels (y) as integers starting with 0, i.e. 0, 1, 2, ..., [num_class - 1].\n"
     ]
    },
    {
     "name": "stdout",
     "output_type": "stream",
     "text": [
      "[21:11:54] WARNING: C:/Users/Administrator/workspace/xgboost-win64_release_1.4.0/src/learner.cc:1095: Starting in XGBoost 1.3.0, the default evaluation metric used with the objective 'binary:logistic' was changed from 'error' to 'logloss'. Explicitly set eval_metric if you'd like to restore the old behavior.\n"
     ]
    },
    {
     "name": "stderr",
     "output_type": "stream",
     "text": [
      "The use of label encoder in XGBClassifier is deprecated and will be removed in a future release. To remove this warning, do the following: 1) Pass option use_label_encoder=False when constructing XGBClassifier object; and 2) Encode your labels (y) as integers starting with 0, i.e. 0, 1, 2, ..., [num_class - 1].\n"
     ]
    },
    {
     "name": "stdout",
     "output_type": "stream",
     "text": [
      "[21:11:54] WARNING: C:/Users/Administrator/workspace/xgboost-win64_release_1.4.0/src/learner.cc:1095: Starting in XGBoost 1.3.0, the default evaluation metric used with the objective 'binary:logistic' was changed from 'error' to 'logloss'. Explicitly set eval_metric if you'd like to restore the old behavior.\n"
     ]
    },
    {
     "name": "stderr",
     "output_type": "stream",
     "text": [
      "The use of label encoder in XGBClassifier is deprecated and will be removed in a future release. To remove this warning, do the following: 1) Pass option use_label_encoder=False when constructing XGBClassifier object; and 2) Encode your labels (y) as integers starting with 0, i.e. 0, 1, 2, ..., [num_class - 1].\n"
     ]
    },
    {
     "name": "stdout",
     "output_type": "stream",
     "text": [
      "[21:11:55] WARNING: C:/Users/Administrator/workspace/xgboost-win64_release_1.4.0/src/learner.cc:1095: Starting in XGBoost 1.3.0, the default evaluation metric used with the objective 'binary:logistic' was changed from 'error' to 'logloss'. Explicitly set eval_metric if you'd like to restore the old behavior.\n"
     ]
    },
    {
     "name": "stderr",
     "output_type": "stream",
     "text": [
      "The use of label encoder in XGBClassifier is deprecated and will be removed in a future release. To remove this warning, do the following: 1) Pass option use_label_encoder=False when constructing XGBClassifier object; and 2) Encode your labels (y) as integers starting with 0, i.e. 0, 1, 2, ..., [num_class - 1].\n"
     ]
    },
    {
     "name": "stdout",
     "output_type": "stream",
     "text": [
      "[21:11:55] WARNING: C:/Users/Administrator/workspace/xgboost-win64_release_1.4.0/src/learner.cc:1095: Starting in XGBoost 1.3.0, the default evaluation metric used with the objective 'binary:logistic' was changed from 'error' to 'logloss'. Explicitly set eval_metric if you'd like to restore the old behavior.\n"
     ]
    },
    {
     "name": "stderr",
     "output_type": "stream",
     "text": [
      "The use of label encoder in XGBClassifier is deprecated and will be removed in a future release. To remove this warning, do the following: 1) Pass option use_label_encoder=False when constructing XGBClassifier object; and 2) Encode your labels (y) as integers starting with 0, i.e. 0, 1, 2, ..., [num_class - 1].\n"
     ]
    },
    {
     "name": "stdout",
     "output_type": "stream",
     "text": [
      "[21:11:56] WARNING: C:/Users/Administrator/workspace/xgboost-win64_release_1.4.0/src/learner.cc:1095: Starting in XGBoost 1.3.0, the default evaluation metric used with the objective 'binary:logistic' was changed from 'error' to 'logloss'. Explicitly set eval_metric if you'd like to restore the old behavior.\n"
     ]
    },
    {
     "name": "stderr",
     "output_type": "stream",
     "text": [
      "The use of label encoder in XGBClassifier is deprecated and will be removed in a future release. To remove this warning, do the following: 1) Pass option use_label_encoder=False when constructing XGBClassifier object; and 2) Encode your labels (y) as integers starting with 0, i.e. 0, 1, 2, ..., [num_class - 1].\n"
     ]
    },
    {
     "name": "stdout",
     "output_type": "stream",
     "text": [
      "[21:11:56] WARNING: C:/Users/Administrator/workspace/xgboost-win64_release_1.4.0/src/learner.cc:1095: Starting in XGBoost 1.3.0, the default evaluation metric used with the objective 'binary:logistic' was changed from 'error' to 'logloss'. Explicitly set eval_metric if you'd like to restore the old behavior.\n"
     ]
    },
    {
     "name": "stderr",
     "output_type": "stream",
     "text": [
      "The use of label encoder in XGBClassifier is deprecated and will be removed in a future release. To remove this warning, do the following: 1) Pass option use_label_encoder=False when constructing XGBClassifier object; and 2) Encode your labels (y) as integers starting with 0, i.e. 0, 1, 2, ..., [num_class - 1].\n"
     ]
    },
    {
     "name": "stdout",
     "output_type": "stream",
     "text": [
      "[21:11:57] WARNING: C:/Users/Administrator/workspace/xgboost-win64_release_1.4.0/src/learner.cc:1095: Starting in XGBoost 1.3.0, the default evaluation metric used with the objective 'binary:logistic' was changed from 'error' to 'logloss'. Explicitly set eval_metric if you'd like to restore the old behavior.\n"
     ]
    },
    {
     "name": "stderr",
     "output_type": "stream",
     "text": [
      "The use of label encoder in XGBClassifier is deprecated and will be removed in a future release. To remove this warning, do the following: 1) Pass option use_label_encoder=False when constructing XGBClassifier object; and 2) Encode your labels (y) as integers starting with 0, i.e. 0, 1, 2, ..., [num_class - 1].\n"
     ]
    },
    {
     "name": "stdout",
     "output_type": "stream",
     "text": [
      "[21:11:57] WARNING: C:/Users/Administrator/workspace/xgboost-win64_release_1.4.0/src/learner.cc:1095: Starting in XGBoost 1.3.0, the default evaluation metric used with the objective 'binary:logistic' was changed from 'error' to 'logloss'. Explicitly set eval_metric if you'd like to restore the old behavior.\n"
     ]
    },
    {
     "name": "stderr",
     "output_type": "stream",
     "text": [
      "The use of label encoder in XGBClassifier is deprecated and will be removed in a future release. To remove this warning, do the following: 1) Pass option use_label_encoder=False when constructing XGBClassifier object; and 2) Encode your labels (y) as integers starting with 0, i.e. 0, 1, 2, ..., [num_class - 1].\n"
     ]
    },
    {
     "name": "stdout",
     "output_type": "stream",
     "text": [
      "[21:11:58] WARNING: C:/Users/Administrator/workspace/xgboost-win64_release_1.4.0/src/learner.cc:1095: Starting in XGBoost 1.3.0, the default evaluation metric used with the objective 'binary:logistic' was changed from 'error' to 'logloss'. Explicitly set eval_metric if you'd like to restore the old behavior.\n"
     ]
    },
    {
     "name": "stderr",
     "output_type": "stream",
     "text": [
      "The use of label encoder in XGBClassifier is deprecated and will be removed in a future release. To remove this warning, do the following: 1) Pass option use_label_encoder=False when constructing XGBClassifier object; and 2) Encode your labels (y) as integers starting with 0, i.e. 0, 1, 2, ..., [num_class - 1].\n"
     ]
    },
    {
     "name": "stdout",
     "output_type": "stream",
     "text": [
      "[21:11:58] WARNING: C:/Users/Administrator/workspace/xgboost-win64_release_1.4.0/src/learner.cc:1095: Starting in XGBoost 1.3.0, the default evaluation metric used with the objective 'binary:logistic' was changed from 'error' to 'logloss'. Explicitly set eval_metric if you'd like to restore the old behavior.\n"
     ]
    },
    {
     "name": "stderr",
     "output_type": "stream",
     "text": [
      "The use of label encoder in XGBClassifier is deprecated and will be removed in a future release. To remove this warning, do the following: 1) Pass option use_label_encoder=False when constructing XGBClassifier object; and 2) Encode your labels (y) as integers starting with 0, i.e. 0, 1, 2, ..., [num_class - 1].\n"
     ]
    },
    {
     "name": "stdout",
     "output_type": "stream",
     "text": [
      "[21:11:59] WARNING: C:/Users/Administrator/workspace/xgboost-win64_release_1.4.0/src/learner.cc:1095: Starting in XGBoost 1.3.0, the default evaluation metric used with the objective 'binary:logistic' was changed from 'error' to 'logloss'. Explicitly set eval_metric if you'd like to restore the old behavior.\n"
     ]
    },
    {
     "name": "stderr",
     "output_type": "stream",
     "text": [
      "The use of label encoder in XGBClassifier is deprecated and will be removed in a future release. To remove this warning, do the following: 1) Pass option use_label_encoder=False when constructing XGBClassifier object; and 2) Encode your labels (y) as integers starting with 0, i.e. 0, 1, 2, ..., [num_class - 1].\n"
     ]
    },
    {
     "name": "stdout",
     "output_type": "stream",
     "text": [
      "[21:11:59] WARNING: C:/Users/Administrator/workspace/xgboost-win64_release_1.4.0/src/learner.cc:1095: Starting in XGBoost 1.3.0, the default evaluation metric used with the objective 'binary:logistic' was changed from 'error' to 'logloss'. Explicitly set eval_metric if you'd like to restore the old behavior.\n"
     ]
    },
    {
     "name": "stderr",
     "output_type": "stream",
     "text": [
      "The use of label encoder in XGBClassifier is deprecated and will be removed in a future release. To remove this warning, do the following: 1) Pass option use_label_encoder=False when constructing XGBClassifier object; and 2) Encode your labels (y) as integers starting with 0, i.e. 0, 1, 2, ..., [num_class - 1].\n"
     ]
    },
    {
     "name": "stdout",
     "output_type": "stream",
     "text": [
      "[21:12:00] WARNING: C:/Users/Administrator/workspace/xgboost-win64_release_1.4.0/src/learner.cc:1095: Starting in XGBoost 1.3.0, the default evaluation metric used with the objective 'binary:logistic' was changed from 'error' to 'logloss'. Explicitly set eval_metric if you'd like to restore the old behavior.\n"
     ]
    },
    {
     "name": "stderr",
     "output_type": "stream",
     "text": [
      "The use of label encoder in XGBClassifier is deprecated and will be removed in a future release. To remove this warning, do the following: 1) Pass option use_label_encoder=False when constructing XGBClassifier object; and 2) Encode your labels (y) as integers starting with 0, i.e. 0, 1, 2, ..., [num_class - 1].\n"
     ]
    },
    {
     "name": "stdout",
     "output_type": "stream",
     "text": [
      "[21:12:00] WARNING: C:/Users/Administrator/workspace/xgboost-win64_release_1.4.0/src/learner.cc:1095: Starting in XGBoost 1.3.0, the default evaluation metric used with the objective 'binary:logistic' was changed from 'error' to 'logloss'. Explicitly set eval_metric if you'd like to restore the old behavior.\n"
     ]
    },
    {
     "name": "stderr",
     "output_type": "stream",
     "text": [
      "The use of label encoder in XGBClassifier is deprecated and will be removed in a future release. To remove this warning, do the following: 1) Pass option use_label_encoder=False when constructing XGBClassifier object; and 2) Encode your labels (y) as integers starting with 0, i.e. 0, 1, 2, ..., [num_class - 1].\n"
     ]
    },
    {
     "name": "stdout",
     "output_type": "stream",
     "text": [
      "[21:12:01] WARNING: C:/Users/Administrator/workspace/xgboost-win64_release_1.4.0/src/learner.cc:1095: Starting in XGBoost 1.3.0, the default evaluation metric used with the objective 'binary:logistic' was changed from 'error' to 'logloss'. Explicitly set eval_metric if you'd like to restore the old behavior.\n"
     ]
    },
    {
     "name": "stderr",
     "output_type": "stream",
     "text": [
      "The use of label encoder in XGBClassifier is deprecated and will be removed in a future release. To remove this warning, do the following: 1) Pass option use_label_encoder=False when constructing XGBClassifier object; and 2) Encode your labels (y) as integers starting with 0, i.e. 0, 1, 2, ..., [num_class - 1].\n"
     ]
    },
    {
     "name": "stdout",
     "output_type": "stream",
     "text": [
      "[21:12:01] WARNING: C:/Users/Administrator/workspace/xgboost-win64_release_1.4.0/src/learner.cc:1095: Starting in XGBoost 1.3.0, the default evaluation metric used with the objective 'binary:logistic' was changed from 'error' to 'logloss'. Explicitly set eval_metric if you'd like to restore the old behavior.\n"
     ]
    },
    {
     "name": "stderr",
     "output_type": "stream",
     "text": [
      "The use of label encoder in XGBClassifier is deprecated and will be removed in a future release. To remove this warning, do the following: 1) Pass option use_label_encoder=False when constructing XGBClassifier object; and 2) Encode your labels (y) as integers starting with 0, i.e. 0, 1, 2, ..., [num_class - 1].\n"
     ]
    },
    {
     "name": "stdout",
     "output_type": "stream",
     "text": [
      "[21:12:02] WARNING: C:/Users/Administrator/workspace/xgboost-win64_release_1.4.0/src/learner.cc:1095: Starting in XGBoost 1.3.0, the default evaluation metric used with the objective 'binary:logistic' was changed from 'error' to 'logloss'. Explicitly set eval_metric if you'd like to restore the old behavior.\n"
     ]
    },
    {
     "name": "stderr",
     "output_type": "stream",
     "text": [
      "The use of label encoder in XGBClassifier is deprecated and will be removed in a future release. To remove this warning, do the following: 1) Pass option use_label_encoder=False when constructing XGBClassifier object; and 2) Encode your labels (y) as integers starting with 0, i.e. 0, 1, 2, ..., [num_class - 1].\n"
     ]
    },
    {
     "name": "stdout",
     "output_type": "stream",
     "text": [
      "[21:12:02] WARNING: C:/Users/Administrator/workspace/xgboost-win64_release_1.4.0/src/learner.cc:1095: Starting in XGBoost 1.3.0, the default evaluation metric used with the objective 'binary:logistic' was changed from 'error' to 'logloss'. Explicitly set eval_metric if you'd like to restore the old behavior.\n"
     ]
    },
    {
     "name": "stderr",
     "output_type": "stream",
     "text": [
      "The use of label encoder in XGBClassifier is deprecated and will be removed in a future release. To remove this warning, do the following: 1) Pass option use_label_encoder=False when constructing XGBClassifier object; and 2) Encode your labels (y) as integers starting with 0, i.e. 0, 1, 2, ..., [num_class - 1].\n"
     ]
    },
    {
     "name": "stdout",
     "output_type": "stream",
     "text": [
      "[21:12:03] WARNING: C:/Users/Administrator/workspace/xgboost-win64_release_1.4.0/src/learner.cc:1095: Starting in XGBoost 1.3.0, the default evaluation metric used with the objective 'binary:logistic' was changed from 'error' to 'logloss'. Explicitly set eval_metric if you'd like to restore the old behavior.\n"
     ]
    },
    {
     "name": "stderr",
     "output_type": "stream",
     "text": [
      "The use of label encoder in XGBClassifier is deprecated and will be removed in a future release. To remove this warning, do the following: 1) Pass option use_label_encoder=False when constructing XGBClassifier object; and 2) Encode your labels (y) as integers starting with 0, i.e. 0, 1, 2, ..., [num_class - 1].\n"
     ]
    },
    {
     "name": "stdout",
     "output_type": "stream",
     "text": [
      "[21:12:03] WARNING: C:/Users/Administrator/workspace/xgboost-win64_release_1.4.0/src/learner.cc:1095: Starting in XGBoost 1.3.0, the default evaluation metric used with the objective 'binary:logistic' was changed from 'error' to 'logloss'. Explicitly set eval_metric if you'd like to restore the old behavior.\n"
     ]
    },
    {
     "name": "stderr",
     "output_type": "stream",
     "text": [
      "The use of label encoder in XGBClassifier is deprecated and will be removed in a future release. To remove this warning, do the following: 1) Pass option use_label_encoder=False when constructing XGBClassifier object; and 2) Encode your labels (y) as integers starting with 0, i.e. 0, 1, 2, ..., [num_class - 1].\n"
     ]
    },
    {
     "name": "stdout",
     "output_type": "stream",
     "text": [
      "[21:12:04] WARNING: C:/Users/Administrator/workspace/xgboost-win64_release_1.4.0/src/learner.cc:1095: Starting in XGBoost 1.3.0, the default evaluation metric used with the objective 'binary:logistic' was changed from 'error' to 'logloss'. Explicitly set eval_metric if you'd like to restore the old behavior.\n"
     ]
    },
    {
     "name": "stderr",
     "output_type": "stream",
     "text": [
      "The use of label encoder in XGBClassifier is deprecated and will be removed in a future release. To remove this warning, do the following: 1) Pass option use_label_encoder=False when constructing XGBClassifier object; and 2) Encode your labels (y) as integers starting with 0, i.e. 0, 1, 2, ..., [num_class - 1].\n"
     ]
    },
    {
     "name": "stdout",
     "output_type": "stream",
     "text": [
      "[21:12:04] WARNING: C:/Users/Administrator/workspace/xgboost-win64_release_1.4.0/src/learner.cc:1095: Starting in XGBoost 1.3.0, the default evaluation metric used with the objective 'binary:logistic' was changed from 'error' to 'logloss'. Explicitly set eval_metric if you'd like to restore the old behavior.\n"
     ]
    },
    {
     "name": "stderr",
     "output_type": "stream",
     "text": [
      "The use of label encoder in XGBClassifier is deprecated and will be removed in a future release. To remove this warning, do the following: 1) Pass option use_label_encoder=False when constructing XGBClassifier object; and 2) Encode your labels (y) as integers starting with 0, i.e. 0, 1, 2, ..., [num_class - 1].\n"
     ]
    },
    {
     "name": "stdout",
     "output_type": "stream",
     "text": [
      "[21:12:05] WARNING: C:/Users/Administrator/workspace/xgboost-win64_release_1.4.0/src/learner.cc:1095: Starting in XGBoost 1.3.0, the default evaluation metric used with the objective 'binary:logistic' was changed from 'error' to 'logloss'. Explicitly set eval_metric if you'd like to restore the old behavior.\n"
     ]
    },
    {
     "name": "stderr",
     "output_type": "stream",
     "text": [
      "The use of label encoder in XGBClassifier is deprecated and will be removed in a future release. To remove this warning, do the following: 1) Pass option use_label_encoder=False when constructing XGBClassifier object; and 2) Encode your labels (y) as integers starting with 0, i.e. 0, 1, 2, ..., [num_class - 1].\n"
     ]
    },
    {
     "name": "stdout",
     "output_type": "stream",
     "text": [
      "[21:12:05] WARNING: C:/Users/Administrator/workspace/xgboost-win64_release_1.4.0/src/learner.cc:1095: Starting in XGBoost 1.3.0, the default evaluation metric used with the objective 'binary:logistic' was changed from 'error' to 'logloss'. Explicitly set eval_metric if you'd like to restore the old behavior.\n"
     ]
    },
    {
     "name": "stderr",
     "output_type": "stream",
     "text": [
      "The use of label encoder in XGBClassifier is deprecated and will be removed in a future release. To remove this warning, do the following: 1) Pass option use_label_encoder=False when constructing XGBClassifier object; and 2) Encode your labels (y) as integers starting with 0, i.e. 0, 1, 2, ..., [num_class - 1].\n"
     ]
    },
    {
     "name": "stdout",
     "output_type": "stream",
     "text": [
      "[21:12:06] WARNING: C:/Users/Administrator/workspace/xgboost-win64_release_1.4.0/src/learner.cc:1095: Starting in XGBoost 1.3.0, the default evaluation metric used with the objective 'binary:logistic' was changed from 'error' to 'logloss'. Explicitly set eval_metric if you'd like to restore the old behavior.\n"
     ]
    },
    {
     "name": "stderr",
     "output_type": "stream",
     "text": [
      "The use of label encoder in XGBClassifier is deprecated and will be removed in a future release. To remove this warning, do the following: 1) Pass option use_label_encoder=False when constructing XGBClassifier object; and 2) Encode your labels (y) as integers starting with 0, i.e. 0, 1, 2, ..., [num_class - 1].\n"
     ]
    },
    {
     "name": "stdout",
     "output_type": "stream",
     "text": [
      "[21:12:06] WARNING: C:/Users/Administrator/workspace/xgboost-win64_release_1.4.0/src/learner.cc:1095: Starting in XGBoost 1.3.0, the default evaluation metric used with the objective 'binary:logistic' was changed from 'error' to 'logloss'. Explicitly set eval_metric if you'd like to restore the old behavior.\n"
     ]
    },
    {
     "name": "stderr",
     "output_type": "stream",
     "text": [
      "The use of label encoder in XGBClassifier is deprecated and will be removed in a future release. To remove this warning, do the following: 1) Pass option use_label_encoder=False when constructing XGBClassifier object; and 2) Encode your labels (y) as integers starting with 0, i.e. 0, 1, 2, ..., [num_class - 1].\n"
     ]
    },
    {
     "name": "stdout",
     "output_type": "stream",
     "text": [
      "[21:12:07] WARNING: C:/Users/Administrator/workspace/xgboost-win64_release_1.4.0/src/learner.cc:1095: Starting in XGBoost 1.3.0, the default evaluation metric used with the objective 'binary:logistic' was changed from 'error' to 'logloss'. Explicitly set eval_metric if you'd like to restore the old behavior.\n"
     ]
    },
    {
     "name": "stderr",
     "output_type": "stream",
     "text": [
      "The use of label encoder in XGBClassifier is deprecated and will be removed in a future release. To remove this warning, do the following: 1) Pass option use_label_encoder=False when constructing XGBClassifier object; and 2) Encode your labels (y) as integers starting with 0, i.e. 0, 1, 2, ..., [num_class - 1].\n"
     ]
    },
    {
     "name": "stdout",
     "output_type": "stream",
     "text": [
      "[21:12:08] WARNING: C:/Users/Administrator/workspace/xgboost-win64_release_1.4.0/src/learner.cc:1095: Starting in XGBoost 1.3.0, the default evaluation metric used with the objective 'binary:logistic' was changed from 'error' to 'logloss'. Explicitly set eval_metric if you'd like to restore the old behavior.\n"
     ]
    },
    {
     "name": "stderr",
     "output_type": "stream",
     "text": [
      "The use of label encoder in XGBClassifier is deprecated and will be removed in a future release. To remove this warning, do the following: 1) Pass option use_label_encoder=False when constructing XGBClassifier object; and 2) Encode your labels (y) as integers starting with 0, i.e. 0, 1, 2, ..., [num_class - 1].\n"
     ]
    },
    {
     "name": "stdout",
     "output_type": "stream",
     "text": [
      "[21:12:08] WARNING: C:/Users/Administrator/workspace/xgboost-win64_release_1.4.0/src/learner.cc:1095: Starting in XGBoost 1.3.0, the default evaluation metric used with the objective 'binary:logistic' was changed from 'error' to 'logloss'. Explicitly set eval_metric if you'd like to restore the old behavior.\n"
     ]
    },
    {
     "name": "stderr",
     "output_type": "stream",
     "text": [
      "The use of label encoder in XGBClassifier is deprecated and will be removed in a future release. To remove this warning, do the following: 1) Pass option use_label_encoder=False when constructing XGBClassifier object; and 2) Encode your labels (y) as integers starting with 0, i.e. 0, 1, 2, ..., [num_class - 1].\n"
     ]
    },
    {
     "name": "stdout",
     "output_type": "stream",
     "text": [
      "[21:12:09] WARNING: C:/Users/Administrator/workspace/xgboost-win64_release_1.4.0/src/learner.cc:1095: Starting in XGBoost 1.3.0, the default evaluation metric used with the objective 'binary:logistic' was changed from 'error' to 'logloss'. Explicitly set eval_metric if you'd like to restore the old behavior.\n"
     ]
    },
    {
     "name": "stderr",
     "output_type": "stream",
     "text": [
      "The use of label encoder in XGBClassifier is deprecated and will be removed in a future release. To remove this warning, do the following: 1) Pass option use_label_encoder=False when constructing XGBClassifier object; and 2) Encode your labels (y) as integers starting with 0, i.e. 0, 1, 2, ..., [num_class - 1].\n"
     ]
    },
    {
     "name": "stdout",
     "output_type": "stream",
     "text": [
      "[21:12:09] WARNING: C:/Users/Administrator/workspace/xgboost-win64_release_1.4.0/src/learner.cc:1095: Starting in XGBoost 1.3.0, the default evaluation metric used with the objective 'binary:logistic' was changed from 'error' to 'logloss'. Explicitly set eval_metric if you'd like to restore the old behavior.\n"
     ]
    },
    {
     "name": "stderr",
     "output_type": "stream",
     "text": [
      "The use of label encoder in XGBClassifier is deprecated and will be removed in a future release. To remove this warning, do the following: 1) Pass option use_label_encoder=False when constructing XGBClassifier object; and 2) Encode your labels (y) as integers starting with 0, i.e. 0, 1, 2, ..., [num_class - 1].\n"
     ]
    },
    {
     "name": "stdout",
     "output_type": "stream",
     "text": [
      "[21:12:10] WARNING: C:/Users/Administrator/workspace/xgboost-win64_release_1.4.0/src/learner.cc:1095: Starting in XGBoost 1.3.0, the default evaluation metric used with the objective 'binary:logistic' was changed from 'error' to 'logloss'. Explicitly set eval_metric if you'd like to restore the old behavior.\n"
     ]
    },
    {
     "name": "stderr",
     "output_type": "stream",
     "text": [
      "The use of label encoder in XGBClassifier is deprecated and will be removed in a future release. To remove this warning, do the following: 1) Pass option use_label_encoder=False when constructing XGBClassifier object; and 2) Encode your labels (y) as integers starting with 0, i.e. 0, 1, 2, ..., [num_class - 1].\n"
     ]
    },
    {
     "name": "stdout",
     "output_type": "stream",
     "text": [
      "[21:12:10] WARNING: C:/Users/Administrator/workspace/xgboost-win64_release_1.4.0/src/learner.cc:1095: Starting in XGBoost 1.3.0, the default evaluation metric used with the objective 'binary:logistic' was changed from 'error' to 'logloss'. Explicitly set eval_metric if you'd like to restore the old behavior.\n"
     ]
    },
    {
     "name": "stderr",
     "output_type": "stream",
     "text": [
      "The use of label encoder in XGBClassifier is deprecated and will be removed in a future release. To remove this warning, do the following: 1) Pass option use_label_encoder=False when constructing XGBClassifier object; and 2) Encode your labels (y) as integers starting with 0, i.e. 0, 1, 2, ..., [num_class - 1].\n"
     ]
    },
    {
     "name": "stdout",
     "output_type": "stream",
     "text": [
      "[21:12:11] WARNING: C:/Users/Administrator/workspace/xgboost-win64_release_1.4.0/src/learner.cc:1095: Starting in XGBoost 1.3.0, the default evaluation metric used with the objective 'binary:logistic' was changed from 'error' to 'logloss'. Explicitly set eval_metric if you'd like to restore the old behavior.\n"
     ]
    },
    {
     "name": "stderr",
     "output_type": "stream",
     "text": [
      "The use of label encoder in XGBClassifier is deprecated and will be removed in a future release. To remove this warning, do the following: 1) Pass option use_label_encoder=False when constructing XGBClassifier object; and 2) Encode your labels (y) as integers starting with 0, i.e. 0, 1, 2, ..., [num_class - 1].\n"
     ]
    },
    {
     "name": "stdout",
     "output_type": "stream",
     "text": [
      "[21:12:11] WARNING: C:/Users/Administrator/workspace/xgboost-win64_release_1.4.0/src/learner.cc:1095: Starting in XGBoost 1.3.0, the default evaluation metric used with the objective 'binary:logistic' was changed from 'error' to 'logloss'. Explicitly set eval_metric if you'd like to restore the old behavior.\n"
     ]
    },
    {
     "name": "stderr",
     "output_type": "stream",
     "text": [
      "The use of label encoder in XGBClassifier is deprecated and will be removed in a future release. To remove this warning, do the following: 1) Pass option use_label_encoder=False when constructing XGBClassifier object; and 2) Encode your labels (y) as integers starting with 0, i.e. 0, 1, 2, ..., [num_class - 1].\n"
     ]
    },
    {
     "name": "stdout",
     "output_type": "stream",
     "text": [
      "[21:12:12] WARNING: C:/Users/Administrator/workspace/xgboost-win64_release_1.4.0/src/learner.cc:1095: Starting in XGBoost 1.3.0, the default evaluation metric used with the objective 'binary:logistic' was changed from 'error' to 'logloss'. Explicitly set eval_metric if you'd like to restore the old behavior.\n"
     ]
    },
    {
     "name": "stderr",
     "output_type": "stream",
     "text": [
      "The use of label encoder in XGBClassifier is deprecated and will be removed in a future release. To remove this warning, do the following: 1) Pass option use_label_encoder=False when constructing XGBClassifier object; and 2) Encode your labels (y) as integers starting with 0, i.e. 0, 1, 2, ..., [num_class - 1].\n"
     ]
    },
    {
     "name": "stdout",
     "output_type": "stream",
     "text": [
      "[21:12:12] WARNING: C:/Users/Administrator/workspace/xgboost-win64_release_1.4.0/src/learner.cc:1095: Starting in XGBoost 1.3.0, the default evaluation metric used with the objective 'binary:logistic' was changed from 'error' to 'logloss'. Explicitly set eval_metric if you'd like to restore the old behavior.\n"
     ]
    },
    {
     "name": "stderr",
     "output_type": "stream",
     "text": [
      "The use of label encoder in XGBClassifier is deprecated and will be removed in a future release. To remove this warning, do the following: 1) Pass option use_label_encoder=False when constructing XGBClassifier object; and 2) Encode your labels (y) as integers starting with 0, i.e. 0, 1, 2, ..., [num_class - 1].\n"
     ]
    },
    {
     "name": "stdout",
     "output_type": "stream",
     "text": [
      "[21:12:13] WARNING: C:/Users/Administrator/workspace/xgboost-win64_release_1.4.0/src/learner.cc:1095: Starting in XGBoost 1.3.0, the default evaluation metric used with the objective 'binary:logistic' was changed from 'error' to 'logloss'. Explicitly set eval_metric if you'd like to restore the old behavior.\n"
     ]
    },
    {
     "name": "stderr",
     "output_type": "stream",
     "text": [
      "The use of label encoder in XGBClassifier is deprecated and will be removed in a future release. To remove this warning, do the following: 1) Pass option use_label_encoder=False when constructing XGBClassifier object; and 2) Encode your labels (y) as integers starting with 0, i.e. 0, 1, 2, ..., [num_class - 1].\n"
     ]
    },
    {
     "name": "stdout",
     "output_type": "stream",
     "text": [
      "[21:12:13] WARNING: C:/Users/Administrator/workspace/xgboost-win64_release_1.4.0/src/learner.cc:1095: Starting in XGBoost 1.3.0, the default evaluation metric used with the objective 'binary:logistic' was changed from 'error' to 'logloss'. Explicitly set eval_metric if you'd like to restore the old behavior.\n"
     ]
    },
    {
     "name": "stderr",
     "output_type": "stream",
     "text": [
      "The use of label encoder in XGBClassifier is deprecated and will be removed in a future release. To remove this warning, do the following: 1) Pass option use_label_encoder=False when constructing XGBClassifier object; and 2) Encode your labels (y) as integers starting with 0, i.e. 0, 1, 2, ..., [num_class - 1].\n"
     ]
    },
    {
     "name": "stdout",
     "output_type": "stream",
     "text": [
      "[21:12:14] WARNING: C:/Users/Administrator/workspace/xgboost-win64_release_1.4.0/src/learner.cc:1095: Starting in XGBoost 1.3.0, the default evaluation metric used with the objective 'binary:logistic' was changed from 'error' to 'logloss'. Explicitly set eval_metric if you'd like to restore the old behavior.\n"
     ]
    },
    {
     "data": {
      "image/png": "[encoded data removed]",
      "text/plain": [
       "<Figure size 576x396 with 1 Axes>"
      ]
     },
     "metadata": {},
     "output_type": "display_data"
    },
    {
     "data": {
      "text/plain": [
       "<AxesSubplot:title={'center':'Threshold Plot for XGBClassifier'}, xlabel='discrimination threshold', ylabel='score'>"
      ]
     },
     "execution_count": 219,
     "metadata": {},
     "output_type": "execute_result"
    }
   ],
   "source": [
    "from yellowbrick.classifier import DiscriminationThreshold\n",
    "visualizer = DiscriminationThreshold(clf)\n",
    "\n",
    "visualizer.fit(train[features_novas], train[output])        # Fit the data to the visualizer\n",
    "visualizer.show()      "
   ]
  },
  {
   "cell_type": "markdown",
   "metadata": {},
   "source": [
    "Para saber mais:\n",
    "- https://www.scikit-yb.org/en/latest/api/classifier/threshold.html?highlight=threshold\n",
    "- https://machinelearningmastery.com/threshold-moving-for-imbalanced-classification/"
   ]
  }
 ],
 "metadata": {
  "kernelspec": {
   "display_name": "Python 3",
   "language": "python",
   "name": "python3"
  },
  "language_info": {
   "codemirror_mode": {
    "name": "ipython",
    "version": 3
   },
   "file_extension": ".py",
   "mimetype": "text/x-python",
   "name": "python",
   "nbconvert_exporter": "python",
   "pygments_lexer": "ipython3",
   "version": "3.7.3"
  },
  "toc": {
   "base_numbering": 1,
   "nav_menu": {},
   "number_sections": true,
   "sideBar": true,
   "skip_h1_title": false,
   "title_cell": "Table of Contents",
   "title_sidebar": "Contents",
   "toc_cell": false,
   "toc_position": {
    "height": "calc(100% - 180px)",
    "left": "10px",
    "top": "150px",
    "width": "352px"
   },
   "toc_section_display": true,
   "toc_window_display": true
  }
 },
 "nbformat": 4,
 "nbformat_minor": 4
}
